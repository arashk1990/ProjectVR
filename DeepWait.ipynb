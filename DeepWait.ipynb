{
 "cells": [
  {
   "cell_type": "code",
   "execution_count": 19,
   "metadata": {},
   "outputs": [
    {
     "name": "stderr",
     "output_type": "stream",
     "text": [
      "WARNING (theano.configdefaults): install mkl with `conda install mkl-service`: No module named 'mkl'\n",
      "WARNING (theano.tensor.blas): Using NumPy C-API based implementation for BLAS functions.\n"
     ]
    }
   ],
   "source": [
    "import sys,os\n",
    "\n",
    "#sys.path.append('/home/arash/VRdataCleaning/DeepSurv/')\n",
    "\n",
    "import importlib\n",
    "import deepsurv\n",
    "from statsmodels.stats.outliers_influence import variance_inflation_factor    \n",
    "import argparse\n",
    "import uuid\n",
    "import pickle\n",
    "import json\n",
    "import time\n",
    "import numpy as np\n",
    "import pandas as pd\n",
    "\n",
    "import lasagne\n",
    "import optunity\n",
    "\n",
    "import logging\n",
    "from logging import handlers\n",
    "from sklearn.model_selection import train_test_split\n",
    "\n",
    "importlib.reload(deepsurv)\n",
    "\n",
    "from deepsurv import deep_surv, utils\n",
    "\n",
    "from deepsurv.deepsurv_logger import DeepSurvLogger, TensorboardLogger\n",
    "from eli5.permutation_importance import get_score_importances\n",
    "import shap  # package used to calculate Shap values\n",
    "import matplotlib\n",
    "import matplotlib.pyplot as plt\n",
    "%matplotlib inline"
   ]
  },
  {
   "cell_type": "markdown",
   "metadata": {},
   "source": [
    "## Load data: \n",
    "#### xtrain: 80% of all data, devided into xtrainsub & xvalsub (80 and 20%) \n",
    "#### xtest: 20% of all data"
   ]
  },
  {
   "cell_type": "code",
   "execution_count": 20,
   "metadata": {},
   "outputs": [],
   "source": [
    "with open('/home/arash/ProjectVR/cleaneddata/deepwaitdata/xtrain', 'rb') as f:\n",
    "    xtrain=pickle.load(f)\n",
    "    \n",
    "data=data.loc[-data['Wait Time (s)'].isin(['Err1','Err2','Err3','Err4','Err5'])]\n",
    "data=data.loc[data['Age_9-12'].isin([0,1])]\n",
    "\n",
    "\n",
    "data=data.loc[:,['Wait Time (s)','Speed Limit', 'Lane Width', 'Minimum Gap', 'Mean Arrival Rate', 'AV', \n",
    "                   'Full Braking Before Impact_-1.0', 'Full Braking Before Impact_1', \n",
    "                   'Full Braking Before Impact_2', 'Full Braking Before Impact_3', 'Snowy',\n",
    "                   'One way', 'two way', 'Two way with median', 'Night', 'numcars', \n",
    "                    'Age_9-12', 'Age_15-18', 'Age_12-15', 'Age_18 - 24', 'Age_25 - 29', 'Age_30 - 39', 'Age_50 - 59', 'Age_60+', 'Gender_Female', 'Occupation_Employed', 'Occupation_Student', 'Occupation_Unemployed', \n",
    "                   'Occupation_kid', 'Education_Bachelors degree', 'Education_College/University student', \n",
    "                   'Education_Doctorate degree', 'Education_High school diploma', 'Education_Masters degree', \n",
    "                   'Education_Professional degree', 'driving license_Yes', 'mode_Bike', 'mode_Car',\n",
    "                   'mode_Public Transit', 'mode_Walking', 'workwalk_No', 'workwalk_Sometimes', 'workwalk_Yes', \n",
    "                   'shopwalk_No', 'shopwalk_Sometimes', 'shopwalk_Yes', 'Vrexp_Yes']]       #numwalk and VRexpnum removed because of some false inputs in the data should be fixed later\n",
    "\n",
    "data=pd.get_dummies(data=data,columns=['Speed Limit','Lane Width','Minimum Gap','Mean Arrival Rate','numcars'])\n",
    "\n",
    "\n",
    "\n",
    "data=data.apply(pd.to_numeric, errors='coerce')\n",
    "\n",
    "\n",
    "def FullAV(row):\n",
    "    if row['AV']==100:\n",
    "        return 1\n",
    "    else:\n",
    "        return 0\n",
    "def MixedAV(row):\n",
    "    if row['AV']>0 and row['AV']<100:\n",
    "        return 1\n",
    "    else:\n",
    "        return 0   \n",
    "def HDV(row):\n",
    "    if row['AV']==0:\n",
    "        return 1\n",
    "\n",
    "    else:\n",
    "        return 0   \n",
    "data=data[data.Occupation_kid==0]                         #remove kids\n",
    "\n",
    "\n",
    "data['FullAV']=data.apply (lambda row: FullAV(row), axis=1)\n",
    "data['Mixed']=data.apply (lambda row: MixedAV(row), axis=1)\n",
    "#data['HDV']=data.apply (lambda row: HDV(row), axis=1)\n",
    "data['over50']=data['Age_50 - 59']+data['Age_60+']\n",
    "data=data.drop(columns=['Age_9-12', 'Age_15-18', 'Age_12-15','Occupation_kid','AV','Age_50 - 59','Age_60+'])\n",
    "data['E']=1\n",
    "\n",
    "\n",
    "\n",
    "\n",
    "data=data.drop(columns=['Full Braking Before Impact_3', 'two way', 'Occupation_Unemployed','Education_Doctorate degree','mode_Bike','workwalk_Yes','shopwalk_Yes','Speed Limit_50.0','Lane Width_3.0','Minimum Gap_2.0','Mean Arrival Rate_1100.0','numcars_4'])\n",
    "\n",
    "\n",
    "train, test = train_test_split(data,test_size=0.2, random_state=1)       #20 percent of data is seperated for test set\n",
    "NCtrain=train     #NC: Not changed, used later for shap, without a format change that deepsurv requires\n",
    "NCtest= test\n",
    "trainsub, valsub = train_test_split(train,test_size=0.2, random_state=1)   #20 percent of train data is set for validation set, for cross-validation train is used, for network training using opt_params, trainsub and valsub are used"
   ]
  },
  {
   "cell_type": "code",
   "execution_count": 21,
   "metadata": {},
   "outputs": [],
   "source": [
    "with open('/home/arash/ProjectVR/cleaneddata/deepwaitdata/xtrainsub', 'rb') as f:\n",
    "    xtrainsub=pickle.load(f)\n",
    "    \n",
    "with open('/home/arash/ProjectVR/cleaneddata/deepwaitdata/ytrainsub', 'rb') as f:\n",
    "    ytrainsub=pickle.load(f)\n",
    "    \n",
    "with open('/home/arash/ProjectVR/cleaneddata/deepwaitdata/xvalsub', 'rb') as f:\n",
    "    xvalsub=pickle.load(f)\n",
    "    \n",
    "with open('/home/arash/ProjectVR/cleaneddata/deepwaitdata/yvalsub', 'rb') as f:\n",
    "    yvalsub=pickle.load(f) "
   ]
  },
  {
   "cell_type": "code",
   "execution_count": 22,
   "metadata": {},
   "outputs": [],
   "source": [
    "with open('/home/arash/ProjectVR/cleaneddata/deepwaitdata/nctrain', 'rb') as f:\n",
    "    NCtrain=pickle.load(f)\n",
    "    \n",
    "with open('/home/arash/ProjectVR/cleaneddata/deepwaitdata/nctest', 'rb') as f:\n",
    "    NCtest=pickle.load(f) "
   ]
  },
  {
   "cell_type": "code",
   "execution_count": 23,
   "metadata": {},
   "outputs": [],
   "source": [
    "with open('/home/arash/ProjectVR/cleaneddata/deepwaitdata/nctrain', 'rb') as f:\n",
    "    NCtrain=pickle.load(f)\n",
    "    \n",
    "with open('/home/arash/ProjectVR/cleaneddata/deepwaitdata/nctest', 'rb') as f:\n",
    "    NCtest=pickle.load(f) "
   ]
  },
  {
   "cell_type": "code",
   "execution_count": 24,
   "metadata": {},
   "outputs": [],
   "source": [
    "def load_logger(logdir):\n",
    "    logger = logging.getLogger(__name__)\n",
    "    logger.setLevel(logging.DEBUG)\n",
    "    format = logging.Formatter(\"%(asctime)s - %(name)s - %(levelname)s - %(message)s\")\n",
    "    \n",
    "    # Print to Stdout\n",
    "    ch = logging.StreamHandler(sys.stdout)\n",
    "    ch.setFormatter(format)\n",
    "    logger.addHandler(ch)\n",
    "\n",
    "    # Print to Log file\n",
    "    fh = logging.FileHandler(os.path.join(logdir, 'log_' + str(uuid.uuid4())))\n",
    "    fh.setFormatter(format)\n",
    "    logger.addHandler(fh)\n",
    "\n",
    "    return logger\n",
    "\n",
    "def format_to_deepsurv(x, y):\n",
    "    return {\n",
    "        'x': x,\n",
    "        'e': y[:,0].astype(np.int32),\n",
    "        't': y[:,1].astype(np.float32)\n",
    "    }"
   ]
  },
  {
   "cell_type": "code",
   "execution_count": 25,
   "metadata": {},
   "outputs": [],
   "source": [
    "def load_box_constraints(file):\n",
    "    with open(file, 'rb') as fp:\n",
    "        return json.loads(fp.read())"
   ]
  },
  {
   "cell_type": "code",
   "execution_count": 44,
   "metadata": {},
   "outputs": [],
   "source": [
    "def save_call_log(file, call_log):\n",
    "    with open(file, 'wb') as fp:\n",
    "        pickle.dump(call_log, fp)\n",
    "\n",
    "def get_objective_function(num_epochs, logdir, update_fn = lasagne.updates.sgd):\n",
    "    '''\n",
    "    Returns the function for Optunity to optimize. The function returned by get_objective_function\n",
    "    takes the parameters: x_train, y_train, x_test, and y_test, and any additional kwargs to \n",
    "    use as hyper-parameters.\n",
    "\n",
    "    The objective function runs a DeepSurv model on the training data and evaluates it against the\n",
    "    a validation set. The result of the function call is the validation concordance index \n",
    "    (which Optunity tries to optimize)\n",
    "    '''\n",
    "    def format_to_deepsurv(x, y):\n",
    "        return {\n",
    "            'x': x,\n",
    "            'e': y[:,0].astype(np.int32),\n",
    "            't': y[:,1].astype(np.float32)\n",
    "        }\n",
    "\n",
    "    def get_hyperparams(x,params):\n",
    "        hyperparams = {\n",
    "            'batch_norm': False,\n",
    "            'activation': 'rectify',\n",
    "            'standardize': True\n",
    "        }\n",
    "\n",
    "        if 'num_layers' in params and 'num_nodes' in params:\n",
    "            params['hidden_layers_sizes'] = [int(params['num_nodes'])] * int(params['num_layers'])\n",
    "            del params['num_layers']\n",
    "            del params['num_nodes']\n",
    "\n",
    "        if 'learning_rate' in params:\n",
    "            params['learning_rate'] = 10 ** params['learning_rate']\n",
    "        \n",
    "        if 'n_in' in params:\n",
    "            params['n_in']= int(np.floor(params['n_in']))\n",
    "        \n",
    "            \n",
    "            \n",
    "\n",
    "        hyperparams.update(params)\n",
    "        return hyperparams\n",
    "\n",
    "    def train_deepsurv(x_train,y_train,x_test,y_test,\n",
    "        **kwargs):\n",
    "        hyperparams = get_hyperparams(x_train,kwargs)\n",
    "        x_train=x_train[:,0:hyperparams['n_in']]\n",
    "        x_test=x_test[:,0:hyperparams['n_in']]\n",
    "     \n",
    "        \n",
    "        # Standardize the datasets\n",
    "        train_mean = x_train.mean(axis = 0)\n",
    "        train_std = x_train.std(axis = 0)\n",
    "\n",
    "        x_train = (x_train - train_mean) / train_std\n",
    "        x_test = (x_test - train_mean) / train_std\n",
    "\n",
    "        train_data = format_to_deepsurv(x_train, y_train)\n",
    "        valid_data = format_to_deepsurv(x_test, y_test)\n",
    "\n",
    "        \n",
    "\n",
    "        # Set up Tensorboard loggers\n",
    "        model_id = str(hash(str(hyperparams)))\n",
    "        run_id = model_id + '_' + str(uuid.uuid4())\n",
    "        logger = TensorboardLogger('hyperparam_search', \n",
    "            os.path.join(logdir,\"tensor_logs\", model_id, run_id))\n",
    "\n",
    "        network = deep_surv.DeepSurv(**hyperparams)\n",
    "        metrics = network.train(train_data, n_epochs = num_epochs, logger=logger, \n",
    "            update_fn = update_fn, verbose = False)\n",
    "\n",
    "        result = network.get_concordance_index(**valid_data)\n",
    "        main_logger.info('Run id: %s | %s | C-Index: %f | Train Loss %f' % (run_id, str(hyperparams), result, metrics['loss'][-1][1]))\n",
    "        return result\n",
    "\n",
    "    return train_deepsurv"
   ]
  },
  {
   "cell_type": "markdown",
   "metadata": {},
   "source": [
    "\n",
    "## Find the optimal hyper-parameters using training data and save them in opt_params\n"
   ]
  },
  {
   "cell_type": "code",
   "execution_count": 45,
   "metadata": {},
   "outputs": [],
   "source": [
    "NUM_EPOCHS = 100\n",
    "NUM_FOLDS = 8\n",
    "logdir='/home/arash/ProjectVR/logs'\n"
   ]
  },
  {
   "cell_type": "code",
   "execution_count": 46,
   "metadata": {},
   "outputs": [],
   "source": [
    "hyperparams = {\n",
    "    'batch_norm': False,\n",
    "    'activation': 'rectify',\n",
    "    'standardize': True\n",
    "}"
   ]
  },
  {
   "cell_type": "code",
   "execution_count": 47,
   "metadata": {},
   "outputs": [],
   "source": [
    "if 'learning_rate' in hyperparams:\n",
    "    hyperparams['learning_rate'] = 10 ** hyperparams['learning_rate']\n",
    " "
   ]
  },
  {
   "cell_type": "code",
   "execution_count": 48,
   "metadata": {},
   "outputs": [],
   "source": [
    "main_logger = load_logger(logdir)\n",
    "\n",
    "\n",
    "#    main_logger.debug('Loading dataset: ' + args.dataset)\n",
    "box_constraints = load_box_constraints('/home/arash/ProjectVR/box_constraints.0.json')"
   ]
  },
  {
   "cell_type": "code",
   "execution_count": null,
   "metadata": {},
   "outputs": [],
   "source": []
  },
  {
   "cell_type": "code",
   "execution_count": 49,
   "metadata": {},
   "outputs": [
    {
     "name": "stderr",
     "output_type": "stream",
     "text": [
      "WARNING (theano.tensor.blas): We did not find a dynamic library in the library_dir of the library we use for blas. If you use ATLAS, make sure to compile it with dynamics library.\n",
      "WARNING (theano.tensor.blas): We did not find a dynamic library in the library_dir of the library we use for blas. If you use ATLAS, make sure to compile it with dynamics library.\n"
     ]
    },
    {
     "name": "stdout",
     "output_type": "stream",
     "text": [
      "2019-10-30 20:10:55,113 - __main__ - INFO - Run id: -1883527428915230341_4a1969c2-15b1-4930-ac5d-14deaa6dc2c9 | {'batch_norm': False, 'activation': 'rectify', 'standardize': True, 'lr_decay': 7.654296875000002e-05, 'learning_rate': 0.00025114346102550136, 'momentum': 0.8000400390624999, 'L2_reg': 2.5728564453125, 'dropout': 0.3740234375, 'n_in': 26, 'hidden_layers_sizes': [87, 87, 87]} | C-Index: 0.553720 | Train Loss 10.412197\n",
      "2019-10-30 20:10:55,113 - __main__ - INFO - Run id: -1883527428915230341_4a1969c2-15b1-4930-ac5d-14deaa6dc2c9 | {'batch_norm': False, 'activation': 'rectify', 'standardize': True, 'lr_decay': 7.654296875000002e-05, 'learning_rate': 0.00025114346102550136, 'momentum': 0.8000400390624999, 'L2_reg': 2.5728564453125, 'dropout': 0.3740234375, 'n_in': 26, 'hidden_layers_sizes': [87, 87, 87]} | C-Index: 0.553720 | Train Loss 10.412197\n",
      "2019-10-30 20:10:55,113 - __main__ - INFO - Run id: -1883527428915230341_4a1969c2-15b1-4930-ac5d-14deaa6dc2c9 | {'batch_norm': False, 'activation': 'rectify', 'standardize': True, 'lr_decay': 7.654296875000002e-05, 'learning_rate': 0.00025114346102550136, 'momentum': 0.8000400390624999, 'L2_reg': 2.5728564453125, 'dropout': 0.3740234375, 'n_in': 26, 'hidden_layers_sizes': [87, 87, 87]} | C-Index: 0.553720 | Train Loss 10.412197\n",
      "2019-10-30 20:10:55,113 - __main__ - INFO - Run id: -1883527428915230341_4a1969c2-15b1-4930-ac5d-14deaa6dc2c9 | {'batch_norm': False, 'activation': 'rectify', 'standardize': True, 'lr_decay': 7.654296875000002e-05, 'learning_rate': 0.00025114346102550136, 'momentum': 0.8000400390624999, 'L2_reg': 2.5728564453125, 'dropout': 0.3740234375, 'n_in': 26, 'hidden_layers_sizes': [87, 87, 87]} | C-Index: 0.553720 | Train Loss 10.412197\n",
      "2019-10-30 20:10:56,858 - __main__ - INFO - Run id: -1883527428915230341_4353a0d1-aec0-4671-9d6a-f8ffd6824d77 | {'batch_norm': False, 'activation': 'rectify', 'standardize': True, 'lr_decay': 7.654296875000002e-05, 'learning_rate': 0.00025114346102550136, 'momentum': 0.8000400390624999, 'L2_reg': 2.5728564453125, 'dropout': 0.3740234375, 'n_in': 26, 'hidden_layers_sizes': [87, 87, 87]} | C-Index: 0.540464 | Train Loss 11.436046\n",
      "2019-10-30 20:10:56,858 - __main__ - INFO - Run id: -1883527428915230341_4353a0d1-aec0-4671-9d6a-f8ffd6824d77 | {'batch_norm': False, 'activation': 'rectify', 'standardize': True, 'lr_decay': 7.654296875000002e-05, 'learning_rate': 0.00025114346102550136, 'momentum': 0.8000400390624999, 'L2_reg': 2.5728564453125, 'dropout': 0.3740234375, 'n_in': 26, 'hidden_layers_sizes': [87, 87, 87]} | C-Index: 0.540464 | Train Loss 11.436046\n",
      "2019-10-30 20:10:56,858 - __main__ - INFO - Run id: -1883527428915230341_4353a0d1-aec0-4671-9d6a-f8ffd6824d77 | {'batch_norm': False, 'activation': 'rectify', 'standardize': True, 'lr_decay': 7.654296875000002e-05, 'learning_rate': 0.00025114346102550136, 'momentum': 0.8000400390624999, 'L2_reg': 2.5728564453125, 'dropout': 0.3740234375, 'n_in': 26, 'hidden_layers_sizes': [87, 87, 87]} | C-Index: 0.540464 | Train Loss 11.436046\n",
      "2019-10-30 20:10:56,858 - __main__ - INFO - Run id: -1883527428915230341_4353a0d1-aec0-4671-9d6a-f8ffd6824d77 | {'batch_norm': False, 'activation': 'rectify', 'standardize': True, 'lr_decay': 7.654296875000002e-05, 'learning_rate': 0.00025114346102550136, 'momentum': 0.8000400390624999, 'L2_reg': 2.5728564453125, 'dropout': 0.3740234375, 'n_in': 26, 'hidden_layers_sizes': [87, 87, 87]} | C-Index: 0.540464 | Train Loss 11.436046\n",
      "2019-10-30 20:10:58,718 - __main__ - INFO - Run id: 4029695984332098064_c4332912-27fa-4867-809d-ee8a1dc6189d | {'batch_norm': False, 'activation': 'rectify', 'standardize': True, 'lr_decay': 0.00010748046875000002, 'learning_rate': 1.9777521941560814e-06, 'momentum': 0.9191494140625, 'L2_reg': 3.9511220703125, 'dropout': 0.015148437500000002, 'n_in': 32, 'hidden_layers_sizes': [73, 73, 73]} | C-Index: 0.543648 | Train Loss 13.490280\n",
      "2019-10-30 20:10:58,718 - __main__ - INFO - Run id: 4029695984332098064_c4332912-27fa-4867-809d-ee8a1dc6189d | {'batch_norm': False, 'activation': 'rectify', 'standardize': True, 'lr_decay': 0.00010748046875000002, 'learning_rate': 1.9777521941560814e-06, 'momentum': 0.9191494140625, 'L2_reg': 3.9511220703125, 'dropout': 0.015148437500000002, 'n_in': 32, 'hidden_layers_sizes': [73, 73, 73]} | C-Index: 0.543648 | Train Loss 13.490280\n",
      "2019-10-30 20:10:58,718 - __main__ - INFO - Run id: 4029695984332098064_c4332912-27fa-4867-809d-ee8a1dc6189d | {'batch_norm': False, 'activation': 'rectify', 'standardize': True, 'lr_decay': 0.00010748046875000002, 'learning_rate': 1.9777521941560814e-06, 'momentum': 0.9191494140625, 'L2_reg': 3.9511220703125, 'dropout': 0.015148437500000002, 'n_in': 32, 'hidden_layers_sizes': [73, 73, 73]} | C-Index: 0.543648 | Train Loss 13.490280\n",
      "2019-10-30 20:10:58,718 - __main__ - INFO - Run id: 4029695984332098064_c4332912-27fa-4867-809d-ee8a1dc6189d | {'batch_norm': False, 'activation': 'rectify', 'standardize': True, 'lr_decay': 0.00010748046875000002, 'learning_rate': 1.9777521941560814e-06, 'momentum': 0.9191494140625, 'L2_reg': 3.9511220703125, 'dropout': 0.015148437500000002, 'n_in': 32, 'hidden_layers_sizes': [73, 73, 73]} | C-Index: 0.543648 | Train Loss 13.490280\n",
      "2019-10-30 20:11:00,317 - __main__ - INFO - Run id: 4029695984332098064_9227a2c1-a84e-4af3-a704-db2a41ad539d | {'batch_norm': False, 'activation': 'rectify', 'standardize': True, 'lr_decay': 0.00010748046875000002, 'learning_rate': 1.9777521941560814e-06, 'momentum': 0.9191494140625, 'L2_reg': 3.9511220703125, 'dropout': 0.015148437500000002, 'n_in': 32, 'hidden_layers_sizes': [73, 73, 73]} | C-Index: 0.483296 | Train Loss 13.719660\n",
      "2019-10-30 20:11:00,317 - __main__ - INFO - Run id: 4029695984332098064_9227a2c1-a84e-4af3-a704-db2a41ad539d | {'batch_norm': False, 'activation': 'rectify', 'standardize': True, 'lr_decay': 0.00010748046875000002, 'learning_rate': 1.9777521941560814e-06, 'momentum': 0.9191494140625, 'L2_reg': 3.9511220703125, 'dropout': 0.015148437500000002, 'n_in': 32, 'hidden_layers_sizes': [73, 73, 73]} | C-Index: 0.483296 | Train Loss 13.719660\n",
      "2019-10-30 20:11:00,317 - __main__ - INFO - Run id: 4029695984332098064_9227a2c1-a84e-4af3-a704-db2a41ad539d | {'batch_norm': False, 'activation': 'rectify', 'standardize': True, 'lr_decay': 0.00010748046875000002, 'learning_rate': 1.9777521941560814e-06, 'momentum': 0.9191494140625, 'L2_reg': 3.9511220703125, 'dropout': 0.015148437500000002, 'n_in': 32, 'hidden_layers_sizes': [73, 73, 73]} | C-Index: 0.483296 | Train Loss 13.719660\n",
      "2019-10-30 20:11:00,317 - __main__ - INFO - Run id: 4029695984332098064_9227a2c1-a84e-4af3-a704-db2a41ad539d | {'batch_norm': False, 'activation': 'rectify', 'standardize': True, 'lr_decay': 0.00010748046875000002, 'learning_rate': 1.9777521941560814e-06, 'momentum': 0.9191494140625, 'L2_reg': 3.9511220703125, 'dropout': 0.015148437500000002, 'n_in': 32, 'hidden_layers_sizes': [73, 73, 73]} | C-Index: 0.483296 | Train Loss 13.719660\n",
      "2019-10-30 20:11:01,571 - __main__ - INFO - Run id: 6497059791788648146_55283f8d-1972-4b90-8214-d760130e67c3 | {'batch_norm': False, 'activation': 'rectify', 'standardize': True, 'lr_decay': 0.00060248046875, 'learning_rate': 0.0001888738682406685, 'momentum': 0.7458994140624999, 'L2_reg': 1.5008720703124998, 'dropout': 0.2131484375, 'n_in': 21, 'hidden_layers_sizes': [29]} | C-Index: 0.529301 | Train Loss 8.971298\n",
      "2019-10-30 20:11:01,571 - __main__ - INFO - Run id: 6497059791788648146_55283f8d-1972-4b90-8214-d760130e67c3 | {'batch_norm': False, 'activation': 'rectify', 'standardize': True, 'lr_decay': 0.00060248046875, 'learning_rate': 0.0001888738682406685, 'momentum': 0.7458994140624999, 'L2_reg': 1.5008720703124998, 'dropout': 0.2131484375, 'n_in': 21, 'hidden_layers_sizes': [29]} | C-Index: 0.529301 | Train Loss 8.971298\n",
      "2019-10-30 20:11:01,571 - __main__ - INFO - Run id: 6497059791788648146_55283f8d-1972-4b90-8214-d760130e67c3 | {'batch_norm': False, 'activation': 'rectify', 'standardize': True, 'lr_decay': 0.00060248046875, 'learning_rate': 0.0001888738682406685, 'momentum': 0.7458994140624999, 'L2_reg': 1.5008720703124998, 'dropout': 0.2131484375, 'n_in': 21, 'hidden_layers_sizes': [29]} | C-Index: 0.529301 | Train Loss 8.971298\n"
     ]
    },
    {
     "name": "stdout",
     "output_type": "stream",
     "text": [
      "2019-10-30 20:11:01,571 - __main__ - INFO - Run id: 6497059791788648146_55283f8d-1972-4b90-8214-d760130e67c3 | {'batch_norm': False, 'activation': 'rectify', 'standardize': True, 'lr_decay': 0.00060248046875, 'learning_rate': 0.0001888738682406685, 'momentum': 0.7458994140624999, 'L2_reg': 1.5008720703124998, 'dropout': 0.2131484375, 'n_in': 21, 'hidden_layers_sizes': [29]} | C-Index: 0.529301 | Train Loss 8.971298\n",
      "2019-10-30 20:11:02,759 - __main__ - INFO - Run id: 6497059791788648146_246cfc4a-b89f-40bd-8aaa-c12d35b85c7b | {'batch_norm': False, 'activation': 'rectify', 'standardize': True, 'lr_decay': 0.00060248046875, 'learning_rate': 0.0001888738682406685, 'momentum': 0.7458994140624999, 'L2_reg': 1.5008720703124998, 'dropout': 0.2131484375, 'n_in': 21, 'hidden_layers_sizes': [29]} | C-Index: 0.505681 | Train Loss 8.777582\n",
      "2019-10-30 20:11:02,759 - __main__ - INFO - Run id: 6497059791788648146_246cfc4a-b89f-40bd-8aaa-c12d35b85c7b | {'batch_norm': False, 'activation': 'rectify', 'standardize': True, 'lr_decay': 0.00060248046875, 'learning_rate': 0.0001888738682406685, 'momentum': 0.7458994140624999, 'L2_reg': 1.5008720703124998, 'dropout': 0.2131484375, 'n_in': 21, 'hidden_layers_sizes': [29]} | C-Index: 0.505681 | Train Loss 8.777582\n",
      "2019-10-30 20:11:02,759 - __main__ - INFO - Run id: 6497059791788648146_246cfc4a-b89f-40bd-8aaa-c12d35b85c7b | {'batch_norm': False, 'activation': 'rectify', 'standardize': True, 'lr_decay': 0.00060248046875, 'learning_rate': 0.0001888738682406685, 'momentum': 0.7458994140624999, 'L2_reg': 1.5008720703124998, 'dropout': 0.2131484375, 'n_in': 21, 'hidden_layers_sizes': [29]} | C-Index: 0.505681 | Train Loss 8.777582\n",
      "2019-10-30 20:11:02,759 - __main__ - INFO - Run id: 6497059791788648146_246cfc4a-b89f-40bd-8aaa-c12d35b85c7b | {'batch_norm': False, 'activation': 'rectify', 'standardize': True, 'lr_decay': 0.00060248046875, 'learning_rate': 0.0001888738682406685, 'momentum': 0.7458994140624999, 'L2_reg': 1.5008720703124998, 'dropout': 0.2131484375, 'n_in': 21, 'hidden_layers_sizes': [29]} | C-Index: 0.505681 | Train Loss 8.777582\n",
      "2019-10-30 20:11:04,378 - __main__ - INFO - Run id: 9086068484661656160_d47a0755-1057-41c4-ae09-67bd286d72ca | {'batch_norm': False, 'activation': 'rectify', 'standardize': True, 'lr_decay': 0.00084998046875, 'learning_rate': 2.0238199607478025e-07, 'momentum': 0.6592744140624999, 'L2_reg': 2.7259970703125, 'dropout': 0.31214843750000004, 'n_in': 27, 'hidden_layers_sizes': [51, 51]} | C-Index: 0.484524 | Train Loss 12.025093\n",
      "2019-10-30 20:11:04,378 - __main__ - INFO - Run id: 9086068484661656160_d47a0755-1057-41c4-ae09-67bd286d72ca | {'batch_norm': False, 'activation': 'rectify', 'standardize': True, 'lr_decay': 0.00084998046875, 'learning_rate': 2.0238199607478025e-07, 'momentum': 0.6592744140624999, 'L2_reg': 2.7259970703125, 'dropout': 0.31214843750000004, 'n_in': 27, 'hidden_layers_sizes': [51, 51]} | C-Index: 0.484524 | Train Loss 12.025093\n",
      "2019-10-30 20:11:04,378 - __main__ - INFO - Run id: 9086068484661656160_d47a0755-1057-41c4-ae09-67bd286d72ca | {'batch_norm': False, 'activation': 'rectify', 'standardize': True, 'lr_decay': 0.00084998046875, 'learning_rate': 2.0238199607478025e-07, 'momentum': 0.6592744140624999, 'L2_reg': 2.7259970703125, 'dropout': 0.31214843750000004, 'n_in': 27, 'hidden_layers_sizes': [51, 51]} | C-Index: 0.484524 | Train Loss 12.025093\n",
      "2019-10-30 20:11:04,378 - __main__ - INFO - Run id: 9086068484661656160_d47a0755-1057-41c4-ae09-67bd286d72ca | {'batch_norm': False, 'activation': 'rectify', 'standardize': True, 'lr_decay': 0.00084998046875, 'learning_rate': 2.0238199607478025e-07, 'momentum': 0.6592744140624999, 'L2_reg': 2.7259970703125, 'dropout': 0.31214843750000004, 'n_in': 27, 'hidden_layers_sizes': [51, 51]} | C-Index: 0.484524 | Train Loss 12.025093\n",
      "2019-10-30 20:11:05,753 - __main__ - INFO - Run id: 9086068484661656160_da39a9a8-5655-41b9-8484-6714c3a856ab | {'batch_norm': False, 'activation': 'rectify', 'standardize': True, 'lr_decay': 0.00084998046875, 'learning_rate': 2.0238199607478025e-07, 'momentum': 0.6592744140624999, 'L2_reg': 2.7259970703125, 'dropout': 0.31214843750000004, 'n_in': 27, 'hidden_layers_sizes': [51, 51]} | C-Index: 0.504806 | Train Loss 11.652282\n",
      "2019-10-30 20:11:05,753 - __main__ - INFO - Run id: 9086068484661656160_da39a9a8-5655-41b9-8484-6714c3a856ab | {'batch_norm': False, 'activation': 'rectify', 'standardize': True, 'lr_decay': 0.00084998046875, 'learning_rate': 2.0238199607478025e-07, 'momentum': 0.6592744140624999, 'L2_reg': 2.7259970703125, 'dropout': 0.31214843750000004, 'n_in': 27, 'hidden_layers_sizes': [51, 51]} | C-Index: 0.504806 | Train Loss 11.652282\n",
      "2019-10-30 20:11:05,753 - __main__ - INFO - Run id: 9086068484661656160_da39a9a8-5655-41b9-8484-6714c3a856ab | {'batch_norm': False, 'activation': 'rectify', 'standardize': True, 'lr_decay': 0.00084998046875, 'learning_rate': 2.0238199607478025e-07, 'momentum': 0.6592744140624999, 'L2_reg': 2.7259970703125, 'dropout': 0.31214843750000004, 'n_in': 27, 'hidden_layers_sizes': [51, 51]} | C-Index: 0.504806 | Train Loss 11.652282\n",
      "2019-10-30 20:11:05,753 - __main__ - INFO - Run id: 9086068484661656160_da39a9a8-5655-41b9-8484-6714c3a856ab | {'batch_norm': False, 'activation': 'rectify', 'standardize': True, 'lr_decay': 0.00084998046875, 'learning_rate': 2.0238199607478025e-07, 'momentum': 0.6592744140624999, 'L2_reg': 2.7259970703125, 'dropout': 0.31214843750000004, 'n_in': 27, 'hidden_layers_sizes': [51, 51]} | C-Index: 0.504806 | Train Loss 11.652282\n",
      "2019-10-30 20:11:07,013 - __main__ - INFO - Run id: -8142789334062661712_73bd485d-5b16-4e75-8f53-18bf5499ef1a | {'batch_norm': False, 'activation': 'rectify', 'standardize': True, 'lr_decay': 0.00035498046875, 'learning_rate': 1.932733057956347e-05, 'momentum': 0.8325244140624999, 'L2_reg': 0.2757470703124999, 'dropout': 0.1141484375, 'n_in': 15, 'hidden_layers_sizes': [96]} | C-Index: 0.496846 | Train Loss 6.424846\n",
      "2019-10-30 20:11:07,013 - __main__ - INFO - Run id: -8142789334062661712_73bd485d-5b16-4e75-8f53-18bf5499ef1a | {'batch_norm': False, 'activation': 'rectify', 'standardize': True, 'lr_decay': 0.00035498046875, 'learning_rate': 1.932733057956347e-05, 'momentum': 0.8325244140624999, 'L2_reg': 0.2757470703124999, 'dropout': 0.1141484375, 'n_in': 15, 'hidden_layers_sizes': [96]} | C-Index: 0.496846 | Train Loss 6.424846\n",
      "2019-10-30 20:11:07,013 - __main__ - INFO - Run id: -8142789334062661712_73bd485d-5b16-4e75-8f53-18bf5499ef1a | {'batch_norm': False, 'activation': 'rectify', 'standardize': True, 'lr_decay': 0.00035498046875, 'learning_rate': 1.932733057956347e-05, 'momentum': 0.8325244140624999, 'L2_reg': 0.2757470703124999, 'dropout': 0.1141484375, 'n_in': 15, 'hidden_layers_sizes': [96]} | C-Index: 0.496846 | Train Loss 6.424846\n",
      "2019-10-30 20:11:07,013 - __main__ - INFO - Run id: -8142789334062661712_73bd485d-5b16-4e75-8f53-18bf5499ef1a | {'batch_norm': False, 'activation': 'rectify', 'standardize': True, 'lr_decay': 0.00035498046875, 'learning_rate': 1.932733057956347e-05, 'momentum': 0.8325244140624999, 'L2_reg': 0.2757470703124999, 'dropout': 0.1141484375, 'n_in': 15, 'hidden_layers_sizes': [96]} | C-Index: 0.496846 | Train Loss 6.424846\n",
      "2019-10-30 20:11:08,255 - __main__ - INFO - Run id: -8142789334062661712_4273f174-ff7a-49c7-951d-8f034876c8f8 | {'batch_norm': False, 'activation': 'rectify', 'standardize': True, 'lr_decay': 0.00035498046875, 'learning_rate': 1.932733057956347e-05, 'momentum': 0.8325244140624999, 'L2_reg': 0.2757470703124999, 'dropout': 0.1141484375, 'n_in': 15, 'hidden_layers_sizes': [96]} | C-Index: 0.502393 | Train Loss 6.372370\n",
      "2019-10-30 20:11:08,255 - __main__ - INFO - Run id: -8142789334062661712_4273f174-ff7a-49c7-951d-8f034876c8f8 | {'batch_norm': False, 'activation': 'rectify', 'standardize': True, 'lr_decay': 0.00035498046875, 'learning_rate': 1.932733057956347e-05, 'momentum': 0.8325244140624999, 'L2_reg': 0.2757470703124999, 'dropout': 0.1141484375, 'n_in': 15, 'hidden_layers_sizes': [96]} | C-Index: 0.502393 | Train Loss 6.372370\n",
      "2019-10-30 20:11:08,255 - __main__ - INFO - Run id: -8142789334062661712_4273f174-ff7a-49c7-951d-8f034876c8f8 | {'batch_norm': False, 'activation': 'rectify', 'standardize': True, 'lr_decay': 0.00035498046875, 'learning_rate': 1.932733057956347e-05, 'momentum': 0.8325244140624999, 'L2_reg': 0.2757470703124999, 'dropout': 0.1141484375, 'n_in': 15, 'hidden_layers_sizes': [96]} | C-Index: 0.502393 | Train Loss 6.372370\n"
     ]
    },
    {
     "name": "stdout",
     "output_type": "stream",
     "text": [
      "2019-10-30 20:11:08,255 - __main__ - INFO - Run id: -8142789334062661712_4273f174-ff7a-49c7-951d-8f034876c8f8 | {'batch_norm': False, 'activation': 'rectify', 'standardize': True, 'lr_decay': 0.00035498046875, 'learning_rate': 1.932733057956347e-05, 'momentum': 0.8325244140624999, 'L2_reg': 0.2757470703124999, 'dropout': 0.1141484375, 'n_in': 15, 'hidden_layers_sizes': [96]} | C-Index: 0.502393 | Train Loss 6.372370\n",
      "2019-10-30 20:11:10,144 - __main__ - INFO - Run id: -4909736832700930267_6b0812ce-58da-44a6-bb64-42cbe62e941a | {'batch_norm': False, 'activation': 'rectify', 'standardize': True, 'lr_decay': 0.00047873046875, 'learning_rate': 6.32662182206732e-07, 'momentum': 0.6159619140624999, 'L2_reg': 0.8883095703124999, 'dropout': 0.0646484375, 'n_in': 18, 'hidden_layers_sizes': [18, 18, 18]} | C-Index: 0.509166 | Train Loss 7.273788\n",
      "2019-10-30 20:11:10,144 - __main__ - INFO - Run id: -4909736832700930267_6b0812ce-58da-44a6-bb64-42cbe62e941a | {'batch_norm': False, 'activation': 'rectify', 'standardize': True, 'lr_decay': 0.00047873046875, 'learning_rate': 6.32662182206732e-07, 'momentum': 0.6159619140624999, 'L2_reg': 0.8883095703124999, 'dropout': 0.0646484375, 'n_in': 18, 'hidden_layers_sizes': [18, 18, 18]} | C-Index: 0.509166 | Train Loss 7.273788\n",
      "2019-10-30 20:11:10,144 - __main__ - INFO - Run id: -4909736832700930267_6b0812ce-58da-44a6-bb64-42cbe62e941a | {'batch_norm': False, 'activation': 'rectify', 'standardize': True, 'lr_decay': 0.00047873046875, 'learning_rate': 6.32662182206732e-07, 'momentum': 0.6159619140624999, 'L2_reg': 0.8883095703124999, 'dropout': 0.0646484375, 'n_in': 18, 'hidden_layers_sizes': [18, 18, 18]} | C-Index: 0.509166 | Train Loss 7.273788\n",
      "2019-10-30 20:11:10,144 - __main__ - INFO - Run id: -4909736832700930267_6b0812ce-58da-44a6-bb64-42cbe62e941a | {'batch_norm': False, 'activation': 'rectify', 'standardize': True, 'lr_decay': 0.00047873046875, 'learning_rate': 6.32662182206732e-07, 'momentum': 0.6159619140624999, 'L2_reg': 0.8883095703124999, 'dropout': 0.0646484375, 'n_in': 18, 'hidden_layers_sizes': [18, 18, 18]} | C-Index: 0.509166 | Train Loss 7.273788\n",
      "2019-10-30 20:11:11,740 - __main__ - INFO - Run id: -4909736832700930267_1507a642-bff2-44be-ba48-b91fd5ea1be6 | {'batch_norm': False, 'activation': 'rectify', 'standardize': True, 'lr_decay': 0.00047873046875, 'learning_rate': 6.32662182206732e-07, 'momentum': 0.6159619140624999, 'L2_reg': 0.8883095703124999, 'dropout': 0.0646484375, 'n_in': 18, 'hidden_layers_sizes': [18, 18, 18]} | C-Index: 0.543270 | Train Loss 7.666848\n",
      "2019-10-30 20:11:11,740 - __main__ - INFO - Run id: -4909736832700930267_1507a642-bff2-44be-ba48-b91fd5ea1be6 | {'batch_norm': False, 'activation': 'rectify', 'standardize': True, 'lr_decay': 0.00047873046875, 'learning_rate': 6.32662182206732e-07, 'momentum': 0.6159619140624999, 'L2_reg': 0.8883095703124999, 'dropout': 0.0646484375, 'n_in': 18, 'hidden_layers_sizes': [18, 18, 18]} | C-Index: 0.543270 | Train Loss 7.666848\n",
      "2019-10-30 20:11:11,740 - __main__ - INFO - Run id: -4909736832700930267_1507a642-bff2-44be-ba48-b91fd5ea1be6 | {'batch_norm': False, 'activation': 'rectify', 'standardize': True, 'lr_decay': 0.00047873046875, 'learning_rate': 6.32662182206732e-07, 'momentum': 0.6159619140624999, 'L2_reg': 0.8883095703124999, 'dropout': 0.0646484375, 'n_in': 18, 'hidden_layers_sizes': [18, 18, 18]} | C-Index: 0.543270 | Train Loss 7.666848\n",
      "2019-10-30 20:11:11,740 - __main__ - INFO - Run id: -4909736832700930267_1507a642-bff2-44be-ba48-b91fd5ea1be6 | {'batch_norm': False, 'activation': 'rectify', 'standardize': True, 'lr_decay': 0.00047873046875, 'learning_rate': 6.32662182206732e-07, 'momentum': 0.6159619140624999, 'L2_reg': 0.8883095703124999, 'dropout': 0.0646484375, 'n_in': 18, 'hidden_layers_sizes': [18, 18, 18]} | C-Index: 0.543270 | Train Loss 7.666848\n",
      "2019-10-30 20:11:13,241 - __main__ - INFO - Run id: 7571877968530709273_95487f1b-4522-4c9b-9180-264b980ccf0b | {'batch_norm': False, 'activation': 'rectify', 'standardize': True, 'lr_decay': 0.00097373046875, 'learning_rate': 6.041876934635724e-05, 'momentum': 0.7892119140624999, 'L2_reg': 3.3385595703125, 'dropout': 0.2626484375, 'n_in': 29, 'hidden_layers_sizes': [62, 62]} | C-Index: 0.479608 | Train Loss 12.376404\n",
      "2019-10-30 20:11:13,241 - __main__ - INFO - Run id: 7571877968530709273_95487f1b-4522-4c9b-9180-264b980ccf0b | {'batch_norm': False, 'activation': 'rectify', 'standardize': True, 'lr_decay': 0.00097373046875, 'learning_rate': 6.041876934635724e-05, 'momentum': 0.7892119140624999, 'L2_reg': 3.3385595703125, 'dropout': 0.2626484375, 'n_in': 29, 'hidden_layers_sizes': [62, 62]} | C-Index: 0.479608 | Train Loss 12.376404\n",
      "2019-10-30 20:11:13,241 - __main__ - INFO - Run id: 7571877968530709273_95487f1b-4522-4c9b-9180-264b980ccf0b | {'batch_norm': False, 'activation': 'rectify', 'standardize': True, 'lr_decay': 0.00097373046875, 'learning_rate': 6.041876934635724e-05, 'momentum': 0.7892119140624999, 'L2_reg': 3.3385595703125, 'dropout': 0.2626484375, 'n_in': 29, 'hidden_layers_sizes': [62, 62]} | C-Index: 0.479608 | Train Loss 12.376404\n",
      "2019-10-30 20:11:13,241 - __main__ - INFO - Run id: 7571877968530709273_95487f1b-4522-4c9b-9180-264b980ccf0b | {'batch_norm': False, 'activation': 'rectify', 'standardize': True, 'lr_decay': 0.00097373046875, 'learning_rate': 6.041876934635724e-05, 'momentum': 0.7892119140624999, 'L2_reg': 3.3385595703125, 'dropout': 0.2626484375, 'n_in': 29, 'hidden_layers_sizes': [62, 62]} | C-Index: 0.479608 | Train Loss 12.376404\n",
      "2019-10-30 20:11:14,630 - __main__ - INFO - Run id: 7571877968530709273_a54dfa05-b60a-4b5f-ab03-74d69c85d0a4 | {'batch_norm': False, 'activation': 'rectify', 'standardize': True, 'lr_decay': 0.00097373046875, 'learning_rate': 6.041876934635724e-05, 'momentum': 0.7892119140624999, 'L2_reg': 3.3385595703125, 'dropout': 0.2626484375, 'n_in': 29, 'hidden_layers_sizes': [62, 62]} | C-Index: 0.491905 | Train Loss 12.991281\n",
      "2019-10-30 20:11:14,630 - __main__ - INFO - Run id: 7571877968530709273_a54dfa05-b60a-4b5f-ab03-74d69c85d0a4 | {'batch_norm': False, 'activation': 'rectify', 'standardize': True, 'lr_decay': 0.00097373046875, 'learning_rate': 6.041876934635724e-05, 'momentum': 0.7892119140624999, 'L2_reg': 3.3385595703125, 'dropout': 0.2626484375, 'n_in': 29, 'hidden_layers_sizes': [62, 62]} | C-Index: 0.491905 | Train Loss 12.991281\n",
      "2019-10-30 20:11:14,630 - __main__ - INFO - Run id: 7571877968530709273_a54dfa05-b60a-4b5f-ab03-74d69c85d0a4 | {'batch_norm': False, 'activation': 'rectify', 'standardize': True, 'lr_decay': 0.00097373046875, 'learning_rate': 6.041876934635724e-05, 'momentum': 0.7892119140624999, 'L2_reg': 3.3385595703125, 'dropout': 0.2626484375, 'n_in': 29, 'hidden_layers_sizes': [62, 62]} | C-Index: 0.491905 | Train Loss 12.991281\n",
      "2019-10-30 20:11:14,630 - __main__ - INFO - Run id: 7571877968530709273_a54dfa05-b60a-4b5f-ab03-74d69c85d0a4 | {'batch_norm': False, 'activation': 'rectify', 'standardize': True, 'lr_decay': 0.00097373046875, 'learning_rate': 6.041876934635724e-05, 'momentum': 0.7892119140624999, 'L2_reg': 3.3385595703125, 'dropout': 0.2626484375, 'n_in': 29, 'hidden_layers_sizes': [62, 62]} | C-Index: 0.491905 | Train Loss 12.991281\n",
      "2019-10-30 20:11:16,454 - __main__ - INFO - Run id: 8754511770755017632_d8695b41-e558-44ed-a306-3a365b057ccf | {'batch_norm': False, 'activation': 'rectify', 'standardize': True, 'lr_decay': 0.00072623046875, 'learning_rate': 6.182610327435458e-06, 'momentum': 0.8758369140625, 'L2_reg': 2.1134345703124997, 'dropout': 0.36164843750000003, 'n_in': 12, 'hidden_layers_sizes': [85, 85, 85]} | C-Index: 0.484901 | Train Loss 10.188579\n",
      "2019-10-30 20:11:16,454 - __main__ - INFO - Run id: 8754511770755017632_d8695b41-e558-44ed-a306-3a365b057ccf | {'batch_norm': False, 'activation': 'rectify', 'standardize': True, 'lr_decay': 0.00072623046875, 'learning_rate': 6.182610327435458e-06, 'momentum': 0.8758369140625, 'L2_reg': 2.1134345703124997, 'dropout': 0.36164843750000003, 'n_in': 12, 'hidden_layers_sizes': [85, 85, 85]} | C-Index: 0.484901 | Train Loss 10.188579\n",
      "2019-10-30 20:11:16,454 - __main__ - INFO - Run id: 8754511770755017632_d8695b41-e558-44ed-a306-3a365b057ccf | {'batch_norm': False, 'activation': 'rectify', 'standardize': True, 'lr_decay': 0.00072623046875, 'learning_rate': 6.182610327435458e-06, 'momentum': 0.8758369140625, 'L2_reg': 2.1134345703124997, 'dropout': 0.36164843750000003, 'n_in': 12, 'hidden_layers_sizes': [85, 85, 85]} | C-Index: 0.484901 | Train Loss 10.188579\n"
     ]
    },
    {
     "name": "stdout",
     "output_type": "stream",
     "text": [
      "2019-10-30 20:11:16,454 - __main__ - INFO - Run id: 8754511770755017632_d8695b41-e558-44ed-a306-3a365b057ccf | {'batch_norm': False, 'activation': 'rectify', 'standardize': True, 'lr_decay': 0.00072623046875, 'learning_rate': 6.182610327435458e-06, 'momentum': 0.8758369140625, 'L2_reg': 2.1134345703124997, 'dropout': 0.36164843750000003, 'n_in': 12, 'hidden_layers_sizes': [85, 85, 85]} | C-Index: 0.484901 | Train Loss 10.188579\n",
      "2019-10-30 20:11:18,091 - __main__ - INFO - Run id: 8754511770755017632_0862feff-4cb3-497d-a805-363319796a06 | {'batch_norm': False, 'activation': 'rectify', 'standardize': True, 'lr_decay': 0.00072623046875, 'learning_rate': 6.182610327435458e-06, 'momentum': 0.8758369140625, 'L2_reg': 2.1134345703124997, 'dropout': 0.36164843750000003, 'n_in': 12, 'hidden_layers_sizes': [85, 85, 85]} | C-Index: 0.495613 | Train Loss 9.271617\n",
      "2019-10-30 20:11:18,091 - __main__ - INFO - Run id: 8754511770755017632_0862feff-4cb3-497d-a805-363319796a06 | {'batch_norm': False, 'activation': 'rectify', 'standardize': True, 'lr_decay': 0.00072623046875, 'learning_rate': 6.182610327435458e-06, 'momentum': 0.8758369140625, 'L2_reg': 2.1134345703124997, 'dropout': 0.36164843750000003, 'n_in': 12, 'hidden_layers_sizes': [85, 85, 85]} | C-Index: 0.495613 | Train Loss 9.271617\n",
      "2019-10-30 20:11:18,091 - __main__ - INFO - Run id: 8754511770755017632_0862feff-4cb3-497d-a805-363319796a06 | {'batch_norm': False, 'activation': 'rectify', 'standardize': True, 'lr_decay': 0.00072623046875, 'learning_rate': 6.182610327435458e-06, 'momentum': 0.8758369140625, 'L2_reg': 2.1134345703124997, 'dropout': 0.36164843750000003, 'n_in': 12, 'hidden_layers_sizes': [85, 85, 85]} | C-Index: 0.495613 | Train Loss 9.271617\n",
      "2019-10-30 20:11:18,091 - __main__ - INFO - Run id: 8754511770755017632_0862feff-4cb3-497d-a805-363319796a06 | {'batch_norm': False, 'activation': 'rectify', 'standardize': True, 'lr_decay': 0.00072623046875, 'learning_rate': 6.182610327435458e-06, 'momentum': 0.8758369140625, 'L2_reg': 2.1134345703124997, 'dropout': 0.36164843750000003, 'n_in': 12, 'hidden_layers_sizes': [85, 85, 85]} | C-Index: 0.495613 | Train Loss 9.271617\n",
      "2019-10-30 20:11:19,361 - __main__ - INFO - Run id: -2910395991127115665_d3327121-1018-4fcd-a5d7-901b951ae5d2 | {'batch_norm': False, 'activation': 'rectify', 'standardize': True, 'lr_decay': 0.00023123046875000002, 'learning_rate': 0.0005904347024960425, 'momentum': 0.7025869140624998, 'L2_reg': 4.5636845703125, 'dropout': 0.16364843750000002, 'n_in': 24, 'hidden_layers_sizes': [40]} | C-Index: 0.476369 | Train Loss 17.179142\n",
      "2019-10-30 20:11:19,361 - __main__ - INFO - Run id: -2910395991127115665_d3327121-1018-4fcd-a5d7-901b951ae5d2 | {'batch_norm': False, 'activation': 'rectify', 'standardize': True, 'lr_decay': 0.00023123046875000002, 'learning_rate': 0.0005904347024960425, 'momentum': 0.7025869140624998, 'L2_reg': 4.5636845703125, 'dropout': 0.16364843750000002, 'n_in': 24, 'hidden_layers_sizes': [40]} | C-Index: 0.476369 | Train Loss 17.179142\n",
      "2019-10-30 20:11:19,361 - __main__ - INFO - Run id: -2910395991127115665_d3327121-1018-4fcd-a5d7-901b951ae5d2 | {'batch_norm': False, 'activation': 'rectify', 'standardize': True, 'lr_decay': 0.00023123046875000002, 'learning_rate': 0.0005904347024960425, 'momentum': 0.7025869140624998, 'L2_reg': 4.5636845703125, 'dropout': 0.16364843750000002, 'n_in': 24, 'hidden_layers_sizes': [40]} | C-Index: 0.476369 | Train Loss 17.179142\n",
      "2019-10-30 20:11:19,361 - __main__ - INFO - Run id: -2910395991127115665_d3327121-1018-4fcd-a5d7-901b951ae5d2 | {'batch_norm': False, 'activation': 'rectify', 'standardize': True, 'lr_decay': 0.00023123046875000002, 'learning_rate': 0.0005904347024960425, 'momentum': 0.7025869140624998, 'L2_reg': 4.5636845703125, 'dropout': 0.16364843750000002, 'n_in': 24, 'hidden_layers_sizes': [40]} | C-Index: 0.476369 | Train Loss 17.179142\n",
      "2019-10-30 20:11:20,478 - __main__ - INFO - Run id: -2910395991127115665_1120f6b4-8f7d-49f6-b4b8-547412318458 | {'batch_norm': False, 'activation': 'rectify', 'standardize': True, 'lr_decay': 0.00023123046875000002, 'learning_rate': 0.0005904347024960425, 'momentum': 0.7025869140624998, 'L2_reg': 4.5636845703125, 'dropout': 0.16364843750000002, 'n_in': 24, 'hidden_layers_sizes': [40]} | C-Index: 0.496089 | Train Loss 16.065562\n",
      "2019-10-30 20:11:20,478 - __main__ - INFO - Run id: -2910395991127115665_1120f6b4-8f7d-49f6-b4b8-547412318458 | {'batch_norm': False, 'activation': 'rectify', 'standardize': True, 'lr_decay': 0.00023123046875000002, 'learning_rate': 0.0005904347024960425, 'momentum': 0.7025869140624998, 'L2_reg': 4.5636845703125, 'dropout': 0.16364843750000002, 'n_in': 24, 'hidden_layers_sizes': [40]} | C-Index: 0.496089 | Train Loss 16.065562\n",
      "2019-10-30 20:11:20,478 - __main__ - INFO - Run id: -2910395991127115665_1120f6b4-8f7d-49f6-b4b8-547412318458 | {'batch_norm': False, 'activation': 'rectify', 'standardize': True, 'lr_decay': 0.00023123046875000002, 'learning_rate': 0.0005904347024960425, 'momentum': 0.7025869140624998, 'L2_reg': 4.5636845703125, 'dropout': 0.16364843750000002, 'n_in': 24, 'hidden_layers_sizes': [40]} | C-Index: 0.496089 | Train Loss 16.065562\n",
      "2019-10-30 20:11:20,478 - __main__ - INFO - Run id: -2910395991127115665_1120f6b4-8f7d-49f6-b4b8-547412318458 | {'batch_norm': False, 'activation': 'rectify', 'standardize': True, 'lr_decay': 0.00023123046875000002, 'learning_rate': 0.0005904347024960425, 'momentum': 0.7025869140624998, 'L2_reg': 4.5636845703125, 'dropout': 0.16364843750000002, 'n_in': 24, 'hidden_layers_sizes': [40]} | C-Index: 0.496089 | Train Loss 16.065562\n",
      "2019-10-30 20:11:21,984 - __main__ - INFO - Run id: -8039894234906891778_1d88858f-b656-4a90-8261-070914775ea2 | {'batch_norm': False, 'activation': 'rectify', 'standardize': True, 'lr_decay': 0.00016935546875000002, 'learning_rate': 1.1446477923516102e-07, 'momentum': 0.7675556640624999, 'L2_reg': 4.8699658203125, 'dropout': 0.0398984375, 'n_in': 11, 'hidden_layers_sizes': [90, 90]} | C-Index: 0.506386 | Train Loss 16.528051\n",
      "2019-10-30 20:11:21,984 - __main__ - INFO - Run id: -8039894234906891778_1d88858f-b656-4a90-8261-070914775ea2 | {'batch_norm': False, 'activation': 'rectify', 'standardize': True, 'lr_decay': 0.00016935546875000002, 'learning_rate': 1.1446477923516102e-07, 'momentum': 0.7675556640624999, 'L2_reg': 4.8699658203125, 'dropout': 0.0398984375, 'n_in': 11, 'hidden_layers_sizes': [90, 90]} | C-Index: 0.506386 | Train Loss 16.528051\n",
      "2019-10-30 20:11:21,984 - __main__ - INFO - Run id: -8039894234906891778_1d88858f-b656-4a90-8261-070914775ea2 | {'batch_norm': False, 'activation': 'rectify', 'standardize': True, 'lr_decay': 0.00016935546875000002, 'learning_rate': 1.1446477923516102e-07, 'momentum': 0.7675556640624999, 'L2_reg': 4.8699658203125, 'dropout': 0.0398984375, 'n_in': 11, 'hidden_layers_sizes': [90, 90]} | C-Index: 0.506386 | Train Loss 16.528051\n",
      "2019-10-30 20:11:21,984 - __main__ - INFO - Run id: -8039894234906891778_1d88858f-b656-4a90-8261-070914775ea2 | {'batch_norm': False, 'activation': 'rectify', 'standardize': True, 'lr_decay': 0.00016935546875000002, 'learning_rate': 1.1446477923516102e-07, 'momentum': 0.7675556640624999, 'L2_reg': 4.8699658203125, 'dropout': 0.0398984375, 'n_in': 11, 'hidden_layers_sizes': [90, 90]} | C-Index: 0.506386 | Train Loss 16.528051\n",
      "2019-10-30 20:11:23,427 - __main__ - INFO - Run id: -8039894234906891778_c209ce51-775d-4b2a-91d6-08d845df8d65 | {'batch_norm': False, 'activation': 'rectify', 'standardize': True, 'lr_decay': 0.00016935546875000002, 'learning_rate': 1.1446477923516102e-07, 'momentum': 0.7675556640624999, 'L2_reg': 4.8699658203125, 'dropout': 0.0398984375, 'n_in': 11, 'hidden_layers_sizes': [90, 90]} | C-Index: 0.494710 | Train Loss 14.262037\n",
      "2019-10-30 20:11:23,427 - __main__ - INFO - Run id: -8039894234906891778_c209ce51-775d-4b2a-91d6-08d845df8d65 | {'batch_norm': False, 'activation': 'rectify', 'standardize': True, 'lr_decay': 0.00016935546875000002, 'learning_rate': 1.1446477923516102e-07, 'momentum': 0.7675556640624999, 'L2_reg': 4.8699658203125, 'dropout': 0.0398984375, 'n_in': 11, 'hidden_layers_sizes': [90, 90]} | C-Index: 0.494710 | Train Loss 14.262037\n",
      "2019-10-30 20:11:23,427 - __main__ - INFO - Run id: -8039894234906891778_c209ce51-775d-4b2a-91d6-08d845df8d65 | {'batch_norm': False, 'activation': 'rectify', 'standardize': True, 'lr_decay': 0.00016935546875000002, 'learning_rate': 1.1446477923516102e-07, 'momentum': 0.7675556640624999, 'L2_reg': 4.8699658203125, 'dropout': 0.0398984375, 'n_in': 11, 'hidden_layers_sizes': [90, 90]} | C-Index: 0.494710 | Train Loss 14.262037\n"
     ]
    },
    {
     "name": "stdout",
     "output_type": "stream",
     "text": [
      "2019-10-30 20:11:23,427 - __main__ - INFO - Run id: -8039894234906891778_c209ce51-775d-4b2a-91d6-08d845df8d65 | {'batch_norm': False, 'activation': 'rectify', 'standardize': True, 'lr_decay': 0.00016935546875000002, 'learning_rate': 1.1446477923516102e-07, 'momentum': 0.7675556640624999, 'L2_reg': 4.8699658203125, 'dropout': 0.0398984375, 'n_in': 11, 'hidden_layers_sizes': [90, 90]} | C-Index: 0.494710 | Train Loss 14.262037\n",
      "2019-10-30 20:11:25,213 - __main__ - INFO - Run id: -8477846008211671645_2ed6a931-e5dc-46fc-850d-6d549f5496da | {'batch_norm': False, 'activation': 'rectify', 'standardize': True, 'lr_decay': 0.00066435546875, 'learning_rate': 1.093130155301593e-05, 'momentum': 0.9408056640625, 'L2_reg': 2.4197158203124998, 'dropout': 0.2378984375, 'n_in': 22, 'hidden_layers_sizes': [46, 46, 46]} | C-Index: 0.516433 | Train Loss 10.330717\n",
      "2019-10-30 20:11:25,213 - __main__ - INFO - Run id: -8477846008211671645_2ed6a931-e5dc-46fc-850d-6d549f5496da | {'batch_norm': False, 'activation': 'rectify', 'standardize': True, 'lr_decay': 0.00066435546875, 'learning_rate': 1.093130155301593e-05, 'momentum': 0.9408056640625, 'L2_reg': 2.4197158203124998, 'dropout': 0.2378984375, 'n_in': 22, 'hidden_layers_sizes': [46, 46, 46]} | C-Index: 0.516433 | Train Loss 10.330717\n",
      "2019-10-30 20:11:25,213 - __main__ - INFO - Run id: -8477846008211671645_2ed6a931-e5dc-46fc-850d-6d549f5496da | {'batch_norm': False, 'activation': 'rectify', 'standardize': True, 'lr_decay': 0.00066435546875, 'learning_rate': 1.093130155301593e-05, 'momentum': 0.9408056640625, 'L2_reg': 2.4197158203124998, 'dropout': 0.2378984375, 'n_in': 22, 'hidden_layers_sizes': [46, 46, 46]} | C-Index: 0.516433 | Train Loss 10.330717\n",
      "2019-10-30 20:11:25,213 - __main__ - INFO - Run id: -8477846008211671645_2ed6a931-e5dc-46fc-850d-6d549f5496da | {'batch_norm': False, 'activation': 'rectify', 'standardize': True, 'lr_decay': 0.00066435546875, 'learning_rate': 1.093130155301593e-05, 'momentum': 0.9408056640625, 'L2_reg': 2.4197158203124998, 'dropout': 0.2378984375, 'n_in': 22, 'hidden_layers_sizes': [46, 46, 46]} | C-Index: 0.516433 | Train Loss 10.330717\n",
      "2019-10-30 20:11:26,942 - __main__ - INFO - Run id: -8477846008211671645_7eae2e0a-fa59-4351-98e4-6b98462dd103 | {'batch_norm': False, 'activation': 'rectify', 'standardize': True, 'lr_decay': 0.00066435546875, 'learning_rate': 1.093130155301593e-05, 'momentum': 0.9408056640625, 'L2_reg': 2.4197158203124998, 'dropout': 0.2378984375, 'n_in': 22, 'hidden_layers_sizes': [46, 46, 46]} | C-Index: 0.493074 | Train Loss 10.357176\n",
      "2019-10-30 20:11:26,942 - __main__ - INFO - Run id: -8477846008211671645_7eae2e0a-fa59-4351-98e4-6b98462dd103 | {'batch_norm': False, 'activation': 'rectify', 'standardize': True, 'lr_decay': 0.00066435546875, 'learning_rate': 1.093130155301593e-05, 'momentum': 0.9408056640625, 'L2_reg': 2.4197158203124998, 'dropout': 0.2378984375, 'n_in': 22, 'hidden_layers_sizes': [46, 46, 46]} | C-Index: 0.493074 | Train Loss 10.357176\n",
      "2019-10-30 20:11:26,942 - __main__ - INFO - Run id: -8477846008211671645_7eae2e0a-fa59-4351-98e4-6b98462dd103 | {'batch_norm': False, 'activation': 'rectify', 'standardize': True, 'lr_decay': 0.00066435546875, 'learning_rate': 1.093130155301593e-05, 'momentum': 0.9408056640625, 'L2_reg': 2.4197158203124998, 'dropout': 0.2378984375, 'n_in': 22, 'hidden_layers_sizes': [46, 46, 46]} | C-Index: 0.493074 | Train Loss 10.357176\n",
      "2019-10-30 20:11:26,942 - __main__ - INFO - Run id: -8477846008211671645_7eae2e0a-fa59-4351-98e4-6b98462dd103 | {'batch_norm': False, 'activation': 'rectify', 'standardize': True, 'lr_decay': 0.00066435546875, 'learning_rate': 1.093130155301593e-05, 'momentum': 0.9408056640625, 'L2_reg': 2.4197158203124998, 'dropout': 0.2378984375, 'n_in': 22, 'hidden_layers_sizes': [46, 46, 46]} | C-Index: 0.493074 | Train Loss 10.357176\n",
      "2019-10-30 20:11:28,239 - __main__ - INFO - Run id: 1639696869101988961_ea7af355-c976-4640-b598-3b3a6bc69409 | {'batch_norm': False, 'activation': 'rectify', 'standardize': True, 'lr_decay': 0.00091185546875, 'learning_rate': 1.118592427570892e-06, 'momentum': 0.8541806640624999, 'L2_reg': 3.6448408203125, 'dropout': 0.33689843750000004, 'n_in': 17, 'hidden_layers_sizes': [23]} | C-Index: 0.526107 | Train Loss 16.518246\n",
      "2019-10-30 20:11:28,239 - __main__ - INFO - Run id: 1639696869101988961_ea7af355-c976-4640-b598-3b3a6bc69409 | {'batch_norm': False, 'activation': 'rectify', 'standardize': True, 'lr_decay': 0.00091185546875, 'learning_rate': 1.118592427570892e-06, 'momentum': 0.8541806640624999, 'L2_reg': 3.6448408203125, 'dropout': 0.33689843750000004, 'n_in': 17, 'hidden_layers_sizes': [23]} | C-Index: 0.526107 | Train Loss 16.518246\n",
      "2019-10-30 20:11:28,239 - __main__ - INFO - Run id: 1639696869101988961_ea7af355-c976-4640-b598-3b3a6bc69409 | {'batch_norm': False, 'activation': 'rectify', 'standardize': True, 'lr_decay': 0.00091185546875, 'learning_rate': 1.118592427570892e-06, 'momentum': 0.8541806640624999, 'L2_reg': 3.6448408203125, 'dropout': 0.33689843750000004, 'n_in': 17, 'hidden_layers_sizes': [23]} | C-Index: 0.526107 | Train Loss 16.518246\n",
      "2019-10-30 20:11:28,239 - __main__ - INFO - Run id: 1639696869101988961_ea7af355-c976-4640-b598-3b3a6bc69409 | {'batch_norm': False, 'activation': 'rectify', 'standardize': True, 'lr_decay': 0.00091185546875, 'learning_rate': 1.118592427570892e-06, 'momentum': 0.8541806640624999, 'L2_reg': 3.6448408203125, 'dropout': 0.33689843750000004, 'n_in': 17, 'hidden_layers_sizes': [23]} | C-Index: 0.526107 | Train Loss 16.518246\n",
      "2019-10-30 20:11:29,322 - __main__ - INFO - Run id: 1639696869101988961_3a7eecd5-9f0c-4df3-8873-0c7a1fcbf81d | {'batch_norm': False, 'activation': 'rectify', 'standardize': True, 'lr_decay': 0.00091185546875, 'learning_rate': 1.118592427570892e-06, 'momentum': 0.8541806640624999, 'L2_reg': 3.6448408203125, 'dropout': 0.33689843750000004, 'n_in': 17, 'hidden_layers_sizes': [23]} | C-Index: 0.480302 | Train Loss 10.913587\n",
      "2019-10-30 20:11:29,322 - __main__ - INFO - Run id: 1639696869101988961_3a7eecd5-9f0c-4df3-8873-0c7a1fcbf81d | {'batch_norm': False, 'activation': 'rectify', 'standardize': True, 'lr_decay': 0.00091185546875, 'learning_rate': 1.118592427570892e-06, 'momentum': 0.8541806640624999, 'L2_reg': 3.6448408203125, 'dropout': 0.33689843750000004, 'n_in': 17, 'hidden_layers_sizes': [23]} | C-Index: 0.480302 | Train Loss 10.913587\n",
      "2019-10-30 20:11:29,322 - __main__ - INFO - Run id: 1639696869101988961_3a7eecd5-9f0c-4df3-8873-0c7a1fcbf81d | {'batch_norm': False, 'activation': 'rectify', 'standardize': True, 'lr_decay': 0.00091185546875, 'learning_rate': 1.118592427570892e-06, 'momentum': 0.8541806640624999, 'L2_reg': 3.6448408203125, 'dropout': 0.33689843750000004, 'n_in': 17, 'hidden_layers_sizes': [23]} | C-Index: 0.480302 | Train Loss 10.913587\n",
      "2019-10-30 20:11:29,322 - __main__ - INFO - Run id: 1639696869101988961_3a7eecd5-9f0c-4df3-8873-0c7a1fcbf81d | {'batch_norm': False, 'activation': 'rectify', 'standardize': True, 'lr_decay': 0.00091185546875, 'learning_rate': 1.118592427570892e-06, 'momentum': 0.8541806640624999, 'L2_reg': 3.6448408203125, 'dropout': 0.33689843750000004, 'n_in': 17, 'hidden_layers_sizes': [23]} | C-Index: 0.480302 | Train Loss 10.913587\n",
      "2019-10-30 20:11:30,951 - __main__ - INFO - Run id: 6562146052299980092_ba4e6b2e-4e03-4a1a-81b7-855b1f229e54 | {'batch_norm': False, 'activation': 'rectify', 'standardize': True, 'lr_decay': 0.00041685546875, 'learning_rate': 0.00010682474751099208, 'momentum': 0.6809306640624999, 'L2_reg': 1.1945908203125, 'dropout': 0.1388984375, 'n_in': 28, 'hidden_layers_sizes': [68, 68]} | C-Index: 0.496310 | Train Loss 8.422617\n",
      "2019-10-30 20:11:30,951 - __main__ - INFO - Run id: 6562146052299980092_ba4e6b2e-4e03-4a1a-81b7-855b1f229e54 | {'batch_norm': False, 'activation': 'rectify', 'standardize': True, 'lr_decay': 0.00041685546875, 'learning_rate': 0.00010682474751099208, 'momentum': 0.6809306640624999, 'L2_reg': 1.1945908203125, 'dropout': 0.1388984375, 'n_in': 28, 'hidden_layers_sizes': [68, 68]} | C-Index: 0.496310 | Train Loss 8.422617\n",
      "2019-10-30 20:11:30,951 - __main__ - INFO - Run id: 6562146052299980092_ba4e6b2e-4e03-4a1a-81b7-855b1f229e54 | {'batch_norm': False, 'activation': 'rectify', 'standardize': True, 'lr_decay': 0.00041685546875, 'learning_rate': 0.00010682474751099208, 'momentum': 0.6809306640624999, 'L2_reg': 1.1945908203125, 'dropout': 0.1388984375, 'n_in': 28, 'hidden_layers_sizes': [68, 68]} | C-Index: 0.496310 | Train Loss 8.422617\n"
     ]
    },
    {
     "name": "stdout",
     "output_type": "stream",
     "text": [
      "2019-10-30 20:11:30,951 - __main__ - INFO - Run id: 6562146052299980092_ba4e6b2e-4e03-4a1a-81b7-855b1f229e54 | {'batch_norm': False, 'activation': 'rectify', 'standardize': True, 'lr_decay': 0.00041685546875, 'learning_rate': 0.00010682474751099208, 'momentum': 0.6809306640624999, 'L2_reg': 1.1945908203125, 'dropout': 0.1388984375, 'n_in': 28, 'hidden_layers_sizes': [68, 68]} | C-Index: 0.496310 | Train Loss 8.422617\n",
      "2019-10-30 20:11:32,323 - __main__ - INFO - Run id: 6562146052299980092_65f28e73-b763-4cb3-b030-71673afbe499 | {'batch_norm': False, 'activation': 'rectify', 'standardize': True, 'lr_decay': 0.00041685546875, 'learning_rate': 0.00010682474751099208, 'momentum': 0.6809306640624999, 'L2_reg': 1.1945908203125, 'dropout': 0.1388984375, 'n_in': 28, 'hidden_layers_sizes': [68, 68]} | C-Index: 0.499534 | Train Loss 8.358720\n",
      "2019-10-30 20:11:32,323 - __main__ - INFO - Run id: 6562146052299980092_65f28e73-b763-4cb3-b030-71673afbe499 | {'batch_norm': False, 'activation': 'rectify', 'standardize': True, 'lr_decay': 0.00041685546875, 'learning_rate': 0.00010682474751099208, 'momentum': 0.6809306640624999, 'L2_reg': 1.1945908203125, 'dropout': 0.1388984375, 'n_in': 28, 'hidden_layers_sizes': [68, 68]} | C-Index: 0.499534 | Train Loss 8.358720\n",
      "2019-10-30 20:11:32,323 - __main__ - INFO - Run id: 6562146052299980092_65f28e73-b763-4cb3-b030-71673afbe499 | {'batch_norm': False, 'activation': 'rectify', 'standardize': True, 'lr_decay': 0.00041685546875, 'learning_rate': 0.00010682474751099208, 'momentum': 0.6809306640624999, 'L2_reg': 1.1945908203125, 'dropout': 0.1388984375, 'n_in': 28, 'hidden_layers_sizes': [68, 68]} | C-Index: 0.499534 | Train Loss 8.358720\n",
      "2019-10-30 20:11:32,323 - __main__ - INFO - Run id: 6562146052299980092_65f28e73-b763-4cb3-b030-71673afbe499 | {'batch_norm': False, 'activation': 'rectify', 'standardize': True, 'lr_decay': 0.00041685546875, 'learning_rate': 0.00010682474751099208, 'momentum': 0.6809306640624999, 'L2_reg': 1.1945908203125, 'dropout': 0.1388984375, 'n_in': 28, 'hidden_layers_sizes': [68, 68]} | C-Index: 0.499534 | Train Loss 8.358720\n",
      "2019-10-30 20:11:33,579 - __main__ - INFO - Run id: 3601409082214913533_834351c9-a626-4131-ab25-38ae0526d414 | {'batch_norm': False, 'activation': 'rectify', 'standardize': True, 'lr_decay': 0.00029310546875, 'learning_rate': 3.496808708050456e-06, 'momentum': 0.8108681640625, 'L2_reg': 0.5820283203124998, 'dropout': 0.08939843750000001, 'n_in': 25, 'hidden_layers_sizes': [34]} | C-Index: 0.483715 | Train Loss 7.010701\n",
      "2019-10-30 20:11:33,579 - __main__ - INFO - Run id: 3601409082214913533_834351c9-a626-4131-ab25-38ae0526d414 | {'batch_norm': False, 'activation': 'rectify', 'standardize': True, 'lr_decay': 0.00029310546875, 'learning_rate': 3.496808708050456e-06, 'momentum': 0.8108681640625, 'L2_reg': 0.5820283203124998, 'dropout': 0.08939843750000001, 'n_in': 25, 'hidden_layers_sizes': [34]} | C-Index: 0.483715 | Train Loss 7.010701\n",
      "2019-10-30 20:11:33,579 - __main__ - INFO - Run id: 3601409082214913533_834351c9-a626-4131-ab25-38ae0526d414 | {'batch_norm': False, 'activation': 'rectify', 'standardize': True, 'lr_decay': 0.00029310546875, 'learning_rate': 3.496808708050456e-06, 'momentum': 0.8108681640625, 'L2_reg': 0.5820283203124998, 'dropout': 0.08939843750000001, 'n_in': 25, 'hidden_layers_sizes': [34]} | C-Index: 0.483715 | Train Loss 7.010701\n",
      "2019-10-30 20:11:33,579 - __main__ - INFO - Run id: 3601409082214913533_834351c9-a626-4131-ab25-38ae0526d414 | {'batch_norm': False, 'activation': 'rectify', 'standardize': True, 'lr_decay': 0.00029310546875, 'learning_rate': 3.496808708050456e-06, 'momentum': 0.8108681640625, 'L2_reg': 0.5820283203124998, 'dropout': 0.08939843750000001, 'n_in': 25, 'hidden_layers_sizes': [34]} | C-Index: 0.483715 | Train Loss 7.010701\n",
      "2019-10-30 20:11:34,774 - __main__ - INFO - Run id: 3601409082214913533_b601fad0-7b27-4d65-b553-bbe4b77fb6f7 | {'batch_norm': False, 'activation': 'rectify', 'standardize': True, 'lr_decay': 0.00029310546875, 'learning_rate': 3.496808708050456e-06, 'momentum': 0.8108681640625, 'L2_reg': 0.5820283203124998, 'dropout': 0.08939843750000001, 'n_in': 25, 'hidden_layers_sizes': [34]} | C-Index: 0.513062 | Train Loss 7.676281\n",
      "2019-10-30 20:11:34,774 - __main__ - INFO - Run id: 3601409082214913533_b601fad0-7b27-4d65-b553-bbe4b77fb6f7 | {'batch_norm': False, 'activation': 'rectify', 'standardize': True, 'lr_decay': 0.00029310546875, 'learning_rate': 3.496808708050456e-06, 'momentum': 0.8108681640625, 'L2_reg': 0.5820283203124998, 'dropout': 0.08939843750000001, 'n_in': 25, 'hidden_layers_sizes': [34]} | C-Index: 0.513062 | Train Loss 7.676281\n",
      "2019-10-30 20:11:34,774 - __main__ - INFO - Run id: 3601409082214913533_b601fad0-7b27-4d65-b553-bbe4b77fb6f7 | {'batch_norm': False, 'activation': 'rectify', 'standardize': True, 'lr_decay': 0.00029310546875, 'learning_rate': 3.496808708050456e-06, 'momentum': 0.8108681640625, 'L2_reg': 0.5820283203124998, 'dropout': 0.08939843750000001, 'n_in': 25, 'hidden_layers_sizes': [34]} | C-Index: 0.513062 | Train Loss 7.676281\n",
      "2019-10-30 20:11:34,774 - __main__ - INFO - Run id: 3601409082214913533_b601fad0-7b27-4d65-b553-bbe4b77fb6f7 | {'batch_norm': False, 'activation': 'rectify', 'standardize': True, 'lr_decay': 0.00029310546875, 'learning_rate': 3.496808708050456e-06, 'momentum': 0.8108681640625, 'L2_reg': 0.5820283203124998, 'dropout': 0.08939843750000001, 'n_in': 25, 'hidden_layers_sizes': [34]} | C-Index: 0.513062 | Train Loss 7.676281\n",
      "2019-10-30 20:11:36,400 - __main__ - INFO - Run id: -8320422632531658821_d5bde702-778e-4ce9-9d9b-fa864d94548a | {'batch_norm': False, 'activation': 'rectify', 'standardize': True, 'lr_decay': 0.00078810546875, 'learning_rate': 0.0003339426390923385, 'momentum': 0.6376181640624999, 'L2_reg': 3.0322783203125, 'dropout': 0.2873984375, 'n_in': 14, 'hidden_layers_sizes': [79, 79, 79]} | C-Index: 0.512388 | Train Loss 11.985419\n",
      "2019-10-30 20:11:36,400 - __main__ - INFO - Run id: -8320422632531658821_d5bde702-778e-4ce9-9d9b-fa864d94548a | {'batch_norm': False, 'activation': 'rectify', 'standardize': True, 'lr_decay': 0.00078810546875, 'learning_rate': 0.0003339426390923385, 'momentum': 0.6376181640624999, 'L2_reg': 3.0322783203125, 'dropout': 0.2873984375, 'n_in': 14, 'hidden_layers_sizes': [79, 79, 79]} | C-Index: 0.512388 | Train Loss 11.985419\n",
      "2019-10-30 20:11:36,400 - __main__ - INFO - Run id: -8320422632531658821_d5bde702-778e-4ce9-9d9b-fa864d94548a | {'batch_norm': False, 'activation': 'rectify', 'standardize': True, 'lr_decay': 0.00078810546875, 'learning_rate': 0.0003339426390923385, 'momentum': 0.6376181640624999, 'L2_reg': 3.0322783203125, 'dropout': 0.2873984375, 'n_in': 14, 'hidden_layers_sizes': [79, 79, 79]} | C-Index: 0.512388 | Train Loss 11.985419\n",
      "2019-10-30 20:11:36,400 - __main__ - INFO - Run id: -8320422632531658821_d5bde702-778e-4ce9-9d9b-fa864d94548a | {'batch_norm': False, 'activation': 'rectify', 'standardize': True, 'lr_decay': 0.00078810546875, 'learning_rate': 0.0003339426390923385, 'momentum': 0.6376181640624999, 'L2_reg': 3.0322783203125, 'dropout': 0.2873984375, 'n_in': 14, 'hidden_layers_sizes': [79, 79, 79]} | C-Index: 0.512388 | Train Loss 11.985419\n",
      "2019-10-30 20:11:38,128 - __main__ - INFO - Run id: -8320422632531658821_70704ec6-33c9-4d8d-a5d5-bed55f75eb30 | {'batch_norm': False, 'activation': 'rectify', 'standardize': True, 'lr_decay': 0.00078810546875, 'learning_rate': 0.0003339426390923385, 'momentum': 0.6376181640624999, 'L2_reg': 3.0322783203125, 'dropout': 0.2873984375, 'n_in': 14, 'hidden_layers_sizes': [79, 79, 79]} | C-Index: 0.539837 | Train Loss 12.162933\n",
      "2019-10-30 20:11:38,128 - __main__ - INFO - Run id: -8320422632531658821_70704ec6-33c9-4d8d-a5d5-bed55f75eb30 | {'batch_norm': False, 'activation': 'rectify', 'standardize': True, 'lr_decay': 0.00078810546875, 'learning_rate': 0.0003339426390923385, 'momentum': 0.6376181640624999, 'L2_reg': 3.0322783203125, 'dropout': 0.2873984375, 'n_in': 14, 'hidden_layers_sizes': [79, 79, 79]} | C-Index: 0.539837 | Train Loss 12.162933\n",
      "2019-10-30 20:11:38,128 - __main__ - INFO - Run id: -8320422632531658821_70704ec6-33c9-4d8d-a5d5-bed55f75eb30 | {'batch_norm': False, 'activation': 'rectify', 'standardize': True, 'lr_decay': 0.00078810546875, 'learning_rate': 0.0003339426390923385, 'momentum': 0.6376181640624999, 'L2_reg': 3.0322783203125, 'dropout': 0.2873984375, 'n_in': 14, 'hidden_layers_sizes': [79, 79, 79]} | C-Index: 0.539837 | Train Loss 12.162933\n"
     ]
    },
    {
     "name": "stdout",
     "output_type": "stream",
     "text": [
      "2019-10-30 20:11:38,128 - __main__ - INFO - Run id: -8320422632531658821_70704ec6-33c9-4d8d-a5d5-bed55f75eb30 | {'batch_norm': False, 'activation': 'rectify', 'standardize': True, 'lr_decay': 0.00078810546875, 'learning_rate': 0.0003339426390923385, 'momentum': 0.6376181640624999, 'L2_reg': 3.0322783203125, 'dropout': 0.2873984375, 'n_in': 14, 'hidden_layers_sizes': [79, 79, 79]} | C-Index: 0.539837 | Train Loss 12.162933\n",
      "2019-10-30 20:11:39,338 - __main__ - INFO - Run id: -6857521105471259914_79354734-3510-4576-bc3b-1552bffb99b4 | {'batch_norm': False, 'activation': 'rectify', 'standardize': True, 'lr_decay': 0.00054060546875, 'learning_rate': 3.5782598462943475e-07, 'momentum': 0.7242431640624999, 'L2_reg': 1.8071533203124999, 'dropout': 0.3863984375, 'n_in': 31, 'hidden_layers_sizes': [57]} | C-Index: 0.503712 | Train Loss 8.258920\n",
      "2019-10-30 20:11:39,338 - __main__ - INFO - Run id: -6857521105471259914_79354734-3510-4576-bc3b-1552bffb99b4 | {'batch_norm': False, 'activation': 'rectify', 'standardize': True, 'lr_decay': 0.00054060546875, 'learning_rate': 3.5782598462943475e-07, 'momentum': 0.7242431640624999, 'L2_reg': 1.8071533203124999, 'dropout': 0.3863984375, 'n_in': 31, 'hidden_layers_sizes': [57]} | C-Index: 0.503712 | Train Loss 8.258920\n",
      "2019-10-30 20:11:39,338 - __main__ - INFO - Run id: -6857521105471259914_79354734-3510-4576-bc3b-1552bffb99b4 | {'batch_norm': False, 'activation': 'rectify', 'standardize': True, 'lr_decay': 0.00054060546875, 'learning_rate': 3.5782598462943475e-07, 'momentum': 0.7242431640624999, 'L2_reg': 1.8071533203124999, 'dropout': 0.3863984375, 'n_in': 31, 'hidden_layers_sizes': [57]} | C-Index: 0.503712 | Train Loss 8.258920\n",
      "2019-10-30 20:11:39,338 - __main__ - INFO - Run id: -6857521105471259914_79354734-3510-4576-bc3b-1552bffb99b4 | {'batch_norm': False, 'activation': 'rectify', 'standardize': True, 'lr_decay': 0.00054060546875, 'learning_rate': 3.5782598462943475e-07, 'momentum': 0.7242431640624999, 'L2_reg': 1.8071533203124999, 'dropout': 0.3863984375, 'n_in': 31, 'hidden_layers_sizes': [57]} | C-Index: 0.503712 | Train Loss 8.258920\n",
      "2019-10-30 20:11:40,434 - __main__ - INFO - Run id: -6857521105471259914_8f27a2fa-36ed-4809-b5dc-fdad5c78bc1b | {'batch_norm': False, 'activation': 'rectify', 'standardize': True, 'lr_decay': 0.00054060546875, 'learning_rate': 3.5782598462943475e-07, 'momentum': 0.7242431640624999, 'L2_reg': 1.8071533203124999, 'dropout': 0.3863984375, 'n_in': 31, 'hidden_layers_sizes': [57]} | C-Index: 0.458647 | Train Loss 10.123729\n",
      "2019-10-30 20:11:40,434 - __main__ - INFO - Run id: -6857521105471259914_8f27a2fa-36ed-4809-b5dc-fdad5c78bc1b | {'batch_norm': False, 'activation': 'rectify', 'standardize': True, 'lr_decay': 0.00054060546875, 'learning_rate': 3.5782598462943475e-07, 'momentum': 0.7242431640624999, 'L2_reg': 1.8071533203124999, 'dropout': 0.3863984375, 'n_in': 31, 'hidden_layers_sizes': [57]} | C-Index: 0.458647 | Train Loss 10.123729\n",
      "2019-10-30 20:11:40,434 - __main__ - INFO - Run id: -6857521105471259914_8f27a2fa-36ed-4809-b5dc-fdad5c78bc1b | {'batch_norm': False, 'activation': 'rectify', 'standardize': True, 'lr_decay': 0.00054060546875, 'learning_rate': 3.5782598462943475e-07, 'momentum': 0.7242431640624999, 'L2_reg': 1.8071533203124999, 'dropout': 0.3863984375, 'n_in': 31, 'hidden_layers_sizes': [57]} | C-Index: 0.458647 | Train Loss 10.123729\n",
      "2019-10-30 20:11:40,434 - __main__ - INFO - Run id: -6857521105471259914_8f27a2fa-36ed-4809-b5dc-fdad5c78bc1b | {'batch_norm': False, 'activation': 'rectify', 'standardize': True, 'lr_decay': 0.00054060546875, 'learning_rate': 3.5782598462943475e-07, 'momentum': 0.7242431640624999, 'L2_reg': 1.8071533203124999, 'dropout': 0.3863984375, 'n_in': 31, 'hidden_layers_sizes': [57]} | C-Index: 0.458647 | Train Loss 10.123729\n",
      "2019-10-30 20:11:41,602 - __main__ - INFO - Run id: -980376577457801673_ba373ed7-33c2-4b41-8011-b78892b1e234 | {'batch_norm': False, 'activation': 'rectify', 'standardize': True, 'lr_decay': 4.560546875000001e-05, 'learning_rate': 3.417211624069308e-05, 'momentum': 0.8974931640624999, 'L2_reg': 4.2574033203125, 'dropout': 0.18839843750000002, 'n_in': 19, 'hidden_layers_sizes': [12, 12]} | C-Index: 0.477177 | Train Loss 15.513149\n",
      "2019-10-30 20:11:41,602 - __main__ - INFO - Run id: -980376577457801673_ba373ed7-33c2-4b41-8011-b78892b1e234 | {'batch_norm': False, 'activation': 'rectify', 'standardize': True, 'lr_decay': 4.560546875000001e-05, 'learning_rate': 3.417211624069308e-05, 'momentum': 0.8974931640624999, 'L2_reg': 4.2574033203125, 'dropout': 0.18839843750000002, 'n_in': 19, 'hidden_layers_sizes': [12, 12]} | C-Index: 0.477177 | Train Loss 15.513149\n",
      "2019-10-30 20:11:41,602 - __main__ - INFO - Run id: -980376577457801673_ba373ed7-33c2-4b41-8011-b78892b1e234 | {'batch_norm': False, 'activation': 'rectify', 'standardize': True, 'lr_decay': 4.560546875000001e-05, 'learning_rate': 3.417211624069308e-05, 'momentum': 0.8974931640624999, 'L2_reg': 4.2574033203125, 'dropout': 0.18839843750000002, 'n_in': 19, 'hidden_layers_sizes': [12, 12]} | C-Index: 0.477177 | Train Loss 15.513149\n",
      "2019-10-30 20:11:41,602 - __main__ - INFO - Run id: -980376577457801673_ba373ed7-33c2-4b41-8011-b78892b1e234 | {'batch_norm': False, 'activation': 'rectify', 'standardize': True, 'lr_decay': 4.560546875000001e-05, 'learning_rate': 3.417211624069308e-05, 'momentum': 0.8974931640624999, 'L2_reg': 4.2574033203125, 'dropout': 0.18839843750000002, 'n_in': 19, 'hidden_layers_sizes': [12, 12]} | C-Index: 0.477177 | Train Loss 15.513149\n",
      "2019-10-30 20:11:42,696 - __main__ - INFO - Run id: -980376577457801673_31c7acfa-af85-48d4-81d8-d2caf751b2e5 | {'batch_norm': False, 'activation': 'rectify', 'standardize': True, 'lr_decay': 4.560546875000001e-05, 'learning_rate': 3.417211624069308e-05, 'momentum': 0.8974931640624999, 'L2_reg': 4.2574033203125, 'dropout': 0.18839843750000002, 'n_in': 19, 'hidden_layers_sizes': [12, 12]} | C-Index: 0.502883 | Train Loss 13.727117\n",
      "2019-10-30 20:11:42,696 - __main__ - INFO - Run id: -980376577457801673_31c7acfa-af85-48d4-81d8-d2caf751b2e5 | {'batch_norm': False, 'activation': 'rectify', 'standardize': True, 'lr_decay': 4.560546875000001e-05, 'learning_rate': 3.417211624069308e-05, 'momentum': 0.8974931640624999, 'L2_reg': 4.2574033203125, 'dropout': 0.18839843750000002, 'n_in': 19, 'hidden_layers_sizes': [12, 12]} | C-Index: 0.502883 | Train Loss 13.727117\n",
      "2019-10-30 20:11:42,696 - __main__ - INFO - Run id: -980376577457801673_31c7acfa-af85-48d4-81d8-d2caf751b2e5 | {'batch_norm': False, 'activation': 'rectify', 'standardize': True, 'lr_decay': 4.560546875000001e-05, 'learning_rate': 3.417211624069308e-05, 'momentum': 0.8974931640624999, 'L2_reg': 4.2574033203125, 'dropout': 0.18839843750000002, 'n_in': 19, 'hidden_layers_sizes': [12, 12]} | C-Index: 0.502883 | Train Loss 13.727117\n",
      "2019-10-30 20:11:42,696 - __main__ - INFO - Run id: -980376577457801673_31c7acfa-af85-48d4-81d8-d2caf751b2e5 | {'batch_norm': False, 'activation': 'rectify', 'standardize': True, 'lr_decay': 4.560546875000001e-05, 'learning_rate': 3.417211624069308e-05, 'momentum': 0.8974931640624999, 'L2_reg': 4.2574033203125, 'dropout': 0.18839843750000002, 'n_in': 19, 'hidden_layers_sizes': [12, 12]} | C-Index: 0.502883 | Train Loss 13.727117\n",
      "2019-10-30 20:11:44,024 - __main__ - INFO - Run id: 1653309244707763173_fc9f8dc8-bd46-4234-8395-786ca33bc28e | {'batch_norm': False, 'activation': 'rectify', 'standardize': True, 'lr_decay': 6.107421875000001e-05, 'learning_rate': 5.361630425778916e-06, 'momentum': 0.6322041015625, 'L2_reg': 1.1180205078124998, 'dropout': 0.30596093750000003, 'n_in': 22, 'hidden_layers_sizes': [94]} | C-Index: 0.471298 | Train Loss 8.840106\n",
      "2019-10-30 20:11:44,024 - __main__ - INFO - Run id: 1653309244707763173_fc9f8dc8-bd46-4234-8395-786ca33bc28e | {'batch_norm': False, 'activation': 'rectify', 'standardize': True, 'lr_decay': 6.107421875000001e-05, 'learning_rate': 5.361630425778916e-06, 'momentum': 0.6322041015625, 'L2_reg': 1.1180205078124998, 'dropout': 0.30596093750000003, 'n_in': 22, 'hidden_layers_sizes': [94]} | C-Index: 0.471298 | Train Loss 8.840106\n",
      "2019-10-30 20:11:44,024 - __main__ - INFO - Run id: 1653309244707763173_fc9f8dc8-bd46-4234-8395-786ca33bc28e | {'batch_norm': False, 'activation': 'rectify', 'standardize': True, 'lr_decay': 6.107421875000001e-05, 'learning_rate': 5.361630425778916e-06, 'momentum': 0.6322041015625, 'L2_reg': 1.1180205078124998, 'dropout': 0.30596093750000003, 'n_in': 22, 'hidden_layers_sizes': [94]} | C-Index: 0.471298 | Train Loss 8.840106\n"
     ]
    },
    {
     "name": "stdout",
     "output_type": "stream",
     "text": [
      "2019-10-30 20:11:44,024 - __main__ - INFO - Run id: 1653309244707763173_fc9f8dc8-bd46-4234-8395-786ca33bc28e | {'batch_norm': False, 'activation': 'rectify', 'standardize': True, 'lr_decay': 6.107421875000001e-05, 'learning_rate': 5.361630425778916e-06, 'momentum': 0.6322041015625, 'L2_reg': 1.1180205078124998, 'dropout': 0.30596093750000003, 'n_in': 22, 'hidden_layers_sizes': [94]} | C-Index: 0.471298 | Train Loss 8.840106\n",
      "2019-10-30 20:11:45,206 - __main__ - INFO - Run id: 1653309244707763173_7497f0d7-1ad5-4452-94be-7918cf85473f | {'batch_norm': False, 'activation': 'rectify', 'standardize': True, 'lr_decay': 6.107421875000001e-05, 'learning_rate': 5.361630425778916e-06, 'momentum': 0.6322041015625, 'L2_reg': 1.1180205078124998, 'dropout': 0.30596093750000003, 'n_in': 22, 'hidden_layers_sizes': [94]} | C-Index: 0.530744 | Train Loss 8.475849\n",
      "2019-10-30 20:11:45,206 - __main__ - INFO - Run id: 1653309244707763173_7497f0d7-1ad5-4452-94be-7918cf85473f | {'batch_norm': False, 'activation': 'rectify', 'standardize': True, 'lr_decay': 6.107421875000001e-05, 'learning_rate': 5.361630425778916e-06, 'momentum': 0.6322041015625, 'L2_reg': 1.1180205078124998, 'dropout': 0.30596093750000003, 'n_in': 22, 'hidden_layers_sizes': [94]} | C-Index: 0.530744 | Train Loss 8.475849\n",
      "2019-10-30 20:11:45,206 - __main__ - INFO - Run id: 1653309244707763173_7497f0d7-1ad5-4452-94be-7918cf85473f | {'batch_norm': False, 'activation': 'rectify', 'standardize': True, 'lr_decay': 6.107421875000001e-05, 'learning_rate': 5.361630425778916e-06, 'momentum': 0.6322041015625, 'L2_reg': 1.1180205078124998, 'dropout': 0.30596093750000003, 'n_in': 22, 'hidden_layers_sizes': [94]} | C-Index: 0.530744 | Train Loss 8.475849\n",
      "2019-10-30 20:11:45,206 - __main__ - INFO - Run id: 1653309244707763173_7497f0d7-1ad5-4452-94be-7918cf85473f | {'batch_norm': False, 'activation': 'rectify', 'standardize': True, 'lr_decay': 6.107421875000001e-05, 'learning_rate': 5.361630425778916e-06, 'momentum': 0.6322041015625, 'L2_reg': 1.1180205078124998, 'dropout': 0.30596093750000003, 'n_in': 22, 'hidden_layers_sizes': [94]} | C-Index: 0.530744 | Train Loss 8.475849\n",
      "2019-10-30 20:11:47,060 - __main__ - INFO - Run id: 8609358787895312540_12af4cf6-dd95-437e-b69e-7f4868743188 | {'batch_norm': False, 'activation': 'rectify', 'standardize': True, 'lr_decay': 0.00055607421875, 'learning_rate': 0.0005120317305605829, 'momentum': 0.8054541015624999, 'L2_reg': 3.5682705078125, 'dropout': 0.1079609375, 'n_in': 11, 'hidden_layers_sizes': [50, 50, 50]} | C-Index: 0.550305 | Train Loss 12.863303\n",
      "2019-10-30 20:11:47,060 - __main__ - INFO - Run id: 8609358787895312540_12af4cf6-dd95-437e-b69e-7f4868743188 | {'batch_norm': False, 'activation': 'rectify', 'standardize': True, 'lr_decay': 0.00055607421875, 'learning_rate': 0.0005120317305605829, 'momentum': 0.8054541015624999, 'L2_reg': 3.5682705078125, 'dropout': 0.1079609375, 'n_in': 11, 'hidden_layers_sizes': [50, 50, 50]} | C-Index: 0.550305 | Train Loss 12.863303\n",
      "2019-10-30 20:11:47,060 - __main__ - INFO - Run id: 8609358787895312540_12af4cf6-dd95-437e-b69e-7f4868743188 | {'batch_norm': False, 'activation': 'rectify', 'standardize': True, 'lr_decay': 0.00055607421875, 'learning_rate': 0.0005120317305605829, 'momentum': 0.8054541015624999, 'L2_reg': 3.5682705078125, 'dropout': 0.1079609375, 'n_in': 11, 'hidden_layers_sizes': [50, 50, 50]} | C-Index: 0.550305 | Train Loss 12.863303\n",
      "2019-10-30 20:11:47,060 - __main__ - INFO - Run id: 8609358787895312540_12af4cf6-dd95-437e-b69e-7f4868743188 | {'batch_norm': False, 'activation': 'rectify', 'standardize': True, 'lr_decay': 0.00055607421875, 'learning_rate': 0.0005120317305605829, 'momentum': 0.8054541015624999, 'L2_reg': 3.5682705078125, 'dropout': 0.1079609375, 'n_in': 11, 'hidden_layers_sizes': [50, 50, 50]} | C-Index: 0.550305 | Train Loss 12.863303\n",
      "2019-10-30 20:11:48,660 - __main__ - INFO - Run id: 8609358787895312540_04764923-3327-40e0-9057-4e01c3cf0142 | {'batch_norm': False, 'activation': 'rectify', 'standardize': True, 'lr_decay': 0.00055607421875, 'learning_rate': 0.0005120317305605829, 'momentum': 0.8054541015624999, 'L2_reg': 3.5682705078125, 'dropout': 0.1079609375, 'n_in': 11, 'hidden_layers_sizes': [50, 50, 50]} | C-Index: 0.548923 | Train Loss 12.836347\n",
      "2019-10-30 20:11:48,660 - __main__ - INFO - Run id: 8609358787895312540_04764923-3327-40e0-9057-4e01c3cf0142 | {'batch_norm': False, 'activation': 'rectify', 'standardize': True, 'lr_decay': 0.00055607421875, 'learning_rate': 0.0005120317305605829, 'momentum': 0.8054541015624999, 'L2_reg': 3.5682705078125, 'dropout': 0.1079609375, 'n_in': 11, 'hidden_layers_sizes': [50, 50, 50]} | C-Index: 0.548923 | Train Loss 12.836347\n",
      "2019-10-30 20:11:48,660 - __main__ - INFO - Run id: 8609358787895312540_04764923-3327-40e0-9057-4e01c3cf0142 | {'batch_norm': False, 'activation': 'rectify', 'standardize': True, 'lr_decay': 0.00055607421875, 'learning_rate': 0.0005120317305605829, 'momentum': 0.8054541015624999, 'L2_reg': 3.5682705078125, 'dropout': 0.1079609375, 'n_in': 11, 'hidden_layers_sizes': [50, 50, 50]} | C-Index: 0.548923 | Train Loss 12.836347\n",
      "2019-10-30 20:11:48,660 - __main__ - INFO - Run id: 8609358787895312540_04764923-3327-40e0-9057-4e01c3cf0142 | {'batch_norm': False, 'activation': 'rectify', 'standardize': True, 'lr_decay': 0.00055607421875, 'learning_rate': 0.0005120317305605829, 'momentum': 0.8054541015624999, 'L2_reg': 3.5682705078125, 'dropout': 0.1079609375, 'n_in': 11, 'hidden_layers_sizes': [50, 50, 50]} | C-Index: 0.548923 | Train Loss 12.836347\n",
      "2019-10-30 20:11:50,145 - __main__ - INFO - Run id: -5028161358728923789_79e8b266-61ee-4216-8775-97c543298b97 | {'batch_norm': False, 'activation': 'rectify', 'standardize': True, 'lr_decay': 0.00080357421875, 'learning_rate': 5.486518841898849e-07, 'momentum': 0.8920791015624999, 'L2_reg': 2.3431455078125, 'dropout': 0.008960937500000002, 'n_in': 28, 'hidden_layers_sizes': [28, 28]} | C-Index: 0.494315 | Train Loss 9.495970\n",
      "2019-10-30 20:11:50,145 - __main__ - INFO - Run id: -5028161358728923789_79e8b266-61ee-4216-8775-97c543298b97 | {'batch_norm': False, 'activation': 'rectify', 'standardize': True, 'lr_decay': 0.00080357421875, 'learning_rate': 5.486518841898849e-07, 'momentum': 0.8920791015624999, 'L2_reg': 2.3431455078125, 'dropout': 0.008960937500000002, 'n_in': 28, 'hidden_layers_sizes': [28, 28]} | C-Index: 0.494315 | Train Loss 9.495970\n",
      "2019-10-30 20:11:50,145 - __main__ - INFO - Run id: -5028161358728923789_79e8b266-61ee-4216-8775-97c543298b97 | {'batch_norm': False, 'activation': 'rectify', 'standardize': True, 'lr_decay': 0.00080357421875, 'learning_rate': 5.486518841898849e-07, 'momentum': 0.8920791015624999, 'L2_reg': 2.3431455078125, 'dropout': 0.008960937500000002, 'n_in': 28, 'hidden_layers_sizes': [28, 28]} | C-Index: 0.494315 | Train Loss 9.495970\n",
      "2019-10-30 20:11:50,145 - __main__ - INFO - Run id: -5028161358728923789_79e8b266-61ee-4216-8775-97c543298b97 | {'batch_norm': False, 'activation': 'rectify', 'standardize': True, 'lr_decay': 0.00080357421875, 'learning_rate': 5.486518841898849e-07, 'momentum': 0.8920791015624999, 'L2_reg': 2.3431455078125, 'dropout': 0.008960937500000002, 'n_in': 28, 'hidden_layers_sizes': [28, 28]} | C-Index: 0.494315 | Train Loss 9.495970\n",
      "2019-10-30 20:11:51,566 - __main__ - INFO - Run id: -5028161358728923789_c16e1da0-4e80-4fe3-873d-a6cef7edc455 | {'batch_norm': False, 'activation': 'rectify', 'standardize': True, 'lr_decay': 0.00080357421875, 'learning_rate': 5.486518841898849e-07, 'momentum': 0.8920791015624999, 'L2_reg': 2.3431455078125, 'dropout': 0.008960937500000002, 'n_in': 28, 'hidden_layers_sizes': [28, 28]} | C-Index: 0.515721 | Train Loss 9.851717\n",
      "2019-10-30 20:11:51,566 - __main__ - INFO - Run id: -5028161358728923789_c16e1da0-4e80-4fe3-873d-a6cef7edc455 | {'batch_norm': False, 'activation': 'rectify', 'standardize': True, 'lr_decay': 0.00080357421875, 'learning_rate': 5.486518841898849e-07, 'momentum': 0.8920791015624999, 'L2_reg': 2.3431455078125, 'dropout': 0.008960937500000002, 'n_in': 28, 'hidden_layers_sizes': [28, 28]} | C-Index: 0.515721 | Train Loss 9.851717\n",
      "2019-10-30 20:11:51,566 - __main__ - INFO - Run id: -5028161358728923789_c16e1da0-4e80-4fe3-873d-a6cef7edc455 | {'batch_norm': False, 'activation': 'rectify', 'standardize': True, 'lr_decay': 0.00080357421875, 'learning_rate': 5.486518841898849e-07, 'momentum': 0.8920791015624999, 'L2_reg': 2.3431455078125, 'dropout': 0.008960937500000002, 'n_in': 28, 'hidden_layers_sizes': [28, 28]} | C-Index: 0.515721 | Train Loss 9.851717\n"
     ]
    },
    {
     "name": "stdout",
     "output_type": "stream",
     "text": [
      "2019-10-30 20:11:51,566 - __main__ - INFO - Run id: -5028161358728923789_c16e1da0-4e80-4fe3-873d-a6cef7edc455 | {'batch_norm': False, 'activation': 'rectify', 'standardize': True, 'lr_decay': 0.00080357421875, 'learning_rate': 5.486518841898849e-07, 'momentum': 0.8920791015624999, 'L2_reg': 2.3431455078125, 'dropout': 0.008960937500000002, 'n_in': 28, 'hidden_layers_sizes': [28, 28]} | C-Index: 0.515721 | Train Loss 9.851717\n"
     ]
    }
   ],
   "source": [
    "opt_fxn = get_objective_function(NUM_EPOCHS, logdir, \n",
    "                                 utils.get_optimizer_from_str('adam'))\n",
    "\n",
    "opt_fxn = optunity.cross_validated(x=xtrain, y=ytrain, num_folds=NUM_FOLDS)(opt_fxn)\n",
    "\n",
    "\n",
    "opt_params, call_log, _ = optunity.maximize(opt_fxn, num_evals=20,\n",
    "        solver_name='sobol',\n",
    "        **box_constraints)"
   ]
  },
  {
   "cell_type": "code",
   "execution_count": 50,
   "metadata": {},
   "outputs": [
    {
     "data": {
      "text/plain": [
       "{'lr_decay': 0.00055607421875,\n",
       " 'learning_rate': -3.290703125,\n",
       " 'num_nodes': 50.3013671875,\n",
       " 'num_layers': 3.02787109375,\n",
       " 'momentum': 0.8054541015624999,\n",
       " 'L2_reg': 3.5682705078125,\n",
       " 'dropout': 0.1079609375,\n",
       " 'n_in': 11.0484697265625}"
      ]
     },
     "execution_count": 50,
     "metadata": {},
     "output_type": "execute_result"
    }
   ],
   "source": [
    "opt_params"
   ]
  },
  {
   "cell_type": "markdown",
   "metadata": {},
   "source": [
    "## train a network based on opt_params on training data and save the model and weights (previous sections used cross-validation to find hyper-parameters, weights could not be saved)"
   ]
  },
  {
   "cell_type": "code",
   "execution_count": null,
   "metadata": {},
   "outputs": [],
   "source": [
    "NUM_EPOCHS=4000\n",
    "hyperparams = {\n",
    "    'batch_norm': True,\n",
    "    'activation': 'rectify',\n",
    "    'standardize': False,\n",
    "    'n_in':xtrain.shape[1]\n",
    "}\n",
    "\n",
    "hyperparams.update(opt_params)\n",
    "\n",
    "if 'num_layers' in hyperparams and 'num_nodes' in hyperparams:\n",
    "    hyperparams['hidden_layers_sizes'] = [int(hyperparams['num_nodes'])] * int(hyperparams['num_layers'])\n",
    "    del hyperparams['num_layers']\n",
    "    del hyperparams['num_nodes']\n",
    "\n",
    "if 'learning_rate' in hyperparams:\n",
    "    hyperparams['learning_rate'] = 10 ** hyperparams['learning_rate']\n",
    " "
   ]
  },
  {
   "cell_type": "code",
   "execution_count": null,
   "metadata": {},
   "outputs": [],
   "source": [
    "### Standardizing\n",
    "#trainsub_mean = xtrainsub.mean(axis = 0)\n",
    "#trainsub_std = xtrainsub.std(axis = 0)\n",
    "#xtrainsub = (xtrainsub - trainsub_mean) / trainsub_std\n",
    "\n",
    "trainsub_data=format_to_deepsurv(xtrainsub, ytrainsub)\n",
    "\n",
    "#valsub_mean = xvalsub.mean(axis = 0)\n",
    "#valsub_std = xvalsub.std(axis = 0)\n",
    "#xvalsub = (xvalsub - valsub_mean) / valsub_std\n",
    "\n",
    "valsub_data=format_to_deepsurv(xvalsub, yvalsub)\n",
    "\n",
    "\n",
    "network = deep_surv.DeepSurv(**hyperparams)"
   ]
  },
  {
   "cell_type": "code",
   "execution_count": null,
   "metadata": {},
   "outputs": [],
   "source": [
    "metrics = network.train(trainsub_data,valsub_data, n_epochs = NUM_EPOCHS, update_fn = lasagne.updates.sgd, verbose = True)"
   ]
  },
  {
   "cell_type": "code",
   "execution_count": null,
   "metadata": {},
   "outputs": [],
   "source": [
    "network.get_concordance_index(xvalsub,yvalsub[:,1],yvalsub[:,0])"
   ]
  },
  {
   "cell_type": "code",
   "execution_count": null,
   "metadata": {},
   "outputs": [],
   "source": []
  },
  {
   "cell_type": "markdown",
   "metadata": {},
   "source": [
    "## apply the trained network on test set and check the feature importance for generalization using  [permutation importance](https://eli5.readthedocs.io/en/latest/blackbox/permutation_importance.html)\n"
   ]
  },
  {
   "cell_type": "code",
   "execution_count": null,
   "metadata": {},
   "outputs": [],
   "source": []
  },
  {
   "cell_type": "code",
   "execution_count": null,
   "metadata": {},
   "outputs": [],
   "source": [
    "colnames=test.iloc[:,1:-1].columns\n",
    "def score(X, y):\n",
    "    X=pd.DataFrame(X)\n",
    "    X.columns=colnames\n",
    "    data=X\n",
    "    data['Wait Time (s)']=y.values\n",
    "    data['E']=1\n",
    "    test = dataframe_to_deepsurv_ds(data, event_col = 'E', time_col= 'Wait Time (s)')\n",
    "    xtest=test['x']\n",
    "    xtest = (xtest - trainsub_mean) / trainsub_std              \n",
    "    etest=test['e']\n",
    "    ttest=test['t']\n",
    "    ytest = np.column_stack((etest, ttest))\n",
    "    valid_data = format_to_deepsurv(xtest, ytest)               #fix: network is trained again on test data\n",
    "    ci=network.get_concordance_index(**valid_data)\n",
    "    return ci\n",
    "\n",
    "\n",
    "st=time.time()\n",
    "\n",
    "base_score, score_decreases = get_score_importances(score, test.iloc[:,1:-1].values, test.iloc[:,0])\n",
    "                                                    #,columns_to_shuffle=range(0,2))\n",
    "f=time.time()\n",
    "\n",
    "feature_importances_mean = np.mean(score_decreases, axis=0)\n",
    "feature_importances_std = np.std(score_decreases, axis=0)\n",
    "\n",
    "perimportance=pd.DataFrame(data=feature_importances_mean,index=colnames,columns=['mean'])\n",
    "perimportance['std']=feature_importances_std\n",
    "\n",
    "\n",
    "\n",
    "perimportance=perimportance.sort_values(by=['mean'])\n",
    "\n",
    "\n",
    "\n",
    "def plot_feature_importances(imp):\n",
    "    plt.figure(figsize=(16,12))\n",
    "    n_features = imp.shape[0]\n",
    "    plt.barh(range(n_features), perimportance.iloc[:,0].values, align='center')\n",
    "    plt.yticks(np.arange(n_features), colnames)\n",
    "    plt.xlabel(\"Feature importance\")\n",
    "    plt.ylabel(\"Feature\")\n",
    "    plt.ylim(-1, n_features)\n",
    "\n",
    "plot_feature_importances(perimportance)\n",
    "#plt.savefig('Decision Tree feature_importance')"
   ]
  },
  {
   "cell_type": "code",
   "execution_count": null,
   "metadata": {},
   "outputs": [],
   "source": [
    "NCtrain.iloc[:,1:-1].columns"
   ]
  },
  {
   "cell_type": "markdown",
   "metadata": {},
   "source": [
    "## Using Shap for feature importance"
   ]
  },
  {
   "cell_type": "code",
   "execution_count": null,
   "metadata": {},
   "outputs": [],
   "source": [
    "#using train set for interpretability\n",
    "dfxtrainsub=pd.DataFrame(xtrain)\n",
    "dfxtrainsub.columns=NCtrain.iloc[:,1:-1].columns\n",
    "\n",
    "#using zeros as background data\n",
    "backgrounddata=pd.DataFrame(np.zeros(32)).T         \n",
    "backgrounddata.columns=NCtrain.iloc[:,1:-1].columns\n",
    "\n",
    "explainer = shap.KernelExplainer(network.predict_risk,backgrounddata)\n",
    "shap_values = explainer.shap_values(dfxtrainsub)"
   ]
  },
  {
   "cell_type": "code",
   "execution_count": null,
   "metadata": {},
   "outputs": [],
   "source": [
    "rework=pd.DataFrame(shap_values[0])\n",
    "rework.columns=features"
   ]
  },
  {
   "cell_type": "code",
   "execution_count": null,
   "metadata": {},
   "outputs": [],
   "source": [
    "reworkclean=rework.drop(columns=['One Way Road', 'Two way with Median Road', 'Night Time', 'Age between 18 - 24',\n",
    "    'Employed Person',\n",
    "       'Student', 'Owns a Driving License', 'Main Mode: Car',\n",
    "      'Main Mode: Walking', 'Sometimes Walks to Work',\n",
    "       'Always Walks to Work', 'Sometimes Walks for shopping',\n",
    "       'Speed Limit is Low', 'Speed Limit is high',\n",
    "       'Minimum Gap is Low',\n",
    "       'Mean Arrival Rate is Low', 'Does not own a car',\n",
    "       'Has more than one car'])"
   ]
  },
  {
   "cell_type": "code",
   "execution_count": null,
   "metadata": {},
   "outputs": [],
   "source": [
    "reworkclean.columns"
   ]
  },
  {
   "cell_type": "code",
   "execution_count": null,
   "metadata": {},
   "outputs": [],
   "source": [
    "len(reworkclean.values)"
   ]
  },
  {
   "cell_type": "code",
   "execution_count": null,
   "metadata": {},
   "outputs": [],
   "source": [
    "features=['Snowy Weather', 'Age between 25 - 29', 'Age between 30 - 39',\n",
    "       'Gender: Female', 'Main Mode: Public Transit',\n",
    "       'Always Walks for shopping', 'Has VR experinece', 'Lane Width is short',\n",
    "       'Lane Width is long', 'Minimum Gap is High',\n",
    "       'Mean Arrival Rate is High', 'Fully Automated Condition',\n",
    "       'Mixed Automated Condition', 'Age is over 50']"
   ]
  },
  {
   "cell_type": "code",
   "execution_count": null,
   "metadata": {},
   "outputs": [],
   "source": [
    "xx=shap.summary_plot(reworkclean.values, features,max_display=32)"
   ]
  },
  {
   "cell_type": "code",
   "execution_count": null,
   "metadata": {},
   "outputs": [],
   "source": [
    "shap.summary_plot(reworkclean.values, features,max_display=32,show=False)"
   ]
  },
  {
   "cell_type": "code",
   "execution_count": null,
   "metadata": {},
   "outputs": [],
   "source": [
    "import matplotlib.pyplot as pl\n",
    "shap.summary_plot(reworkclean.values, features,max_display=32,show=False)\n",
    "pl.savefig('shap.png',bbox_inches='tight')\n"
   ]
  },
  {
   "cell_type": "code",
   "execution_count": null,
   "metadata": {},
   "outputs": [],
   "source": [
    "shap_df=pd.DataFrame(shap_values[0])\n",
    "shap_df.columns=NCtrain.iloc[:,1:-1].columns\n",
    "\n",
    "mean=shap_df[shap_df!=0].mean()              #mean of shap values for each feature (non-zeros only\n",
    "\n",
    "nonzeros=shap_df.astype(bool).sum(axis=0)        #count of non-zeros shap values for each feature\n",
    "\n",
    "std=shap_df[shap_df!=0].std()                #standard deviation of shap values for each feature\n",
    "\n",
    "featuresshap=pd.DataFrame()\n",
    "\n",
    "featuresshap['count1']=nonzeros\n",
    "featuresshap['bg0mean']=mean                 #bg0: zeros set as background data\n",
    "\n",
    "featuresshap['bg0std']=std\n",
    "\n",
    "featuresshap['bg0absmean']=abs(mean)\n",
    "\n",
    "featuresshap.sort_values(by=['bg0absmean'])"
   ]
  },
  {
   "cell_type": "code",
   "execution_count": null,
   "metadata": {},
   "outputs": [],
   "source": [
    "#using ones as background data\n",
    "backgrounddata2=pd.DataFrame(np.ones(42)).T         \n",
    "backgrounddata2.columns=NCtrain.iloc[:,1:-1].columns\n",
    "\n",
    "explainer2 = shap.KernelExplainer(network.predict_risk,backgrounddata2)\n",
    "shap_values2 = explainer2.shap_values(dfxtrainsub)\n",
    "\n",
    "\n",
    "\n"
   ]
  },
  {
   "cell_type": "code",
   "execution_count": null,
   "metadata": {},
   "outputs": [],
   "source": []
  },
  {
   "cell_type": "code",
   "execution_count": null,
   "metadata": {},
   "outputs": [],
   "source": [
    "shap.summary_plot(shap_values2[0], dfxtrainsub,max_display=42)"
   ]
  },
  {
   "cell_type": "code",
   "execution_count": null,
   "metadata": {},
   "outputs": [],
   "source": [
    "shap_values2=pd.DataFrame(shap_values2[0])\n",
    "shap_values2.columns=NCtrain.iloc[:,1:-1].columns\n",
    "\n",
    "mean2=shap_values2[shap_values2!=0].mean()              #mean of shap values for each feature (non-zeros only\n",
    "\n",
    "std2=shap_values2[shap_values2!=0].std()                #standard deviation of shap values for each feature\n",
    "\n",
    "featuresshap['bg1mean']=mean2                           #bg1: ones set as background data\n",
    "\n",
    "featuresshap['bg1std']=std2\n",
    "\n",
    "featuresshap['bg1absmean']=abs(mean2)"
   ]
  },
  {
   "cell_type": "code",
   "execution_count": null,
   "metadata": {},
   "outputs": [],
   "source": [
    "featuresshap\n",
    "\n",
    "\n",
    "\n",
    "\n",
    "\n",
    "\n",
    "\n",
    "\n",
    "\n",
    "\n",
    "\n"
   ]
  }
 ],
 "metadata": {
  "kernelspec": {
   "display_name": "Python 3",
   "language": "python",
   "name": "python3"
  },
  "language_info": {
   "codemirror_mode": {
    "name": "ipython",
    "version": 3
   },
   "file_extension": ".py",
   "mimetype": "text/x-python",
   "name": "python",
   "nbconvert_exporter": "python",
   "pygments_lexer": "ipython3",
   "version": "3.7.1"
  }
 },
 "nbformat": 4,
 "nbformat_minor": 2
}
