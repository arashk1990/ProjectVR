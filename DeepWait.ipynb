{
 "cells": [
  {
   "cell_type": "code",
   "execution_count": 73,
   "metadata": {},
   "outputs": [],
   "source": [
    "import sys,os\n",
    "\n",
    "sys.path.append('/home/arash/VRdataCleaning/DeepSurv/')\n",
    "\n",
    "import importlib\n",
    "import deepsurv\n",
    "from statsmodels.stats.outliers_influence import variance_inflation_factor    \n",
    "import argparse\n",
    "import uuid\n",
    "import pickle\n",
    "import json\n",
    "\n",
    "import numpy as np\n",
    "import lasagne\n",
    "import optunity\n",
    "\n",
    "import logging\n",
    "from logging import handlers\n",
    "\n",
    "\n",
    "importlib.reload(deepsurv)\n",
    "\n",
    "from deepsurv import deep_surv, utils, viz\n",
    "\n",
    "from deepsurv.deepsurv_logger import DeepSurvLogger, TensorboardLogger\n",
    "\n",
    "\n",
    "\n",
    "import pandas as pd\n",
    "\n",
    "import matplotlib\n",
    "import matplotlib.pyplot as plt\n",
    "%matplotlib inline"
   ]
  },
  {
   "cell_type": "code",
   "execution_count": 74,
   "metadata": {},
   "outputs": [],
   "source": [
    "data = pd.read_pickle('ALLDATA.pkl')\n",
    "data=data.loc[-data['Wait Time (s)'].isin(['Err1','Err2','Err3','Err4','Err5'])]\n",
    "data=data.loc[data['Age_9-12'].isin([0,1])]\n",
    "\n",
    "\n",
    "data=data.loc[:,['Wait Time (s)','Speed Limit', 'Lane Width', 'Minimum Gap', 'Mean Arrival Rate', 'AV', \n",
    "                   'Full Braking Before Impact_-1.0', 'Full Braking Before Impact_1', \n",
    "                   'Full Braking Before Impact_2', 'Full Braking Before Impact_3', 'Snowy',\n",
    "                   'One way', 'two way', 'Two way with median', 'Night', 'numcars', \n",
    "                    'Age_9-12', 'Age_15-18', 'Age_12-15', 'Age_18 - 24', 'Age_25 - 29', 'Age_30 - 39', 'Age_40 - 49', 'Age_50 - 59', 'Age_60+', 'Gender_Female', 'Occupation_Employed', 'Occupation_Student', 'Occupation_Unemployed', \n",
    "                   'Occupation_kid', 'Education_Bachelors degree', 'Education_College/University student', \n",
    "                   'Education_Doctorate degree', 'Education_High school diploma', 'Education_Masters degree', \n",
    "                   'Education_Professional degree', 'driving license_Yes', 'mode_Bike', 'mode_Car',\n",
    "                   'mode_Public Transit', 'mode_Walking', 'workwalk_No', 'workwalk_Sometimes', 'workwalk_Yes', \n",
    "                   'shopwalk_No', 'shopwalk_Sometimes', 'shopwalk_Yes', 'shopwalk_kid', 'Vrexp_Yes', 'Heart_Currently',\n",
    "                   'Heart_Over the years', 'vision_Currently', \n",
    "                   'vision_Over the years', 'anxiety_Currently', 'anxiety_Over the years', 'Headaches_Currently',\n",
    "                   'Headaches_Over the years', 'dizziness_Over the years']]         #numwalk and VRexpnum removed because of some false inputs in the data should be fixed later\n",
    "\n",
    "\n",
    "data=data.apply(pd.to_numeric, errors='coerce')\n",
    "\n",
    "data['E']=1   #all pedestrians cross, so no right censored data"
   ]
  },
  {
   "cell_type": "code",
   "execution_count": 75,
   "metadata": {},
   "outputs": [],
   "source": [
    "def dataframe_to_deepsurv_ds(df, event_col = 'E', time_col = 'Wait Time (s)'):\n",
    "    # Extract the event and time columns as numpy arrays\n",
    "    e = df[event_col].values.astype(np.int32)\n",
    "    t = df[time_col].values.astype(np.float32)\n",
    "\n",
    "    # Extract the patient's covariates as a numpy array\n",
    "    x_df = df.drop([event_col, time_col], axis = 1)\n",
    "    x = x_df.values.astype(np.float32)\n",
    "    \n",
    "    # Return the deep surv dataframe\n",
    "    return {\n",
    "        'x' : x,\n",
    "        'e' : e,\n",
    "        't' : t\n",
    "    }\n",
    "\n",
    "\n",
    "data = dataframe_to_deepsurv_ds(data, event_col = 'E', time_col= 'Wait Time (s)')"
   ]
  },
  {
   "cell_type": "code",
   "execution_count": 4,
   "metadata": {},
   "outputs": [
    {
     "ename": "ValueError",
     "evalue": "shapes (2463,47) and (10,90) not aligned: 47 (dim 1) != 10 (dim 0)\nApply node that caused the error: dot(x, W)\nToposort index: 13\nInputs types: [TensorType(float32, matrix), TensorType(float64, matrix)]\nInputs shapes: [(2463, 47), (10, 90)]\nInputs strides: [(188, 4), (720, 8)]\nInputs values: ['not shown', 'not shown']\nOutputs clients: [[Elemwise{Add}[(0, 0)](dot.0, InplaceDimShuffle{x,0}.0)]]\n\nBacktrace when the node is created(use Theano flag traceback.limit=N to make it longer):\n  File \"<ipython-input-4-a1391dd34a76>\", line 41, in <module>\n    metrics = model.train(data, n_epochs=n_epochs, logger=logger, update_fn=update_fn)\n  File \"/home/arash/VRdataCleaning/DeepSurv/deepsurv/deep_surv.py\", line 431, in train\n    update_fn = update_fn, **kwargs\n  File \"/home/arash/VRdataCleaning/DeepSurv/deepsurv/deep_surv.py\", line 263, in _get_train_valid_fn\n    learning_rate=learning_rate, **kwargs\n  File \"/home/arash/VRdataCleaning/DeepSurv/deepsurv/deep_surv.py\", line 210, in _get_loss_updates\n    + regularize_layer_params(self.network, l2) * L2_reg\n  File \"/home/arash/VRdataCleaning/DeepSurv/deepsurv/deep_surv.py\", line 171, in _negative_log_likelihood\n    risk = self.risk(deterministic)\n  File \"/home/arash/VRdataCleaning/DeepSurv/deepsurv/deep_surv.py\", line 578, in risk\n    deterministic = deterministic)\n  File \"/home/arash/anaconda3/envs/py3.6/lib/python3.6/site-packages/lasagne/layers/helper.py\", line 197, in get_output\n    all_outputs[layer] = layer.get_output_for(layer_inputs, **kwargs)\n  File \"/home/arash/anaconda3/envs/py3.6/lib/python3.6/site-packages/lasagne/layers/dense.py\", line 121, in get_output_for\n    activation = T.dot(input, self.W)\n\nHINT: Use the Theano flag 'exception_verbosity=high' for a debugprint and storage map footprint of this apply node.",
     "output_type": "error",
     "traceback": [
      "\u001b[0;31m---------------------------------------------------------------------------\u001b[0m",
      "\u001b[0;31mValueError\u001b[0m                                Traceback (most recent call last)",
      "\u001b[0;32m~/anaconda3/envs/py3.6/lib/python3.6/site-packages/theano/compile/function_module.py\u001b[0m in \u001b[0;36m__call__\u001b[0;34m(self, *args, **kwargs)\u001b[0m\n\u001b[1;32m    902\u001b[0m             \u001b[0moutputs\u001b[0m \u001b[0;34m=\u001b[0m\u001b[0;31m\\\u001b[0m\u001b[0;34m\u001b[0m\u001b[0;34m\u001b[0m\u001b[0m\n\u001b[0;32m--> 903\u001b[0;31m                 \u001b[0mself\u001b[0m\u001b[0;34m.\u001b[0m\u001b[0mfn\u001b[0m\u001b[0;34m(\u001b[0m\u001b[0;34m)\u001b[0m \u001b[0;32mif\u001b[0m \u001b[0moutput_subset\u001b[0m \u001b[0;32mis\u001b[0m \u001b[0;32mNone\u001b[0m \u001b[0;32melse\u001b[0m\u001b[0;31m\\\u001b[0m\u001b[0;34m\u001b[0m\u001b[0;34m\u001b[0m\u001b[0m\n\u001b[0m\u001b[1;32m    904\u001b[0m                 \u001b[0mself\u001b[0m\u001b[0;34m.\u001b[0m\u001b[0mfn\u001b[0m\u001b[0;34m(\u001b[0m\u001b[0moutput_subset\u001b[0m\u001b[0;34m=\u001b[0m\u001b[0moutput_subset\u001b[0m\u001b[0;34m)\u001b[0m\u001b[0;34m\u001b[0m\u001b[0;34m\u001b[0m\u001b[0m\n",
      "\u001b[0;32m~/anaconda3/envs/py3.6/lib/python3.6/site-packages/theano/gof/op.py\u001b[0m in \u001b[0;36mrval\u001b[0;34m(p, i, o, n)\u001b[0m\n\u001b[1;32m    891\u001b[0m             \u001b[0;32mdef\u001b[0m \u001b[0mrval\u001b[0m\u001b[0;34m(\u001b[0m\u001b[0mp\u001b[0m\u001b[0;34m=\u001b[0m\u001b[0mp\u001b[0m\u001b[0;34m,\u001b[0m \u001b[0mi\u001b[0m\u001b[0;34m=\u001b[0m\u001b[0mnode_input_storage\u001b[0m\u001b[0;34m,\u001b[0m \u001b[0mo\u001b[0m\u001b[0;34m=\u001b[0m\u001b[0mnode_output_storage\u001b[0m\u001b[0;34m,\u001b[0m \u001b[0mn\u001b[0m\u001b[0;34m=\u001b[0m\u001b[0mnode\u001b[0m\u001b[0;34m)\u001b[0m\u001b[0;34m:\u001b[0m\u001b[0;34m\u001b[0m\u001b[0;34m\u001b[0m\u001b[0m\n\u001b[0;32m--> 892\u001b[0;31m                 \u001b[0mr\u001b[0m \u001b[0;34m=\u001b[0m \u001b[0mp\u001b[0m\u001b[0;34m(\u001b[0m\u001b[0mn\u001b[0m\u001b[0;34m,\u001b[0m \u001b[0;34m[\u001b[0m\u001b[0mx\u001b[0m\u001b[0;34m[\u001b[0m\u001b[0;36m0\u001b[0m\u001b[0;34m]\u001b[0m \u001b[0;32mfor\u001b[0m \u001b[0mx\u001b[0m \u001b[0;32min\u001b[0m \u001b[0mi\u001b[0m\u001b[0;34m]\u001b[0m\u001b[0;34m,\u001b[0m \u001b[0mo\u001b[0m\u001b[0;34m)\u001b[0m\u001b[0;34m\u001b[0m\u001b[0;34m\u001b[0m\u001b[0m\n\u001b[0m\u001b[1;32m    893\u001b[0m                 \u001b[0;32mfor\u001b[0m \u001b[0mo\u001b[0m \u001b[0;32min\u001b[0m \u001b[0mnode\u001b[0m\u001b[0;34m.\u001b[0m\u001b[0moutputs\u001b[0m\u001b[0;34m:\u001b[0m\u001b[0;34m\u001b[0m\u001b[0;34m\u001b[0m\u001b[0m\n",
      "\u001b[0;32m~/anaconda3/envs/py3.6/lib/python3.6/site-packages/theano/tensor/basic.py\u001b[0m in \u001b[0;36mperform\u001b[0;34m(self, node, inp, out)\u001b[0m\n\u001b[1;32m   5969\u001b[0m         \u001b[0;31m# ndarray\u001b[0m\u001b[0;34m\u001b[0m\u001b[0;34m\u001b[0m\u001b[0;34m\u001b[0m\u001b[0m\n\u001b[0;32m-> 5970\u001b[0;31m         \u001b[0mz\u001b[0m\u001b[0;34m[\u001b[0m\u001b[0;36m0\u001b[0m\u001b[0;34m]\u001b[0m \u001b[0;34m=\u001b[0m \u001b[0mnp\u001b[0m\u001b[0;34m.\u001b[0m\u001b[0masarray\u001b[0m\u001b[0;34m(\u001b[0m\u001b[0mnp\u001b[0m\u001b[0;34m.\u001b[0m\u001b[0mdot\u001b[0m\u001b[0;34m(\u001b[0m\u001b[0mx\u001b[0m\u001b[0;34m,\u001b[0m \u001b[0my\u001b[0m\u001b[0;34m)\u001b[0m\u001b[0;34m)\u001b[0m\u001b[0;34m\u001b[0m\u001b[0;34m\u001b[0m\u001b[0m\n\u001b[0m\u001b[1;32m   5971\u001b[0m \u001b[0;34m\u001b[0m\u001b[0m\n",
      "\u001b[0;31mValueError\u001b[0m: shapes (2463,47) and (10,90) not aligned: 47 (dim 1) != 10 (dim 0)",
      "\nDuring handling of the above exception, another exception occurred:\n",
      "\u001b[0;31mValueError\u001b[0m                                Traceback (most recent call last)",
      "\u001b[0;32m<ipython-input-4-a1391dd34a76>\u001b[0m in \u001b[0;36m<module>\u001b[0;34m\u001b[0m\n\u001b[1;32m     39\u001b[0m \u001b[0;34m\u001b[0m\u001b[0m\n\u001b[1;32m     40\u001b[0m \u001b[0;31m# If you have validation data, you can add it as the second parameter to the function\u001b[0m\u001b[0;34m\u001b[0m\u001b[0;34m\u001b[0m\u001b[0;34m\u001b[0m\u001b[0m\n\u001b[0;32m---> 41\u001b[0;31m \u001b[0mmetrics\u001b[0m \u001b[0;34m=\u001b[0m \u001b[0mmodel\u001b[0m\u001b[0;34m.\u001b[0m\u001b[0mtrain\u001b[0m\u001b[0;34m(\u001b[0m\u001b[0mdata\u001b[0m\u001b[0;34m,\u001b[0m \u001b[0mn_epochs\u001b[0m\u001b[0;34m=\u001b[0m\u001b[0mn_epochs\u001b[0m\u001b[0;34m,\u001b[0m \u001b[0mlogger\u001b[0m\u001b[0;34m=\u001b[0m\u001b[0mlogger\u001b[0m\u001b[0;34m,\u001b[0m \u001b[0mupdate_fn\u001b[0m\u001b[0;34m=\u001b[0m\u001b[0mupdate_fn\u001b[0m\u001b[0;34m)\u001b[0m\u001b[0;34m\u001b[0m\u001b[0;34m\u001b[0m\u001b[0m\n\u001b[0m\u001b[1;32m     42\u001b[0m \u001b[0;34m\u001b[0m\u001b[0m\n\u001b[1;32m     43\u001b[0m \u001b[0;31m# Print the final metrics\u001b[0m\u001b[0;34m\u001b[0m\u001b[0;34m\u001b[0m\u001b[0;34m\u001b[0m\u001b[0m\n",
      "\u001b[0;32m~/VRdataCleaning/DeepSurv/deepsurv/deep_surv.py\u001b[0m in \u001b[0;36mtrain\u001b[0;34m(self, train_data, valid_data, n_epochs, validation_frequency, patience, improvement_threshold, patience_increase, logger, update_fn, verbose, **kwargs)\u001b[0m\n\u001b[1;32m    441\u001b[0m                 \u001b[0mmomentum\u001b[0m \u001b[0;34m=\u001b[0m \u001b[0mself\u001b[0m\u001b[0;34m.\u001b[0m\u001b[0mmomentum\u001b[0m\u001b[0;34m\u001b[0m\u001b[0;34m\u001b[0m\u001b[0m\n\u001b[1;32m    442\u001b[0m \u001b[0;34m\u001b[0m\u001b[0m\n\u001b[0;32m--> 443\u001b[0;31m             \u001b[0mloss\u001b[0m \u001b[0;34m=\u001b[0m \u001b[0mtrain_fn\u001b[0m\u001b[0;34m(\u001b[0m\u001b[0mx_train\u001b[0m\u001b[0;34m,\u001b[0m \u001b[0me_train\u001b[0m\u001b[0;34m)\u001b[0m\u001b[0;34m\u001b[0m\u001b[0;34m\u001b[0m\u001b[0m\n\u001b[0m\u001b[1;32m    444\u001b[0m \u001b[0;34m\u001b[0m\u001b[0m\n\u001b[1;32m    445\u001b[0m             \u001b[0mlogger\u001b[0m\u001b[0;34m.\u001b[0m\u001b[0mlogValue\u001b[0m\u001b[0;34m(\u001b[0m\u001b[0;34m'loss'\u001b[0m\u001b[0;34m,\u001b[0m \u001b[0mloss\u001b[0m\u001b[0;34m,\u001b[0m \u001b[0mepoch\u001b[0m\u001b[0;34m)\u001b[0m\u001b[0;34m\u001b[0m\u001b[0;34m\u001b[0m\u001b[0m\n",
      "\u001b[0;32m~/anaconda3/envs/py3.6/lib/python3.6/site-packages/theano/compile/function_module.py\u001b[0m in \u001b[0;36m__call__\u001b[0;34m(self, *args, **kwargs)\u001b[0m\n\u001b[1;32m    915\u001b[0m                     \u001b[0mnode\u001b[0m\u001b[0;34m=\u001b[0m\u001b[0mself\u001b[0m\u001b[0;34m.\u001b[0m\u001b[0mfn\u001b[0m\u001b[0;34m.\u001b[0m\u001b[0mnodes\u001b[0m\u001b[0;34m[\u001b[0m\u001b[0mself\u001b[0m\u001b[0;34m.\u001b[0m\u001b[0mfn\u001b[0m\u001b[0;34m.\u001b[0m\u001b[0mposition_of_error\u001b[0m\u001b[0;34m]\u001b[0m\u001b[0;34m,\u001b[0m\u001b[0;34m\u001b[0m\u001b[0;34m\u001b[0m\u001b[0m\n\u001b[1;32m    916\u001b[0m                     \u001b[0mthunk\u001b[0m\u001b[0;34m=\u001b[0m\u001b[0mthunk\u001b[0m\u001b[0;34m,\u001b[0m\u001b[0;34m\u001b[0m\u001b[0;34m\u001b[0m\u001b[0m\n\u001b[0;32m--> 917\u001b[0;31m                     storage_map=getattr(self.fn, 'storage_map', None))\n\u001b[0m\u001b[1;32m    918\u001b[0m             \u001b[0;32melse\u001b[0m\u001b[0;34m:\u001b[0m\u001b[0;34m\u001b[0m\u001b[0;34m\u001b[0m\u001b[0m\n\u001b[1;32m    919\u001b[0m                 \u001b[0;31m# old-style linkers raise their own exceptions\u001b[0m\u001b[0;34m\u001b[0m\u001b[0;34m\u001b[0m\u001b[0;34m\u001b[0m\u001b[0m\n",
      "\u001b[0;32m~/anaconda3/envs/py3.6/lib/python3.6/site-packages/theano/gof/link.py\u001b[0m in \u001b[0;36mraise_with_op\u001b[0;34m(node, thunk, exc_info, storage_map)\u001b[0m\n\u001b[1;32m    323\u001b[0m         \u001b[0;31m# extra long error message in that case.\u001b[0m\u001b[0;34m\u001b[0m\u001b[0;34m\u001b[0m\u001b[0;34m\u001b[0m\u001b[0m\n\u001b[1;32m    324\u001b[0m         \u001b[0;32mpass\u001b[0m\u001b[0;34m\u001b[0m\u001b[0;34m\u001b[0m\u001b[0m\n\u001b[0;32m--> 325\u001b[0;31m     \u001b[0mreraise\u001b[0m\u001b[0;34m(\u001b[0m\u001b[0mexc_type\u001b[0m\u001b[0;34m,\u001b[0m \u001b[0mexc_value\u001b[0m\u001b[0;34m,\u001b[0m \u001b[0mexc_trace\u001b[0m\u001b[0;34m)\u001b[0m\u001b[0;34m\u001b[0m\u001b[0;34m\u001b[0m\u001b[0m\n\u001b[0m\u001b[1;32m    326\u001b[0m \u001b[0;34m\u001b[0m\u001b[0m\n\u001b[1;32m    327\u001b[0m \u001b[0;34m\u001b[0m\u001b[0m\n",
      "\u001b[0;32m~/anaconda3/envs/py3.6/lib/python3.6/site-packages/six.py\u001b[0m in \u001b[0;36mreraise\u001b[0;34m(tp, value, tb)\u001b[0m\n\u001b[1;32m    690\u001b[0m                 \u001b[0mvalue\u001b[0m \u001b[0;34m=\u001b[0m \u001b[0mtp\u001b[0m\u001b[0;34m(\u001b[0m\u001b[0;34m)\u001b[0m\u001b[0;34m\u001b[0m\u001b[0;34m\u001b[0m\u001b[0m\n\u001b[1;32m    691\u001b[0m             \u001b[0;32mif\u001b[0m \u001b[0mvalue\u001b[0m\u001b[0;34m.\u001b[0m\u001b[0m__traceback__\u001b[0m \u001b[0;32mis\u001b[0m \u001b[0;32mnot\u001b[0m \u001b[0mtb\u001b[0m\u001b[0;34m:\u001b[0m\u001b[0;34m\u001b[0m\u001b[0;34m\u001b[0m\u001b[0m\n\u001b[0;32m--> 692\u001b[0;31m                 \u001b[0;32mraise\u001b[0m \u001b[0mvalue\u001b[0m\u001b[0;34m.\u001b[0m\u001b[0mwith_traceback\u001b[0m\u001b[0;34m(\u001b[0m\u001b[0mtb\u001b[0m\u001b[0;34m)\u001b[0m\u001b[0;34m\u001b[0m\u001b[0;34m\u001b[0m\u001b[0m\n\u001b[0m\u001b[1;32m    693\u001b[0m             \u001b[0;32mraise\u001b[0m \u001b[0mvalue\u001b[0m\u001b[0;34m\u001b[0m\u001b[0;34m\u001b[0m\u001b[0m\n\u001b[1;32m    694\u001b[0m         \u001b[0;32mfinally\u001b[0m\u001b[0;34m:\u001b[0m\u001b[0;34m\u001b[0m\u001b[0;34m\u001b[0m\u001b[0m\n",
      "\u001b[0;32m~/anaconda3/envs/py3.6/lib/python3.6/site-packages/theano/compile/function_module.py\u001b[0m in \u001b[0;36m__call__\u001b[0;34m(self, *args, **kwargs)\u001b[0m\n\u001b[1;32m    901\u001b[0m         \u001b[0;32mtry\u001b[0m\u001b[0;34m:\u001b[0m\u001b[0;34m\u001b[0m\u001b[0;34m\u001b[0m\u001b[0m\n\u001b[1;32m    902\u001b[0m             \u001b[0moutputs\u001b[0m \u001b[0;34m=\u001b[0m\u001b[0;31m\\\u001b[0m\u001b[0;34m\u001b[0m\u001b[0;34m\u001b[0m\u001b[0m\n\u001b[0;32m--> 903\u001b[0;31m                 \u001b[0mself\u001b[0m\u001b[0;34m.\u001b[0m\u001b[0mfn\u001b[0m\u001b[0;34m(\u001b[0m\u001b[0;34m)\u001b[0m \u001b[0;32mif\u001b[0m \u001b[0moutput_subset\u001b[0m \u001b[0;32mis\u001b[0m \u001b[0;32mNone\u001b[0m \u001b[0;32melse\u001b[0m\u001b[0;31m\\\u001b[0m\u001b[0;34m\u001b[0m\u001b[0;34m\u001b[0m\u001b[0m\n\u001b[0m\u001b[1;32m    904\u001b[0m                 \u001b[0mself\u001b[0m\u001b[0;34m.\u001b[0m\u001b[0mfn\u001b[0m\u001b[0;34m(\u001b[0m\u001b[0moutput_subset\u001b[0m\u001b[0;34m=\u001b[0m\u001b[0moutput_subset\u001b[0m\u001b[0;34m)\u001b[0m\u001b[0;34m\u001b[0m\u001b[0;34m\u001b[0m\u001b[0m\n\u001b[1;32m    905\u001b[0m         \u001b[0;32mexcept\u001b[0m \u001b[0mException\u001b[0m\u001b[0;34m:\u001b[0m\u001b[0;34m\u001b[0m\u001b[0;34m\u001b[0m\u001b[0m\n",
      "\u001b[0;32m~/anaconda3/envs/py3.6/lib/python3.6/site-packages/theano/gof/op.py\u001b[0m in \u001b[0;36mrval\u001b[0;34m(p, i, o, n)\u001b[0m\n\u001b[1;32m    890\u001b[0m             \u001b[0;31m# default arguments are stored in the closure of `rval`\u001b[0m\u001b[0;34m\u001b[0m\u001b[0;34m\u001b[0m\u001b[0;34m\u001b[0m\u001b[0m\n\u001b[1;32m    891\u001b[0m             \u001b[0;32mdef\u001b[0m \u001b[0mrval\u001b[0m\u001b[0;34m(\u001b[0m\u001b[0mp\u001b[0m\u001b[0;34m=\u001b[0m\u001b[0mp\u001b[0m\u001b[0;34m,\u001b[0m \u001b[0mi\u001b[0m\u001b[0;34m=\u001b[0m\u001b[0mnode_input_storage\u001b[0m\u001b[0;34m,\u001b[0m \u001b[0mo\u001b[0m\u001b[0;34m=\u001b[0m\u001b[0mnode_output_storage\u001b[0m\u001b[0;34m,\u001b[0m \u001b[0mn\u001b[0m\u001b[0;34m=\u001b[0m\u001b[0mnode\u001b[0m\u001b[0;34m)\u001b[0m\u001b[0;34m:\u001b[0m\u001b[0;34m\u001b[0m\u001b[0;34m\u001b[0m\u001b[0m\n\u001b[0;32m--> 892\u001b[0;31m                 \u001b[0mr\u001b[0m \u001b[0;34m=\u001b[0m \u001b[0mp\u001b[0m\u001b[0;34m(\u001b[0m\u001b[0mn\u001b[0m\u001b[0;34m,\u001b[0m \u001b[0;34m[\u001b[0m\u001b[0mx\u001b[0m\u001b[0;34m[\u001b[0m\u001b[0;36m0\u001b[0m\u001b[0;34m]\u001b[0m \u001b[0;32mfor\u001b[0m \u001b[0mx\u001b[0m \u001b[0;32min\u001b[0m \u001b[0mi\u001b[0m\u001b[0;34m]\u001b[0m\u001b[0;34m,\u001b[0m \u001b[0mo\u001b[0m\u001b[0;34m)\u001b[0m\u001b[0;34m\u001b[0m\u001b[0;34m\u001b[0m\u001b[0m\n\u001b[0m\u001b[1;32m    893\u001b[0m                 \u001b[0;32mfor\u001b[0m \u001b[0mo\u001b[0m \u001b[0;32min\u001b[0m \u001b[0mnode\u001b[0m\u001b[0;34m.\u001b[0m\u001b[0moutputs\u001b[0m\u001b[0;34m:\u001b[0m\u001b[0;34m\u001b[0m\u001b[0;34m\u001b[0m\u001b[0m\n\u001b[1;32m    894\u001b[0m                     \u001b[0mcompute_map\u001b[0m\u001b[0;34m[\u001b[0m\u001b[0mo\u001b[0m\u001b[0;34m]\u001b[0m\u001b[0;34m[\u001b[0m\u001b[0;36m0\u001b[0m\u001b[0;34m]\u001b[0m \u001b[0;34m=\u001b[0m \u001b[0;32mTrue\u001b[0m\u001b[0;34m\u001b[0m\u001b[0;34m\u001b[0m\u001b[0m\n",
      "\u001b[0;32m~/anaconda3/envs/py3.6/lib/python3.6/site-packages/theano/tensor/basic.py\u001b[0m in \u001b[0;36mperform\u001b[0;34m(self, node, inp, out)\u001b[0m\n\u001b[1;32m   5968\u001b[0m         \u001b[0;31m# gives a numpy float object but we need to return a 0d\u001b[0m\u001b[0;34m\u001b[0m\u001b[0;34m\u001b[0m\u001b[0;34m\u001b[0m\u001b[0m\n\u001b[1;32m   5969\u001b[0m         \u001b[0;31m# ndarray\u001b[0m\u001b[0;34m\u001b[0m\u001b[0;34m\u001b[0m\u001b[0;34m\u001b[0m\u001b[0m\n\u001b[0;32m-> 5970\u001b[0;31m         \u001b[0mz\u001b[0m\u001b[0;34m[\u001b[0m\u001b[0;36m0\u001b[0m\u001b[0;34m]\u001b[0m \u001b[0;34m=\u001b[0m \u001b[0mnp\u001b[0m\u001b[0;34m.\u001b[0m\u001b[0masarray\u001b[0m\u001b[0;34m(\u001b[0m\u001b[0mnp\u001b[0m\u001b[0;34m.\u001b[0m\u001b[0mdot\u001b[0m\u001b[0;34m(\u001b[0m\u001b[0mx\u001b[0m\u001b[0;34m,\u001b[0m \u001b[0my\u001b[0m\u001b[0;34m)\u001b[0m\u001b[0;34m)\u001b[0m\u001b[0;34m\u001b[0m\u001b[0;34m\u001b[0m\u001b[0m\n\u001b[0m\u001b[1;32m   5971\u001b[0m \u001b[0;34m\u001b[0m\u001b[0m\n\u001b[1;32m   5972\u001b[0m     \u001b[0;32mdef\u001b[0m \u001b[0mgrad\u001b[0m\u001b[0;34m(\u001b[0m\u001b[0mself\u001b[0m\u001b[0;34m,\u001b[0m \u001b[0minp\u001b[0m\u001b[0;34m,\u001b[0m \u001b[0mgrads\u001b[0m\u001b[0;34m)\u001b[0m\u001b[0;34m:\u001b[0m\u001b[0;34m\u001b[0m\u001b[0;34m\u001b[0m\u001b[0m\n",
      "\u001b[0;31mValueError\u001b[0m: shapes (2463,47) and (10,90) not aligned: 47 (dim 1) != 10 (dim 0)\nApply node that caused the error: dot(x, W)\nToposort index: 13\nInputs types: [TensorType(float32, matrix), TensorType(float64, matrix)]\nInputs shapes: [(2463, 47), (10, 90)]\nInputs strides: [(188, 4), (720, 8)]\nInputs values: ['not shown', 'not shown']\nOutputs clients: [[Elemwise{Add}[(0, 0)](dot.0, InplaceDimShuffle{x,0}.0)]]\n\nBacktrace when the node is created(use Theano flag traceback.limit=N to make it longer):\n  File \"<ipython-input-4-a1391dd34a76>\", line 41, in <module>\n    metrics = model.train(data, n_epochs=n_epochs, logger=logger, update_fn=update_fn)\n  File \"/home/arash/VRdataCleaning/DeepSurv/deepsurv/deep_surv.py\", line 431, in train\n    update_fn = update_fn, **kwargs\n  File \"/home/arash/VRdataCleaning/DeepSurv/deepsurv/deep_surv.py\", line 263, in _get_train_valid_fn\n    learning_rate=learning_rate, **kwargs\n  File \"/home/arash/VRdataCleaning/DeepSurv/deepsurv/deep_surv.py\", line 210, in _get_loss_updates\n    + regularize_layer_params(self.network, l2) * L2_reg\n  File \"/home/arash/VRdataCleaning/DeepSurv/deepsurv/deep_surv.py\", line 171, in _negative_log_likelihood\n    risk = self.risk(deterministic)\n  File \"/home/arash/VRdataCleaning/DeepSurv/deepsurv/deep_surv.py\", line 578, in risk\n    deterministic = deterministic)\n  File \"/home/arash/anaconda3/envs/py3.6/lib/python3.6/site-packages/lasagne/layers/helper.py\", line 197, in get_output\n    all_outputs[layer] = layer.get_output_for(layer_inputs, **kwargs)\n  File \"/home/arash/anaconda3/envs/py3.6/lib/python3.6/site-packages/lasagne/layers/dense.py\", line 121, in get_output_for\n    activation = T.dot(input, self.W)\n\nHINT: Use the Theano flag 'exception_verbosity=high' for a debugprint and storage map footprint of this apply node."
     ]
    }
   ],
   "source": [
    "\n",
    "\n",
    "\n",
    "\n",
    "\n",
    "\n",
    "\n",
    "\n",
    "\n",
    "\n",
    "\n",
    "#Model with specific hyper parameters  #deepsurv needs to be fixed before use\n",
    "hyperparams = {\n",
    "    'L2_reg': 3.0,\n",
    "    'batch_norm': False,\n",
    "    'dropout': 0.02,\n",
    "    'hidden_layers_sizes': [90,90,90],\n",
    "    'learning_rate': 1e-05,\n",
    "    'lr_decay': 0.001,\n",
    "    'momentum': 0.9,\n",
    "    'n_in': 10,\n",
    "    'standardize': True\n",
    "}\n",
    "\n",
    "# Create an instance of DeepSurv using the hyperparams defined above\n",
    "model = deep_surv.DeepSurv(**hyperparams)\n",
    "\n",
    "\n",
    "\n",
    "experiment_name = 'Wait Time analysis'\n",
    "logdir = './logs/tensorboard/'\n",
    "logger = TensorboardLogger(experiment_name, logdir=logdir)\n",
    "\n",
    "# Now we train the model\n",
    "update_fn=lasagne.updates.nesterov_momentum # The type of optimizer to use. \\\n",
    "                                            # Check out http://lasagne.readthedocs.io/en/latest/modules/updates.html \\\n",
    "                                            # for other optimizers to use\n",
    "n_epochs = 2000\n",
    "\n",
    "# If you have validation data, you can add it as the second parameter to the function\n",
    "metrics = model.train(data, n_epochs=n_epochs, logger=logger, update_fn=update_fn)\n",
    "\n",
    "# Print the final metrics\n",
    "print('Train C-Index:', metrics['c-index'][-1])\n",
    "# print('Valid C-Index: ',metrics['valid_c-index'][-1])\n",
    "\n",
    "# Plot the training / validation curves\n",
    "viz.plot_log(metrics)\n",
    "\n",
    "\n",
    "\n",
    "\n"
   ]
  },
  {
   "cell_type": "code",
   "execution_count": 76,
   "metadata": {},
   "outputs": [],
   "source": [
    "def load_logger(logdir):\n",
    "    logger = logging.getLogger(__name__)\n",
    "    logger.setLevel(logging.DEBUG)\n",
    "    format = logging.Formatter(\"%(asctime)s - %(name)s - %(levelname)s - %(message)s\")\n",
    "    \n",
    "    # Print to Stdout\n",
    "    ch = logging.StreamHandler(sys.stdout)\n",
    "    ch.setFormatter(format)\n",
    "    logger.addHandler(ch)\n",
    "\n",
    "    # Print to Log file\n",
    "    fh = logging.FileHandler(os.path.join(logdir, 'log_' + str(uuid.uuid4())))\n",
    "    fh.setFormatter(format)\n",
    "    logger.addHandler(fh)\n",
    "\n",
    "    return logger\n",
    "\n",
    "def load_box_constraints(file):\n",
    "    with open(file, 'rb') as fp:\n",
    "        return json.loads(fp.read())\n",
    "\n",
    "def save_call_log(file, call_log):\n",
    "    with open(file, 'wb') as fp:\n",
    "        pickle.dump(call_log, fp)"
   ]
  },
  {
   "cell_type": "code",
   "execution_count": 87,
   "metadata": {},
   "outputs": [],
   "source": [
    "def get_objective_function(num_epochs, logdir, update_fn = lasagne.updates.sgd):\n",
    "    '''\n",
    "    Returns the function for Optunity to optimize. The function returned by get_objective_function\n",
    "    takes the parameters: x_train, y_train, x_test, and y_test, and any additional kwargs to \n",
    "    use as hyper-parameters.\n",
    "\n",
    "    The objective function runs a DeepSurv model on the training data and evaluates it against the\n",
    "    test set for validation. The result of the function call is the validation concordance index \n",
    "    (which Optunity tries to optimize)\n",
    "    '''\n",
    "    def format_to_deepsurv(x, y):\n",
    "        return {\n",
    "            'x': x,\n",
    "            'e': y[:,0].astype(np.int32),\n",
    "            't': y[:,1].astype(np.float32)\n",
    "        }\n",
    "\n",
    "    def get_hyperparams(params):\n",
    "        hyperparams = {\n",
    "            'batch_norm': False,\n",
    "            'activation': 'rectify',\n",
    "            'standardize': True\n",
    "        }\n",
    "        # @TODO add default parameters and only take necessary args from params\n",
    "        # protect from params including some other key\n",
    "\n",
    "        if 'num_layers' in params and 'num_nodes' in params:\n",
    "            params['hidden_layers_sizes'] = [int(params['num_nodes'])] * int(params['num_layers'])\n",
    "            del params['num_layers']\n",
    "            del params['num_nodes']\n",
    "\n",
    "        if 'learning_rate' in params:\n",
    "            params['learning_rate'] = 10 ** params['learning_rate']\n",
    "            \n",
    "        if 'n_in' in params:\n",
    "            params['n_in'] = int(params['n_in'])\n",
    "            \n",
    "\n",
    "        hyperparams.update(params)\n",
    "        return hyperparams\n",
    "\n",
    "    def train_deepsurv(x_train,y_train,x_test,y_test,\n",
    "        **kwargs):\n",
    "        hyperparams = get_hyperparams(kwargs)\n",
    "        n_in=int(hyperparams['n_in'])\n",
    "\n",
    "        #select number of features\n",
    "        ReliefAvg = pd.read_pickle('/home/arash/VRdataCleaning/ReliefAvg.pkl')\n",
    "        x_train=x_train[:,ReliefAvg.sort_values(['Importance'],ascending=False).index[0:n_in]]\n",
    "        x_test=x_test[:,ReliefAvg.sort_values(['Importance'],ascending=False).index[0:n_in]]\n",
    "        \n",
    "\n",
    "\n",
    "\n",
    "        \n",
    "        \n",
    "        # Standardize the datasets\n",
    "        train_mean = x_train.mean(axis = 0)\n",
    "        train_std = x_train.std(axis = 0)\n",
    "\n",
    "        x_train = (x_train - train_mean) / train_std\n",
    "        x_test = (x_test - train_mean) / train_std\n",
    "\n",
    "        train_data = format_to_deepsurv(x_train, y_train)\n",
    "        valid_data = format_to_deepsurv(x_test, y_test)\n",
    "\n",
    "        \n",
    "\n",
    "        # Set up Tensorboard loggers\n",
    "        # TODO improve the model_id for Tensorboard to better partition runs\n",
    "        model_id = str(hash(str(hyperparams)))\n",
    "        run_id = model_id + '_' + str(uuid.uuid4())\n",
    "        logger = TensorboardLogger('hyperparam_search', \n",
    "            os.path.join(logdir,\"tensor_logs\", model_id, run_id))\n",
    "\n",
    "        network = deep_surv.DeepSurv(**hyperparams)\n",
    "        metrics = network.train(train_data, n_epochs = num_epochs, logger=logger, \n",
    "            update_fn = update_fn, verbose = False)\n",
    "\n",
    "        result = network.get_concordance_index(**valid_data)\n",
    "        main_logger.info('Run id: %s | %s | C-Index: %f | Train Loss %f' % (run_id, str(hyperparams), result, metrics['loss'][-1][1]))\n",
    "        return result\n",
    "\n",
    "    return train_deepsurv"
   ]
  },
  {
   "cell_type": "code",
   "execution_count": 88,
   "metadata": {},
   "outputs": [],
   "source": [
    "NUM_EPOCHS = 1000\n",
    "NUM_FOLDS = 10\n",
    "logdir='/home/arash/VRdataCleaning/logs'\n",
    "x = data['x']\n",
    "e = data['e']\n",
    "t = data['t']\n",
    "y = np.column_stack((e, t))\n"
   ]
  },
  {
   "cell_type": "code",
   "execution_count": 89,
   "metadata": {},
   "outputs": [],
   "source": [
    "#    global main_logger\n",
    "main_logger = load_logger(logdir)\n"
   ]
  },
  {
   "cell_type": "code",
   "execution_count": 90,
   "metadata": {},
   "outputs": [],
   "source": [
    "#    main_logger.debug('Loading dataset: ' + args.dataset)\n",
    "box_constraints = load_box_constraints('/home/arash/VRdataCleaning/box_constraints.0.json')\n"
   ]
  },
  {
   "cell_type": "code",
   "execution_count": 91,
   "metadata": {},
   "outputs": [],
   "source": [
    "opt_fxn = get_objective_function(NUM_EPOCHS, logdir, \n",
    "                                 utils.get_optimizer_from_str('adam'))"
   ]
  },
  {
   "cell_type": "code",
   "execution_count": 92,
   "metadata": {},
   "outputs": [],
   "source": [
    "opt_fxn = optunity.cross_validated(x=x, y=y, num_folds=NUM_FOLDS)(opt_fxn)"
   ]
  },
  {
   "cell_type": "code",
   "execution_count": null,
   "metadata": {},
   "outputs": [
    {
     "name": "stdout",
     "output_type": "stream",
     "text": [
      "2019-03-27 14:39:52,856 - __main__ - INFO - Run id: -5505175062005344475_d30405af-c805-4bfb-b3d7-eb81fe9959cf | {'batch_norm': False, 'activation': 'rectify', 'standardize': True, 'lr_decay': 0.00034337890625, 'learning_rate': 4.5914845258188133e-07, 'n_in': 13, 'momentum': 0.9443193359375, 'L2_reg': 3.1662763671875, 'dropout': 0.14447265625, 'hidden_layers_sizes': [57, 57, 57]} | C-Index: 0.475282 | Train Loss 12.300897\n",
      "2019-03-27 14:39:52,856 - __main__ - INFO - Run id: -5505175062005344475_d30405af-c805-4bfb-b3d7-eb81fe9959cf | {'batch_norm': False, 'activation': 'rectify', 'standardize': True, 'lr_decay': 0.00034337890625, 'learning_rate': 4.5914845258188133e-07, 'n_in': 13, 'momentum': 0.9443193359375, 'L2_reg': 3.1662763671875, 'dropout': 0.14447265625, 'hidden_layers_sizes': [57, 57, 57]} | C-Index: 0.475282 | Train Loss 12.300897\n",
      "2019-03-27 14:39:52,856 - __main__ - INFO - Run id: -5505175062005344475_d30405af-c805-4bfb-b3d7-eb81fe9959cf | {'batch_norm': False, 'activation': 'rectify', 'standardize': True, 'lr_decay': 0.00034337890625, 'learning_rate': 4.5914845258188133e-07, 'n_in': 13, 'momentum': 0.9443193359375, 'L2_reg': 3.1662763671875, 'dropout': 0.14447265625, 'hidden_layers_sizes': [57, 57, 57]} | C-Index: 0.475282 | Train Loss 12.300897\n",
      "2019-03-27 14:39:52,856 - __main__ - INFO - Run id: -5505175062005344475_d30405af-c805-4bfb-b3d7-eb81fe9959cf | {'batch_norm': False, 'activation': 'rectify', 'standardize': True, 'lr_decay': 0.00034337890625, 'learning_rate': 4.5914845258188133e-07, 'n_in': 13, 'momentum': 0.9443193359375, 'L2_reg': 3.1662763671875, 'dropout': 0.14447265625, 'hidden_layers_sizes': [57, 57, 57]} | C-Index: 0.475282 | Train Loss 12.300897\n",
      "2019-03-27 14:39:52,856 - __main__ - INFO - Run id: -5505175062005344475_d30405af-c805-4bfb-b3d7-eb81fe9959cf | {'batch_norm': False, 'activation': 'rectify', 'standardize': True, 'lr_decay': 0.00034337890625, 'learning_rate': 4.5914845258188133e-07, 'n_in': 13, 'momentum': 0.9443193359375, 'L2_reg': 3.1662763671875, 'dropout': 0.14447265625, 'hidden_layers_sizes': [57, 57, 57]} | C-Index: 0.475282 | Train Loss 12.300897\n",
      "2019-03-27 14:39:52,856 - __main__ - INFO - Run id: -5505175062005344475_d30405af-c805-4bfb-b3d7-eb81fe9959cf | {'batch_norm': False, 'activation': 'rectify', 'standardize': True, 'lr_decay': 0.00034337890625, 'learning_rate': 4.5914845258188133e-07, 'n_in': 13, 'momentum': 0.9443193359375, 'L2_reg': 3.1662763671875, 'dropout': 0.14447265625, 'hidden_layers_sizes': [57, 57, 57]} | C-Index: 0.475282 | Train Loss 12.300897\n",
      "2019-03-27 14:39:52,856 - __main__ - INFO - Run id: -5505175062005344475_d30405af-c805-4bfb-b3d7-eb81fe9959cf | {'batch_norm': False, 'activation': 'rectify', 'standardize': True, 'lr_decay': 0.00034337890625, 'learning_rate': 4.5914845258188133e-07, 'n_in': 13, 'momentum': 0.9443193359375, 'L2_reg': 3.1662763671875, 'dropout': 0.14447265625, 'hidden_layers_sizes': [57, 57, 57]} | C-Index: 0.475282 | Train Loss 12.300897\n",
      "2019-03-27 14:39:52,856 - __main__ - INFO - Run id: -5505175062005344475_d30405af-c805-4bfb-b3d7-eb81fe9959cf | {'batch_norm': False, 'activation': 'rectify', 'standardize': True, 'lr_decay': 0.00034337890625, 'learning_rate': 4.5914845258188133e-07, 'n_in': 13, 'momentum': 0.9443193359375, 'L2_reg': 3.1662763671875, 'dropout': 0.14447265625, 'hidden_layers_sizes': [57, 57, 57]} | C-Index: 0.475282 | Train Loss 12.300897\n",
      "2019-03-27 14:42:29,071 - __main__ - INFO - Run id: -5505175062005344475_c74b530a-d321-4cd0-9f88-b24fb9b3b0a9 | {'batch_norm': False, 'activation': 'rectify', 'standardize': True, 'lr_decay': 0.00034337890625, 'learning_rate': 4.5914845258188133e-07, 'n_in': 13, 'momentum': 0.9443193359375, 'L2_reg': 3.1662763671875, 'dropout': 0.14447265625, 'hidden_layers_sizes': [57, 57, 57]} | C-Index: 0.466420 | Train Loss 13.299513\n",
      "2019-03-27 14:42:29,071 - __main__ - INFO - Run id: -5505175062005344475_c74b530a-d321-4cd0-9f88-b24fb9b3b0a9 | {'batch_norm': False, 'activation': 'rectify', 'standardize': True, 'lr_decay': 0.00034337890625, 'learning_rate': 4.5914845258188133e-07, 'n_in': 13, 'momentum': 0.9443193359375, 'L2_reg': 3.1662763671875, 'dropout': 0.14447265625, 'hidden_layers_sizes': [57, 57, 57]} | C-Index: 0.466420 | Train Loss 13.299513\n",
      "2019-03-27 14:42:29,071 - __main__ - INFO - Run id: -5505175062005344475_c74b530a-d321-4cd0-9f88-b24fb9b3b0a9 | {'batch_norm': False, 'activation': 'rectify', 'standardize': True, 'lr_decay': 0.00034337890625, 'learning_rate': 4.5914845258188133e-07, 'n_in': 13, 'momentum': 0.9443193359375, 'L2_reg': 3.1662763671875, 'dropout': 0.14447265625, 'hidden_layers_sizes': [57, 57, 57]} | C-Index: 0.466420 | Train Loss 13.299513\n",
      "2019-03-27 14:42:29,071 - __main__ - INFO - Run id: -5505175062005344475_c74b530a-d321-4cd0-9f88-b24fb9b3b0a9 | {'batch_norm': False, 'activation': 'rectify', 'standardize': True, 'lr_decay': 0.00034337890625, 'learning_rate': 4.5914845258188133e-07, 'n_in': 13, 'momentum': 0.9443193359375, 'L2_reg': 3.1662763671875, 'dropout': 0.14447265625, 'hidden_layers_sizes': [57, 57, 57]} | C-Index: 0.466420 | Train Loss 13.299513\n",
      "2019-03-27 14:42:29,071 - __main__ - INFO - Run id: -5505175062005344475_c74b530a-d321-4cd0-9f88-b24fb9b3b0a9 | {'batch_norm': False, 'activation': 'rectify', 'standardize': True, 'lr_decay': 0.00034337890625, 'learning_rate': 4.5914845258188133e-07, 'n_in': 13, 'momentum': 0.9443193359375, 'L2_reg': 3.1662763671875, 'dropout': 0.14447265625, 'hidden_layers_sizes': [57, 57, 57]} | C-Index: 0.466420 | Train Loss 13.299513\n",
      "2019-03-27 14:42:29,071 - __main__ - INFO - Run id: -5505175062005344475_c74b530a-d321-4cd0-9f88-b24fb9b3b0a9 | {'batch_norm': False, 'activation': 'rectify', 'standardize': True, 'lr_decay': 0.00034337890625, 'learning_rate': 4.5914845258188133e-07, 'n_in': 13, 'momentum': 0.9443193359375, 'L2_reg': 3.1662763671875, 'dropout': 0.14447265625, 'hidden_layers_sizes': [57, 57, 57]} | C-Index: 0.466420 | Train Loss 13.299513\n",
      "2019-03-27 14:42:29,071 - __main__ - INFO - Run id: -5505175062005344475_c74b530a-d321-4cd0-9f88-b24fb9b3b0a9 | {'batch_norm': False, 'activation': 'rectify', 'standardize': True, 'lr_decay': 0.00034337890625, 'learning_rate': 4.5914845258188133e-07, 'n_in': 13, 'momentum': 0.9443193359375, 'L2_reg': 3.1662763671875, 'dropout': 0.14447265625, 'hidden_layers_sizes': [57, 57, 57]} | C-Index: 0.466420 | Train Loss 13.299513\n",
      "2019-03-27 14:42:29,071 - __main__ - INFO - Run id: -5505175062005344475_c74b530a-d321-4cd0-9f88-b24fb9b3b0a9 | {'batch_norm': False, 'activation': 'rectify', 'standardize': True, 'lr_decay': 0.00034337890625, 'learning_rate': 4.5914845258188133e-07, 'n_in': 13, 'momentum': 0.9443193359375, 'L2_reg': 3.1662763671875, 'dropout': 0.14447265625, 'hidden_layers_sizes': [57, 57, 57]} | C-Index: 0.466420 | Train Loss 13.299513\n",
      "2019-03-27 14:45:05,189 - __main__ - INFO - Run id: -5505175062005344475_d6906d21-5bc7-437d-a074-4a660c499042 | {'batch_norm': False, 'activation': 'rectify', 'standardize': True, 'lr_decay': 0.00034337890625, 'learning_rate': 4.5914845258188133e-07, 'n_in': 13, 'momentum': 0.9443193359375, 'L2_reg': 3.1662763671875, 'dropout': 0.14447265625, 'hidden_layers_sizes': [57, 57, 57]} | C-Index: 0.500959 | Train Loss 12.242240\n",
      "2019-03-27 14:45:05,189 - __main__ - INFO - Run id: -5505175062005344475_d6906d21-5bc7-437d-a074-4a660c499042 | {'batch_norm': False, 'activation': 'rectify', 'standardize': True, 'lr_decay': 0.00034337890625, 'learning_rate': 4.5914845258188133e-07, 'n_in': 13, 'momentum': 0.9443193359375, 'L2_reg': 3.1662763671875, 'dropout': 0.14447265625, 'hidden_layers_sizes': [57, 57, 57]} | C-Index: 0.500959 | Train Loss 12.242240\n",
      "2019-03-27 14:45:05,189 - __main__ - INFO - Run id: -5505175062005344475_d6906d21-5bc7-437d-a074-4a660c499042 | {'batch_norm': False, 'activation': 'rectify', 'standardize': True, 'lr_decay': 0.00034337890625, 'learning_rate': 4.5914845258188133e-07, 'n_in': 13, 'momentum': 0.9443193359375, 'L2_reg': 3.1662763671875, 'dropout': 0.14447265625, 'hidden_layers_sizes': [57, 57, 57]} | C-Index: 0.500959 | Train Loss 12.242240\n",
      "2019-03-27 14:45:05,189 - __main__ - INFO - Run id: -5505175062005344475_d6906d21-5bc7-437d-a074-4a660c499042 | {'batch_norm': False, 'activation': 'rectify', 'standardize': True, 'lr_decay': 0.00034337890625, 'learning_rate': 4.5914845258188133e-07, 'n_in': 13, 'momentum': 0.9443193359375, 'L2_reg': 3.1662763671875, 'dropout': 0.14447265625, 'hidden_layers_sizes': [57, 57, 57]} | C-Index: 0.500959 | Train Loss 12.242240\n"
     ]
    },
    {
     "name": "stdout",
     "output_type": "stream",
     "text": [
      "2019-03-27 14:45:05,189 - __main__ - INFO - Run id: -5505175062005344475_d6906d21-5bc7-437d-a074-4a660c499042 | {'batch_norm': False, 'activation': 'rectify', 'standardize': True, 'lr_decay': 0.00034337890625, 'learning_rate': 4.5914845258188133e-07, 'n_in': 13, 'momentum': 0.9443193359375, 'L2_reg': 3.1662763671875, 'dropout': 0.14447265625, 'hidden_layers_sizes': [57, 57, 57]} | C-Index: 0.500959 | Train Loss 12.242240\n",
      "2019-03-27 14:45:05,189 - __main__ - INFO - Run id: -5505175062005344475_d6906d21-5bc7-437d-a074-4a660c499042 | {'batch_norm': False, 'activation': 'rectify', 'standardize': True, 'lr_decay': 0.00034337890625, 'learning_rate': 4.5914845258188133e-07, 'n_in': 13, 'momentum': 0.9443193359375, 'L2_reg': 3.1662763671875, 'dropout': 0.14447265625, 'hidden_layers_sizes': [57, 57, 57]} | C-Index: 0.500959 | Train Loss 12.242240\n",
      "2019-03-27 14:45:05,189 - __main__ - INFO - Run id: -5505175062005344475_d6906d21-5bc7-437d-a074-4a660c499042 | {'batch_norm': False, 'activation': 'rectify', 'standardize': True, 'lr_decay': 0.00034337890625, 'learning_rate': 4.5914845258188133e-07, 'n_in': 13, 'momentum': 0.9443193359375, 'L2_reg': 3.1662763671875, 'dropout': 0.14447265625, 'hidden_layers_sizes': [57, 57, 57]} | C-Index: 0.500959 | Train Loss 12.242240\n",
      "2019-03-27 14:45:05,189 - __main__ - INFO - Run id: -5505175062005344475_d6906d21-5bc7-437d-a074-4a660c499042 | {'batch_norm': False, 'activation': 'rectify', 'standardize': True, 'lr_decay': 0.00034337890625, 'learning_rate': 4.5914845258188133e-07, 'n_in': 13, 'momentum': 0.9443193359375, 'L2_reg': 3.1662763671875, 'dropout': 0.14447265625, 'hidden_layers_sizes': [57, 57, 57]} | C-Index: 0.500959 | Train Loss 12.242240\n",
      "2019-03-27 14:47:41,999 - __main__ - INFO - Run id: -5505175062005344475_5adadcd9-cef8-4236-8c98-ddade74f356a | {'batch_norm': False, 'activation': 'rectify', 'standardize': True, 'lr_decay': 0.00034337890625, 'learning_rate': 4.5914845258188133e-07, 'n_in': 13, 'momentum': 0.9443193359375, 'L2_reg': 3.1662763671875, 'dropout': 0.14447265625, 'hidden_layers_sizes': [57, 57, 57]} | C-Index: 0.579760 | Train Loss 12.696228\n",
      "2019-03-27 14:47:41,999 - __main__ - INFO - Run id: -5505175062005344475_5adadcd9-cef8-4236-8c98-ddade74f356a | {'batch_norm': False, 'activation': 'rectify', 'standardize': True, 'lr_decay': 0.00034337890625, 'learning_rate': 4.5914845258188133e-07, 'n_in': 13, 'momentum': 0.9443193359375, 'L2_reg': 3.1662763671875, 'dropout': 0.14447265625, 'hidden_layers_sizes': [57, 57, 57]} | C-Index: 0.579760 | Train Loss 12.696228\n",
      "2019-03-27 14:47:41,999 - __main__ - INFO - Run id: -5505175062005344475_5adadcd9-cef8-4236-8c98-ddade74f356a | {'batch_norm': False, 'activation': 'rectify', 'standardize': True, 'lr_decay': 0.00034337890625, 'learning_rate': 4.5914845258188133e-07, 'n_in': 13, 'momentum': 0.9443193359375, 'L2_reg': 3.1662763671875, 'dropout': 0.14447265625, 'hidden_layers_sizes': [57, 57, 57]} | C-Index: 0.579760 | Train Loss 12.696228\n",
      "2019-03-27 14:47:41,999 - __main__ - INFO - Run id: -5505175062005344475_5adadcd9-cef8-4236-8c98-ddade74f356a | {'batch_norm': False, 'activation': 'rectify', 'standardize': True, 'lr_decay': 0.00034337890625, 'learning_rate': 4.5914845258188133e-07, 'n_in': 13, 'momentum': 0.9443193359375, 'L2_reg': 3.1662763671875, 'dropout': 0.14447265625, 'hidden_layers_sizes': [57, 57, 57]} | C-Index: 0.579760 | Train Loss 12.696228\n",
      "2019-03-27 14:47:41,999 - __main__ - INFO - Run id: -5505175062005344475_5adadcd9-cef8-4236-8c98-ddade74f356a | {'batch_norm': False, 'activation': 'rectify', 'standardize': True, 'lr_decay': 0.00034337890625, 'learning_rate': 4.5914845258188133e-07, 'n_in': 13, 'momentum': 0.9443193359375, 'L2_reg': 3.1662763671875, 'dropout': 0.14447265625, 'hidden_layers_sizes': [57, 57, 57]} | C-Index: 0.579760 | Train Loss 12.696228\n",
      "2019-03-27 14:47:41,999 - __main__ - INFO - Run id: -5505175062005344475_5adadcd9-cef8-4236-8c98-ddade74f356a | {'batch_norm': False, 'activation': 'rectify', 'standardize': True, 'lr_decay': 0.00034337890625, 'learning_rate': 4.5914845258188133e-07, 'n_in': 13, 'momentum': 0.9443193359375, 'L2_reg': 3.1662763671875, 'dropout': 0.14447265625, 'hidden_layers_sizes': [57, 57, 57]} | C-Index: 0.579760 | Train Loss 12.696228\n",
      "2019-03-27 14:47:41,999 - __main__ - INFO - Run id: -5505175062005344475_5adadcd9-cef8-4236-8c98-ddade74f356a | {'batch_norm': False, 'activation': 'rectify', 'standardize': True, 'lr_decay': 0.00034337890625, 'learning_rate': 4.5914845258188133e-07, 'n_in': 13, 'momentum': 0.9443193359375, 'L2_reg': 3.1662763671875, 'dropout': 0.14447265625, 'hidden_layers_sizes': [57, 57, 57]} | C-Index: 0.579760 | Train Loss 12.696228\n",
      "2019-03-27 14:47:41,999 - __main__ - INFO - Run id: -5505175062005344475_5adadcd9-cef8-4236-8c98-ddade74f356a | {'batch_norm': False, 'activation': 'rectify', 'standardize': True, 'lr_decay': 0.00034337890625, 'learning_rate': 4.5914845258188133e-07, 'n_in': 13, 'momentum': 0.9443193359375, 'L2_reg': 3.1662763671875, 'dropout': 0.14447265625, 'hidden_layers_sizes': [57, 57, 57]} | C-Index: 0.579760 | Train Loss 12.696228\n",
      "2019-03-27 14:50:20,851 - __main__ - INFO - Run id: -5505175062005344475_c43c4f1b-296f-41fb-b9ec-ba260f7cb51e | {'batch_norm': False, 'activation': 'rectify', 'standardize': True, 'lr_decay': 0.00034337890625, 'learning_rate': 4.5914845258188133e-07, 'n_in': 13, 'momentum': 0.9443193359375, 'L2_reg': 3.1662763671875, 'dropout': 0.14447265625, 'hidden_layers_sizes': [57, 57, 57]} | C-Index: 0.522211 | Train Loss 12.029295\n",
      "2019-03-27 14:50:20,851 - __main__ - INFO - Run id: -5505175062005344475_c43c4f1b-296f-41fb-b9ec-ba260f7cb51e | {'batch_norm': False, 'activation': 'rectify', 'standardize': True, 'lr_decay': 0.00034337890625, 'learning_rate': 4.5914845258188133e-07, 'n_in': 13, 'momentum': 0.9443193359375, 'L2_reg': 3.1662763671875, 'dropout': 0.14447265625, 'hidden_layers_sizes': [57, 57, 57]} | C-Index: 0.522211 | Train Loss 12.029295\n",
      "2019-03-27 14:50:20,851 - __main__ - INFO - Run id: -5505175062005344475_c43c4f1b-296f-41fb-b9ec-ba260f7cb51e | {'batch_norm': False, 'activation': 'rectify', 'standardize': True, 'lr_decay': 0.00034337890625, 'learning_rate': 4.5914845258188133e-07, 'n_in': 13, 'momentum': 0.9443193359375, 'L2_reg': 3.1662763671875, 'dropout': 0.14447265625, 'hidden_layers_sizes': [57, 57, 57]} | C-Index: 0.522211 | Train Loss 12.029295\n",
      "2019-03-27 14:50:20,851 - __main__ - INFO - Run id: -5505175062005344475_c43c4f1b-296f-41fb-b9ec-ba260f7cb51e | {'batch_norm': False, 'activation': 'rectify', 'standardize': True, 'lr_decay': 0.00034337890625, 'learning_rate': 4.5914845258188133e-07, 'n_in': 13, 'momentum': 0.9443193359375, 'L2_reg': 3.1662763671875, 'dropout': 0.14447265625, 'hidden_layers_sizes': [57, 57, 57]} | C-Index: 0.522211 | Train Loss 12.029295\n",
      "2019-03-27 14:50:20,851 - __main__ - INFO - Run id: -5505175062005344475_c43c4f1b-296f-41fb-b9ec-ba260f7cb51e | {'batch_norm': False, 'activation': 'rectify', 'standardize': True, 'lr_decay': 0.00034337890625, 'learning_rate': 4.5914845258188133e-07, 'n_in': 13, 'momentum': 0.9443193359375, 'L2_reg': 3.1662763671875, 'dropout': 0.14447265625, 'hidden_layers_sizes': [57, 57, 57]} | C-Index: 0.522211 | Train Loss 12.029295\n",
      "2019-03-27 14:50:20,851 - __main__ - INFO - Run id: -5505175062005344475_c43c4f1b-296f-41fb-b9ec-ba260f7cb51e | {'batch_norm': False, 'activation': 'rectify', 'standardize': True, 'lr_decay': 0.00034337890625, 'learning_rate': 4.5914845258188133e-07, 'n_in': 13, 'momentum': 0.9443193359375, 'L2_reg': 3.1662763671875, 'dropout': 0.14447265625, 'hidden_layers_sizes': [57, 57, 57]} | C-Index: 0.522211 | Train Loss 12.029295\n",
      "2019-03-27 14:50:20,851 - __main__ - INFO - Run id: -5505175062005344475_c43c4f1b-296f-41fb-b9ec-ba260f7cb51e | {'batch_norm': False, 'activation': 'rectify', 'standardize': True, 'lr_decay': 0.00034337890625, 'learning_rate': 4.5914845258188133e-07, 'n_in': 13, 'momentum': 0.9443193359375, 'L2_reg': 3.1662763671875, 'dropout': 0.14447265625, 'hidden_layers_sizes': [57, 57, 57]} | C-Index: 0.522211 | Train Loss 12.029295\n",
      "2019-03-27 14:50:20,851 - __main__ - INFO - Run id: -5505175062005344475_c43c4f1b-296f-41fb-b9ec-ba260f7cb51e | {'batch_norm': False, 'activation': 'rectify', 'standardize': True, 'lr_decay': 0.00034337890625, 'learning_rate': 4.5914845258188133e-07, 'n_in': 13, 'momentum': 0.9443193359375, 'L2_reg': 3.1662763671875, 'dropout': 0.14447265625, 'hidden_layers_sizes': [57, 57, 57]} | C-Index: 0.522211 | Train Loss 12.029295\n"
     ]
    },
    {
     "name": "stdout",
     "output_type": "stream",
     "text": [
      "2019-03-27 14:52:59,396 - __main__ - INFO - Run id: -5505175062005344475_5ea0db1d-fc66-45e7-9d50-345f663d6d80 | {'batch_norm': False, 'activation': 'rectify', 'standardize': True, 'lr_decay': 0.00034337890625, 'learning_rate': 4.5914845258188133e-07, 'n_in': 13, 'momentum': 0.9443193359375, 'L2_reg': 3.1662763671875, 'dropout': 0.14447265625, 'hidden_layers_sizes': [57, 57, 57]} | C-Index: 0.557678 | Train Loss 12.512341\n",
      "2019-03-27 14:52:59,396 - __main__ - INFO - Run id: -5505175062005344475_5ea0db1d-fc66-45e7-9d50-345f663d6d80 | {'batch_norm': False, 'activation': 'rectify', 'standardize': True, 'lr_decay': 0.00034337890625, 'learning_rate': 4.5914845258188133e-07, 'n_in': 13, 'momentum': 0.9443193359375, 'L2_reg': 3.1662763671875, 'dropout': 0.14447265625, 'hidden_layers_sizes': [57, 57, 57]} | C-Index: 0.557678 | Train Loss 12.512341\n",
      "2019-03-27 14:52:59,396 - __main__ - INFO - Run id: -5505175062005344475_5ea0db1d-fc66-45e7-9d50-345f663d6d80 | {'batch_norm': False, 'activation': 'rectify', 'standardize': True, 'lr_decay': 0.00034337890625, 'learning_rate': 4.5914845258188133e-07, 'n_in': 13, 'momentum': 0.9443193359375, 'L2_reg': 3.1662763671875, 'dropout': 0.14447265625, 'hidden_layers_sizes': [57, 57, 57]} | C-Index: 0.557678 | Train Loss 12.512341\n",
      "2019-03-27 14:52:59,396 - __main__ - INFO - Run id: -5505175062005344475_5ea0db1d-fc66-45e7-9d50-345f663d6d80 | {'batch_norm': False, 'activation': 'rectify', 'standardize': True, 'lr_decay': 0.00034337890625, 'learning_rate': 4.5914845258188133e-07, 'n_in': 13, 'momentum': 0.9443193359375, 'L2_reg': 3.1662763671875, 'dropout': 0.14447265625, 'hidden_layers_sizes': [57, 57, 57]} | C-Index: 0.557678 | Train Loss 12.512341\n",
      "2019-03-27 14:52:59,396 - __main__ - INFO - Run id: -5505175062005344475_5ea0db1d-fc66-45e7-9d50-345f663d6d80 | {'batch_norm': False, 'activation': 'rectify', 'standardize': True, 'lr_decay': 0.00034337890625, 'learning_rate': 4.5914845258188133e-07, 'n_in': 13, 'momentum': 0.9443193359375, 'L2_reg': 3.1662763671875, 'dropout': 0.14447265625, 'hidden_layers_sizes': [57, 57, 57]} | C-Index: 0.557678 | Train Loss 12.512341\n",
      "2019-03-27 14:52:59,396 - __main__ - INFO - Run id: -5505175062005344475_5ea0db1d-fc66-45e7-9d50-345f663d6d80 | {'batch_norm': False, 'activation': 'rectify', 'standardize': True, 'lr_decay': 0.00034337890625, 'learning_rate': 4.5914845258188133e-07, 'n_in': 13, 'momentum': 0.9443193359375, 'L2_reg': 3.1662763671875, 'dropout': 0.14447265625, 'hidden_layers_sizes': [57, 57, 57]} | C-Index: 0.557678 | Train Loss 12.512341\n",
      "2019-03-27 14:52:59,396 - __main__ - INFO - Run id: -5505175062005344475_5ea0db1d-fc66-45e7-9d50-345f663d6d80 | {'batch_norm': False, 'activation': 'rectify', 'standardize': True, 'lr_decay': 0.00034337890625, 'learning_rate': 4.5914845258188133e-07, 'n_in': 13, 'momentum': 0.9443193359375, 'L2_reg': 3.1662763671875, 'dropout': 0.14447265625, 'hidden_layers_sizes': [57, 57, 57]} | C-Index: 0.557678 | Train Loss 12.512341\n",
      "2019-03-27 14:52:59,396 - __main__ - INFO - Run id: -5505175062005344475_5ea0db1d-fc66-45e7-9d50-345f663d6d80 | {'batch_norm': False, 'activation': 'rectify', 'standardize': True, 'lr_decay': 0.00034337890625, 'learning_rate': 4.5914845258188133e-07, 'n_in': 13, 'momentum': 0.9443193359375, 'L2_reg': 3.1662763671875, 'dropout': 0.14447265625, 'hidden_layers_sizes': [57, 57, 57]} | C-Index: 0.557678 | Train Loss 12.512341\n",
      "2019-03-27 14:55:36,532 - __main__ - INFO - Run id: -5505175062005344475_f9cce1d1-a975-42f1-b85c-aa3372dd1167 | {'batch_norm': False, 'activation': 'rectify', 'standardize': True, 'lr_decay': 0.00034337890625, 'learning_rate': 4.5914845258188133e-07, 'n_in': 13, 'momentum': 0.9443193359375, 'L2_reg': 3.1662763671875, 'dropout': 0.14447265625, 'hidden_layers_sizes': [57, 57, 57]} | C-Index: 0.494909 | Train Loss 12.563249\n",
      "2019-03-27 14:55:36,532 - __main__ - INFO - Run id: -5505175062005344475_f9cce1d1-a975-42f1-b85c-aa3372dd1167 | {'batch_norm': False, 'activation': 'rectify', 'standardize': True, 'lr_decay': 0.00034337890625, 'learning_rate': 4.5914845258188133e-07, 'n_in': 13, 'momentum': 0.9443193359375, 'L2_reg': 3.1662763671875, 'dropout': 0.14447265625, 'hidden_layers_sizes': [57, 57, 57]} | C-Index: 0.494909 | Train Loss 12.563249\n",
      "2019-03-27 14:55:36,532 - __main__ - INFO - Run id: -5505175062005344475_f9cce1d1-a975-42f1-b85c-aa3372dd1167 | {'batch_norm': False, 'activation': 'rectify', 'standardize': True, 'lr_decay': 0.00034337890625, 'learning_rate': 4.5914845258188133e-07, 'n_in': 13, 'momentum': 0.9443193359375, 'L2_reg': 3.1662763671875, 'dropout': 0.14447265625, 'hidden_layers_sizes': [57, 57, 57]} | C-Index: 0.494909 | Train Loss 12.563249\n",
      "2019-03-27 14:55:36,532 - __main__ - INFO - Run id: -5505175062005344475_f9cce1d1-a975-42f1-b85c-aa3372dd1167 | {'batch_norm': False, 'activation': 'rectify', 'standardize': True, 'lr_decay': 0.00034337890625, 'learning_rate': 4.5914845258188133e-07, 'n_in': 13, 'momentum': 0.9443193359375, 'L2_reg': 3.1662763671875, 'dropout': 0.14447265625, 'hidden_layers_sizes': [57, 57, 57]} | C-Index: 0.494909 | Train Loss 12.563249\n",
      "2019-03-27 14:55:36,532 - __main__ - INFO - Run id: -5505175062005344475_f9cce1d1-a975-42f1-b85c-aa3372dd1167 | {'batch_norm': False, 'activation': 'rectify', 'standardize': True, 'lr_decay': 0.00034337890625, 'learning_rate': 4.5914845258188133e-07, 'n_in': 13, 'momentum': 0.9443193359375, 'L2_reg': 3.1662763671875, 'dropout': 0.14447265625, 'hidden_layers_sizes': [57, 57, 57]} | C-Index: 0.494909 | Train Loss 12.563249\n",
      "2019-03-27 14:55:36,532 - __main__ - INFO - Run id: -5505175062005344475_f9cce1d1-a975-42f1-b85c-aa3372dd1167 | {'batch_norm': False, 'activation': 'rectify', 'standardize': True, 'lr_decay': 0.00034337890625, 'learning_rate': 4.5914845258188133e-07, 'n_in': 13, 'momentum': 0.9443193359375, 'L2_reg': 3.1662763671875, 'dropout': 0.14447265625, 'hidden_layers_sizes': [57, 57, 57]} | C-Index: 0.494909 | Train Loss 12.563249\n",
      "2019-03-27 14:55:36,532 - __main__ - INFO - Run id: -5505175062005344475_f9cce1d1-a975-42f1-b85c-aa3372dd1167 | {'batch_norm': False, 'activation': 'rectify', 'standardize': True, 'lr_decay': 0.00034337890625, 'learning_rate': 4.5914845258188133e-07, 'n_in': 13, 'momentum': 0.9443193359375, 'L2_reg': 3.1662763671875, 'dropout': 0.14447265625, 'hidden_layers_sizes': [57, 57, 57]} | C-Index: 0.494909 | Train Loss 12.563249\n",
      "2019-03-27 14:55:36,532 - __main__ - INFO - Run id: -5505175062005344475_f9cce1d1-a975-42f1-b85c-aa3372dd1167 | {'batch_norm': False, 'activation': 'rectify', 'standardize': True, 'lr_decay': 0.00034337890625, 'learning_rate': 4.5914845258188133e-07, 'n_in': 13, 'momentum': 0.9443193359375, 'L2_reg': 3.1662763671875, 'dropout': 0.14447265625, 'hidden_layers_sizes': [57, 57, 57]} | C-Index: 0.494909 | Train Loss 12.563249\n",
      "2019-03-27 14:58:13,392 - __main__ - INFO - Run id: -5505175062005344475_6236127c-a2e4-4ade-b1ff-698d0d2e34ea | {'batch_norm': False, 'activation': 'rectify', 'standardize': True, 'lr_decay': 0.00034337890625, 'learning_rate': 4.5914845258188133e-07, 'n_in': 13, 'momentum': 0.9443193359375, 'L2_reg': 3.1662763671875, 'dropout': 0.14447265625, 'hidden_layers_sizes': [57, 57, 57]} | C-Index: 0.475806 | Train Loss 13.957478\n",
      "2019-03-27 14:58:13,392 - __main__ - INFO - Run id: -5505175062005344475_6236127c-a2e4-4ade-b1ff-698d0d2e34ea | {'batch_norm': False, 'activation': 'rectify', 'standardize': True, 'lr_decay': 0.00034337890625, 'learning_rate': 4.5914845258188133e-07, 'n_in': 13, 'momentum': 0.9443193359375, 'L2_reg': 3.1662763671875, 'dropout': 0.14447265625, 'hidden_layers_sizes': [57, 57, 57]} | C-Index: 0.475806 | Train Loss 13.957478\n",
      "2019-03-27 14:58:13,392 - __main__ - INFO - Run id: -5505175062005344475_6236127c-a2e4-4ade-b1ff-698d0d2e34ea | {'batch_norm': False, 'activation': 'rectify', 'standardize': True, 'lr_decay': 0.00034337890625, 'learning_rate': 4.5914845258188133e-07, 'n_in': 13, 'momentum': 0.9443193359375, 'L2_reg': 3.1662763671875, 'dropout': 0.14447265625, 'hidden_layers_sizes': [57, 57, 57]} | C-Index: 0.475806 | Train Loss 13.957478\n",
      "2019-03-27 14:58:13,392 - __main__ - INFO - Run id: -5505175062005344475_6236127c-a2e4-4ade-b1ff-698d0d2e34ea | {'batch_norm': False, 'activation': 'rectify', 'standardize': True, 'lr_decay': 0.00034337890625, 'learning_rate': 4.5914845258188133e-07, 'n_in': 13, 'momentum': 0.9443193359375, 'L2_reg': 3.1662763671875, 'dropout': 0.14447265625, 'hidden_layers_sizes': [57, 57, 57]} | C-Index: 0.475806 | Train Loss 13.957478\n"
     ]
    },
    {
     "name": "stdout",
     "output_type": "stream",
     "text": [
      "2019-03-27 14:58:13,392 - __main__ - INFO - Run id: -5505175062005344475_6236127c-a2e4-4ade-b1ff-698d0d2e34ea | {'batch_norm': False, 'activation': 'rectify', 'standardize': True, 'lr_decay': 0.00034337890625, 'learning_rate': 4.5914845258188133e-07, 'n_in': 13, 'momentum': 0.9443193359375, 'L2_reg': 3.1662763671875, 'dropout': 0.14447265625, 'hidden_layers_sizes': [57, 57, 57]} | C-Index: 0.475806 | Train Loss 13.957478\n",
      "2019-03-27 14:58:13,392 - __main__ - INFO - Run id: -5505175062005344475_6236127c-a2e4-4ade-b1ff-698d0d2e34ea | {'batch_norm': False, 'activation': 'rectify', 'standardize': True, 'lr_decay': 0.00034337890625, 'learning_rate': 4.5914845258188133e-07, 'n_in': 13, 'momentum': 0.9443193359375, 'L2_reg': 3.1662763671875, 'dropout': 0.14447265625, 'hidden_layers_sizes': [57, 57, 57]} | C-Index: 0.475806 | Train Loss 13.957478\n",
      "2019-03-27 14:58:13,392 - __main__ - INFO - Run id: -5505175062005344475_6236127c-a2e4-4ade-b1ff-698d0d2e34ea | {'batch_norm': False, 'activation': 'rectify', 'standardize': True, 'lr_decay': 0.00034337890625, 'learning_rate': 4.5914845258188133e-07, 'n_in': 13, 'momentum': 0.9443193359375, 'L2_reg': 3.1662763671875, 'dropout': 0.14447265625, 'hidden_layers_sizes': [57, 57, 57]} | C-Index: 0.475806 | Train Loss 13.957478\n",
      "2019-03-27 14:58:13,392 - __main__ - INFO - Run id: -5505175062005344475_6236127c-a2e4-4ade-b1ff-698d0d2e34ea | {'batch_norm': False, 'activation': 'rectify', 'standardize': True, 'lr_decay': 0.00034337890625, 'learning_rate': 4.5914845258188133e-07, 'n_in': 13, 'momentum': 0.9443193359375, 'L2_reg': 3.1662763671875, 'dropout': 0.14447265625, 'hidden_layers_sizes': [57, 57, 57]} | C-Index: 0.475806 | Train Loss 13.957478\n",
      "2019-03-27 15:00:52,266 - __main__ - INFO - Run id: -5505175062005344475_032d7733-af05-4a1b-a5d4-ca0576602675 | {'batch_norm': False, 'activation': 'rectify', 'standardize': True, 'lr_decay': 0.00034337890625, 'learning_rate': 4.5914845258188133e-07, 'n_in': 13, 'momentum': 0.9443193359375, 'L2_reg': 3.1662763671875, 'dropout': 0.14447265625, 'hidden_layers_sizes': [57, 57, 57]} | C-Index: 0.463654 | Train Loss 14.398681\n",
      "2019-03-27 15:00:52,266 - __main__ - INFO - Run id: -5505175062005344475_032d7733-af05-4a1b-a5d4-ca0576602675 | {'batch_norm': False, 'activation': 'rectify', 'standardize': True, 'lr_decay': 0.00034337890625, 'learning_rate': 4.5914845258188133e-07, 'n_in': 13, 'momentum': 0.9443193359375, 'L2_reg': 3.1662763671875, 'dropout': 0.14447265625, 'hidden_layers_sizes': [57, 57, 57]} | C-Index: 0.463654 | Train Loss 14.398681\n",
      "2019-03-27 15:00:52,266 - __main__ - INFO - Run id: -5505175062005344475_032d7733-af05-4a1b-a5d4-ca0576602675 | {'batch_norm': False, 'activation': 'rectify', 'standardize': True, 'lr_decay': 0.00034337890625, 'learning_rate': 4.5914845258188133e-07, 'n_in': 13, 'momentum': 0.9443193359375, 'L2_reg': 3.1662763671875, 'dropout': 0.14447265625, 'hidden_layers_sizes': [57, 57, 57]} | C-Index: 0.463654 | Train Loss 14.398681\n",
      "2019-03-27 15:00:52,266 - __main__ - INFO - Run id: -5505175062005344475_032d7733-af05-4a1b-a5d4-ca0576602675 | {'batch_norm': False, 'activation': 'rectify', 'standardize': True, 'lr_decay': 0.00034337890625, 'learning_rate': 4.5914845258188133e-07, 'n_in': 13, 'momentum': 0.9443193359375, 'L2_reg': 3.1662763671875, 'dropout': 0.14447265625, 'hidden_layers_sizes': [57, 57, 57]} | C-Index: 0.463654 | Train Loss 14.398681\n",
      "2019-03-27 15:00:52,266 - __main__ - INFO - Run id: -5505175062005344475_032d7733-af05-4a1b-a5d4-ca0576602675 | {'batch_norm': False, 'activation': 'rectify', 'standardize': True, 'lr_decay': 0.00034337890625, 'learning_rate': 4.5914845258188133e-07, 'n_in': 13, 'momentum': 0.9443193359375, 'L2_reg': 3.1662763671875, 'dropout': 0.14447265625, 'hidden_layers_sizes': [57, 57, 57]} | C-Index: 0.463654 | Train Loss 14.398681\n",
      "2019-03-27 15:00:52,266 - __main__ - INFO - Run id: -5505175062005344475_032d7733-af05-4a1b-a5d4-ca0576602675 | {'batch_norm': False, 'activation': 'rectify', 'standardize': True, 'lr_decay': 0.00034337890625, 'learning_rate': 4.5914845258188133e-07, 'n_in': 13, 'momentum': 0.9443193359375, 'L2_reg': 3.1662763671875, 'dropout': 0.14447265625, 'hidden_layers_sizes': [57, 57, 57]} | C-Index: 0.463654 | Train Loss 14.398681\n",
      "2019-03-27 15:00:52,266 - __main__ - INFO - Run id: -5505175062005344475_032d7733-af05-4a1b-a5d4-ca0576602675 | {'batch_norm': False, 'activation': 'rectify', 'standardize': True, 'lr_decay': 0.00034337890625, 'learning_rate': 4.5914845258188133e-07, 'n_in': 13, 'momentum': 0.9443193359375, 'L2_reg': 3.1662763671875, 'dropout': 0.14447265625, 'hidden_layers_sizes': [57, 57, 57]} | C-Index: 0.463654 | Train Loss 14.398681\n",
      "2019-03-27 15:00:52,266 - __main__ - INFO - Run id: -5505175062005344475_032d7733-af05-4a1b-a5d4-ca0576602675 | {'batch_norm': False, 'activation': 'rectify', 'standardize': True, 'lr_decay': 0.00034337890625, 'learning_rate': 4.5914845258188133e-07, 'n_in': 13, 'momentum': 0.9443193359375, 'L2_reg': 3.1662763671875, 'dropout': 0.14447265625, 'hidden_layers_sizes': [57, 57, 57]} | C-Index: 0.463654 | Train Loss 14.398681\n",
      "2019-03-27 15:03:30,047 - __main__ - INFO - Run id: -5505175062005344475_db6e9088-d59a-445a-9ccc-57292ee857d6 | {'batch_norm': False, 'activation': 'rectify', 'standardize': True, 'lr_decay': 0.00034337890625, 'learning_rate': 4.5914845258188133e-07, 'n_in': 13, 'momentum': 0.9443193359375, 'L2_reg': 3.1662763671875, 'dropout': 0.14447265625, 'hidden_layers_sizes': [57, 57, 57]} | C-Index: 0.517639 | Train Loss 11.826371\n",
      "2019-03-27 15:03:30,047 - __main__ - INFO - Run id: -5505175062005344475_db6e9088-d59a-445a-9ccc-57292ee857d6 | {'batch_norm': False, 'activation': 'rectify', 'standardize': True, 'lr_decay': 0.00034337890625, 'learning_rate': 4.5914845258188133e-07, 'n_in': 13, 'momentum': 0.9443193359375, 'L2_reg': 3.1662763671875, 'dropout': 0.14447265625, 'hidden_layers_sizes': [57, 57, 57]} | C-Index: 0.517639 | Train Loss 11.826371\n",
      "2019-03-27 15:03:30,047 - __main__ - INFO - Run id: -5505175062005344475_db6e9088-d59a-445a-9ccc-57292ee857d6 | {'batch_norm': False, 'activation': 'rectify', 'standardize': True, 'lr_decay': 0.00034337890625, 'learning_rate': 4.5914845258188133e-07, 'n_in': 13, 'momentum': 0.9443193359375, 'L2_reg': 3.1662763671875, 'dropout': 0.14447265625, 'hidden_layers_sizes': [57, 57, 57]} | C-Index: 0.517639 | Train Loss 11.826371\n",
      "2019-03-27 15:03:30,047 - __main__ - INFO - Run id: -5505175062005344475_db6e9088-d59a-445a-9ccc-57292ee857d6 | {'batch_norm': False, 'activation': 'rectify', 'standardize': True, 'lr_decay': 0.00034337890625, 'learning_rate': 4.5914845258188133e-07, 'n_in': 13, 'momentum': 0.9443193359375, 'L2_reg': 3.1662763671875, 'dropout': 0.14447265625, 'hidden_layers_sizes': [57, 57, 57]} | C-Index: 0.517639 | Train Loss 11.826371\n",
      "2019-03-27 15:03:30,047 - __main__ - INFO - Run id: -5505175062005344475_db6e9088-d59a-445a-9ccc-57292ee857d6 | {'batch_norm': False, 'activation': 'rectify', 'standardize': True, 'lr_decay': 0.00034337890625, 'learning_rate': 4.5914845258188133e-07, 'n_in': 13, 'momentum': 0.9443193359375, 'L2_reg': 3.1662763671875, 'dropout': 0.14447265625, 'hidden_layers_sizes': [57, 57, 57]} | C-Index: 0.517639 | Train Loss 11.826371\n",
      "2019-03-27 15:03:30,047 - __main__ - INFO - Run id: -5505175062005344475_db6e9088-d59a-445a-9ccc-57292ee857d6 | {'batch_norm': False, 'activation': 'rectify', 'standardize': True, 'lr_decay': 0.00034337890625, 'learning_rate': 4.5914845258188133e-07, 'n_in': 13, 'momentum': 0.9443193359375, 'L2_reg': 3.1662763671875, 'dropout': 0.14447265625, 'hidden_layers_sizes': [57, 57, 57]} | C-Index: 0.517639 | Train Loss 11.826371\n",
      "2019-03-27 15:03:30,047 - __main__ - INFO - Run id: -5505175062005344475_db6e9088-d59a-445a-9ccc-57292ee857d6 | {'batch_norm': False, 'activation': 'rectify', 'standardize': True, 'lr_decay': 0.00034337890625, 'learning_rate': 4.5914845258188133e-07, 'n_in': 13, 'momentum': 0.9443193359375, 'L2_reg': 3.1662763671875, 'dropout': 0.14447265625, 'hidden_layers_sizes': [57, 57, 57]} | C-Index: 0.517639 | Train Loss 11.826371\n",
      "2019-03-27 15:03:30,047 - __main__ - INFO - Run id: -5505175062005344475_db6e9088-d59a-445a-9ccc-57292ee857d6 | {'batch_norm': False, 'activation': 'rectify', 'standardize': True, 'lr_decay': 0.00034337890625, 'learning_rate': 4.5914845258188133e-07, 'n_in': 13, 'momentum': 0.9443193359375, 'L2_reg': 3.1662763671875, 'dropout': 0.14447265625, 'hidden_layers_sizes': [57, 57, 57]} | C-Index: 0.517639 | Train Loss 11.826371\n"
     ]
    },
    {
     "name": "stdout",
     "output_type": "stream",
     "text": [
      "2019-03-27 15:06:43,638 - __main__ - INFO - Run id: -8017437063962878789_6c38b71c-f182-4ff6-8ea3-dad04d5c3761 | {'batch_norm': False, 'activation': 'rectify', 'standardize': True, 'lr_decay': 0.00083837890625, 'learning_rate': 4.384833680989119e-05, 'n_in': 6, 'momentum': 0.8700693359375, 'L2_reg': 0.7160263671874999, 'dropout': 0.04547265625, 'hidden_layers_sizes': [82, 82, 82, 82]} | C-Index: 0.509784 | Train Loss 7.474672\n",
      "2019-03-27 15:06:43,638 - __main__ - INFO - Run id: -8017437063962878789_6c38b71c-f182-4ff6-8ea3-dad04d5c3761 | {'batch_norm': False, 'activation': 'rectify', 'standardize': True, 'lr_decay': 0.00083837890625, 'learning_rate': 4.384833680989119e-05, 'n_in': 6, 'momentum': 0.8700693359375, 'L2_reg': 0.7160263671874999, 'dropout': 0.04547265625, 'hidden_layers_sizes': [82, 82, 82, 82]} | C-Index: 0.509784 | Train Loss 7.474672\n",
      "2019-03-27 15:06:43,638 - __main__ - INFO - Run id: -8017437063962878789_6c38b71c-f182-4ff6-8ea3-dad04d5c3761 | {'batch_norm': False, 'activation': 'rectify', 'standardize': True, 'lr_decay': 0.00083837890625, 'learning_rate': 4.384833680989119e-05, 'n_in': 6, 'momentum': 0.8700693359375, 'L2_reg': 0.7160263671874999, 'dropout': 0.04547265625, 'hidden_layers_sizes': [82, 82, 82, 82]} | C-Index: 0.509784 | Train Loss 7.474672\n",
      "2019-03-27 15:06:43,638 - __main__ - INFO - Run id: -8017437063962878789_6c38b71c-f182-4ff6-8ea3-dad04d5c3761 | {'batch_norm': False, 'activation': 'rectify', 'standardize': True, 'lr_decay': 0.00083837890625, 'learning_rate': 4.384833680989119e-05, 'n_in': 6, 'momentum': 0.8700693359375, 'L2_reg': 0.7160263671874999, 'dropout': 0.04547265625, 'hidden_layers_sizes': [82, 82, 82, 82]} | C-Index: 0.509784 | Train Loss 7.474672\n",
      "2019-03-27 15:06:43,638 - __main__ - INFO - Run id: -8017437063962878789_6c38b71c-f182-4ff6-8ea3-dad04d5c3761 | {'batch_norm': False, 'activation': 'rectify', 'standardize': True, 'lr_decay': 0.00083837890625, 'learning_rate': 4.384833680989119e-05, 'n_in': 6, 'momentum': 0.8700693359375, 'L2_reg': 0.7160263671874999, 'dropout': 0.04547265625, 'hidden_layers_sizes': [82, 82, 82, 82]} | C-Index: 0.509784 | Train Loss 7.474672\n",
      "2019-03-27 15:06:43,638 - __main__ - INFO - Run id: -8017437063962878789_6c38b71c-f182-4ff6-8ea3-dad04d5c3761 | {'batch_norm': False, 'activation': 'rectify', 'standardize': True, 'lr_decay': 0.00083837890625, 'learning_rate': 4.384833680989119e-05, 'n_in': 6, 'momentum': 0.8700693359375, 'L2_reg': 0.7160263671874999, 'dropout': 0.04547265625, 'hidden_layers_sizes': [82, 82, 82, 82]} | C-Index: 0.509784 | Train Loss 7.474672\n",
      "2019-03-27 15:06:43,638 - __main__ - INFO - Run id: -8017437063962878789_6c38b71c-f182-4ff6-8ea3-dad04d5c3761 | {'batch_norm': False, 'activation': 'rectify', 'standardize': True, 'lr_decay': 0.00083837890625, 'learning_rate': 4.384833680989119e-05, 'n_in': 6, 'momentum': 0.8700693359375, 'L2_reg': 0.7160263671874999, 'dropout': 0.04547265625, 'hidden_layers_sizes': [82, 82, 82, 82]} | C-Index: 0.509784 | Train Loss 7.474672\n",
      "2019-03-27 15:06:43,638 - __main__ - INFO - Run id: -8017437063962878789_6c38b71c-f182-4ff6-8ea3-dad04d5c3761 | {'batch_norm': False, 'activation': 'rectify', 'standardize': True, 'lr_decay': 0.00083837890625, 'learning_rate': 4.384833680989119e-05, 'n_in': 6, 'momentum': 0.8700693359375, 'L2_reg': 0.7160263671874999, 'dropout': 0.04547265625, 'hidden_layers_sizes': [82, 82, 82, 82]} | C-Index: 0.509784 | Train Loss 7.474672\n",
      "2019-03-27 15:09:55,682 - __main__ - INFO - Run id: -8017437063962878789_1a9b6d76-4a07-426d-89bc-1e82ad4de639 | {'batch_norm': False, 'activation': 'rectify', 'standardize': True, 'lr_decay': 0.00083837890625, 'learning_rate': 4.384833680989119e-05, 'n_in': 6, 'momentum': 0.8700693359375, 'L2_reg': 0.7160263671874999, 'dropout': 0.04547265625, 'hidden_layers_sizes': [82, 82, 82, 82]} | C-Index: 0.549700 | Train Loss 7.586872\n",
      "2019-03-27 15:09:55,682 - __main__ - INFO - Run id: -8017437063962878789_1a9b6d76-4a07-426d-89bc-1e82ad4de639 | {'batch_norm': False, 'activation': 'rectify', 'standardize': True, 'lr_decay': 0.00083837890625, 'learning_rate': 4.384833680989119e-05, 'n_in': 6, 'momentum': 0.8700693359375, 'L2_reg': 0.7160263671874999, 'dropout': 0.04547265625, 'hidden_layers_sizes': [82, 82, 82, 82]} | C-Index: 0.549700 | Train Loss 7.586872\n",
      "2019-03-27 15:09:55,682 - __main__ - INFO - Run id: -8017437063962878789_1a9b6d76-4a07-426d-89bc-1e82ad4de639 | {'batch_norm': False, 'activation': 'rectify', 'standardize': True, 'lr_decay': 0.00083837890625, 'learning_rate': 4.384833680989119e-05, 'n_in': 6, 'momentum': 0.8700693359375, 'L2_reg': 0.7160263671874999, 'dropout': 0.04547265625, 'hidden_layers_sizes': [82, 82, 82, 82]} | C-Index: 0.549700 | Train Loss 7.586872\n",
      "2019-03-27 15:09:55,682 - __main__ - INFO - Run id: -8017437063962878789_1a9b6d76-4a07-426d-89bc-1e82ad4de639 | {'batch_norm': False, 'activation': 'rectify', 'standardize': True, 'lr_decay': 0.00083837890625, 'learning_rate': 4.384833680989119e-05, 'n_in': 6, 'momentum': 0.8700693359375, 'L2_reg': 0.7160263671874999, 'dropout': 0.04547265625, 'hidden_layers_sizes': [82, 82, 82, 82]} | C-Index: 0.549700 | Train Loss 7.586872\n",
      "2019-03-27 15:09:55,682 - __main__ - INFO - Run id: -8017437063962878789_1a9b6d76-4a07-426d-89bc-1e82ad4de639 | {'batch_norm': False, 'activation': 'rectify', 'standardize': True, 'lr_decay': 0.00083837890625, 'learning_rate': 4.384833680989119e-05, 'n_in': 6, 'momentum': 0.8700693359375, 'L2_reg': 0.7160263671874999, 'dropout': 0.04547265625, 'hidden_layers_sizes': [82, 82, 82, 82]} | C-Index: 0.549700 | Train Loss 7.586872\n",
      "2019-03-27 15:09:55,682 - __main__ - INFO - Run id: -8017437063962878789_1a9b6d76-4a07-426d-89bc-1e82ad4de639 | {'batch_norm': False, 'activation': 'rectify', 'standardize': True, 'lr_decay': 0.00083837890625, 'learning_rate': 4.384833680989119e-05, 'n_in': 6, 'momentum': 0.8700693359375, 'L2_reg': 0.7160263671874999, 'dropout': 0.04547265625, 'hidden_layers_sizes': [82, 82, 82, 82]} | C-Index: 0.549700 | Train Loss 7.586872\n",
      "2019-03-27 15:09:55,682 - __main__ - INFO - Run id: -8017437063962878789_1a9b6d76-4a07-426d-89bc-1e82ad4de639 | {'batch_norm': False, 'activation': 'rectify', 'standardize': True, 'lr_decay': 0.00083837890625, 'learning_rate': 4.384833680989119e-05, 'n_in': 6, 'momentum': 0.8700693359375, 'L2_reg': 0.7160263671874999, 'dropout': 0.04547265625, 'hidden_layers_sizes': [82, 82, 82, 82]} | C-Index: 0.549700 | Train Loss 7.586872\n",
      "2019-03-27 15:09:55,682 - __main__ - INFO - Run id: -8017437063962878789_1a9b6d76-4a07-426d-89bc-1e82ad4de639 | {'batch_norm': False, 'activation': 'rectify', 'standardize': True, 'lr_decay': 0.00083837890625, 'learning_rate': 4.384833680989119e-05, 'n_in': 6, 'momentum': 0.8700693359375, 'L2_reg': 0.7160263671874999, 'dropout': 0.04547265625, 'hidden_layers_sizes': [82, 82, 82, 82]} | C-Index: 0.549700 | Train Loss 7.586872\n",
      "2019-03-27 15:13:09,330 - __main__ - INFO - Run id: -8017437063962878789_370dd1e7-9394-4b26-a914-9a97119139b5 | {'batch_norm': False, 'activation': 'rectify', 'standardize': True, 'lr_decay': 0.00083837890625, 'learning_rate': 4.384833680989119e-05, 'n_in': 6, 'momentum': 0.8700693359375, 'L2_reg': 0.7160263671874999, 'dropout': 0.04547265625, 'hidden_layers_sizes': [82, 82, 82, 82]} | C-Index: 0.549162 | Train Loss 7.653453\n",
      "2019-03-27 15:13:09,330 - __main__ - INFO - Run id: -8017437063962878789_370dd1e7-9394-4b26-a914-9a97119139b5 | {'batch_norm': False, 'activation': 'rectify', 'standardize': True, 'lr_decay': 0.00083837890625, 'learning_rate': 4.384833680989119e-05, 'n_in': 6, 'momentum': 0.8700693359375, 'L2_reg': 0.7160263671874999, 'dropout': 0.04547265625, 'hidden_layers_sizes': [82, 82, 82, 82]} | C-Index: 0.549162 | Train Loss 7.653453\n",
      "2019-03-27 15:13:09,330 - __main__ - INFO - Run id: -8017437063962878789_370dd1e7-9394-4b26-a914-9a97119139b5 | {'batch_norm': False, 'activation': 'rectify', 'standardize': True, 'lr_decay': 0.00083837890625, 'learning_rate': 4.384833680989119e-05, 'n_in': 6, 'momentum': 0.8700693359375, 'L2_reg': 0.7160263671874999, 'dropout': 0.04547265625, 'hidden_layers_sizes': [82, 82, 82, 82]} | C-Index: 0.549162 | Train Loss 7.653453\n",
      "2019-03-27 15:13:09,330 - __main__ - INFO - Run id: -8017437063962878789_370dd1e7-9394-4b26-a914-9a97119139b5 | {'batch_norm': False, 'activation': 'rectify', 'standardize': True, 'lr_decay': 0.00083837890625, 'learning_rate': 4.384833680989119e-05, 'n_in': 6, 'momentum': 0.8700693359375, 'L2_reg': 0.7160263671874999, 'dropout': 0.04547265625, 'hidden_layers_sizes': [82, 82, 82, 82]} | C-Index: 0.549162 | Train Loss 7.653453\n"
     ]
    },
    {
     "name": "stdout",
     "output_type": "stream",
     "text": [
      "2019-03-27 15:13:09,330 - __main__ - INFO - Run id: -8017437063962878789_370dd1e7-9394-4b26-a914-9a97119139b5 | {'batch_norm': False, 'activation': 'rectify', 'standardize': True, 'lr_decay': 0.00083837890625, 'learning_rate': 4.384833680989119e-05, 'n_in': 6, 'momentum': 0.8700693359375, 'L2_reg': 0.7160263671874999, 'dropout': 0.04547265625, 'hidden_layers_sizes': [82, 82, 82, 82]} | C-Index: 0.549162 | Train Loss 7.653453\n",
      "2019-03-27 15:13:09,330 - __main__ - INFO - Run id: -8017437063962878789_370dd1e7-9394-4b26-a914-9a97119139b5 | {'batch_norm': False, 'activation': 'rectify', 'standardize': True, 'lr_decay': 0.00083837890625, 'learning_rate': 4.384833680989119e-05, 'n_in': 6, 'momentum': 0.8700693359375, 'L2_reg': 0.7160263671874999, 'dropout': 0.04547265625, 'hidden_layers_sizes': [82, 82, 82, 82]} | C-Index: 0.549162 | Train Loss 7.653453\n",
      "2019-03-27 15:13:09,330 - __main__ - INFO - Run id: -8017437063962878789_370dd1e7-9394-4b26-a914-9a97119139b5 | {'batch_norm': False, 'activation': 'rectify', 'standardize': True, 'lr_decay': 0.00083837890625, 'learning_rate': 4.384833680989119e-05, 'n_in': 6, 'momentum': 0.8700693359375, 'L2_reg': 0.7160263671874999, 'dropout': 0.04547265625, 'hidden_layers_sizes': [82, 82, 82, 82]} | C-Index: 0.549162 | Train Loss 7.653453\n",
      "2019-03-27 15:13:09,330 - __main__ - INFO - Run id: -8017437063962878789_370dd1e7-9394-4b26-a914-9a97119139b5 | {'batch_norm': False, 'activation': 'rectify', 'standardize': True, 'lr_decay': 0.00083837890625, 'learning_rate': 4.384833680989119e-05, 'n_in': 6, 'momentum': 0.8700693359375, 'L2_reg': 0.7160263671874999, 'dropout': 0.04547265625, 'hidden_layers_sizes': [82, 82, 82, 82]} | C-Index: 0.549162 | Train Loss 7.653453\n",
      "2019-03-27 15:16:26,920 - __main__ - INFO - Run id: -8017437063962878789_cce1d13d-ef9c-496c-ba7b-5b16b20e8837 | {'batch_norm': False, 'activation': 'rectify', 'standardize': True, 'lr_decay': 0.00083837890625, 'learning_rate': 4.384833680989119e-05, 'n_in': 6, 'momentum': 0.8700693359375, 'L2_reg': 0.7160263671874999, 'dropout': 0.04547265625, 'hidden_layers_sizes': [82, 82, 82, 82]} | C-Index: 0.585915 | Train Loss 7.458196\n",
      "2019-03-27 15:16:26,920 - __main__ - INFO - Run id: -8017437063962878789_cce1d13d-ef9c-496c-ba7b-5b16b20e8837 | {'batch_norm': False, 'activation': 'rectify', 'standardize': True, 'lr_decay': 0.00083837890625, 'learning_rate': 4.384833680989119e-05, 'n_in': 6, 'momentum': 0.8700693359375, 'L2_reg': 0.7160263671874999, 'dropout': 0.04547265625, 'hidden_layers_sizes': [82, 82, 82, 82]} | C-Index: 0.585915 | Train Loss 7.458196\n",
      "2019-03-27 15:16:26,920 - __main__ - INFO - Run id: -8017437063962878789_cce1d13d-ef9c-496c-ba7b-5b16b20e8837 | {'batch_norm': False, 'activation': 'rectify', 'standardize': True, 'lr_decay': 0.00083837890625, 'learning_rate': 4.384833680989119e-05, 'n_in': 6, 'momentum': 0.8700693359375, 'L2_reg': 0.7160263671874999, 'dropout': 0.04547265625, 'hidden_layers_sizes': [82, 82, 82, 82]} | C-Index: 0.585915 | Train Loss 7.458196\n",
      "2019-03-27 15:16:26,920 - __main__ - INFO - Run id: -8017437063962878789_cce1d13d-ef9c-496c-ba7b-5b16b20e8837 | {'batch_norm': False, 'activation': 'rectify', 'standardize': True, 'lr_decay': 0.00083837890625, 'learning_rate': 4.384833680989119e-05, 'n_in': 6, 'momentum': 0.8700693359375, 'L2_reg': 0.7160263671874999, 'dropout': 0.04547265625, 'hidden_layers_sizes': [82, 82, 82, 82]} | C-Index: 0.585915 | Train Loss 7.458196\n",
      "2019-03-27 15:16:26,920 - __main__ - INFO - Run id: -8017437063962878789_cce1d13d-ef9c-496c-ba7b-5b16b20e8837 | {'batch_norm': False, 'activation': 'rectify', 'standardize': True, 'lr_decay': 0.00083837890625, 'learning_rate': 4.384833680989119e-05, 'n_in': 6, 'momentum': 0.8700693359375, 'L2_reg': 0.7160263671874999, 'dropout': 0.04547265625, 'hidden_layers_sizes': [82, 82, 82, 82]} | C-Index: 0.585915 | Train Loss 7.458196\n",
      "2019-03-27 15:16:26,920 - __main__ - INFO - Run id: -8017437063962878789_cce1d13d-ef9c-496c-ba7b-5b16b20e8837 | {'batch_norm': False, 'activation': 'rectify', 'standardize': True, 'lr_decay': 0.00083837890625, 'learning_rate': 4.384833680989119e-05, 'n_in': 6, 'momentum': 0.8700693359375, 'L2_reg': 0.7160263671874999, 'dropout': 0.04547265625, 'hidden_layers_sizes': [82, 82, 82, 82]} | C-Index: 0.585915 | Train Loss 7.458196\n",
      "2019-03-27 15:16:26,920 - __main__ - INFO - Run id: -8017437063962878789_cce1d13d-ef9c-496c-ba7b-5b16b20e8837 | {'batch_norm': False, 'activation': 'rectify', 'standardize': True, 'lr_decay': 0.00083837890625, 'learning_rate': 4.384833680989119e-05, 'n_in': 6, 'momentum': 0.8700693359375, 'L2_reg': 0.7160263671874999, 'dropout': 0.04547265625, 'hidden_layers_sizes': [82, 82, 82, 82]} | C-Index: 0.585915 | Train Loss 7.458196\n",
      "2019-03-27 15:16:26,920 - __main__ - INFO - Run id: -8017437063962878789_cce1d13d-ef9c-496c-ba7b-5b16b20e8837 | {'batch_norm': False, 'activation': 'rectify', 'standardize': True, 'lr_decay': 0.00083837890625, 'learning_rate': 4.384833680989119e-05, 'n_in': 6, 'momentum': 0.8700693359375, 'L2_reg': 0.7160263671874999, 'dropout': 0.04547265625, 'hidden_layers_sizes': [82, 82, 82, 82]} | C-Index: 0.585915 | Train Loss 7.458196\n",
      "2019-03-27 15:19:40,293 - __main__ - INFO - Run id: -8017437063962878789_52773323-c2d8-4677-ab34-6759c78b583d | {'batch_norm': False, 'activation': 'rectify', 'standardize': True, 'lr_decay': 0.00083837890625, 'learning_rate': 4.384833680989119e-05, 'n_in': 6, 'momentum': 0.8700693359375, 'L2_reg': 0.7160263671874999, 'dropout': 0.04547265625, 'hidden_layers_sizes': [82, 82, 82, 82]} | C-Index: 0.563623 | Train Loss 7.593684\n",
      "2019-03-27 15:19:40,293 - __main__ - INFO - Run id: -8017437063962878789_52773323-c2d8-4677-ab34-6759c78b583d | {'batch_norm': False, 'activation': 'rectify', 'standardize': True, 'lr_decay': 0.00083837890625, 'learning_rate': 4.384833680989119e-05, 'n_in': 6, 'momentum': 0.8700693359375, 'L2_reg': 0.7160263671874999, 'dropout': 0.04547265625, 'hidden_layers_sizes': [82, 82, 82, 82]} | C-Index: 0.563623 | Train Loss 7.593684\n",
      "2019-03-27 15:19:40,293 - __main__ - INFO - Run id: -8017437063962878789_52773323-c2d8-4677-ab34-6759c78b583d | {'batch_norm': False, 'activation': 'rectify', 'standardize': True, 'lr_decay': 0.00083837890625, 'learning_rate': 4.384833680989119e-05, 'n_in': 6, 'momentum': 0.8700693359375, 'L2_reg': 0.7160263671874999, 'dropout': 0.04547265625, 'hidden_layers_sizes': [82, 82, 82, 82]} | C-Index: 0.563623 | Train Loss 7.593684\n",
      "2019-03-27 15:19:40,293 - __main__ - INFO - Run id: -8017437063962878789_52773323-c2d8-4677-ab34-6759c78b583d | {'batch_norm': False, 'activation': 'rectify', 'standardize': True, 'lr_decay': 0.00083837890625, 'learning_rate': 4.384833680989119e-05, 'n_in': 6, 'momentum': 0.8700693359375, 'L2_reg': 0.7160263671874999, 'dropout': 0.04547265625, 'hidden_layers_sizes': [82, 82, 82, 82]} | C-Index: 0.563623 | Train Loss 7.593684\n",
      "2019-03-27 15:19:40,293 - __main__ - INFO - Run id: -8017437063962878789_52773323-c2d8-4677-ab34-6759c78b583d | {'batch_norm': False, 'activation': 'rectify', 'standardize': True, 'lr_decay': 0.00083837890625, 'learning_rate': 4.384833680989119e-05, 'n_in': 6, 'momentum': 0.8700693359375, 'L2_reg': 0.7160263671874999, 'dropout': 0.04547265625, 'hidden_layers_sizes': [82, 82, 82, 82]} | C-Index: 0.563623 | Train Loss 7.593684\n",
      "2019-03-27 15:19:40,293 - __main__ - INFO - Run id: -8017437063962878789_52773323-c2d8-4677-ab34-6759c78b583d | {'batch_norm': False, 'activation': 'rectify', 'standardize': True, 'lr_decay': 0.00083837890625, 'learning_rate': 4.384833680989119e-05, 'n_in': 6, 'momentum': 0.8700693359375, 'L2_reg': 0.7160263671874999, 'dropout': 0.04547265625, 'hidden_layers_sizes': [82, 82, 82, 82]} | C-Index: 0.563623 | Train Loss 7.593684\n",
      "2019-03-27 15:19:40,293 - __main__ - INFO - Run id: -8017437063962878789_52773323-c2d8-4677-ab34-6759c78b583d | {'batch_norm': False, 'activation': 'rectify', 'standardize': True, 'lr_decay': 0.00083837890625, 'learning_rate': 4.384833680989119e-05, 'n_in': 6, 'momentum': 0.8700693359375, 'L2_reg': 0.7160263671874999, 'dropout': 0.04547265625, 'hidden_layers_sizes': [82, 82, 82, 82]} | C-Index: 0.563623 | Train Loss 7.593684\n",
      "2019-03-27 15:19:40,293 - __main__ - INFO - Run id: -8017437063962878789_52773323-c2d8-4677-ab34-6759c78b583d | {'batch_norm': False, 'activation': 'rectify', 'standardize': True, 'lr_decay': 0.00083837890625, 'learning_rate': 4.384833680989119e-05, 'n_in': 6, 'momentum': 0.8700693359375, 'L2_reg': 0.7160263671874999, 'dropout': 0.04547265625, 'hidden_layers_sizes': [82, 82, 82, 82]} | C-Index: 0.563623 | Train Loss 7.593684\n"
     ]
    },
    {
     "name": "stdout",
     "output_type": "stream",
     "text": [
      "2019-03-27 15:22:55,620 - __main__ - INFO - Run id: -8017437063962878789_6d1aa62d-259b-4ba8-bf21-90569282c755 | {'batch_norm': False, 'activation': 'rectify', 'standardize': True, 'lr_decay': 0.00083837890625, 'learning_rate': 4.384833680989119e-05, 'n_in': 6, 'momentum': 0.8700693359375, 'L2_reg': 0.7160263671874999, 'dropout': 0.04547265625, 'hidden_layers_sizes': [82, 82, 82, 82]} | C-Index: 0.583059 | Train Loss 7.428693\n",
      "2019-03-27 15:22:55,620 - __main__ - INFO - Run id: -8017437063962878789_6d1aa62d-259b-4ba8-bf21-90569282c755 | {'batch_norm': False, 'activation': 'rectify', 'standardize': True, 'lr_decay': 0.00083837890625, 'learning_rate': 4.384833680989119e-05, 'n_in': 6, 'momentum': 0.8700693359375, 'L2_reg': 0.7160263671874999, 'dropout': 0.04547265625, 'hidden_layers_sizes': [82, 82, 82, 82]} | C-Index: 0.583059 | Train Loss 7.428693\n",
      "2019-03-27 15:22:55,620 - __main__ - INFO - Run id: -8017437063962878789_6d1aa62d-259b-4ba8-bf21-90569282c755 | {'batch_norm': False, 'activation': 'rectify', 'standardize': True, 'lr_decay': 0.00083837890625, 'learning_rate': 4.384833680989119e-05, 'n_in': 6, 'momentum': 0.8700693359375, 'L2_reg': 0.7160263671874999, 'dropout': 0.04547265625, 'hidden_layers_sizes': [82, 82, 82, 82]} | C-Index: 0.583059 | Train Loss 7.428693\n",
      "2019-03-27 15:22:55,620 - __main__ - INFO - Run id: -8017437063962878789_6d1aa62d-259b-4ba8-bf21-90569282c755 | {'batch_norm': False, 'activation': 'rectify', 'standardize': True, 'lr_decay': 0.00083837890625, 'learning_rate': 4.384833680989119e-05, 'n_in': 6, 'momentum': 0.8700693359375, 'L2_reg': 0.7160263671874999, 'dropout': 0.04547265625, 'hidden_layers_sizes': [82, 82, 82, 82]} | C-Index: 0.583059 | Train Loss 7.428693\n",
      "2019-03-27 15:22:55,620 - __main__ - INFO - Run id: -8017437063962878789_6d1aa62d-259b-4ba8-bf21-90569282c755 | {'batch_norm': False, 'activation': 'rectify', 'standardize': True, 'lr_decay': 0.00083837890625, 'learning_rate': 4.384833680989119e-05, 'n_in': 6, 'momentum': 0.8700693359375, 'L2_reg': 0.7160263671874999, 'dropout': 0.04547265625, 'hidden_layers_sizes': [82, 82, 82, 82]} | C-Index: 0.583059 | Train Loss 7.428693\n",
      "2019-03-27 15:22:55,620 - __main__ - INFO - Run id: -8017437063962878789_6d1aa62d-259b-4ba8-bf21-90569282c755 | {'batch_norm': False, 'activation': 'rectify', 'standardize': True, 'lr_decay': 0.00083837890625, 'learning_rate': 4.384833680989119e-05, 'n_in': 6, 'momentum': 0.8700693359375, 'L2_reg': 0.7160263671874999, 'dropout': 0.04547265625, 'hidden_layers_sizes': [82, 82, 82, 82]} | C-Index: 0.583059 | Train Loss 7.428693\n",
      "2019-03-27 15:22:55,620 - __main__ - INFO - Run id: -8017437063962878789_6d1aa62d-259b-4ba8-bf21-90569282c755 | {'batch_norm': False, 'activation': 'rectify', 'standardize': True, 'lr_decay': 0.00083837890625, 'learning_rate': 4.384833680989119e-05, 'n_in': 6, 'momentum': 0.8700693359375, 'L2_reg': 0.7160263671874999, 'dropout': 0.04547265625, 'hidden_layers_sizes': [82, 82, 82, 82]} | C-Index: 0.583059 | Train Loss 7.428693\n",
      "2019-03-27 15:22:55,620 - __main__ - INFO - Run id: -8017437063962878789_6d1aa62d-259b-4ba8-bf21-90569282c755 | {'batch_norm': False, 'activation': 'rectify', 'standardize': True, 'lr_decay': 0.00083837890625, 'learning_rate': 4.384833680989119e-05, 'n_in': 6, 'momentum': 0.8700693359375, 'L2_reg': 0.7160263671874999, 'dropout': 0.04547265625, 'hidden_layers_sizes': [82, 82, 82, 82]} | C-Index: 0.583059 | Train Loss 7.428693\n",
      "2019-03-27 15:26:08,582 - __main__ - INFO - Run id: -8017437063962878789_3a6929d7-f73c-47eb-be34-4d35c0dcafcd | {'batch_norm': False, 'activation': 'rectify', 'standardize': True, 'lr_decay': 0.00083837890625, 'learning_rate': 4.384833680989119e-05, 'n_in': 6, 'momentum': 0.8700693359375, 'L2_reg': 0.7160263671874999, 'dropout': 0.04547265625, 'hidden_layers_sizes': [82, 82, 82, 82]} | C-Index: 0.523229 | Train Loss 7.458276\n",
      "2019-03-27 15:26:08,582 - __main__ - INFO - Run id: -8017437063962878789_3a6929d7-f73c-47eb-be34-4d35c0dcafcd | {'batch_norm': False, 'activation': 'rectify', 'standardize': True, 'lr_decay': 0.00083837890625, 'learning_rate': 4.384833680989119e-05, 'n_in': 6, 'momentum': 0.8700693359375, 'L2_reg': 0.7160263671874999, 'dropout': 0.04547265625, 'hidden_layers_sizes': [82, 82, 82, 82]} | C-Index: 0.523229 | Train Loss 7.458276\n",
      "2019-03-27 15:26:08,582 - __main__ - INFO - Run id: -8017437063962878789_3a6929d7-f73c-47eb-be34-4d35c0dcafcd | {'batch_norm': False, 'activation': 'rectify', 'standardize': True, 'lr_decay': 0.00083837890625, 'learning_rate': 4.384833680989119e-05, 'n_in': 6, 'momentum': 0.8700693359375, 'L2_reg': 0.7160263671874999, 'dropout': 0.04547265625, 'hidden_layers_sizes': [82, 82, 82, 82]} | C-Index: 0.523229 | Train Loss 7.458276\n",
      "2019-03-27 15:26:08,582 - __main__ - INFO - Run id: -8017437063962878789_3a6929d7-f73c-47eb-be34-4d35c0dcafcd | {'batch_norm': False, 'activation': 'rectify', 'standardize': True, 'lr_decay': 0.00083837890625, 'learning_rate': 4.384833680989119e-05, 'n_in': 6, 'momentum': 0.8700693359375, 'L2_reg': 0.7160263671874999, 'dropout': 0.04547265625, 'hidden_layers_sizes': [82, 82, 82, 82]} | C-Index: 0.523229 | Train Loss 7.458276\n",
      "2019-03-27 15:26:08,582 - __main__ - INFO - Run id: -8017437063962878789_3a6929d7-f73c-47eb-be34-4d35c0dcafcd | {'batch_norm': False, 'activation': 'rectify', 'standardize': True, 'lr_decay': 0.00083837890625, 'learning_rate': 4.384833680989119e-05, 'n_in': 6, 'momentum': 0.8700693359375, 'L2_reg': 0.7160263671874999, 'dropout': 0.04547265625, 'hidden_layers_sizes': [82, 82, 82, 82]} | C-Index: 0.523229 | Train Loss 7.458276\n",
      "2019-03-27 15:26:08,582 - __main__ - INFO - Run id: -8017437063962878789_3a6929d7-f73c-47eb-be34-4d35c0dcafcd | {'batch_norm': False, 'activation': 'rectify', 'standardize': True, 'lr_decay': 0.00083837890625, 'learning_rate': 4.384833680989119e-05, 'n_in': 6, 'momentum': 0.8700693359375, 'L2_reg': 0.7160263671874999, 'dropout': 0.04547265625, 'hidden_layers_sizes': [82, 82, 82, 82]} | C-Index: 0.523229 | Train Loss 7.458276\n",
      "2019-03-27 15:26:08,582 - __main__ - INFO - Run id: -8017437063962878789_3a6929d7-f73c-47eb-be34-4d35c0dcafcd | {'batch_norm': False, 'activation': 'rectify', 'standardize': True, 'lr_decay': 0.00083837890625, 'learning_rate': 4.384833680989119e-05, 'n_in': 6, 'momentum': 0.8700693359375, 'L2_reg': 0.7160263671874999, 'dropout': 0.04547265625, 'hidden_layers_sizes': [82, 82, 82, 82]} | C-Index: 0.523229 | Train Loss 7.458276\n",
      "2019-03-27 15:26:08,582 - __main__ - INFO - Run id: -8017437063962878789_3a6929d7-f73c-47eb-be34-4d35c0dcafcd | {'batch_norm': False, 'activation': 'rectify', 'standardize': True, 'lr_decay': 0.00083837890625, 'learning_rate': 4.384833680989119e-05, 'n_in': 6, 'momentum': 0.8700693359375, 'L2_reg': 0.7160263671874999, 'dropout': 0.04547265625, 'hidden_layers_sizes': [82, 82, 82, 82]} | C-Index: 0.523229 | Train Loss 7.458276\n",
      "2019-03-27 15:29:23,180 - __main__ - INFO - Run id: -8017437063962878789_4774ca2a-f3ee-4987-8c13-cf1f24776dc9 | {'batch_norm': False, 'activation': 'rectify', 'standardize': True, 'lr_decay': 0.00083837890625, 'learning_rate': 4.384833680989119e-05, 'n_in': 6, 'momentum': 0.8700693359375, 'L2_reg': 0.7160263671874999, 'dropout': 0.04547265625, 'hidden_layers_sizes': [82, 82, 82, 82]} | C-Index: 0.520316 | Train Loss 7.609415\n",
      "2019-03-27 15:29:23,180 - __main__ - INFO - Run id: -8017437063962878789_4774ca2a-f3ee-4987-8c13-cf1f24776dc9 | {'batch_norm': False, 'activation': 'rectify', 'standardize': True, 'lr_decay': 0.00083837890625, 'learning_rate': 4.384833680989119e-05, 'n_in': 6, 'momentum': 0.8700693359375, 'L2_reg': 0.7160263671874999, 'dropout': 0.04547265625, 'hidden_layers_sizes': [82, 82, 82, 82]} | C-Index: 0.520316 | Train Loss 7.609415\n",
      "2019-03-27 15:29:23,180 - __main__ - INFO - Run id: -8017437063962878789_4774ca2a-f3ee-4987-8c13-cf1f24776dc9 | {'batch_norm': False, 'activation': 'rectify', 'standardize': True, 'lr_decay': 0.00083837890625, 'learning_rate': 4.384833680989119e-05, 'n_in': 6, 'momentum': 0.8700693359375, 'L2_reg': 0.7160263671874999, 'dropout': 0.04547265625, 'hidden_layers_sizes': [82, 82, 82, 82]} | C-Index: 0.520316 | Train Loss 7.609415\n",
      "2019-03-27 15:29:23,180 - __main__ - INFO - Run id: -8017437063962878789_4774ca2a-f3ee-4987-8c13-cf1f24776dc9 | {'batch_norm': False, 'activation': 'rectify', 'standardize': True, 'lr_decay': 0.00083837890625, 'learning_rate': 4.384833680989119e-05, 'n_in': 6, 'momentum': 0.8700693359375, 'L2_reg': 0.7160263671874999, 'dropout': 0.04547265625, 'hidden_layers_sizes': [82, 82, 82, 82]} | C-Index: 0.520316 | Train Loss 7.609415\n"
     ]
    },
    {
     "name": "stdout",
     "output_type": "stream",
     "text": [
      "2019-03-27 15:29:23,180 - __main__ - INFO - Run id: -8017437063962878789_4774ca2a-f3ee-4987-8c13-cf1f24776dc9 | {'batch_norm': False, 'activation': 'rectify', 'standardize': True, 'lr_decay': 0.00083837890625, 'learning_rate': 4.384833680989119e-05, 'n_in': 6, 'momentum': 0.8700693359375, 'L2_reg': 0.7160263671874999, 'dropout': 0.04547265625, 'hidden_layers_sizes': [82, 82, 82, 82]} | C-Index: 0.520316 | Train Loss 7.609415\n",
      "2019-03-27 15:29:23,180 - __main__ - INFO - Run id: -8017437063962878789_4774ca2a-f3ee-4987-8c13-cf1f24776dc9 | {'batch_norm': False, 'activation': 'rectify', 'standardize': True, 'lr_decay': 0.00083837890625, 'learning_rate': 4.384833680989119e-05, 'n_in': 6, 'momentum': 0.8700693359375, 'L2_reg': 0.7160263671874999, 'dropout': 0.04547265625, 'hidden_layers_sizes': [82, 82, 82, 82]} | C-Index: 0.520316 | Train Loss 7.609415\n",
      "2019-03-27 15:29:23,180 - __main__ - INFO - Run id: -8017437063962878789_4774ca2a-f3ee-4987-8c13-cf1f24776dc9 | {'batch_norm': False, 'activation': 'rectify', 'standardize': True, 'lr_decay': 0.00083837890625, 'learning_rate': 4.384833680989119e-05, 'n_in': 6, 'momentum': 0.8700693359375, 'L2_reg': 0.7160263671874999, 'dropout': 0.04547265625, 'hidden_layers_sizes': [82, 82, 82, 82]} | C-Index: 0.520316 | Train Loss 7.609415\n",
      "2019-03-27 15:29:23,180 - __main__ - INFO - Run id: -8017437063962878789_4774ca2a-f3ee-4987-8c13-cf1f24776dc9 | {'batch_norm': False, 'activation': 'rectify', 'standardize': True, 'lr_decay': 0.00083837890625, 'learning_rate': 4.384833680989119e-05, 'n_in': 6, 'momentum': 0.8700693359375, 'L2_reg': 0.7160263671874999, 'dropout': 0.04547265625, 'hidden_layers_sizes': [82, 82, 82, 82]} | C-Index: 0.520316 | Train Loss 7.609415\n",
      "2019-03-27 15:32:36,605 - __main__ - INFO - Run id: -8017437063962878789_df12cfdc-6a3a-4182-8e38-8ef559ba3c30 | {'batch_norm': False, 'activation': 'rectify', 'standardize': True, 'lr_decay': 0.00083837890625, 'learning_rate': 4.384833680989119e-05, 'n_in': 6, 'momentum': 0.8700693359375, 'L2_reg': 0.7160263671874999, 'dropout': 0.04547265625, 'hidden_layers_sizes': [82, 82, 82, 82]} | C-Index: 0.551782 | Train Loss 7.694302\n",
      "2019-03-27 15:32:36,605 - __main__ - INFO - Run id: -8017437063962878789_df12cfdc-6a3a-4182-8e38-8ef559ba3c30 | {'batch_norm': False, 'activation': 'rectify', 'standardize': True, 'lr_decay': 0.00083837890625, 'learning_rate': 4.384833680989119e-05, 'n_in': 6, 'momentum': 0.8700693359375, 'L2_reg': 0.7160263671874999, 'dropout': 0.04547265625, 'hidden_layers_sizes': [82, 82, 82, 82]} | C-Index: 0.551782 | Train Loss 7.694302\n",
      "2019-03-27 15:32:36,605 - __main__ - INFO - Run id: -8017437063962878789_df12cfdc-6a3a-4182-8e38-8ef559ba3c30 | {'batch_norm': False, 'activation': 'rectify', 'standardize': True, 'lr_decay': 0.00083837890625, 'learning_rate': 4.384833680989119e-05, 'n_in': 6, 'momentum': 0.8700693359375, 'L2_reg': 0.7160263671874999, 'dropout': 0.04547265625, 'hidden_layers_sizes': [82, 82, 82, 82]} | C-Index: 0.551782 | Train Loss 7.694302\n",
      "2019-03-27 15:32:36,605 - __main__ - INFO - Run id: -8017437063962878789_df12cfdc-6a3a-4182-8e38-8ef559ba3c30 | {'batch_norm': False, 'activation': 'rectify', 'standardize': True, 'lr_decay': 0.00083837890625, 'learning_rate': 4.384833680989119e-05, 'n_in': 6, 'momentum': 0.8700693359375, 'L2_reg': 0.7160263671874999, 'dropout': 0.04547265625, 'hidden_layers_sizes': [82, 82, 82, 82]} | C-Index: 0.551782 | Train Loss 7.694302\n",
      "2019-03-27 15:32:36,605 - __main__ - INFO - Run id: -8017437063962878789_df12cfdc-6a3a-4182-8e38-8ef559ba3c30 | {'batch_norm': False, 'activation': 'rectify', 'standardize': True, 'lr_decay': 0.00083837890625, 'learning_rate': 4.384833680989119e-05, 'n_in': 6, 'momentum': 0.8700693359375, 'L2_reg': 0.7160263671874999, 'dropout': 0.04547265625, 'hidden_layers_sizes': [82, 82, 82, 82]} | C-Index: 0.551782 | Train Loss 7.694302\n",
      "2019-03-27 15:32:36,605 - __main__ - INFO - Run id: -8017437063962878789_df12cfdc-6a3a-4182-8e38-8ef559ba3c30 | {'batch_norm': False, 'activation': 'rectify', 'standardize': True, 'lr_decay': 0.00083837890625, 'learning_rate': 4.384833680989119e-05, 'n_in': 6, 'momentum': 0.8700693359375, 'L2_reg': 0.7160263671874999, 'dropout': 0.04547265625, 'hidden_layers_sizes': [82, 82, 82, 82]} | C-Index: 0.551782 | Train Loss 7.694302\n",
      "2019-03-27 15:32:36,605 - __main__ - INFO - Run id: -8017437063962878789_df12cfdc-6a3a-4182-8e38-8ef559ba3c30 | {'batch_norm': False, 'activation': 'rectify', 'standardize': True, 'lr_decay': 0.00083837890625, 'learning_rate': 4.384833680989119e-05, 'n_in': 6, 'momentum': 0.8700693359375, 'L2_reg': 0.7160263671874999, 'dropout': 0.04547265625, 'hidden_layers_sizes': [82, 82, 82, 82]} | C-Index: 0.551782 | Train Loss 7.694302\n",
      "2019-03-27 15:32:36,605 - __main__ - INFO - Run id: -8017437063962878789_df12cfdc-6a3a-4182-8e38-8ef559ba3c30 | {'batch_norm': False, 'activation': 'rectify', 'standardize': True, 'lr_decay': 0.00083837890625, 'learning_rate': 4.384833680989119e-05, 'n_in': 6, 'momentum': 0.8700693359375, 'L2_reg': 0.7160263671874999, 'dropout': 0.04547265625, 'hidden_layers_sizes': [82, 82, 82, 82]} | C-Index: 0.551782 | Train Loss 7.694302\n",
      "2019-03-27 15:35:48,748 - __main__ - INFO - Run id: -8017437063962878789_97444989-9b47-4d56-bf3a-7c09cec19b67 | {'batch_norm': False, 'activation': 'rectify', 'standardize': True, 'lr_decay': 0.00083837890625, 'learning_rate': 4.384833680989119e-05, 'n_in': 6, 'momentum': 0.8700693359375, 'L2_reg': 0.7160263671874999, 'dropout': 0.04547265625, 'hidden_layers_sizes': [82, 82, 82, 82]} | C-Index: 0.562261 | Train Loss 7.382810\n",
      "2019-03-27 15:35:48,748 - __main__ - INFO - Run id: -8017437063962878789_97444989-9b47-4d56-bf3a-7c09cec19b67 | {'batch_norm': False, 'activation': 'rectify', 'standardize': True, 'lr_decay': 0.00083837890625, 'learning_rate': 4.384833680989119e-05, 'n_in': 6, 'momentum': 0.8700693359375, 'L2_reg': 0.7160263671874999, 'dropout': 0.04547265625, 'hidden_layers_sizes': [82, 82, 82, 82]} | C-Index: 0.562261 | Train Loss 7.382810\n",
      "2019-03-27 15:35:48,748 - __main__ - INFO - Run id: -8017437063962878789_97444989-9b47-4d56-bf3a-7c09cec19b67 | {'batch_norm': False, 'activation': 'rectify', 'standardize': True, 'lr_decay': 0.00083837890625, 'learning_rate': 4.384833680989119e-05, 'n_in': 6, 'momentum': 0.8700693359375, 'L2_reg': 0.7160263671874999, 'dropout': 0.04547265625, 'hidden_layers_sizes': [82, 82, 82, 82]} | C-Index: 0.562261 | Train Loss 7.382810\n",
      "2019-03-27 15:35:48,748 - __main__ - INFO - Run id: -8017437063962878789_97444989-9b47-4d56-bf3a-7c09cec19b67 | {'batch_norm': False, 'activation': 'rectify', 'standardize': True, 'lr_decay': 0.00083837890625, 'learning_rate': 4.384833680989119e-05, 'n_in': 6, 'momentum': 0.8700693359375, 'L2_reg': 0.7160263671874999, 'dropout': 0.04547265625, 'hidden_layers_sizes': [82, 82, 82, 82]} | C-Index: 0.562261 | Train Loss 7.382810\n",
      "2019-03-27 15:35:48,748 - __main__ - INFO - Run id: -8017437063962878789_97444989-9b47-4d56-bf3a-7c09cec19b67 | {'batch_norm': False, 'activation': 'rectify', 'standardize': True, 'lr_decay': 0.00083837890625, 'learning_rate': 4.384833680989119e-05, 'n_in': 6, 'momentum': 0.8700693359375, 'L2_reg': 0.7160263671874999, 'dropout': 0.04547265625, 'hidden_layers_sizes': [82, 82, 82, 82]} | C-Index: 0.562261 | Train Loss 7.382810\n",
      "2019-03-27 15:35:48,748 - __main__ - INFO - Run id: -8017437063962878789_97444989-9b47-4d56-bf3a-7c09cec19b67 | {'batch_norm': False, 'activation': 'rectify', 'standardize': True, 'lr_decay': 0.00083837890625, 'learning_rate': 4.384833680989119e-05, 'n_in': 6, 'momentum': 0.8700693359375, 'L2_reg': 0.7160263671874999, 'dropout': 0.04547265625, 'hidden_layers_sizes': [82, 82, 82, 82]} | C-Index: 0.562261 | Train Loss 7.382810\n",
      "2019-03-27 15:35:48,748 - __main__ - INFO - Run id: -8017437063962878789_97444989-9b47-4d56-bf3a-7c09cec19b67 | {'batch_norm': False, 'activation': 'rectify', 'standardize': True, 'lr_decay': 0.00083837890625, 'learning_rate': 4.384833680989119e-05, 'n_in': 6, 'momentum': 0.8700693359375, 'L2_reg': 0.7160263671874999, 'dropout': 0.04547265625, 'hidden_layers_sizes': [82, 82, 82, 82]} | C-Index: 0.562261 | Train Loss 7.382810\n",
      "2019-03-27 15:35:48,748 - __main__ - INFO - Run id: -8017437063962878789_97444989-9b47-4d56-bf3a-7c09cec19b67 | {'batch_norm': False, 'activation': 'rectify', 'standardize': True, 'lr_decay': 0.00083837890625, 'learning_rate': 4.384833680989119e-05, 'n_in': 6, 'momentum': 0.8700693359375, 'L2_reg': 0.7160263671874999, 'dropout': 0.04547265625, 'hidden_layers_sizes': [82, 82, 82, 82]} | C-Index: 0.562261 | Train Loss 7.382810\n"
     ]
    },
    {
     "name": "stdout",
     "output_type": "stream",
     "text": [
      "2019-03-27 15:39:14,260 - __main__ - INFO - Run id: -1231369156044878803_a3ad05ef-89da-4628-8139-faf6395bb258 | {'batch_norm': False, 'activation': 'rectify', 'standardize': True, 'lr_decay': 0.00059087890625, 'learning_rate': 4.486969578072787e-06, 'n_in': 9, 'momentum': 0.9071943359375, 'L2_reg': 1.9411513671874998, 'dropout': 0.19397265625000001, 'hidden_layers_sizes': [94, 94, 94, 94]} | C-Index: 0.536492 | Train Loss 10.473975\n",
      "2019-03-27 15:39:14,260 - __main__ - INFO - Run id: -1231369156044878803_a3ad05ef-89da-4628-8139-faf6395bb258 | {'batch_norm': False, 'activation': 'rectify', 'standardize': True, 'lr_decay': 0.00059087890625, 'learning_rate': 4.486969578072787e-06, 'n_in': 9, 'momentum': 0.9071943359375, 'L2_reg': 1.9411513671874998, 'dropout': 0.19397265625000001, 'hidden_layers_sizes': [94, 94, 94, 94]} | C-Index: 0.536492 | Train Loss 10.473975\n",
      "2019-03-27 15:39:14,260 - __main__ - INFO - Run id: -1231369156044878803_a3ad05ef-89da-4628-8139-faf6395bb258 | {'batch_norm': False, 'activation': 'rectify', 'standardize': True, 'lr_decay': 0.00059087890625, 'learning_rate': 4.486969578072787e-06, 'n_in': 9, 'momentum': 0.9071943359375, 'L2_reg': 1.9411513671874998, 'dropout': 0.19397265625000001, 'hidden_layers_sizes': [94, 94, 94, 94]} | C-Index: 0.536492 | Train Loss 10.473975\n",
      "2019-03-27 15:39:14,260 - __main__ - INFO - Run id: -1231369156044878803_a3ad05ef-89da-4628-8139-faf6395bb258 | {'batch_norm': False, 'activation': 'rectify', 'standardize': True, 'lr_decay': 0.00059087890625, 'learning_rate': 4.486969578072787e-06, 'n_in': 9, 'momentum': 0.9071943359375, 'L2_reg': 1.9411513671874998, 'dropout': 0.19397265625000001, 'hidden_layers_sizes': [94, 94, 94, 94]} | C-Index: 0.536492 | Train Loss 10.473975\n",
      "2019-03-27 15:39:14,260 - __main__ - INFO - Run id: -1231369156044878803_a3ad05ef-89da-4628-8139-faf6395bb258 | {'batch_norm': False, 'activation': 'rectify', 'standardize': True, 'lr_decay': 0.00059087890625, 'learning_rate': 4.486969578072787e-06, 'n_in': 9, 'momentum': 0.9071943359375, 'L2_reg': 1.9411513671874998, 'dropout': 0.19397265625000001, 'hidden_layers_sizes': [94, 94, 94, 94]} | C-Index: 0.536492 | Train Loss 10.473975\n",
      "2019-03-27 15:39:14,260 - __main__ - INFO - Run id: -1231369156044878803_a3ad05ef-89da-4628-8139-faf6395bb258 | {'batch_norm': False, 'activation': 'rectify', 'standardize': True, 'lr_decay': 0.00059087890625, 'learning_rate': 4.486969578072787e-06, 'n_in': 9, 'momentum': 0.9071943359375, 'L2_reg': 1.9411513671874998, 'dropout': 0.19397265625000001, 'hidden_layers_sizes': [94, 94, 94, 94]} | C-Index: 0.536492 | Train Loss 10.473975\n",
      "2019-03-27 15:39:14,260 - __main__ - INFO - Run id: -1231369156044878803_a3ad05ef-89da-4628-8139-faf6395bb258 | {'batch_norm': False, 'activation': 'rectify', 'standardize': True, 'lr_decay': 0.00059087890625, 'learning_rate': 4.486969578072787e-06, 'n_in': 9, 'momentum': 0.9071943359375, 'L2_reg': 1.9411513671874998, 'dropout': 0.19397265625000001, 'hidden_layers_sizes': [94, 94, 94, 94]} | C-Index: 0.536492 | Train Loss 10.473975\n",
      "2019-03-27 15:39:14,260 - __main__ - INFO - Run id: -1231369156044878803_a3ad05ef-89da-4628-8139-faf6395bb258 | {'batch_norm': False, 'activation': 'rectify', 'standardize': True, 'lr_decay': 0.00059087890625, 'learning_rate': 4.486969578072787e-06, 'n_in': 9, 'momentum': 0.9071943359375, 'L2_reg': 1.9411513671874998, 'dropout': 0.19397265625000001, 'hidden_layers_sizes': [94, 94, 94, 94]} | C-Index: 0.536492 | Train Loss 10.473975\n",
      "2019-03-27 15:42:37,632 - __main__ - INFO - Run id: -1231369156044878803_f3aa5136-20cd-4d85-8a53-b5e09778eb2b | {'batch_norm': False, 'activation': 'rectify', 'standardize': True, 'lr_decay': 0.00059087890625, 'learning_rate': 4.486969578072787e-06, 'n_in': 9, 'momentum': 0.9071943359375, 'L2_reg': 1.9411513671874998, 'dropout': 0.19397265625000001, 'hidden_layers_sizes': [94, 94, 94, 94]} | C-Index: 0.567613 | Train Loss 10.734587\n",
      "2019-03-27 15:42:37,632 - __main__ - INFO - Run id: -1231369156044878803_f3aa5136-20cd-4d85-8a53-b5e09778eb2b | {'batch_norm': False, 'activation': 'rectify', 'standardize': True, 'lr_decay': 0.00059087890625, 'learning_rate': 4.486969578072787e-06, 'n_in': 9, 'momentum': 0.9071943359375, 'L2_reg': 1.9411513671874998, 'dropout': 0.19397265625000001, 'hidden_layers_sizes': [94, 94, 94, 94]} | C-Index: 0.567613 | Train Loss 10.734587\n",
      "2019-03-27 15:42:37,632 - __main__ - INFO - Run id: -1231369156044878803_f3aa5136-20cd-4d85-8a53-b5e09778eb2b | {'batch_norm': False, 'activation': 'rectify', 'standardize': True, 'lr_decay': 0.00059087890625, 'learning_rate': 4.486969578072787e-06, 'n_in': 9, 'momentum': 0.9071943359375, 'L2_reg': 1.9411513671874998, 'dropout': 0.19397265625000001, 'hidden_layers_sizes': [94, 94, 94, 94]} | C-Index: 0.567613 | Train Loss 10.734587\n",
      "2019-03-27 15:42:37,632 - __main__ - INFO - Run id: -1231369156044878803_f3aa5136-20cd-4d85-8a53-b5e09778eb2b | {'batch_norm': False, 'activation': 'rectify', 'standardize': True, 'lr_decay': 0.00059087890625, 'learning_rate': 4.486969578072787e-06, 'n_in': 9, 'momentum': 0.9071943359375, 'L2_reg': 1.9411513671874998, 'dropout': 0.19397265625000001, 'hidden_layers_sizes': [94, 94, 94, 94]} | C-Index: 0.567613 | Train Loss 10.734587\n",
      "2019-03-27 15:42:37,632 - __main__ - INFO - Run id: -1231369156044878803_f3aa5136-20cd-4d85-8a53-b5e09778eb2b | {'batch_norm': False, 'activation': 'rectify', 'standardize': True, 'lr_decay': 0.00059087890625, 'learning_rate': 4.486969578072787e-06, 'n_in': 9, 'momentum': 0.9071943359375, 'L2_reg': 1.9411513671874998, 'dropout': 0.19397265625000001, 'hidden_layers_sizes': [94, 94, 94, 94]} | C-Index: 0.567613 | Train Loss 10.734587\n",
      "2019-03-27 15:42:37,632 - __main__ - INFO - Run id: -1231369156044878803_f3aa5136-20cd-4d85-8a53-b5e09778eb2b | {'batch_norm': False, 'activation': 'rectify', 'standardize': True, 'lr_decay': 0.00059087890625, 'learning_rate': 4.486969578072787e-06, 'n_in': 9, 'momentum': 0.9071943359375, 'L2_reg': 1.9411513671874998, 'dropout': 0.19397265625000001, 'hidden_layers_sizes': [94, 94, 94, 94]} | C-Index: 0.567613 | Train Loss 10.734587\n",
      "2019-03-27 15:42:37,632 - __main__ - INFO - Run id: -1231369156044878803_f3aa5136-20cd-4d85-8a53-b5e09778eb2b | {'batch_norm': False, 'activation': 'rectify', 'standardize': True, 'lr_decay': 0.00059087890625, 'learning_rate': 4.486969578072787e-06, 'n_in': 9, 'momentum': 0.9071943359375, 'L2_reg': 1.9411513671874998, 'dropout': 0.19397265625000001, 'hidden_layers_sizes': [94, 94, 94, 94]} | C-Index: 0.567613 | Train Loss 10.734587\n",
      "2019-03-27 15:42:37,632 - __main__ - INFO - Run id: -1231369156044878803_f3aa5136-20cd-4d85-8a53-b5e09778eb2b | {'batch_norm': False, 'activation': 'rectify', 'standardize': True, 'lr_decay': 0.00059087890625, 'learning_rate': 4.486969578072787e-06, 'n_in': 9, 'momentum': 0.9071943359375, 'L2_reg': 1.9411513671874998, 'dropout': 0.19397265625000001, 'hidden_layers_sizes': [94, 94, 94, 94]} | C-Index: 0.567613 | Train Loss 10.734587\n",
      "2019-03-27 15:45:59,788 - __main__ - INFO - Run id: -1231369156044878803_2c23e34c-251d-4d6d-bf36-ddcf9d806e47 | {'batch_norm': False, 'activation': 'rectify', 'standardize': True, 'lr_decay': 0.00059087890625, 'learning_rate': 4.486969578072787e-06, 'n_in': 9, 'momentum': 0.9071943359375, 'L2_reg': 1.9411513671874998, 'dropout': 0.19397265625000001, 'hidden_layers_sizes': [94, 94, 94, 94]} | C-Index: 0.546825 | Train Loss 10.655000\n",
      "2019-03-27 15:45:59,788 - __main__ - INFO - Run id: -1231369156044878803_2c23e34c-251d-4d6d-bf36-ddcf9d806e47 | {'batch_norm': False, 'activation': 'rectify', 'standardize': True, 'lr_decay': 0.00059087890625, 'learning_rate': 4.486969578072787e-06, 'n_in': 9, 'momentum': 0.9071943359375, 'L2_reg': 1.9411513671874998, 'dropout': 0.19397265625000001, 'hidden_layers_sizes': [94, 94, 94, 94]} | C-Index: 0.546825 | Train Loss 10.655000\n",
      "2019-03-27 15:45:59,788 - __main__ - INFO - Run id: -1231369156044878803_2c23e34c-251d-4d6d-bf36-ddcf9d806e47 | {'batch_norm': False, 'activation': 'rectify', 'standardize': True, 'lr_decay': 0.00059087890625, 'learning_rate': 4.486969578072787e-06, 'n_in': 9, 'momentum': 0.9071943359375, 'L2_reg': 1.9411513671874998, 'dropout': 0.19397265625000001, 'hidden_layers_sizes': [94, 94, 94, 94]} | C-Index: 0.546825 | Train Loss 10.655000\n"
     ]
    },
    {
     "name": "stdout",
     "output_type": "stream",
     "text": [
      "2019-03-27 15:45:59,788 - __main__ - INFO - Run id: -1231369156044878803_2c23e34c-251d-4d6d-bf36-ddcf9d806e47 | {'batch_norm': False, 'activation': 'rectify', 'standardize': True, 'lr_decay': 0.00059087890625, 'learning_rate': 4.486969578072787e-06, 'n_in': 9, 'momentum': 0.9071943359375, 'L2_reg': 1.9411513671874998, 'dropout': 0.19397265625000001, 'hidden_layers_sizes': [94, 94, 94, 94]} | C-Index: 0.546825 | Train Loss 10.655000\n",
      "2019-03-27 15:45:59,788 - __main__ - INFO - Run id: -1231369156044878803_2c23e34c-251d-4d6d-bf36-ddcf9d806e47 | {'batch_norm': False, 'activation': 'rectify', 'standardize': True, 'lr_decay': 0.00059087890625, 'learning_rate': 4.486969578072787e-06, 'n_in': 9, 'momentum': 0.9071943359375, 'L2_reg': 1.9411513671874998, 'dropout': 0.19397265625000001, 'hidden_layers_sizes': [94, 94, 94, 94]} | C-Index: 0.546825 | Train Loss 10.655000\n",
      "2019-03-27 15:45:59,788 - __main__ - INFO - Run id: -1231369156044878803_2c23e34c-251d-4d6d-bf36-ddcf9d806e47 | {'batch_norm': False, 'activation': 'rectify', 'standardize': True, 'lr_decay': 0.00059087890625, 'learning_rate': 4.486969578072787e-06, 'n_in': 9, 'momentum': 0.9071943359375, 'L2_reg': 1.9411513671874998, 'dropout': 0.19397265625000001, 'hidden_layers_sizes': [94, 94, 94, 94]} | C-Index: 0.546825 | Train Loss 10.655000\n",
      "2019-03-27 15:45:59,788 - __main__ - INFO - Run id: -1231369156044878803_2c23e34c-251d-4d6d-bf36-ddcf9d806e47 | {'batch_norm': False, 'activation': 'rectify', 'standardize': True, 'lr_decay': 0.00059087890625, 'learning_rate': 4.486969578072787e-06, 'n_in': 9, 'momentum': 0.9071943359375, 'L2_reg': 1.9411513671874998, 'dropout': 0.19397265625000001, 'hidden_layers_sizes': [94, 94, 94, 94]} | C-Index: 0.546825 | Train Loss 10.655000\n",
      "2019-03-27 15:45:59,788 - __main__ - INFO - Run id: -1231369156044878803_2c23e34c-251d-4d6d-bf36-ddcf9d806e47 | {'batch_norm': False, 'activation': 'rectify', 'standardize': True, 'lr_decay': 0.00059087890625, 'learning_rate': 4.486969578072787e-06, 'n_in': 9, 'momentum': 0.9071943359375, 'L2_reg': 1.9411513671874998, 'dropout': 0.19397265625000001, 'hidden_layers_sizes': [94, 94, 94, 94]} | C-Index: 0.546825 | Train Loss 10.655000\n",
      "2019-03-27 15:49:24,800 - __main__ - INFO - Run id: -1231369156044878803_8d1f82a4-05ea-427b-8859-868c63755460 | {'batch_norm': False, 'activation': 'rectify', 'standardize': True, 'lr_decay': 0.00059087890625, 'learning_rate': 4.486969578072787e-06, 'n_in': 9, 'momentum': 0.9071943359375, 'L2_reg': 1.9411513671874998, 'dropout': 0.19397265625000001, 'hidden_layers_sizes': [94, 94, 94, 94]} | C-Index: 0.569123 | Train Loss 10.310604\n",
      "2019-03-27 15:49:24,800 - __main__ - INFO - Run id: -1231369156044878803_8d1f82a4-05ea-427b-8859-868c63755460 | {'batch_norm': False, 'activation': 'rectify', 'standardize': True, 'lr_decay': 0.00059087890625, 'learning_rate': 4.486969578072787e-06, 'n_in': 9, 'momentum': 0.9071943359375, 'L2_reg': 1.9411513671874998, 'dropout': 0.19397265625000001, 'hidden_layers_sizes': [94, 94, 94, 94]} | C-Index: 0.569123 | Train Loss 10.310604\n",
      "2019-03-27 15:49:24,800 - __main__ - INFO - Run id: -1231369156044878803_8d1f82a4-05ea-427b-8859-868c63755460 | {'batch_norm': False, 'activation': 'rectify', 'standardize': True, 'lr_decay': 0.00059087890625, 'learning_rate': 4.486969578072787e-06, 'n_in': 9, 'momentum': 0.9071943359375, 'L2_reg': 1.9411513671874998, 'dropout': 0.19397265625000001, 'hidden_layers_sizes': [94, 94, 94, 94]} | C-Index: 0.569123 | Train Loss 10.310604\n",
      "2019-03-27 15:49:24,800 - __main__ - INFO - Run id: -1231369156044878803_8d1f82a4-05ea-427b-8859-868c63755460 | {'batch_norm': False, 'activation': 'rectify', 'standardize': True, 'lr_decay': 0.00059087890625, 'learning_rate': 4.486969578072787e-06, 'n_in': 9, 'momentum': 0.9071943359375, 'L2_reg': 1.9411513671874998, 'dropout': 0.19397265625000001, 'hidden_layers_sizes': [94, 94, 94, 94]} | C-Index: 0.569123 | Train Loss 10.310604\n",
      "2019-03-27 15:49:24,800 - __main__ - INFO - Run id: -1231369156044878803_8d1f82a4-05ea-427b-8859-868c63755460 | {'batch_norm': False, 'activation': 'rectify', 'standardize': True, 'lr_decay': 0.00059087890625, 'learning_rate': 4.486969578072787e-06, 'n_in': 9, 'momentum': 0.9071943359375, 'L2_reg': 1.9411513671874998, 'dropout': 0.19397265625000001, 'hidden_layers_sizes': [94, 94, 94, 94]} | C-Index: 0.569123 | Train Loss 10.310604\n",
      "2019-03-27 15:49:24,800 - __main__ - INFO - Run id: -1231369156044878803_8d1f82a4-05ea-427b-8859-868c63755460 | {'batch_norm': False, 'activation': 'rectify', 'standardize': True, 'lr_decay': 0.00059087890625, 'learning_rate': 4.486969578072787e-06, 'n_in': 9, 'momentum': 0.9071943359375, 'L2_reg': 1.9411513671874998, 'dropout': 0.19397265625000001, 'hidden_layers_sizes': [94, 94, 94, 94]} | C-Index: 0.569123 | Train Loss 10.310604\n",
      "2019-03-27 15:49:24,800 - __main__ - INFO - Run id: -1231369156044878803_8d1f82a4-05ea-427b-8859-868c63755460 | {'batch_norm': False, 'activation': 'rectify', 'standardize': True, 'lr_decay': 0.00059087890625, 'learning_rate': 4.486969578072787e-06, 'n_in': 9, 'momentum': 0.9071943359375, 'L2_reg': 1.9411513671874998, 'dropout': 0.19397265625000001, 'hidden_layers_sizes': [94, 94, 94, 94]} | C-Index: 0.569123 | Train Loss 10.310604\n",
      "2019-03-27 15:49:24,800 - __main__ - INFO - Run id: -1231369156044878803_8d1f82a4-05ea-427b-8859-868c63755460 | {'batch_norm': False, 'activation': 'rectify', 'standardize': True, 'lr_decay': 0.00059087890625, 'learning_rate': 4.486969578072787e-06, 'n_in': 9, 'momentum': 0.9071943359375, 'L2_reg': 1.9411513671874998, 'dropout': 0.19397265625000001, 'hidden_layers_sizes': [94, 94, 94, 94]} | C-Index: 0.569123 | Train Loss 10.310604\n",
      "2019-03-27 15:52:49,899 - __main__ - INFO - Run id: -1231369156044878803_ad9a6f63-aadf-4e07-bf38-6c8342c5daf7 | {'batch_norm': False, 'activation': 'rectify', 'standardize': True, 'lr_decay': 0.00059087890625, 'learning_rate': 4.486969578072787e-06, 'n_in': 9, 'momentum': 0.9071943359375, 'L2_reg': 1.9411513671874998, 'dropout': 0.19397265625000001, 'hidden_layers_sizes': [94, 94, 94, 94]} | C-Index: 0.530139 | Train Loss 10.604929\n",
      "2019-03-27 15:52:49,899 - __main__ - INFO - Run id: -1231369156044878803_ad9a6f63-aadf-4e07-bf38-6c8342c5daf7 | {'batch_norm': False, 'activation': 'rectify', 'standardize': True, 'lr_decay': 0.00059087890625, 'learning_rate': 4.486969578072787e-06, 'n_in': 9, 'momentum': 0.9071943359375, 'L2_reg': 1.9411513671874998, 'dropout': 0.19397265625000001, 'hidden_layers_sizes': [94, 94, 94, 94]} | C-Index: 0.530139 | Train Loss 10.604929\n",
      "2019-03-27 15:52:49,899 - __main__ - INFO - Run id: -1231369156044878803_ad9a6f63-aadf-4e07-bf38-6c8342c5daf7 | {'batch_norm': False, 'activation': 'rectify', 'standardize': True, 'lr_decay': 0.00059087890625, 'learning_rate': 4.486969578072787e-06, 'n_in': 9, 'momentum': 0.9071943359375, 'L2_reg': 1.9411513671874998, 'dropout': 0.19397265625000001, 'hidden_layers_sizes': [94, 94, 94, 94]} | C-Index: 0.530139 | Train Loss 10.604929\n",
      "2019-03-27 15:52:49,899 - __main__ - INFO - Run id: -1231369156044878803_ad9a6f63-aadf-4e07-bf38-6c8342c5daf7 | {'batch_norm': False, 'activation': 'rectify', 'standardize': True, 'lr_decay': 0.00059087890625, 'learning_rate': 4.486969578072787e-06, 'n_in': 9, 'momentum': 0.9071943359375, 'L2_reg': 1.9411513671874998, 'dropout': 0.19397265625000001, 'hidden_layers_sizes': [94, 94, 94, 94]} | C-Index: 0.530139 | Train Loss 10.604929\n",
      "2019-03-27 15:52:49,899 - __main__ - INFO - Run id: -1231369156044878803_ad9a6f63-aadf-4e07-bf38-6c8342c5daf7 | {'batch_norm': False, 'activation': 'rectify', 'standardize': True, 'lr_decay': 0.00059087890625, 'learning_rate': 4.486969578072787e-06, 'n_in': 9, 'momentum': 0.9071943359375, 'L2_reg': 1.9411513671874998, 'dropout': 0.19397265625000001, 'hidden_layers_sizes': [94, 94, 94, 94]} | C-Index: 0.530139 | Train Loss 10.604929\n",
      "2019-03-27 15:52:49,899 - __main__ - INFO - Run id: -1231369156044878803_ad9a6f63-aadf-4e07-bf38-6c8342c5daf7 | {'batch_norm': False, 'activation': 'rectify', 'standardize': True, 'lr_decay': 0.00059087890625, 'learning_rate': 4.486969578072787e-06, 'n_in': 9, 'momentum': 0.9071943359375, 'L2_reg': 1.9411513671874998, 'dropout': 0.19397265625000001, 'hidden_layers_sizes': [94, 94, 94, 94]} | C-Index: 0.530139 | Train Loss 10.604929\n"
     ]
    },
    {
     "name": "stdout",
     "output_type": "stream",
     "text": [
      "2019-03-27 15:52:49,899 - __main__ - INFO - Run id: -1231369156044878803_ad9a6f63-aadf-4e07-bf38-6c8342c5daf7 | {'batch_norm': False, 'activation': 'rectify', 'standardize': True, 'lr_decay': 0.00059087890625, 'learning_rate': 4.486969578072787e-06, 'n_in': 9, 'momentum': 0.9071943359375, 'L2_reg': 1.9411513671874998, 'dropout': 0.19397265625000001, 'hidden_layers_sizes': [94, 94, 94, 94]} | C-Index: 0.530139 | Train Loss 10.604929\n",
      "2019-03-27 15:52:49,899 - __main__ - INFO - Run id: -1231369156044878803_ad9a6f63-aadf-4e07-bf38-6c8342c5daf7 | {'batch_norm': False, 'activation': 'rectify', 'standardize': True, 'lr_decay': 0.00059087890625, 'learning_rate': 4.486969578072787e-06, 'n_in': 9, 'momentum': 0.9071943359375, 'L2_reg': 1.9411513671874998, 'dropout': 0.19397265625000001, 'hidden_layers_sizes': [94, 94, 94, 94]} | C-Index: 0.530139 | Train Loss 10.604929\n",
      "2019-03-27 15:56:18,606 - __main__ - INFO - Run id: -1231369156044878803_15beb23b-43a8-4e41-9737-2a6d8412eab8 | {'batch_norm': False, 'activation': 'rectify', 'standardize': True, 'lr_decay': 0.00059087890625, 'learning_rate': 4.486969578072787e-06, 'n_in': 9, 'momentum': 0.9071943359375, 'L2_reg': 1.9411513671874998, 'dropout': 0.19397265625000001, 'hidden_layers_sizes': [94, 94, 94, 94]} | C-Index: 0.579719 | Train Loss 10.293687\n",
      "2019-03-27 15:56:18,606 - __main__ - INFO - Run id: -1231369156044878803_15beb23b-43a8-4e41-9737-2a6d8412eab8 | {'batch_norm': False, 'activation': 'rectify', 'standardize': True, 'lr_decay': 0.00059087890625, 'learning_rate': 4.486969578072787e-06, 'n_in': 9, 'momentum': 0.9071943359375, 'L2_reg': 1.9411513671874998, 'dropout': 0.19397265625000001, 'hidden_layers_sizes': [94, 94, 94, 94]} | C-Index: 0.579719 | Train Loss 10.293687\n",
      "2019-03-27 15:56:18,606 - __main__ - INFO - Run id: -1231369156044878803_15beb23b-43a8-4e41-9737-2a6d8412eab8 | {'batch_norm': False, 'activation': 'rectify', 'standardize': True, 'lr_decay': 0.00059087890625, 'learning_rate': 4.486969578072787e-06, 'n_in': 9, 'momentum': 0.9071943359375, 'L2_reg': 1.9411513671874998, 'dropout': 0.19397265625000001, 'hidden_layers_sizes': [94, 94, 94, 94]} | C-Index: 0.579719 | Train Loss 10.293687\n",
      "2019-03-27 15:56:18,606 - __main__ - INFO - Run id: -1231369156044878803_15beb23b-43a8-4e41-9737-2a6d8412eab8 | {'batch_norm': False, 'activation': 'rectify', 'standardize': True, 'lr_decay': 0.00059087890625, 'learning_rate': 4.486969578072787e-06, 'n_in': 9, 'momentum': 0.9071943359375, 'L2_reg': 1.9411513671874998, 'dropout': 0.19397265625000001, 'hidden_layers_sizes': [94, 94, 94, 94]} | C-Index: 0.579719 | Train Loss 10.293687\n",
      "2019-03-27 15:56:18,606 - __main__ - INFO - Run id: -1231369156044878803_15beb23b-43a8-4e41-9737-2a6d8412eab8 | {'batch_norm': False, 'activation': 'rectify', 'standardize': True, 'lr_decay': 0.00059087890625, 'learning_rate': 4.486969578072787e-06, 'n_in': 9, 'momentum': 0.9071943359375, 'L2_reg': 1.9411513671874998, 'dropout': 0.19397265625000001, 'hidden_layers_sizes': [94, 94, 94, 94]} | C-Index: 0.579719 | Train Loss 10.293687\n",
      "2019-03-27 15:56:18,606 - __main__ - INFO - Run id: -1231369156044878803_15beb23b-43a8-4e41-9737-2a6d8412eab8 | {'batch_norm': False, 'activation': 'rectify', 'standardize': True, 'lr_decay': 0.00059087890625, 'learning_rate': 4.486969578072787e-06, 'n_in': 9, 'momentum': 0.9071943359375, 'L2_reg': 1.9411513671874998, 'dropout': 0.19397265625000001, 'hidden_layers_sizes': [94, 94, 94, 94]} | C-Index: 0.579719 | Train Loss 10.293687\n",
      "2019-03-27 15:56:18,606 - __main__ - INFO - Run id: -1231369156044878803_15beb23b-43a8-4e41-9737-2a6d8412eab8 | {'batch_norm': False, 'activation': 'rectify', 'standardize': True, 'lr_decay': 0.00059087890625, 'learning_rate': 4.486969578072787e-06, 'n_in': 9, 'momentum': 0.9071943359375, 'L2_reg': 1.9411513671874998, 'dropout': 0.19397265625000001, 'hidden_layers_sizes': [94, 94, 94, 94]} | C-Index: 0.579719 | Train Loss 10.293687\n",
      "2019-03-27 15:56:18,606 - __main__ - INFO - Run id: -1231369156044878803_15beb23b-43a8-4e41-9737-2a6d8412eab8 | {'batch_norm': False, 'activation': 'rectify', 'standardize': True, 'lr_decay': 0.00059087890625, 'learning_rate': 4.486969578072787e-06, 'n_in': 9, 'momentum': 0.9071943359375, 'L2_reg': 1.9411513671874998, 'dropout': 0.19397265625000001, 'hidden_layers_sizes': [94, 94, 94, 94]} | C-Index: 0.579719 | Train Loss 10.293687\n"
     ]
    }
   ],
   "source": [
    "#    main_logger.debug('Maximizing C-Index. Num_iterations: %d' % args.num_evals)\n",
    "opt_params, call_log, _ = optunity.maximize(opt_fxn, num_evals=100,\n",
    "        solver_name='sobol',\n",
    "        **box_constraints)\n",
    "\n",
    "#    main_logger.debug('Optimal Parameters: ' + str(opt_params))\n",
    "#    main_logger.debug('Saving Call log...')"
   ]
  },
  {
   "cell_type": "code",
   "execution_count": 85,
   "metadata": {},
   "outputs": [
    {
     "name": "stdout",
     "output_type": "stream",
     "text": [
      "OrderedDict([('optimum', 0.6102046723178433), ('stats', OrderedDict([('num_evals', 30), ('time', 57160.077339448966)])), ('call_log', {'args': {'learning_rate': [-5.5143359375, -3.5343359375, -5.6380859375000005, -3.6580859375, -6.628085937500001, -4.6480859375, -6.133085937500001, -4.1530859375, -5.1430859375, -3.1630859375, -6.8755859375, -4.8955859375, -5.8855859375, -3.9055859375, -5.3905859375, -3.4105859375, -6.3805859375, -4.400585937500001, -6.7827734375, -4.802773437500001, -5.7927734375, -3.8127734375, -5.2977734375, -3.3177734375, -6.2877734375, -4.3077734375, -5.545273437500001, -3.5652734375, -6.535273437500001, -4.5552734375], 'lr_decay': [0.000616982421875, 0.00012198242187500001, 9.104492187500001e-05, 0.000586044921875, 0.000833544921875, 0.00033854492187500003, 0.00046229492187500003, 0.000957294921875, 0.000709794921875, 0.000214794921875, 0.000152919921875, 0.000647919921875, 0.000895419921875, 0.000400419921875, 0.000276669921875, 0.0007716699218750001, 0.0005241699218750001, 2.9169921875000014e-05, 2.1435546875000014e-05, 0.000516435546875, 0.000763935546875, 0.000268935546875, 0.000392685546875, 0.000887685546875, 0.000640185546875, 0.00014518554687500002, 0.00020706054687500002, 0.000702060546875, 0.000949560546875, 0.000454560546875], 'n_in': [9.005029296875001, 16.430029296875002, 15.965966796875001, 8.540966796875, 12.253466796875001, 19.678466796875, 10.397216796875, 17.822216796875, 14.109716796875002, 6.6847167968750005, 7.612841796875001, 15.037841796875, 18.750341796875002, 11.325341796875001, 16.894091796875003, 9.469091796875, 5.756591796875, 13.181591796875, 11.673388671875001, 19.098388671875, 15.385888671875001, 7.960888671875001, 13.529638671875002, 6.1046386718750005, 9.817138671875, 17.242138671875, 18.170263671875002, 10.745263671875001, 7.032763671875, 14.457763671875], 'num_layers': [5.558642578124999, 4.073642578125, 4.166455078125, 5.651455078125, 3.423955078125, 4.9089550781249995, 3.795205078125, 5.280205078124999, 3.0527050781250002, 4.537705078125, 5.465830078125, 3.980830078125, 4.723330078125, 3.238330078125, 5.837080078125, 4.352080078125, 5.0945800781249995, 3.609580078125, 3.9576269531249997, 5.442626953125, 3.215126953125, 4.700126953125, 4.3288769531249995, 5.813876953125, 3.586376953125, 5.071376953125, 5.628251953125, 4.143251953125, 4.885751953125, 3.400751953125], 'L2_reg': [2.5872133789062497, 0.13696337890624988, 4.88432275390625, 2.43407275390625, 1.2089477539062499, 3.65919775390625, 4.27176025390625, 1.82151025390625, 0.5963852539062499, 3.04663525390625, 4.57804150390625, 2.12779150390625, 0.9026665039062499, 3.35291650390625, 3.9654790039062497, 1.51522900390625, 0.2901040039062499, 2.74035400390625, 1.63008447265625, 4.08033447265625, 2.85520947265625, 0.4049594726562499, 2.24264697265625, 4.69289697265625, 3.46777197265625, 1.0175219726562499, 1.32380322265625, 3.7740532226562498, 2.54892822265625, 0.09867822265624987], 'num_nodes': [80.84912109375, 56.09912109375, 73.11474609375, 97.86474609375, 85.48974609375, 60.73974609375, 91.67724609375, 66.92724609375, 54.55224609375, 79.30224609375, 57.64599609375, 82.39599609375, 94.77099609375, 70.02099609375, 76.20849609375, 51.45849609375, 63.83349609375, 88.58349609375, 62.67333984375, 87.42333984375, 75.04833984375, 50.29833984375, 93.61083984375, 68.86083984375, 56.48583984375, 81.23583984375, 53.39208984375, 78.14208984375, 90.51708984375, 65.76708984375], 'momentum': [0.92532177734375, 0.8510717773437501, 0.81858740234375, 0.89283740234375, 0.85571240234375, 0.9299624023437499, 0.9485249023437499, 0.87427490234375, 0.91139990234375, 0.8371499023437501, 0.8278686523437501, 0.90211865234375, 0.86499365234375, 0.93924365234375, 0.9206811523437499, 0.84643115234375, 0.88355615234375, 0.80930615234375, 0.83598974609375, 0.9102397460937499, 0.8731147460937501, 0.94736474609375, 0.92880224609375, 0.85455224609375, 0.89167724609375, 0.8174272460937501, 0.80814599609375, 0.88239599609375, 0.84527099609375, 0.9195209960937499], 'dropout': [0.191458984375, 0.09245898437500001, 0.049146484375, 0.148146484375, 0.09864648437500001, 0.19764648437500001, 0.123396484375, 0.024396484375000003, 0.17289648437500002, 0.073896484375, 0.160521484375, 0.061521484375000005, 0.111021484375, 0.012021484375000002, 0.086271484375, 0.18527148437500002, 0.036771484375, 0.135771484375, 0.193005859375, 0.094005859375, 0.14350585937500002, 0.044505859375000005, 0.069255859375, 0.168255859375, 0.019755859375, 0.11875585937500001, 0.007380859375000002, 0.10638085937500001, 0.056880859375, 0.155880859375]}, 'values': [0.5438089372508628, 0.6088994024665974, 0.5515301971055047, 0.5565777471790512, 0.49596058289024014, 0.5880691018665254, 0.5136228048228548, 0.6100256857433866, 0.5560496589053932, 0.5475175460253093, 0.4997530526788311, 0.5905648445756262, 0.5221677275603086, 0.5763391029768534, 0.5717259464414768, 0.562767955275645, 0.5171602705212575, 0.5977011815188605, 0.5003003473359271, 0.5950092575032062, 0.5298161516208663, 0.5590746743048143, 0.5750380866849134, 0.5500469756821419, 0.49432616438135446, 0.6102046723178433, 0.5479953277959669, 0.5736694481696588, 0.531705659618999, 0.5939669917613931]}), ('report', None)])\n"
     ]
    }
   ],
   "source": [
    "print(call_log._asdict())"
   ]
  },
  {
   "cell_type": "code",
   "execution_count": null,
   "metadata": {},
   "outputs": [],
   "source": [
    "save_call_log(os.path.join(logdir, 'optunity_log_%s.pkl' % (str(uuid.uuid4()))), call_log._asdict())"
   ]
  },
  {
   "cell_type": "code",
   "execution_count": 86,
   "metadata": {},
   "outputs": [
    {
     "data": {
      "text/plain": [
       "{'lr_decay': 0.00014518554687500002,\n",
       " 'learning_rate': -4.3077734375,\n",
       " 'num_nodes': 81.23583984375,\n",
       " 'num_layers': 5.071376953125,\n",
       " 'n_in': 17.242138671875,\n",
       " 'momentum': 0.8174272460937501,\n",
       " 'L2_reg': 1.0175219726562499,\n",
       " 'dropout': 0.11875585937500001}"
      ]
     },
     "execution_count": 86,
     "metadata": {},
     "output_type": "execute_result"
    }
   ],
   "source": [
    "opt_params"
   ]
  },
  {
   "cell_type": "code",
   "execution_count": null,
   "metadata": {},
   "outputs": [],
   "source": [
    "opt_params, call_log, _ = optunity.maximize(opt_fxn, num_evals=10,\n",
    "        solver_name='sobol',\n",
    "        **box_constraints)"
   ]
  },
  {
   "cell_type": "code",
   "execution_count": null,
   "metadata": {},
   "outputs": [],
   "source": [
    "x_train[:,ReliefAvg.sort_values(['Importance'],ascending=False).index[0:n_in]]"
   ]
  },
  {
   "cell_type": "code",
   "execution_count": null,
   "metadata": {},
   "outputs": [],
   "source": [
    "ReliefAvg = pd.read_pickle('/home/arash/VRdataCleaning/DeepSurv/deepsurv/ReliefAvg.pkl')\n",
    "        "
   ]
  },
  {
   "cell_type": "code",
   "execution_count": null,
   "metadata": {},
   "outputs": [],
   "source": [
    "x_train=x_train[:,ReliefAvg.sort_values(['Importance'],ascending=False).index[0:n_in]]"
   ]
  },
  {
   "cell_type": "code",
   "execution_count": 27,
   "metadata": {},
   "outputs": [],
   "source": []
  },
  {
   "cell_type": "code",
   "execution_count": null,
   "metadata": {},
   "outputs": [],
   "source": []
  },
  {
   "cell_type": "code",
   "execution_count": null,
   "metadata": {},
   "outputs": [],
   "source": []
  }
 ],
 "metadata": {
  "kernelspec": {
   "display_name": "Python 3",
   "language": "python",
   "name": "python3"
  },
  "language_info": {
   "codemirror_mode": {
    "name": "ipython",
    "version": 3
   },
   "file_extension": ".py",
   "mimetype": "text/x-python",
   "name": "python",
   "nbconvert_exporter": "python",
   "pygments_lexer": "ipython3",
   "version": "3.6.8"
  }
 },
 "nbformat": 4,
 "nbformat_minor": 2
}
