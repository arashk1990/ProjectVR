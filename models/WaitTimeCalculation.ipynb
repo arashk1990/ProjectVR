{
 "cells": [
  {
   "cell_type": "code",
   "execution_count": 1,
   "metadata": {},
   "outputs": [],
   "source": [
    "import sys,os\n",
    "\n",
    "sys.path.append('/home/arash/ProjectVR/')\n",
    "\n",
    "import importlib\n",
    "import deepsurv\n",
    "import json\n",
    "import time\n",
    "import numpy as np\n",
    "import pandas as pd\n",
    "import pickle\n",
    "import theano.tensor\n",
    "import lasagne\n",
    "import optunity\n",
    "\n",
    "#import logging\n",
    "#from logging import handlers\n",
    "#from sklearn.model_selection import train_test_split\n",
    "\n",
    "importlib.reload(deepsurv)\n",
    "\n",
    "from deepsurv import deep_surv, utils\n",
    "\n",
    "#from deepsurv.deepsurv_logger import DeepSurvLogger, TensorboardLogger\n",
    "\n",
    "import matplotlib\n",
    "import matplotlib.pyplot as plt\n",
    "%matplotlib inline"
   ]
  },
  {
   "cell_type": "markdown",
   "metadata": {},
   "source": [
    "### Load trained network and data"
   ]
  },
  {
   "cell_type": "code",
   "execution_count": 2,
   "metadata": {},
   "outputs": [
    {
     "name": "stdout",
     "output_type": "stream",
     "text": [
      "Loading json model: {\"n_in\": 19, \"learning_rate\": 0.0008208386784744157, \"hidden_layers_sizes\": [90, 90], \"lr_decay\": 0.000551240234375, \"activation\": \"rectify\", \"dropout\": 0.0, \"batch_norm\": true, \"standardize\": false}\n"
     ]
    }
   ],
   "source": [
    "#deepsurv formatted data    \n",
    "with open('/home/arash/ProjectVR/cleaneddata/deepwaitdata/xtest', 'rb') as f:\n",
    "    xtest=pickle.load(f)\n",
    "\n",
    "with open('/home/arash/ProjectVR/cleaneddata/deepwaitdata/xtrain', 'rb') as f:\n",
    "    xtrain=pickle.load(f)\n",
    "    \n",
    "#dataframe data with wait times and col names    \n",
    "with open('/home/arash/ProjectVR/cleaneddata/deepwaitdata/nctest', 'rb') as f:   \n",
    "    NCtest=pickle.load(f)\n",
    "    \n",
    "with open('/home/arash/ProjectVR/cleaneddata/deepwaitdata/nctrain', 'rb') as f:   \n",
    "    NCtrain=pickle.load(f) \n",
    "    \n",
    "network=deep_surv.load_model_from_json(model_fp = '/home/arash/ProjectVR/models/Deepwait100epochsTuned',\n",
    "                     weights_fp = '/home/arash/ProjectVR/models/deepwait_weights_100_epochs.npz')"
   ]
  },
  {
   "cell_type": "markdown",
   "metadata": {},
   "source": [
    "### Predicting event times\n",
    "To predict the time of event for instances, having an estimation of partial hazard is not sufficient. First, baseline hazard is required to estimate hazard function, which will be a function of time and covariates. The next step would be to calculate survival function. Finally, expected wait time can be calculated by:\n",
    "\\begin{equation}\n",
    "    E(t)=\\int_{t=0}^\\infty S(t)dt\n",
    "\\end{equation}\n",
    "### Baseline Hazard\n",
    "Baseline hazard is interpreted as hazard function regardless of the values of the covariates (or when they are all 0). Different methods have been suggested in the literature for an estimation of baseline hazard. For CPH, the method used in python package is extracted from Breslow [1972]. In their method, \"the underlying survival distribution is\n",
    "parameterized as a continuous one, having constant hazards $\\lambda_i$ between each\n",
    "pair $t_{i-1}$ to $t_i$ of distinct relapse times. If all withdrawals, or censored observations, which\n",
    "occur in the interval $(t_i, t_{i+1})$ are adjusted to have occurred at $t_i$ , the ML estimator of\n",
    "$\\lambda$ in terms of $\\beta$ coefficients at time $t_i$ by:\n",
    "\\begin{equation}\n",
    "\\label{eq:9}\n",
    "    \\lambda_i=\\frac{m_i}{\\displaystyle \\sum_{j: T_j>T_i } e^{\\beta*Z_j}}\n",
    "\\end{equation}\n",
    "in which $m_i$ is the number of events at time $t_i$, Equation above is provided for CPH. In deepwait, we replace the partial hazards part with the exp of the output of our network \n",
    "\n",
    "deepwait predicts wait time for autonmous vehicle, so the data used will be solely those ones that the car can observe, not sociodemographic etc, and the baseline hazards are calculated based on training data, as the car will not know about other pedestrians at risk etc."
   ]
  },
  {
   "cell_type": "code",
   "execution_count": 196,
   "metadata": {},
   "outputs": [],
   "source": [
    "parthazards = network.hazard(xtrain[:,0:network.hyperparams['n_in']])               #calculate partial hazard \n",
    "\n",
    "NCtrain['Partial Hazards'] = parthazards"
   ]
  },
  {
   "cell_type": "code",
   "execution_count": 43,
   "metadata": {},
   "outputs": [],
   "source": [
    "eventtimes = NCtrain.sort_values(by=['Wait Time (s)'])['Wait Time (s)'].unique() #sorted event times"
   ]
  },
  {
   "cell_type": "code",
   "execution_count": 44,
   "metadata": {},
   "outputs": [],
   "source": [
    "#m_i in the baseline hazard formula, sorted by time\n",
    "eventnum = NCtrain['Wait Time (s)'].value_counts().sort_index() "
   ]
  },
  {
   "cell_type": "code",
   "execution_count": 322,
   "metadata": {},
   "outputs": [],
   "source": [
    "basehazard=[]\n",
    "for i in range(len(eventtimes)):\n",
    "    basehazard.append(\n",
    "        list(eventnum)[i] / (sum(NCtrain['Partial Hazards'][NCtrain['Wait Time (s)'] >= eventtimes[i]]))\n",
    "    )"
   ]
  },
  {
   "cell_type": "code",
   "execution_count": 323,
   "metadata": {},
   "outputs": [],
   "source": [
    "# creating a df of hazards\n",
    "eventsDF = pd.DataFrame({'Times': eventtimes, 'Counts': eventnum, 'Base Hazard': basehazard })\n",
    "\n",
    "eventsDF=eventsDF.reset_index()\n",
    "\n",
    "eventsDF=eventsDF.drop(columns=['index'])"
   ]
  },
  {
   "cell_type": "code",
   "execution_count": 324,
   "metadata": {},
   "outputs": [
    {
     "data": {
      "text/html": [
       "<div>\n",
       "<style scoped>\n",
       "    .dataframe tbody tr th:only-of-type {\n",
       "        vertical-align: middle;\n",
       "    }\n",
       "\n",
       "    .dataframe tbody tr th {\n",
       "        vertical-align: top;\n",
       "    }\n",
       "\n",
       "    .dataframe thead th {\n",
       "        text-align: right;\n",
       "    }\n",
       "</style>\n",
       "<table border=\"1\" class=\"dataframe\">\n",
       "  <thead>\n",
       "    <tr style=\"text-align: right;\">\n",
       "      <th></th>\n",
       "      <th>Times</th>\n",
       "      <th>Counts</th>\n",
       "      <th>Base Hazard</th>\n",
       "    </tr>\n",
       "  </thead>\n",
       "  <tbody>\n",
       "    <tr>\n",
       "      <th>0</th>\n",
       "      <td>0.000000</td>\n",
       "      <td>175</td>\n",
       "      <td>0.026315</td>\n",
       "    </tr>\n",
       "    <tr>\n",
       "      <th>1</th>\n",
       "      <td>0.100028</td>\n",
       "      <td>1</td>\n",
       "      <td>0.000178</td>\n",
       "    </tr>\n",
       "    <tr>\n",
       "      <th>2</th>\n",
       "      <td>0.100080</td>\n",
       "      <td>1</td>\n",
       "      <td>0.000179</td>\n",
       "    </tr>\n",
       "    <tr>\n",
       "      <th>3</th>\n",
       "      <td>0.100100</td>\n",
       "      <td>1</td>\n",
       "      <td>0.000179</td>\n",
       "    </tr>\n",
       "    <tr>\n",
       "      <th>4</th>\n",
       "      <td>0.100170</td>\n",
       "      <td>1</td>\n",
       "      <td>0.000179</td>\n",
       "    </tr>\n",
       "  </tbody>\n",
       "</table>\n",
       "</div>"
      ],
      "text/plain": [
       "      Times  Counts  Base Hazard\n",
       "0  0.000000     175     0.026315\n",
       "1  0.100028       1     0.000178\n",
       "2  0.100080       1     0.000179\n",
       "3  0.100100       1     0.000179\n",
       "4  0.100170       1     0.000179"
      ]
     },
     "execution_count": 324,
     "metadata": {},
     "output_type": "execute_result"
    }
   ],
   "source": [
    "eventsDF.head()"
   ]
  },
  {
   "cell_type": "code",
   "execution_count": 325,
   "metadata": {},
   "outputs": [
    {
     "data": {
      "image/png": "[encoded data removed]",
      "text/plain": [
       "<Figure size 432x288 with 1 Axes>"
      ]
     },
     "metadata": {
      "needs_background": "light"
     },
     "output_type": "display_data"
    }
   ],
   "source": [
    "plt.xlabel('Time (s)')\n",
    "plt.ylabel('Base hazard')\n",
    "plt.plot(eventsDF['Times'],eventsDF['Base Hazard'])\n",
    "plt.show()\n"
   ]
  },
  {
   "cell_type": "code",
   "execution_count": 429,
   "metadata": {},
   "outputs": [],
   "source": [
    "#Cumulative Hazard function (integral of baseline*partial over time)\n",
    "\n",
    "discreteTimes = np.arange(0.0, max(eventsDF['Times']),0.1)  #define discrete times with 0.1 timesteps\n",
    "discreteBase = np.interp(discreteTimes,eventsDF['Times'],eventsDF['Base Hazard'])\n",
    "def cumhazard (x):    #x: covariates of the instance we are looking into\n",
    "    parthazard = network.hazard(x) \n",
    "    hazard = parthazard * discreteBase\n",
    "    cumhazard = np.cumsum(hazard[0])\n",
    "    return cumhazard\n",
    "    \n",
    "\n",
    "    "
   ]
  },
  {
   "cell_type": "code",
   "execution_count": 432,
   "metadata": {},
   "outputs": [
    {
     "data": {
      "text/plain": [
       "array([3.14828673e-02, 3.17051163e-02, 3.19771987e-02, ...,\n",
       "       2.05994225e+03, 2.07620080e+03, 2.09255246e+03])"
      ]
     },
     "execution_count": 432,
     "metadata": {},
     "output_type": "execute_result"
    }
   ],
   "source": [
    "cumhazard(xtrain[0:1,0:network.hyperparams['n_in']])"
   ]
  },
  {
   "cell_type": "code",
   "execution_count": 433,
   "metadata": {},
   "outputs": [
    {
     "data": {
      "image/png": "[encoded data removed]",
      "text/plain": [
       "<Figure size 432x288 with 1 Axes>"
      ]
     },
     "metadata": {
      "needs_background": "light"
     },
     "output_type": "display_data"
    }
   ],
   "source": [
    "plt.xlabel('Time (s)')\n",
    "plt.ylabel('Hazard')\n",
    "plt.plot(discreteTimes,cumhazard(xtrain[0:1,0:network.hyperparams['n_in']]),'b')\n",
    "plt.plot(discreteTimes, cumhazard(xtrain[1:2,0:network.hyperparams['n_in']]), 'r')\n",
    "plt.plot(discreteTimes, cumhazard(xtrain[2:3,0:network.hyperparams['n_in']]), 'g')\n",
    "plt.plot(discreteTimes, cumhazard(xtrain[3:4,0:network.hyperparams['n_in']]), 'y')\n",
    "plt.show()\n"
   ]
  },
  {
   "cell_type": "code",
   "execution_count": null,
   "metadata": {},
   "outputs": [],
   "source": []
  },
  {
   "cell_type": "code",
   "execution_count": 437,
   "metadata": {},
   "outputs": [],
   "source": [
    "def survfunction(cumhazard,t):\n",
    "    steps = int(np.round(t/0.1,0))\n",
    "    return np.exp(-sum(0.1 * cumhazard[0:steps]))     #0.1: dz"
   ]
  },
  {
   "cell_type": "code",
   "execution_count": 438,
   "metadata": {},
   "outputs": [],
   "source": [
    "predictedwait = pd.DataFrame(columns=['Wait Time (s)'])\n",
    "for n in range(xtrain.shape[0]):\n",
    "    surv=[]\n",
    "    hazardarray = cumhazard(xtrain[n:n+1,0:network.hyperparams['n_in']])\n",
    "    for t in discreteTimes:\n",
    "        surv.append(survfunction(hazardarray,t))\n",
    "    expected = np.trapz(surv,discreteTimes)\n",
    "    predictedwait =  predictedwait.append({'Wait Time (s)': expected}, ignore_index=True)"
   ]
  },
  {
   "cell_type": "code",
   "execution_count": 379,
   "metadata": {},
   "outputs": [],
   "source": [
    "predictedwait.index=pd.DataFrame(NCtrain['Wait Time (s)']).index\n"
   ]
  },
  {
   "cell_type": "code",
   "execution_count": null,
   "metadata": {},
   "outputs": [],
   "source": [
    "x=predictedwait-pd.DataFrame(NCtrain['Wait Time (s)'])"
   ]
  },
  {
   "cell_type": "code",
   "execution_count": 414,
   "metadata": {},
   "outputs": [
    {
     "data": {
      "text/html": [
       "<div>\n",
       "<style scoped>\n",
       "    .dataframe tbody tr th:only-of-type {\n",
       "        vertical-align: middle;\n",
       "    }\n",
       "\n",
       "    .dataframe tbody tr th {\n",
       "        vertical-align: top;\n",
       "    }\n",
       "\n",
       "    .dataframe thead th {\n",
       "        text-align: right;\n",
       "    }\n",
       "</style>\n",
       "<table border=\"1\" class=\"dataframe\">\n",
       "  <thead>\n",
       "    <tr style=\"text-align: right;\">\n",
       "      <th></th>\n",
       "      <th>Wait Time (s)</th>\n",
       "    </tr>\n",
       "  </thead>\n",
       "  <tbody>\n",
       "    <tr>\n",
       "      <th>2856</th>\n",
       "      <td>32.796577</td>\n",
       "    </tr>\n",
       "    <tr>\n",
       "      <th>2161</th>\n",
       "      <td>17.417763</td>\n",
       "    </tr>\n",
       "    <tr>\n",
       "      <th>1711</th>\n",
       "      <td>29.010801</td>\n",
       "    </tr>\n",
       "    <tr>\n",
       "      <th>678</th>\n",
       "      <td>14.953612</td>\n",
       "    </tr>\n",
       "    <tr>\n",
       "      <th>1689</th>\n",
       "      <td>23.202542</td>\n",
       "    </tr>\n",
       "    <tr>\n",
       "      <th>417</th>\n",
       "      <td>20.394154</td>\n",
       "    </tr>\n",
       "    <tr>\n",
       "      <th>1763</th>\n",
       "      <td>19.136436</td>\n",
       "    </tr>\n",
       "    <tr>\n",
       "      <th>955</th>\n",
       "      <td>29.881551</td>\n",
       "    </tr>\n",
       "    <tr>\n",
       "      <th>423</th>\n",
       "      <td>17.845079</td>\n",
       "    </tr>\n",
       "    <tr>\n",
       "      <th>624</th>\n",
       "      <td>20.276606</td>\n",
       "    </tr>\n",
       "    <tr>\n",
       "      <th>2442</th>\n",
       "      <td>-5.141160</td>\n",
       "    </tr>\n",
       "    <tr>\n",
       "      <th>1401</th>\n",
       "      <td>25.098313</td>\n",
       "    </tr>\n",
       "    <tr>\n",
       "      <th>3119</th>\n",
       "      <td>25.043862</td>\n",
       "    </tr>\n",
       "    <tr>\n",
       "      <th>837</th>\n",
       "      <td>20.930585</td>\n",
       "    </tr>\n",
       "    <tr>\n",
       "      <th>2940</th>\n",
       "      <td>25.490565</td>\n",
       "    </tr>\n",
       "    <tr>\n",
       "      <th>2556</th>\n",
       "      <td>17.541227</td>\n",
       "    </tr>\n",
       "    <tr>\n",
       "      <th>2523</th>\n",
       "      <td>18.693034</td>\n",
       "    </tr>\n",
       "    <tr>\n",
       "      <th>2075</th>\n",
       "      <td>22.795627</td>\n",
       "    </tr>\n",
       "    <tr>\n",
       "      <th>2069</th>\n",
       "      <td>16.449268</td>\n",
       "    </tr>\n",
       "    <tr>\n",
       "      <th>2943</th>\n",
       "      <td>19.177466</td>\n",
       "    </tr>\n",
       "    <tr>\n",
       "      <th>780</th>\n",
       "      <td>24.537073</td>\n",
       "    </tr>\n",
       "    <tr>\n",
       "      <th>2700</th>\n",
       "      <td>30.258757</td>\n",
       "    </tr>\n",
       "    <tr>\n",
       "      <th>983</th>\n",
       "      <td>22.122367</td>\n",
       "    </tr>\n",
       "    <tr>\n",
       "      <th>821</th>\n",
       "      <td>18.275127</td>\n",
       "    </tr>\n",
       "    <tr>\n",
       "      <th>578</th>\n",
       "      <td>20.607204</td>\n",
       "    </tr>\n",
       "    <tr>\n",
       "      <th>2042</th>\n",
       "      <td>26.697872</td>\n",
       "    </tr>\n",
       "    <tr>\n",
       "      <th>1006</th>\n",
       "      <td>17.452161</td>\n",
       "    </tr>\n",
       "    <tr>\n",
       "      <th>2066</th>\n",
       "      <td>23.501792</td>\n",
       "    </tr>\n",
       "    <tr>\n",
       "      <th>2661</th>\n",
       "      <td>28.507273</td>\n",
       "    </tr>\n",
       "    <tr>\n",
       "      <th>2330</th>\n",
       "      <td>5.919101</td>\n",
       "    </tr>\n",
       "    <tr>\n",
       "      <th>...</th>\n",
       "      <td>...</td>\n",
       "    </tr>\n",
       "    <tr>\n",
       "      <th>919</th>\n",
       "      <td>22.687738</td>\n",
       "    </tr>\n",
       "    <tr>\n",
       "      <th>691</th>\n",
       "      <td>23.736322</td>\n",
       "    </tr>\n",
       "    <tr>\n",
       "      <th>1036</th>\n",
       "      <td>24.775418</td>\n",
       "    </tr>\n",
       "    <tr>\n",
       "      <th>2170</th>\n",
       "      <td>26.425548</td>\n",
       "    </tr>\n",
       "    <tr>\n",
       "      <th>3476</th>\n",
       "      <td>-26.303662</td>\n",
       "    </tr>\n",
       "    <tr>\n",
       "      <th>543</th>\n",
       "      <td>25.649412</td>\n",
       "    </tr>\n",
       "    <tr>\n",
       "      <th>2962</th>\n",
       "      <td>16.171479</td>\n",
       "    </tr>\n",
       "    <tr>\n",
       "      <th>2294</th>\n",
       "      <td>25.011386</td>\n",
       "    </tr>\n",
       "    <tr>\n",
       "      <th>546</th>\n",
       "      <td>27.788651</td>\n",
       "    </tr>\n",
       "    <tr>\n",
       "      <th>1740</th>\n",
       "      <td>18.279592</td>\n",
       "    </tr>\n",
       "    <tr>\n",
       "      <th>3143</th>\n",
       "      <td>18.347291</td>\n",
       "    </tr>\n",
       "    <tr>\n",
       "      <th>3374</th>\n",
       "      <td>22.468535</td>\n",
       "    </tr>\n",
       "    <tr>\n",
       "      <th>1823</th>\n",
       "      <td>29.089703</td>\n",
       "    </tr>\n",
       "    <tr>\n",
       "      <th>2930</th>\n",
       "      <td>20.026681</td>\n",
       "    </tr>\n",
       "    <tr>\n",
       "      <th>2563</th>\n",
       "      <td>15.844571</td>\n",
       "    </tr>\n",
       "    <tr>\n",
       "      <th>1065</th>\n",
       "      <td>35.749451</td>\n",
       "    </tr>\n",
       "    <tr>\n",
       "      <th>836</th>\n",
       "      <td>25.610955</td>\n",
       "    </tr>\n",
       "    <tr>\n",
       "      <th>973</th>\n",
       "      <td>21.512429</td>\n",
       "    </tr>\n",
       "    <tr>\n",
       "      <th>477</th>\n",
       "      <td>24.038726</td>\n",
       "    </tr>\n",
       "    <tr>\n",
       "      <th>584</th>\n",
       "      <td>15.811024</td>\n",
       "    </tr>\n",
       "    <tr>\n",
       "      <th>2160</th>\n",
       "      <td>26.794709</td>\n",
       "    </tr>\n",
       "    <tr>\n",
       "      <th>2182</th>\n",
       "      <td>20.121879</td>\n",
       "    </tr>\n",
       "    <tr>\n",
       "      <th>2036</th>\n",
       "      <td>23.872151</td>\n",
       "    </tr>\n",
       "    <tr>\n",
       "      <th>304</th>\n",
       "      <td>24.311123</td>\n",
       "    </tr>\n",
       "    <tr>\n",
       "      <th>325</th>\n",
       "      <td>21.775980</td>\n",
       "    </tr>\n",
       "    <tr>\n",
       "      <th>1652</th>\n",
       "      <td>20.472674</td>\n",
       "    </tr>\n",
       "    <tr>\n",
       "      <th>1404</th>\n",
       "      <td>29.256354</td>\n",
       "    </tr>\n",
       "    <tr>\n",
       "      <th>1809</th>\n",
       "      <td>21.279292</td>\n",
       "    </tr>\n",
       "    <tr>\n",
       "      <th>429</th>\n",
       "      <td>27.875425</td>\n",
       "    </tr>\n",
       "    <tr>\n",
       "      <th>1773</th>\n",
       "      <td>21.146110</td>\n",
       "    </tr>\n",
       "  </tbody>\n",
       "</table>\n",
       "<p>1832 rows × 1 columns</p>\n",
       "</div>"
      ],
      "text/plain": [
       "      Wait Time (s)\n",
       "2856      32.796577\n",
       "2161      17.417763\n",
       "1711      29.010801\n",
       "678       14.953612\n",
       "1689      23.202542\n",
       "417       20.394154\n",
       "1763      19.136436\n",
       "955       29.881551\n",
       "423       17.845079\n",
       "624       20.276606\n",
       "2442      -5.141160\n",
       "1401      25.098313\n",
       "3119      25.043862\n",
       "837       20.930585\n",
       "2940      25.490565\n",
       "2556      17.541227\n",
       "2523      18.693034\n",
       "2075      22.795627\n",
       "2069      16.449268\n",
       "2943      19.177466\n",
       "780       24.537073\n",
       "2700      30.258757\n",
       "983       22.122367\n",
       "821       18.275127\n",
       "578       20.607204\n",
       "2042      26.697872\n",
       "1006      17.452161\n",
       "2066      23.501792\n",
       "2661      28.507273\n",
       "2330       5.919101\n",
       "...             ...\n",
       "919       22.687738\n",
       "691       23.736322\n",
       "1036      24.775418\n",
       "2170      26.425548\n",
       "3476     -26.303662\n",
       "543       25.649412\n",
       "2962      16.171479\n",
       "2294      25.011386\n",
       "546       27.788651\n",
       "1740      18.279592\n",
       "3143      18.347291\n",
       "3374      22.468535\n",
       "1823      29.089703\n",
       "2930      20.026681\n",
       "2563      15.844571\n",
       "1065      35.749451\n",
       "836       25.610955\n",
       "973       21.512429\n",
       "477       24.038726\n",
       "584       15.811024\n",
       "2160      26.794709\n",
       "2182      20.121879\n",
       "2036      23.872151\n",
       "304       24.311123\n",
       "325       21.775980\n",
       "1652      20.472674\n",
       "1404      29.256354\n",
       "1809      21.279292\n",
       "429       27.875425\n",
       "1773      21.146110\n",
       "\n",
       "[1832 rows x 1 columns]"
      ]
     },
     "execution_count": 414,
     "metadata": {},
     "output_type": "execute_result"
    }
   ],
   "source": [
    "x"
   ]
  },
  {
   "cell_type": "code",
   "execution_count": 404,
   "metadata": {},
   "outputs": [
    {
     "data": {
      "text/plain": [
       "159947.99572859638"
      ]
     },
     "execution_count": 404,
     "metadata": {},
     "output_type": "execute_result"
    }
   ],
   "source": [
    "TSS"
   ]
  },
  {
   "cell_type": "code",
   "execution_count": 397,
   "metadata": {},
   "outputs": [],
   "source": [
    "RSS = np.linalg.norm(predictedwait-pd.DataFrame(NCtrain['Wait Time (s)']))**2   #residual sum of squares"
   ]
  },
  {
   "cell_type": "code",
   "execution_count": 400,
   "metadata": {},
   "outputs": [],
   "source": [
    "AVG = pd.DataFrame(NCtrain['Wait Time (s)']).mean()"
   ]
  },
  {
   "cell_type": "code",
   "execution_count": 402,
   "metadata": {},
   "outputs": [
    {
     "data": {
      "text/plain": [
       "-5.245644885645744"
      ]
     },
     "execution_count": 402,
     "metadata": {},
     "output_type": "execute_result"
    }
   ],
   "source": [
    "TSS = np.linalg.norm(pd.DataFrame(NCtrain['Wait Time (s)'])-AVG)**2         #Total sum of square\n",
    "\n",
    "R2 = 1-RSS/TSS                       #R squared\n",
    "\n",
    "R2"
   ]
  },
  {
   "cell_type": "code",
   "execution_count": 351,
   "metadata": {},
   "outputs": [
    {
     "data": {
      "image/png": "[encoded data removed]",
      "text/plain": [
       "<Figure size 432x288 with 1 Axes>"
      ]
     },
     "metadata": {
      "needs_background": "light"
     },
     "output_type": "display_data"
    }
   ],
   "source": [
    "plt.xlabel('Time (s)')\n",
    "plt.ylabel('Survival')\n",
    "plt.plot(discreteTimes,surv0,'b')\n",
    "plt.plot(discreteTimes,surv1,'r')\n",
    "plt.plot(discreteTimes,surv2,'g')\n",
    "plt.plot(discreteTimes,surv3,'y')\n",
    "plt.show()"
   ]
  },
  {
   "cell_type": "code",
   "execution_count": 353,
   "metadata": {},
   "outputs": [
    {
     "data": {
      "text/plain": [
       "33.49591688388263"
      ]
     },
     "execution_count": 353,
     "metadata": {},
     "output_type": "execute_result"
    }
   ],
   "source": [
    "np.trapz(surv0,discreteTimes)"
   ]
  },
  {
   "cell_type": "code",
   "execution_count": 315,
   "metadata": {},
   "outputs": [
    {
     "data": {
      "text/html": [
       "<div>\n",
       "<style scoped>\n",
       "    .dataframe tbody tr th:only-of-type {\n",
       "        vertical-align: middle;\n",
       "    }\n",
       "\n",
       "    .dataframe tbody tr th {\n",
       "        vertical-align: top;\n",
       "    }\n",
       "\n",
       "    .dataframe thead th {\n",
       "        text-align: right;\n",
       "    }\n",
       "</style>\n",
       "<table border=\"1\" class=\"dataframe\">\n",
       "  <thead>\n",
       "    <tr style=\"text-align: right;\">\n",
       "      <th></th>\n",
       "      <th>walktoshop</th>\n",
       "      <th>numcars_morethan1</th>\n",
       "      <th>mode_Car</th>\n",
       "      <th>normarrival</th>\n",
       "      <th>over50</th>\n",
       "      <th>normdens</th>\n",
       "      <th>Age_18 - 29</th>\n",
       "      <th>Snowy</th>\n",
       "      <th>Gender_Female</th>\n",
       "      <th>One way</th>\n",
       "      <th>...</th>\n",
       "      <th>FullAV</th>\n",
       "      <th>normlanewidth</th>\n",
       "      <th>Night</th>\n",
       "      <th>walktowork</th>\n",
       "      <th>normmingap</th>\n",
       "      <th>Two way with median</th>\n",
       "      <th>numcars_0</th>\n",
       "      <th>E</th>\n",
       "      <th>Wait Time (s)</th>\n",
       "      <th>Partial Hazards</th>\n",
       "    </tr>\n",
       "  </thead>\n",
       "  <tbody>\n",
       "    <tr>\n",
       "      <th>2856</th>\n",
       "      <td>1</td>\n",
       "      <td>0</td>\n",
       "      <td>0</td>\n",
       "      <td>0.385965</td>\n",
       "      <td>1</td>\n",
       "      <td>0.552430</td>\n",
       "      <td>0</td>\n",
       "      <td>0.0</td>\n",
       "      <td>0</td>\n",
       "      <td>0.0</td>\n",
       "      <td>...</td>\n",
       "      <td>1</td>\n",
       "      <td>1.0</td>\n",
       "      <td>0.0</td>\n",
       "      <td>0</td>\n",
       "      <td>0.0</td>\n",
       "      <td>0.0</td>\n",
       "      <td>0</td>\n",
       "      <td>1</td>\n",
       "      <td>0.69934</td>\n",
       "      <td>1.196400</td>\n",
       "    </tr>\n",
       "    <tr>\n",
       "      <th>2161</th>\n",
       "      <td>0</td>\n",
       "      <td>1</td>\n",
       "      <td>1</td>\n",
       "      <td>0.385965</td>\n",
       "      <td>0</td>\n",
       "      <td>0.168798</td>\n",
       "      <td>0</td>\n",
       "      <td>0.0</td>\n",
       "      <td>1</td>\n",
       "      <td>0.0</td>\n",
       "      <td>...</td>\n",
       "      <td>1</td>\n",
       "      <td>0.0</td>\n",
       "      <td>0.0</td>\n",
       "      <td>0</td>\n",
       "      <td>1.0</td>\n",
       "      <td>1.0</td>\n",
       "      <td>0</td>\n",
       "      <td>1</td>\n",
       "      <td>14.42615</td>\n",
       "      <td>1.485180</td>\n",
       "    </tr>\n",
       "    <tr>\n",
       "      <th>1711</th>\n",
       "      <td>0</td>\n",
       "      <td>0</td>\n",
       "      <td>0</td>\n",
       "      <td>0.000000</td>\n",
       "      <td>0</td>\n",
       "      <td>0.271100</td>\n",
       "      <td>1</td>\n",
       "      <td>0.0</td>\n",
       "      <td>1</td>\n",
       "      <td>0.0</td>\n",
       "      <td>...</td>\n",
       "      <td>1</td>\n",
       "      <td>0.0</td>\n",
       "      <td>1.0</td>\n",
       "      <td>1</td>\n",
       "      <td>0.0</td>\n",
       "      <td>1.0</td>\n",
       "      <td>0</td>\n",
       "      <td>1</td>\n",
       "      <td>0.00000</td>\n",
       "      <td>2.184082</td>\n",
       "    </tr>\n",
       "    <tr>\n",
       "      <th>678</th>\n",
       "      <td>1</td>\n",
       "      <td>0</td>\n",
       "      <td>0</td>\n",
       "      <td>0.000000</td>\n",
       "      <td>0</td>\n",
       "      <td>0.101662</td>\n",
       "      <td>0</td>\n",
       "      <td>0.0</td>\n",
       "      <td>0</td>\n",
       "      <td>0.0</td>\n",
       "      <td>...</td>\n",
       "      <td>1</td>\n",
       "      <td>1.0</td>\n",
       "      <td>1.0</td>\n",
       "      <td>1</td>\n",
       "      <td>0.5</td>\n",
       "      <td>0.0</td>\n",
       "      <td>1</td>\n",
       "      <td>1</td>\n",
       "      <td>9.86871</td>\n",
       "      <td>3.961653</td>\n",
       "    </tr>\n",
       "    <tr>\n",
       "      <th>1689</th>\n",
       "      <td>1</td>\n",
       "      <td>0</td>\n",
       "      <td>0</td>\n",
       "      <td>0.000000</td>\n",
       "      <td>0</td>\n",
       "      <td>0.271100</td>\n",
       "      <td>1</td>\n",
       "      <td>0.0</td>\n",
       "      <td>0</td>\n",
       "      <td>1.0</td>\n",
       "      <td>...</td>\n",
       "      <td>1</td>\n",
       "      <td>0.0</td>\n",
       "      <td>0.0</td>\n",
       "      <td>1</td>\n",
       "      <td>0.0</td>\n",
       "      <td>0.0</td>\n",
       "      <td>1</td>\n",
       "      <td>1</td>\n",
       "      <td>0.00000</td>\n",
       "      <td>5.018865</td>\n",
       "    </tr>\n",
       "  </tbody>\n",
       "</table>\n",
       "<p>5 rows × 25 columns</p>\n",
       "</div>"
      ],
      "text/plain": [
       "      walktoshop  numcars_morethan1  mode_Car  normarrival  over50  normdens  \\\n",
       "2856           1                  0         0     0.385965       1  0.552430   \n",
       "2161           0                  1         1     0.385965       0  0.168798   \n",
       "1711           0                  0         0     0.000000       0  0.271100   \n",
       "678            1                  0         0     0.000000       0  0.101662   \n",
       "1689           1                  0         0     0.000000       0  0.271100   \n",
       "\n",
       "      Age_18 - 29  Snowy  Gender_Female  One way  ...  FullAV  normlanewidth  \\\n",
       "2856            0    0.0              0      0.0  ...       1            1.0   \n",
       "2161            0    0.0              1      0.0  ...       1            0.0   \n",
       "1711            1    0.0              1      0.0  ...       1            0.0   \n",
       "678             0    0.0              0      0.0  ...       1            1.0   \n",
       "1689            1    0.0              0      1.0  ...       1            0.0   \n",
       "\n",
       "      Night  walktowork  normmingap  Two way with median  numcars_0  E  \\\n",
       "2856    0.0           0         0.0                  0.0          0  1   \n",
       "2161    0.0           0         1.0                  1.0          0  1   \n",
       "1711    1.0           1         0.0                  1.0          0  1   \n",
       "678     1.0           1         0.5                  0.0          1  1   \n",
       "1689    0.0           1         0.0                  0.0          1  1   \n",
       "\n",
       "      Wait Time (s)  Partial Hazards  \n",
       "2856        0.69934         1.196400  \n",
       "2161       14.42615         1.485180  \n",
       "1711        0.00000         2.184082  \n",
       "678         9.86871         3.961653  \n",
       "1689        0.00000         5.018865  \n",
       "\n",
       "[5 rows x 25 columns]"
      ]
     },
     "execution_count": 315,
     "metadata": {},
     "output_type": "execute_result"
    }
   ],
   "source": [
    "NCtrain.head()"
   ]
  },
  {
   "cell_type": "code",
   "execution_count": null,
   "metadata": {},
   "outputs": [],
   "source": []
  },
  {
   "cell_type": "code",
   "execution_count": null,
   "metadata": {},
   "outputs": [],
   "source": []
  }
 ],
 "metadata": {
  "kernelspec": {
   "display_name": "Python 3",
   "language": "python",
   "name": "python3"
  },
  "language_info": {
   "codemirror_mode": {
    "name": "ipython",
    "version": 3
   },
   "file_extension": ".py",
   "mimetype": "text/x-python",
   "name": "python",
   "nbconvert_exporter": "python",
   "pygments_lexer": "ipython3",
   "version": "3.6.8"
  }
 },
 "nbformat": 4,
 "nbformat_minor": 2
}
