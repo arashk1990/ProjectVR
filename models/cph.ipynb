{
 "cells": [
  {
   "cell_type": "code",
   "execution_count": 1,
   "metadata": {},
   "outputs": [],
   "source": [
    "import pandas as pd\n",
    "import numpy as np\n",
    "import time\n",
    "from lifelines import CoxPHFitter\n",
    "import matplotlib.pyplot as plt\n",
    "from statsmodels.stats.outliers_influence import variance_inflation_factor    \n",
    "from lifelines import WeibullAFTFitter\n",
    "from lifelines.utils import k_fold_cross_validation\n",
    "import pickle\n"
   ]
  },
  {
   "cell_type": "code",
   "execution_count": 2,
   "metadata": {},
   "outputs": [],
   "source": [
    "with open('/home/arash/ProjectVR/cleaneddata/deepwaitdata/nctrain', 'rb') as f:\n",
    "    NCtrain=pickle.load(f)\n",
    "\n",
    "with open('/home/arash/ProjectVR/cleaneddata/deepwaitdata/nctest', 'rb') as f:\n",
    "    NCtest=pickle.load(f)"
   ]
  },
  {
   "cell_type": "code",
   "execution_count": 3,
   "metadata": {},
   "outputs": [
    {
     "data": {
      "text/html": [
       "<div>\n",
       "<style scoped>\n",
       "    .dataframe tbody tr th:only-of-type {\n",
       "        vertical-align: middle;\n",
       "    }\n",
       "\n",
       "    .dataframe tbody tr th {\n",
       "        vertical-align: top;\n",
       "    }\n",
       "\n",
       "    .dataframe thead th {\n",
       "        text-align: right;\n",
       "    }\n",
       "</style>\n",
       "<table border=\"1\" class=\"dataframe\">\n",
       "  <thead>\n",
       "    <tr style=\"text-align: right;\">\n",
       "      <th></th>\n",
       "      <th>walktoshop</th>\n",
       "      <th>numcars_morethan1</th>\n",
       "      <th>mode_Car</th>\n",
       "      <th>normarrival</th>\n",
       "      <th>over50</th>\n",
       "      <th>normdens</th>\n",
       "      <th>Age_18 - 29</th>\n",
       "      <th>Snowy</th>\n",
       "      <th>Gender_Female</th>\n",
       "      <th>One way</th>\n",
       "      <th>...</th>\n",
       "      <th>Age_30 - 39</th>\n",
       "      <th>FullAV</th>\n",
       "      <th>normlanewidth</th>\n",
       "      <th>Night</th>\n",
       "      <th>walktowork</th>\n",
       "      <th>normmingap</th>\n",
       "      <th>Two way with median</th>\n",
       "      <th>numcars_0</th>\n",
       "      <th>E</th>\n",
       "      <th>Wait Time (s)</th>\n",
       "    </tr>\n",
       "  </thead>\n",
       "  <tbody>\n",
       "    <tr>\n",
       "      <th>2856</th>\n",
       "      <td>1</td>\n",
       "      <td>0</td>\n",
       "      <td>0</td>\n",
       "      <td>0.385965</td>\n",
       "      <td>1</td>\n",
       "      <td>0.552430</td>\n",
       "      <td>0</td>\n",
       "      <td>0.0</td>\n",
       "      <td>0</td>\n",
       "      <td>0.0</td>\n",
       "      <td>...</td>\n",
       "      <td>0</td>\n",
       "      <td>1</td>\n",
       "      <td>1.0</td>\n",
       "      <td>0.0</td>\n",
       "      <td>0</td>\n",
       "      <td>0.0</td>\n",
       "      <td>0.0</td>\n",
       "      <td>0</td>\n",
       "      <td>1</td>\n",
       "      <td>0.69934</td>\n",
       "    </tr>\n",
       "    <tr>\n",
       "      <th>2161</th>\n",
       "      <td>0</td>\n",
       "      <td>1</td>\n",
       "      <td>1</td>\n",
       "      <td>0.385965</td>\n",
       "      <td>0</td>\n",
       "      <td>0.168798</td>\n",
       "      <td>0</td>\n",
       "      <td>0.0</td>\n",
       "      <td>1</td>\n",
       "      <td>0.0</td>\n",
       "      <td>...</td>\n",
       "      <td>1</td>\n",
       "      <td>1</td>\n",
       "      <td>0.0</td>\n",
       "      <td>0.0</td>\n",
       "      <td>0</td>\n",
       "      <td>1.0</td>\n",
       "      <td>1.0</td>\n",
       "      <td>0</td>\n",
       "      <td>1</td>\n",
       "      <td>14.42615</td>\n",
       "    </tr>\n",
       "    <tr>\n",
       "      <th>1711</th>\n",
       "      <td>0</td>\n",
       "      <td>0</td>\n",
       "      <td>0</td>\n",
       "      <td>0.000000</td>\n",
       "      <td>0</td>\n",
       "      <td>0.271100</td>\n",
       "      <td>1</td>\n",
       "      <td>0.0</td>\n",
       "      <td>1</td>\n",
       "      <td>0.0</td>\n",
       "      <td>...</td>\n",
       "      <td>0</td>\n",
       "      <td>1</td>\n",
       "      <td>0.0</td>\n",
       "      <td>1.0</td>\n",
       "      <td>1</td>\n",
       "      <td>0.0</td>\n",
       "      <td>1.0</td>\n",
       "      <td>0</td>\n",
       "      <td>1</td>\n",
       "      <td>0.00000</td>\n",
       "    </tr>\n",
       "    <tr>\n",
       "      <th>678</th>\n",
       "      <td>1</td>\n",
       "      <td>0</td>\n",
       "      <td>0</td>\n",
       "      <td>0.000000</td>\n",
       "      <td>0</td>\n",
       "      <td>0.101662</td>\n",
       "      <td>0</td>\n",
       "      <td>0.0</td>\n",
       "      <td>0</td>\n",
       "      <td>0.0</td>\n",
       "      <td>...</td>\n",
       "      <td>1</td>\n",
       "      <td>1</td>\n",
       "      <td>1.0</td>\n",
       "      <td>1.0</td>\n",
       "      <td>1</td>\n",
       "      <td>0.5</td>\n",
       "      <td>0.0</td>\n",
       "      <td>1</td>\n",
       "      <td>1</td>\n",
       "      <td>9.86871</td>\n",
       "    </tr>\n",
       "    <tr>\n",
       "      <th>1689</th>\n",
       "      <td>1</td>\n",
       "      <td>0</td>\n",
       "      <td>0</td>\n",
       "      <td>0.000000</td>\n",
       "      <td>0</td>\n",
       "      <td>0.271100</td>\n",
       "      <td>1</td>\n",
       "      <td>0.0</td>\n",
       "      <td>0</td>\n",
       "      <td>1.0</td>\n",
       "      <td>...</td>\n",
       "      <td>0</td>\n",
       "      <td>1</td>\n",
       "      <td>0.0</td>\n",
       "      <td>0.0</td>\n",
       "      <td>1</td>\n",
       "      <td>0.0</td>\n",
       "      <td>0.0</td>\n",
       "      <td>1</td>\n",
       "      <td>1</td>\n",
       "      <td>0.00000</td>\n",
       "    </tr>\n",
       "  </tbody>\n",
       "</table>\n",
       "<p>5 rows × 24 columns</p>\n",
       "</div>"
      ],
      "text/plain": [
       "      walktoshop  numcars_morethan1  mode_Car  normarrival  over50  normdens  \\\n",
       "2856           1                  0         0     0.385965       1  0.552430   \n",
       "2161           0                  1         1     0.385965       0  0.168798   \n",
       "1711           0                  0         0     0.000000       0  0.271100   \n",
       "678            1                  0         0     0.000000       0  0.101662   \n",
       "1689           1                  0         0     0.000000       0  0.271100   \n",
       "\n",
       "      Age_18 - 29  Snowy  Gender_Female  One way  ...  Age_30 - 39  FullAV  \\\n",
       "2856            0    0.0              0      0.0  ...            0       1   \n",
       "2161            0    0.0              1      0.0  ...            1       1   \n",
       "1711            1    0.0              1      0.0  ...            0       1   \n",
       "678             0    0.0              0      0.0  ...            1       1   \n",
       "1689            1    0.0              0      1.0  ...            0       1   \n",
       "\n",
       "      normlanewidth  Night  walktowork  normmingap  Two way with median  \\\n",
       "2856            1.0    0.0           0         0.0                  0.0   \n",
       "2161            0.0    0.0           0         1.0                  1.0   \n",
       "1711            0.0    1.0           1         0.0                  1.0   \n",
       "678             1.0    1.0           1         0.5                  0.0   \n",
       "1689            0.0    0.0           1         0.0                  0.0   \n",
       "\n",
       "      numcars_0  E  Wait Time (s)  \n",
       "2856          0  1        0.69934  \n",
       "2161          0  1       14.42615  \n",
       "1711          0  1        0.00000  \n",
       "678           1  1        9.86871  \n",
       "1689          1  1        0.00000  \n",
       "\n",
       "[5 rows x 24 columns]"
      ]
     },
     "execution_count": 3,
     "metadata": {},
     "output_type": "execute_result"
    }
   ],
   "source": [
    "NCtrain.head()"
   ]
  },
  {
   "cell_type": "code",
   "execution_count": 4,
   "metadata": {},
   "outputs": [
    {
     "name": "stdout",
     "output_type": "stream",
     "text": [
      "<lifelines.CoxPHFitter: fitted with 1832 observations, 0 censored>\n",
      "      duration col = 'Wait Time (s)'\n",
      "         event col = 'E'\n",
      "number of subjects = 1832\n",
      "  number of events = 1832\n",
      "    log-likelihood = -11806.87\n",
      "  time fit was run = 2019-11-25 18:15:45 UTC\n",
      "\n",
      "---\n",
      "                     coef  exp(coef)  se(coef)     z      p  -log2(p)  lower 0.95  upper 0.95\n",
      "walktoshop           0.21       1.24      0.06  3.48 <0.005     10.97        0.09        0.33\n",
      "numcars_morethan1    0.01       1.01      0.06  0.24   0.81      0.30       -0.10        0.13\n",
      "mode_Car            -0.22       0.80      0.06 -3.70 <0.005     12.17       -0.34       -0.11\n",
      "normarrival         -0.15       0.86      0.10 -1.60   0.11      3.18       -0.34        0.03\n",
      "over50              -0.34       0.71      0.12 -2.75   0.01      7.38       -0.59       -0.10\n",
      "normdens            -0.64       0.53      0.14 -4.50 <0.005     17.16       -0.91       -0.36\n",
      "Age_18 - 29         -0.12       0.89      0.10 -1.21   0.23      2.13       -0.31        0.07\n",
      "Snowy               -0.05       0.95      0.05 -1.05   0.29      1.76       -0.15        0.05\n",
      "Gender_Female       -0.10       0.91      0.05 -1.95   0.05      4.30       -0.20        0.00\n",
      "One way             -0.06       0.94      0.06 -1.01   0.31      1.67       -0.17        0.06\n",
      "mode-active         -0.28       0.76      0.07 -3.75 <0.005     12.45       -0.42       -0.13\n",
      "driving license_Yes  0.08       1.08      0.09  0.85   0.40      1.34       -0.10        0.26\n",
      "Mixed               -0.04       0.96      0.20 -0.19   0.85      0.24       -0.43        0.36\n",
      "Vrexp_Yes            0.18       1.20      0.05  3.45 <0.005     10.82        0.08        0.29\n",
      "Age_30 - 39          0.22       1.24      0.10  2.25   0.02      5.35        0.03        0.41\n",
      "FullAV              -0.09       0.91      0.17 -0.54   0.59      0.76       -0.43        0.24\n",
      "normlanewidth       -0.32       0.73      0.06 -5.29 <0.005     22.99       -0.44       -0.20\n",
      "Night                0.02       1.02      0.05  0.39   0.69      0.52       -0.08        0.12\n",
      "walktowork          -0.00       1.00      0.07 -0.07   0.94      0.09       -0.13        0.12\n",
      "normmingap          -0.04       0.97      0.06 -0.60   0.55      0.86       -0.15        0.08\n",
      "Two way with median  0.19       1.21      0.06  3.26 <0.005      9.80        0.08        0.31\n",
      "numcars_0            0.18       1.19      0.07  2.45   0.01      6.13        0.04        0.32\n",
      "---\n",
      "Concordance = 0.60\n",
      "Log-likelihood ratio test = 259.85 on 22 df, -log2(p)=138.90\n"
     ]
    }
   ],
   "source": [
    "cph = CoxPHFitter()\n",
    "cph.fit(NCtrain, 'Wait Time (s)', event_col='E')\n",
    "cph.print_summary()"
   ]
  },
  {
   "cell_type": "code",
   "execution_count": 5,
   "metadata": {},
   "outputs": [
    {
     "name": "stdout",
     "output_type": "stream",
     "text": [
      "Wait Time (s)    5.810319\n",
      "dtype: float64\n"
     ]
    }
   ],
   "source": [
    "prediction = pd.DataFrame(cph.predict_expectation(NCtrain))\n",
    "prediction.columns=['Wait Time (s)']\n",
    "AVG = pd.DataFrame(NCtrain['Wait Time (s)']).mean()\n",
    "print (AVG)"
   ]
  },
  {
   "cell_type": "code",
   "execution_count": 27,
   "metadata": {},
   "outputs": [
    {
     "name": "stdout",
     "output_type": "stream",
     "text": [
      "Wait Time (s)    5.773069\n",
      "dtype: float64\n"
     ]
    }
   ],
   "source": [
    "print(prediction.mean())"
   ]
  },
  {
   "cell_type": "code",
   "execution_count": 7,
   "metadata": {},
   "outputs": [
    {
     "data": {
      "image/png": "[encoded data removed]",
      "text/plain": [
       "<Figure size 432x288 with 1 Axes>"
      ]
     },
     "metadata": {
      "needs_background": "light"
     },
     "output_type": "display_data"
    }
   ],
   "source": [
    "plt.xlabel('Time (s)')\n",
    "plt.ylabel('Base hazard')\n",
    "plt.plot(NCtrain.sort_values(by=['Wait Time (s)'])['Wait Time (s)'].unique(),cph.baseline_hazard_.values)\n",
    "plt.show()"
   ]
  },
  {
   "cell_type": "code",
   "execution_count": null,
   "metadata": {},
   "outputs": [],
   "source": []
  },
  {
   "cell_type": "code",
   "execution_count": 8,
   "metadata": {},
   "outputs": [
    {
     "name": "stdout",
     "output_type": "stream",
     "text": [
      "Wait Time (s)    5.216859\n",
      "dtype: float64\n"
     ]
    }
   ],
   "source": [
    "diff = abs(prediction-pd.DataFrame(NCtrain['Wait Time (s)'])).mean()\n",
    "#mean difference between predicted and actual wait time \n",
    "print (diff)"
   ]
  },
  {
   "cell_type": "code",
   "execution_count": 143,
   "metadata": {},
   "outputs": [
    {
     "name": "stdout",
     "output_type": "stream",
     "text": [
      "Wait Time (s)    8.567824\n",
      "dtype: float64\n"
     ]
    }
   ],
   "source": [
    "RMSE = np.sqrt(np.mean((prediction-pd.DataFrame(NCtrain['Wait Time (s)']))**2))\n",
    "print (RMSE)"
   ]
  },
  {
   "cell_type": "code",
   "execution_count": null,
   "metadata": {},
   "outputs": [],
   "source": []
  },
  {
   "cell_type": "code",
   "execution_count": 145,
   "metadata": {},
   "outputs": [
    {
     "data": {
      "text/plain": [
       "<matplotlib.legend.Legend at 0x7f2a419d6320>"
      ]
     },
     "execution_count": 145,
     "metadata": {},
     "output_type": "execute_result"
    },
    {
     "data": {
      "image/png": "[encoded data removed]",
      "text/plain": [
       "<Figure size 432x288 with 1 Axes>"
      ]
     },
     "metadata": {
      "needs_background": "light"
     },
     "output_type": "display_data"
    }
   ],
   "source": [
    "plt.hist(prediction.values, alpha=0.5, bins = 50, rwidth=0.9, range = (0,100), label='Predicted')\n",
    "plt.hist(NCtrain['Wait Time (s)'], alpha=0.5, bins = 50, rwidth=0.9, range = (0,100),  label='Actual')\n",
    "plt.legend(loc='upper right')"
   ]
  },
  {
   "cell_type": "code",
   "execution_count": null,
   "metadata": {},
   "outputs": [],
   "source": [
    "prediction = pd.DataFrame(cph.predict_expectation(NCtest))\n",
    "prediction.columns=['Wait Time (s)']\n",
    "RSS = np.linalg.norm(prediction-pd.DataFrame(NCtest['Wait Time (s)']))**2   #residual sum of squares\n",
    "AVG = pd.DataFrame(NCtest['Wait Time (s)']).mean()\n",
    "TSS = np.linalg.norm(pd.DataFrame(NCtest['Wait Time (s)'])-AVG)**2         #Total sum of square\n",
    "\n",
    "R2 = 1-RSS/TSS                       #R squared\n",
    "\n",
    "R2"
   ]
  },
  {
   "cell_type": "code",
   "execution_count": null,
   "metadata": {},
   "outputs": [],
   "source": [
    "data=data.drop(columns=['Minimum Gap','Night','dizziness_Over the years','Headaches_Currently','Headaches_Over the years','Heart_Over the years','FullAV'\n",
    "                       ],axis=1)"
   ]
  },
  {
   "cell_type": "code",
   "execution_count": null,
   "metadata": {},
   "outputs": [],
   "source": [
    "cph = CoxPHFitter()\n",
    "cph.fit(data, 'Wait Time (s)', event_col='E')\n",
    "cph.print_summary()"
   ]
  },
  {
   "cell_type": "code",
   "execution_count": null,
   "metadata": {},
   "outputs": [],
   "source": [
    "cph.baseline_hazard_"
   ]
  },
  {
   "cell_type": "code",
   "execution_count": null,
   "metadata": {},
   "outputs": [],
   "source": [
    "data=data.drop(columns=['Snowy','numcars','Occupation_Unemployed','workwalk_Sometimes','shopwalk_Sometimes',\n",
    "                        'Education_Professional degree','Education_College/University student',\n",
    "                        'mode_Car','anxiety_Currently','anxiety_Over the years'],axis=1)"
   ]
  },
  {
   "cell_type": "code",
   "execution_count": null,
   "metadata": {},
   "outputs": [],
   "source": [
    "cph = CoxPHFitter()\n",
    "cph.fit(data, 'Wait Time (s)', event_col='E')\n",
    "cph.print_summary()"
   ]
  },
  {
   "cell_type": "code",
   "execution_count": null,
   "metadata": {},
   "outputs": [],
   "source": [
    "data=data.drop(columns=['Heart_Currently','driving license_Yes','workwalk_Yes','mode_Walking','vision_Currently','vision_Over the years' ],axis=1)"
   ]
  },
  {
   "cell_type": "code",
   "execution_count": null,
   "metadata": {},
   "outputs": [],
   "source": [
    "cph = CoxPHFitter()\n",
    "cph.fit(data, 'Wait Time (s)', event_col='E')\n",
    "cph.print_summary()"
   ]
  },
  {
   "cell_type": "code",
   "execution_count": null,
   "metadata": {},
   "outputs": [],
   "source": [
    "data=data.drop(columns=['Age_30 - 39'],axis=1)"
   ]
  },
  {
   "cell_type": "code",
   "execution_count": null,
   "metadata": {},
   "outputs": [],
   "source": [
    "cph = CoxPHFitter()\n",
    "cph.fit(data, 'Wait Time (s)', event_col='E')\n",
    "cph.print_summary()"
   ]
  },
  {
   "cell_type": "code",
   "execution_count": null,
   "metadata": {},
   "outputs": [],
   "source": [
    "data=data.drop(columns=['Full Braking Before Impact_3'],axis=1)"
   ]
  },
  {
   "cell_type": "code",
   "execution_count": null,
   "metadata": {},
   "outputs": [],
   "source": [
    "cph = CoxPHFitter()\n",
    "cph.fit(data, 'Wait Time (s)', event_col='E')\n",
    "cph.print_summary()"
   ]
  },
  {
   "cell_type": "code",
   "execution_count": null,
   "metadata": {},
   "outputs": [],
   "source": [
    "data=data.drop(columns=['two way','Full Braking Before Impact_2','Education_Doctorate degree','Education_Masters degree'],axis=1)"
   ]
  },
  {
   "cell_type": "code",
   "execution_count": null,
   "metadata": {},
   "outputs": [],
   "source": [
    "cph = CoxPHFitter()\n",
    "cph.fit(data, 'Wait Time (s)', event_col='E')\n",
    "cph.print_summary()"
   ]
  },
  {
   "cell_type": "code",
   "execution_count": null,
   "metadata": {},
   "outputs": [],
   "source": [
    "data=data.drop(columns=['Age_25 - 29','Education_High school diploma'],axis=1)"
   ]
  },
  {
   "cell_type": "code",
   "execution_count": null,
   "metadata": {},
   "outputs": [],
   "source": [
    "cph = CoxPHFitter()\n",
    "cph.fit(data, 'Wait Time (s)', event_col='E')\n",
    "cph.print_summary()"
   ]
  },
  {
   "cell_type": "code",
   "execution_count": null,
   "metadata": {},
   "outputs": [],
   "source": [
    "data=data.drop(columns=['Occupation_Student','Mixed'],axis=1)"
   ]
  },
  {
   "cell_type": "code",
   "execution_count": null,
   "metadata": {},
   "outputs": [],
   "source": [
    "cph = CoxPHFitter()\n",
    "cph.fit(data, 'Wait Time (s)', event_col='E')\n",
    "cph.print_summary()"
   ]
  },
  {
   "cell_type": "code",
   "execution_count": null,
   "metadata": {},
   "outputs": [],
   "source": []
  },
  {
   "cell_type": "code",
   "execution_count": null,
   "metadata": {},
   "outputs": [],
   "source": []
  },
  {
   "cell_type": "code",
   "execution_count": null,
   "metadata": {},
   "outputs": [],
   "source": []
  },
  {
   "cell_type": "code",
   "execution_count": null,
   "metadata": {},
   "outputs": [],
   "source": []
  },
  {
   "cell_type": "code",
   "execution_count": null,
   "metadata": {},
   "outputs": [],
   "source": []
  },
  {
   "cell_type": "code",
   "execution_count": null,
   "metadata": {},
   "outputs": [],
   "source": []
  },
  {
   "cell_type": "code",
   "execution_count": null,
   "metadata": {},
   "outputs": [],
   "source": []
  },
  {
   "cell_type": "code",
   "execution_count": null,
   "metadata": {},
   "outputs": [],
   "source": [
    "scores = k_fold_cross_validation(cph, data, 'Wait Time (s)', event_col='E', k=10)"
   ]
  },
  {
   "cell_type": "code",
   "execution_count": null,
   "metadata": {},
   "outputs": [],
   "source": [
    "scores"
   ]
  },
  {
   "cell_type": "code",
   "execution_count": null,
   "metadata": {},
   "outputs": [],
   "source": [
    "print(np.mean(scores))"
   ]
  },
  {
   "cell_type": "code",
   "execution_count": null,
   "metadata": {},
   "outputs": [],
   "source": []
  },
  {
   "cell_type": "code",
   "execution_count": null,
   "metadata": {},
   "outputs": [],
   "source": []
  },
  {
   "cell_type": "code",
   "execution_count": null,
   "metadata": {},
   "outputs": [],
   "source": []
  }
 ],
 "metadata": {
  "kernelspec": {
   "display_name": "Python 3",
   "language": "python",
   "name": "python3"
  },
  "language_info": {
   "codemirror_mode": {
    "name": "ipython",
    "version": 3
   },
   "file_extension": ".py",
   "mimetype": "text/x-python",
   "name": "python",
   "nbconvert_exporter": "python",
   "pygments_lexer": "ipython3",
   "version": "3.6.8"
  }
 },
 "nbformat": 4,
 "nbformat_minor": 2
}
