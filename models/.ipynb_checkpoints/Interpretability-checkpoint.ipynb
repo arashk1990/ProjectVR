{
 "cells": [
  {
   "cell_type": "code",
   "execution_count": null,
   "metadata": {},
   "outputs": [],
   "source": [
    "import sys,os\n",
    "\n",
    "sys.path.append('/home/arash/ProjectVR/')\n",
    "\n",
    "import importlib\n",
    "import deepsurv\n",
    "import json\n",
    "import time\n",
    "import numpy as np\n",
    "import pandas as pd\n",
    "import pickle\n",
    "\n",
    "import lasagne\n",
    "import optunity\n",
    "\n",
    "import logging\n",
    "from logging import handlers\n",
    "from sklearn.model_selection import train_test_split\n",
    "\n",
    "importlib.reload(deepsurv)\n",
    "\n",
    "from deepsurv import deep_surv, utils\n",
    "\n",
    "from deepsurv.deepsurv_logger import DeepSurvLogger, TensorboardLogger\n",
    "\n",
    "import shap  # package used to calculate Shap values\n",
    "import matplotlib\n",
    "import matplotlib.pyplot as plt\n",
    "%matplotlib inline"
   ]
  },
  {
   "cell_type": "code",
   "execution_count": null,
   "metadata": {
    "scrolled": true
   },
   "outputs": [],
   "source": [
    "with open('/home/arash/ProjectVR/cleaneddata/deepwaitdata/xtrain', 'rb') as f:\n",
    "    xtrain=pickle.load(f)\n",
    "with open('/home/arash/ProjectVR/cleaneddata/deepwaitdata/nctrain', 'rb') as f:\n",
    "    NCtrain=pickle.load(f)\n",
    "\n",
    "network=deep_surv.load_model_from_json(model_fp = '/home/arash/ProjectVR/models/Deepwait1000epochsTuned',\n",
    "                     weights_fp = '/home/arash/ProjectVR/models/deepwait_weights_1000_epochs.npz')"
   ]
  },
  {
   "cell_type": "code",
   "execution_count": null,
   "metadata": {},
   "outputs": [],
   "source": [
    "#using train set for interpretability\n",
    "dfxtrain=pd.DataFrame(xtrain[:,0:network.hyperparams['n_in']])\n",
    "dfxtrain.columns=NCtrain.iloc[:,0:network.hyperparams['n_in']].columns\n",
    "\n",
    "#seperate binary and continous variables:\n",
    "binarycol = ['walktoshop','numcars_morethan1','mode_Car','over50','Age_18 - 29','Snowy',\n",
    "           'Gender_Female', 'One way','mode-active', 'driving license_Yes', 'Mixed', 'Vrexp_Yes',\n",
    "           'Age_30 - 39', 'FullAV','Night', 'walktowork']\n",
    "contcol = ['normarrival','normdens','normlanewidth']\n",
    "\n",
    "#using zeros as background data for binary variables, and mean value for cont variables\n",
    "backgrounddata=pd.DataFrame(np.zeros(network.hyperparams['n_in'])).T         \n",
    "backgrounddata.columns=NCtrain.iloc[:,0:network.hyperparams['n_in']].columns\n",
    "backgrounddata[contcol]=[(dfxtrain['normarrival']).mean(),\n",
    "                         (dfxtrain['normdens']).mean(),(dfxtrain['normlanewidth']).mean()] \n",
    "\n",
    "\n",
    "explainer = shap.KernelExplainer(network.predict_risk,backgrounddata)\n",
    "shap_values = explainer.shap_values(dfxtrain)\n"
   ]
  },
  {
   "cell_type": "code",
   "execution_count": null,
   "metadata": {},
   "outputs": [],
   "source": [
    "shap.summary_plot(shap_values[0], dfxtrain,max_display=20)"
   ]
  },
  {
   "cell_type": "markdown",
   "metadata": {},
   "source": [
    "### Create Table of Shap Values for each feature"
   ]
  },
  {
   "cell_type": "code",
   "execution_count": null,
   "metadata": {},
   "outputs": [],
   "source": [
    "def greaterthanmean(col):\n",
    "    ColMean=col.mean()\n",
    "    BlueIndex=col[col<=ColMean].index     #indices of feature values less than (or eq to) avg of feature\n",
    "    return BlueIndex\n",
    "\n",
    "Blues = {'normarrival': greaterthanmean(dfxtrainsub['normarrival']),\n",
    "         'normdens': greaterthanmean(dfxtrainsub['normdens']),\n",
    "        'normlanewidth': greaterthanmean(dfxtrainsub['normlanewidth'])}\n",
    "\n",
    "\n",
    "shap_df = pd.DataFrame(shap_values[0], copy = True)\n",
    "shap_df.columns = dfxtrainsub.columns\n",
    "shap_df['normarrival'][Blues['normarrival']] = shap_df['normarrival'][Blues['normarrival']]*(-1)\n",
    "shap_df['normdens'][Blues['normdens']] = shap_df['normdens'][Blues['normdens']]*(-1)\n",
    "shap_df['normlanewidth'][Blues['normlanewidth']] = shap_df['normlanewidth'][Blues['normlanewidth']]*(-1)\n",
    "\n",
    "\n",
    "\n",
    "\n",
    "\n",
    "mean=shap_df[shap_df!=0].mean()              #mean of shap values for each feature (non-zeros only\n",
    "\n",
    "nonzeros=shap_df.astype(bool).sum(axis=0)        #count of non-zeros shap values for each feature\n",
    "\n",
    "std=shap_df[shap_df!=0].std()                #standard deviation of shap values for each feature\n",
    "\n",
    "featuresshap=pd.DataFrame()\n",
    "\n",
    "featuresshap['count']=nonzeros\n",
    "featuresshap['mean']=mean                 #bg0: zeros set as background data\n",
    "\n",
    "featuresshap['std']=std\n",
    "\n",
    "featuresshap['absmean']=abs(mean)\n",
    "\n",
    "featuresshap.sort_values(by=['absmean'])"
   ]
  }
 ],
 "metadata": {
  "kernelspec": {
   "display_name": "Python 3",
   "language": "python",
   "name": "python3"
  },
  "language_info": {
   "codemirror_mode": {
    "name": "ipython",
    "version": 3
   },
   "file_extension": ".py",
   "mimetype": "text/x-python",
   "name": "python",
   "nbconvert_exporter": "python",
   "pygments_lexer": "ipython3",
   "version": "3.6.8"
  }
 },
 "nbformat": 4,
 "nbformat_minor": 2
}
