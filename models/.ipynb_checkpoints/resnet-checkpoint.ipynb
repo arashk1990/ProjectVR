{
 "cells": [
  {
   "cell_type": "code",
   "execution_count": 3,
   "metadata": {},
   "outputs": [
    {
     "name": "stderr",
     "output_type": "stream",
     "text": [
      "Using TensorFlow backend.\n"
     ]
    }
   ],
   "source": [
    "import pandas as pd\n",
    "import numpy as np\n",
    "import keras\n",
    "from sklearn.model_selection import train_test_split,KFold,StratifiedKFold\n",
    "\n",
    "from sklearn.neural_network import MLPClassifier\n",
    "\n",
    "from keras.models import  Model,Input\n",
    "from keras.layers import Dense,Activation,Dropout,BatchNormalization\n",
    "from sklearn.preprocessing import StandardScaler\n",
    "from sklearn.metrics import confusion_matrix, precision_score, recall_score, f1_score, cohen_kappa_score\n",
    "from sklearn.model_selection import cross_val_score,GridSearchCV\n",
    "from math import ceil\n",
    "from keras.wrappers.scikit_learn import KerasClassifier\n",
    "import time\n",
    "\n",
    "\n",
    "from sklearn.utils import shuffle        #PseudoLabeler definition\n",
    "\n"
   ]
  },
  {
   "cell_type": "code",
   "execution_count": 5,
   "metadata": {
    "scrolled": true
   },
   "outputs": [
    {
     "name": "stdout",
     "output_type": "stream",
     "text": [
      "Fitting 8 folds for each of 12 candidates, totalling 96 fits\n"
     ]
    },
    {
     "name": "stderr",
     "output_type": "stream",
     "text": [
      "[Parallel(n_jobs=-1)]: Done   2 tasks      | elapsed: 21.8min\n",
      "[Parallel(n_jobs=-1)]: Done   9 tasks      | elapsed: 48.2min\n",
      "[Parallel(n_jobs=-1)]: Done  16 tasks      | elapsed: 49.9min\n",
      "[Parallel(n_jobs=-1)]: Done  25 tasks      | elapsed: 118.6min\n",
      "[Parallel(n_jobs=-1)]: Done  34 tasks      | elapsed: 162.1min\n",
      "[Parallel(n_jobs=-1)]: Done  45 tasks      | elapsed: 216.0min\n",
      "[Parallel(n_jobs=-1)]: Done  56 tasks      | elapsed: 238.8min\n",
      "[Parallel(n_jobs=-1)]: Done  69 tasks      | elapsed: 298.4min\n",
      "[Parallel(n_jobs=-1)]: Done  91 out of  96 | elapsed: 424.4min remaining: 23.3min\n",
      "[Parallel(n_jobs=-1)]: Done  96 out of  96 | elapsed: 429.2min finished\n"
     ]
    }
   ],
   "source": [
    "#Data preparation, X_train and y_train are standardized, X_test is not\n",
    "X_train = pd.read_csv('XLabeled.csv',sep='\\t')\n",
    "y_train = pd.read_csv('YLabeled.csv',sep='\\t')\n",
    "X_test = pd.read_csv('unlabeled.csv',sep='\\t')\n",
    "mapping = {X_train.columns[0]:'ID',y_train.columns[0]:'ID',X_test.columns[0]:'ID'}\n",
    "\n",
    "X_train = X_train.rename(columns=mapping)\n",
    "y_train = y_train.rename(columns=mapping)\n",
    "X_test = X_test.rename(columns=mapping)\n",
    "\n",
    "X_train=X_train.drop(['ID'], axis=1)\n",
    "\n",
    "y_train=y_train.drop(['ID'], axis=1)\n",
    "X_test=X_test.drop(['ID'], axis=1)\n",
    "scaler=StandardScaler()\n",
    "X_test=pd.DataFrame(scaler.fit_transform(X_test),index=X_test.index,columns=X_test.columns)\n",
    "#y_train=y_train['Mode'].apply(str)     #convert categorical to dummy\n",
    "#y_train = pd.get_dummies(y_train)\n",
    "\n",
    "features=X_train.columns[0:]\n",
    "target='Mode'\n",
    "\n",
    "# Pseduo ResNet MLP Grid search\n",
    "from pseudoMLPResNet import Unit, MiniModel,PseudoLabeler\n",
    "\n",
    "############## set params here:\n",
    "nepoch=800   #number of epochs\n",
    "nbatchsize=32       #batchsize\n",
    "num_folds = 8        \n",
    "sample_rates = [0,0.2,0.4,0.6,0.8,1]\n",
    "hUs = [16,24]   #number of units, number of total layers would be hu*2+2\n",
    "\n",
    "\n",
    "\n",
    "model=PseudoLabeler(KerasClassifier(build_fn=MiniModel, epochs=nepoch, batch_size=nbatchsize, verbose=0),\n",
    "                    X_test, features, target)\n",
    "\n",
    "c, r = y_train.shape\n",
    "y_train = y_train.values.reshape(c,)\n",
    "X_train = X_train.values.reshape(c,15)\n",
    "param_grid = dict(hU=hUs, sample_rate=sample_rates)\n",
    "\n",
    "\n",
    "t0 = time.time()\n",
    "if __name__=='__main__':\n",
    "    grid = GridSearchCV(estimator=model, param_grid=param_grid,scoring='accuracy',cv=num_folds,verbose=10,n_jobs=-1)\n",
    "    grid_result = grid.fit(X_train, y_train)\n",
    "    \n",
    "#    for sample_rate in sample_rates:\n",
    "#        model.sample_rate = sample_rate\n",
    "#        scores = cross_val_score(model, X_train, y_train, scoring='accuracy', cv=num_folds,n_jobs=-1)\n",
    "#        results['test'].append(scores.mean())\n",
    "\n",
    "np.save('GridResults2.npy',grid_result.cv_results_)\n",
    "t1 = time.time()  \n",
    "totalsem=t1-t0"
   ]
  },
  {
   "cell_type": "code",
   "execution_count": null,
   "metadata": {
    "collapsed": true
   },
   "outputs": [],
   "source": [
    "\n"
   ]
  },
  {
   "cell_type": "code",
   "execution_count": 4,
   "metadata": {},
   "outputs": [
    {
     "ename": "NameError",
     "evalue": "name 'grid_result' is not defined",
     "output_type": "error",
     "traceback": [
      "\u001b[0;31m---------------------------------------------------------------------------\u001b[0m",
      "\u001b[0;31mNameError\u001b[0m                                 Traceback (most recent call last)",
      "\u001b[0;32m<ipython-input-4-4cfd27f1a3a2>\u001b[0m in \u001b[0;36m<module>\u001b[0;34m()\u001b[0m\n\u001b[1;32m      1\u001b[0m \u001b[0;31m# summarize results\u001b[0m\u001b[0;34m\u001b[0m\u001b[0;34m\u001b[0m\u001b[0m\n\u001b[1;32m      2\u001b[0m \u001b[0mGridResults\u001b[0m\u001b[0;34m=\u001b[0m\u001b[0mnp\u001b[0m\u001b[0;34m.\u001b[0m\u001b[0mload\u001b[0m\u001b[0;34m(\u001b[0m\u001b[0;34m'GridResults.npy'\u001b[0m\u001b[0;34m)\u001b[0m\u001b[0;34m.\u001b[0m\u001b[0mitem\u001b[0m\u001b[0;34m(\u001b[0m\u001b[0;34m)\u001b[0m\u001b[0;34m\u001b[0m\u001b[0m\n\u001b[0;32m----> 3\u001b[0;31m \u001b[0;32mprint\u001b[0m\u001b[0;34m(\u001b[0m\u001b[0;34m\"Best: %f using %s\"\u001b[0m \u001b[0;34m%\u001b[0m \u001b[0;34m(\u001b[0m\u001b[0mgrid_result\u001b[0m\u001b[0;34m.\u001b[0m\u001b[0mbest_score_\u001b[0m\u001b[0;34m,\u001b[0m \u001b[0mgrid_result\u001b[0m\u001b[0;34m.\u001b[0m\u001b[0mbest_params_\u001b[0m\u001b[0;34m)\u001b[0m\u001b[0;34m)\u001b[0m\u001b[0;34m\u001b[0m\u001b[0m\n\u001b[0m\u001b[1;32m      4\u001b[0m \u001b[0mmeans\u001b[0m \u001b[0;34m=\u001b[0m \u001b[0mgrid_result\u001b[0m\u001b[0;34m.\u001b[0m\u001b[0mcv_results_\u001b[0m\u001b[0;34m[\u001b[0m\u001b[0;34m'mean_test_score'\u001b[0m\u001b[0;34m]\u001b[0m\u001b[0;34m\u001b[0m\u001b[0m\n\u001b[1;32m      5\u001b[0m \u001b[0mstds\u001b[0m \u001b[0;34m=\u001b[0m \u001b[0mgrid_result\u001b[0m\u001b[0;34m.\u001b[0m\u001b[0mcv_results_\u001b[0m\u001b[0;34m[\u001b[0m\u001b[0;34m'std_test_score'\u001b[0m\u001b[0;34m]\u001b[0m\u001b[0;34m\u001b[0m\u001b[0m\n",
      "\u001b[0;31mNameError\u001b[0m: name 'grid_result' is not defined"
     ]
    }
   ],
   "source": [
    "# summarize results\n",
    "GridResults=np.load('GridResults.npy').item()\n",
    "print(\"Best: %f using %s\" % (grid_result.best_score_, grid_result.best_params_))\n",
    "means = grid_result.cv_results_['mean_test_score']\n",
    "stds = grid_result.cv_results_['std_test_score']\n",
    "params = grid_result.cv_results_['params']\n",
    "for mean, stdev, param in zip(means, stds, params):\n",
    "\tprint(\"%f (%f) with: %r\" % (mean, stdev, param))\n",
    "\n"
   ]
  },
  {
   "cell_type": "code",
   "execution_count": 8,
   "metadata": {},
   "outputs": [
    {
     "name": "stdout",
     "output_type": "stream",
     "text": [
      "0.778302 (0.101998) with: {u'sample_rate': 0, u'hU': 4}\n",
      "0.787736 (0.099303) with: {u'sample_rate': 0.3, u'hU': 4}\n",
      "0.771226 (0.085666) with: {u'sample_rate': 0.6, u'hU': 4}\n",
      "0.787736 (0.061254) with: {u'sample_rate': 1, u'hU': 4}\n",
      "0.791274 (0.048528) with: {u'sample_rate': 0, u'hU': 9}\n",
      "0.788915 (0.073697) with: {u'sample_rate': 0.3, u'hU': 9}\n",
      "0.794811 (0.049126) with: {u'sample_rate': 0.6, u'hU': 9}\n",
      "0.725236 (0.076597) with: {u'sample_rate': 1, u'hU': 9}\n",
      "0.811321 (0.041337) with: {u'sample_rate': 0, u'hU': 16}\n",
      "0.795991 (0.053264) with: {u'sample_rate': 0.3, u'hU': 16}\n",
      "0.744104 (0.062257) with: {u'sample_rate': 0.6, u'hU': 16}\n",
      "0.806604 (0.036857) with: {u'sample_rate': 1, u'hU': 16}\n"
     ]
    }
   ],
   "source": [
    "# Mac load data py2\n",
    "GridResults=np.load('GridResults.npy').item()\n",
    "#print(\"Best: %f using %s\" % (grid_result.best_score_, grid_result.best_params_))\n",
    "means = GridResults['mean_test_score']\n",
    "stds = GridResults['std_test_score']\n",
    "params = GridResults['params']\n",
    "for mean, stdev, param in zip(means, stds, params):\n",
    "\tprint(\"%f (%f) with: %r\" % (mean, stdev, param))\n",
    "\n"
   ]
  },
  {
   "cell_type": "code",
   "execution_count": null,
   "metadata": {
    "collapsed": true
   },
   "outputs": [],
   "source": []
  },
  {
   "cell_type": "code",
   "execution_count": null,
   "metadata": {
    "collapsed": true
   },
   "outputs": [],
   "source": [
    "#### RESNET-MLP\n",
    "niter=2\n",
    "nepoch=10\n",
    "nbatchsize=32\n",
    "num_folds = 2\n",
    "iter = np.linspace(1, niter, niter)\n",
    "model=KerasClassifier(build_fn=MiniModel, epochs=nepoch, batch_size=nbatchsize, verbose=0)\n",
    "\n",
    "    \n",
    "results = {}\n",
    "results['ResNet20'] = list()\n",
    "\n",
    "t0 = time.time()    \n",
    "if __name__=='__main__':\n",
    "\n",
    "    for i in iter:\n",
    "            model.seed = i\n",
    "            \n",
    "            scores = cross_val_score(model, X_train, y_train, scoring='accuracy', cv=num_folds,n_jobs=-1)\n",
    "            \n",
    "            results['ResNet20'].append(scores.mean())\n",
    "    \n",
    "\n",
    "\n",
    "t1 = time.time()\n",
    "total = t1-t0\n",
    "average_acc=sum(results['ResNet20'])/niter"
   ]
  },
  {
   "cell_type": "code",
   "execution_count": null,
   "metadata": {
    "collapsed": true
   },
   "outputs": [],
   "source": []
  },
  {
   "cell_type": "code",
   "execution_count": null,
   "metadata": {
    "collapsed": true,
    "scrolled": false
   },
   "outputs": [],
   "source": [
    "\n"
   ]
  },
  {
   "cell_type": "code",
   "execution_count": null,
   "metadata": {
    "collapsed": true
   },
   "outputs": [],
   "source": [
    "# plotting-not updated yet\n",
    "import matplotlib.pyplot as plt\n",
    "\n",
    "compare=plt.figure(figsize=(16, 18))\n",
    "\n",
    "i = 1\n",
    "for model_name, performance in results.items():    \n",
    "    plt.subplot(3, 3, i)\n",
    "    i += 1\n",
    "    \n",
    "    plt.plot(sample_rates, performance)\n",
    "    plt.title(model_name)\n",
    "    plt.xlabel('sample_rate')\n",
    "    plt.ylabel('Accuracy')\n",
    "    \n",
    "\n",
    "plt.show()\n",
    "compare.savefig(\"foo.pdf\", bbox_inches='tight')"
   ]
  },
  {
   "cell_type": "code",
   "execution_count": null,
   "metadata": {
    "collapsed": true
   },
   "outputs": [],
   "source": [
    "#confusion matrix, not implemented yet\n",
    "model=pseudo_label_wrapper(RandomForestClassifier(n_estimators=400, max_depth=None,min_samples_split=2, random_state=0))\n",
    "model.sample_rate=0.6\n",
    "y_pred = cross_val_predict(model, X_train, y_train, cv=10)\n",
    "conf_mat = confusion_matrix(y_train, y_pred)\n",
    "conf_mat_norm=conf_mat.astype('float') / conf_mat.sum(axis=1)[:, np.newaxis]"
   ]
  },
  {
   "cell_type": "code",
   "execution_count": null,
   "metadata": {
    "collapsed": true
   },
   "outputs": [],
   "source": []
  },
  {
   "cell_type": "code",
   "execution_count": null,
   "metadata": {
    "collapsed": true
   },
   "outputs": [],
   "source": []
  },
  {
   "cell_type": "code",
   "execution_count": null,
   "metadata": {
    "collapsed": true
   },
   "outputs": [],
   "source": []
  },
  {
   "cell_type": "code",
   "execution_count": null,
   "metadata": {
    "collapsed": true
   },
   "outputs": [],
   "source": []
  },
  {
   "cell_type": "code",
   "execution_count": null,
   "metadata": {
    "collapsed": true
   },
   "outputs": [],
   "source": []
  }
 ],
 "metadata": {
  "kernelspec": {
   "display_name": "Python 3",
   "language": "python",
   "name": "python3"
  },
  "language_info": {
   "codemirror_mode": {
    "name": "ipython",
    "version": 3
   },
   "file_extension": ".py",
   "mimetype": "text/x-python",
   "name": "python",
   "nbconvert_exporter": "python",
   "pygments_lexer": "ipython3",
   "version": "3.6.8"
  }
 },
 "nbformat": 4,
 "nbformat_minor": 1
}
