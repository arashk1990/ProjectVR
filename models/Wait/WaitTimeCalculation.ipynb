{
 "cells": [
  {
   "cell_type": "code",
   "execution_count": null,
   "metadata": {},
   "outputs": [],
   "source": [
    "import sys,os\n",
    "\n",
    "sys.path.append('/home/arash/ProjectVR/')\n",
    "import statistics\n",
    "import importlib\n",
    "import deepsurv\n",
    "import json\n",
    "import time\n",
    "import numpy as np\n",
    "import pandas as pd\n",
    "import pickle\n",
    "import theano.tensor\n",
    "import lasagne\n",
    "import optunity\n",
    "import scipy\n",
    "import scipy.stats\n",
    "import scipy.integrate as integrate\n",
    "#import logging\n",
    "#from logging import handlers\n",
    "#from sklearn.model_selection import train_test_split\n",
    "from scipy.stats import lognorm, expon, weibull_min,gamma,norm\n",
    "importlib.reload(deepsurv)\n",
    "\n",
    "from deepsurv import deep_surv, utils\n",
    "\n",
    "#from deepsurv.deepsurv_logger import DeepSurvLogger, TensorboardLogger\n",
    "\n",
    "import matplotlib\n",
    "import matplotlib.pyplot as plt\n",
    "%matplotlib inline"
   ]
  },
  {
   "cell_type": "markdown",
   "metadata": {},
   "source": [
    "### Load trained network and data"
   ]
  },
  {
   "cell_type": "code",
   "execution_count": null,
   "metadata": {},
   "outputs": [],
   "source": [
    "#deepsurv formatted data    \n",
    "with open('/home/arash/ProjectVR/cleaneddata/deepwaitdata/xtest', 'rb') as f:\n",
    "    xtest=pickle.load(f)\n",
    "\n",
    "with open('/home/arash/ProjectVR/cleaneddata/deepwaitdata/xtrain', 'rb') as f:\n",
    "    xtrain=pickle.load(f)\n",
    "    \n",
    "with open('/home/arash/ProjectVR/cleaneddata/deepwaitdata/ytrain', 'rb') as f:\n",
    "    ytrain=pickle.load(f)  \n",
    "    \n",
    "#dataframe data with wait times and col names    \n",
    "with open('/home/arash/ProjectVR/cleaneddata/deepwaitdata/nctest', 'rb') as f:   \n",
    "    NCtest=pickle.load(f)\n",
    "    \n",
    "with open('/home/arash/ProjectVR/cleaneddata/deepwaitdata/nctrain', 'rb') as f:   \n",
    "    NCtrain=pickle.load(f) \n",
    "    \n",
    "network=deep_surv.load_model_from_json(model_fp = '/home/arash/ProjectVR/models/Deepwait100epochsTuned',\n",
    "                     weights_fp = '/home/arash/ProjectVR/models/deepwait_weights_100_epochs.npz')"
   ]
  },
  {
   "cell_type": "markdown",
   "metadata": {},
   "source": [
    "### Predicting event times\n",
    "To predict the time of event for instances, having an estimation of partial hazard is not sufficient. First, baseline hazard is required to estimate hazard function, which will be a function of time and covariates. The next step would be to calculate survival function. Finally, expected wait time can be calculated by:\n",
    "\\begin{equation}\n",
    "    E(t)=\\int_{t=0}^\\infty S(t)dt\n",
    "\\end{equation}\n",
    "Baseline hazard is interpreted as hazard function regardless of the values of the covariates (or when they are all 0). Different methods have been suggested in the literature for an estimation of baseline hazard. \n",
    "deepwait predicts wait time for autonmous vehicle, so the data used will be solely those ones that the car can observe, not sociodemographic etc, and the baseline hazards are calculated based on training data, as the car will not know about other pedestrians at risk etc."
   ]
  },
  {
   "cell_type": "code",
   "execution_count": 3,
   "metadata": {},
   "outputs": [
    {
     "name": "stderr",
     "output_type": "stream",
     "text": [
      "WARNING (theano.tensor.blas): We did not find a dynamic library in the library_dir of the library we use for blas. If you use ATLAS, make sure to compile it with dynamics library.\n",
      "WARNING (theano.tensor.blas): We did not find a dynamic library in the library_dir of the library we use for blas. If you use ATLAS, make sure to compile it with dynamics library.\n"
     ]
    }
   ],
   "source": [
    "def cumhazard (x):          #x: covariates of the instance we are looking into\n",
    "    parthazard = network.hazard(x) \n",
    "    hazard = parthazard * CumBase\n",
    "    return hazard[0]\n",
    "\n",
    "risks = network.predict_risk(xtrain[:,0:network.hyperparams['n_in']]) #calculate logpartial hazard \n",
    "## Modify risks to have a zero mean\n",
    "modifiedrisks = risks - risks.mean()\n",
    "parthazards = np.exp(modifiedrisks)    #calculate partial hazard "
   ]
  },
  {
   "cell_type": "markdown",
   "metadata": {},
   "source": [
    "### Baseline Hazard: Breslow\n",
    "For CPH, the method used in python package is extracted from Breslow [1972]. In their method, \"the underlying survival distribution is\n",
    "parameterized as a continuous one, having constant hazards $\\lambda_i$ between each\n",
    "pair $t_{i-1}$ to $t_i$ of distinct relapse times. If all withdrawals, or censored observations, which\n",
    "occur in the interval $(t_i, t_{i+1})$ are adjusted to have occurred at $t_i$ , the ML estimator of\n",
    "$\\lambda$ in terms of $\\beta$ coefficients at time $t_i$ by:\n",
    "\\begin{equation}\n",
    "\\label{eq:9}\n",
    "    \\lambda_i=\\frac{m_i}{\\displaystyle \\sum_{j: T_j>T_i } e^{\\beta*Z_j}}\n",
    "\\end{equation}\n",
    "in which $m_i$ is the number of events at time $t_i$, Equation above is provided for CPH. In deepwait, we replace the partial hazards part with the exp of the output of our network "
   ]
  },
  {
   "cell_type": "code",
   "execution_count": 4,
   "metadata": {},
   "outputs": [],
   "source": [
    "NCtrain['Partial Hazards'] = parthazards\n",
    "\n",
    "#eventtimes = NCtrain.sort_values(by=['Wait Time (s)'])['Wait Time (s)'].unique()     #sorted event times\n",
    "\n",
    "discreteTimes = np.arange(0.0, max(NCtrain['Wait Time (s)']),0.1)   #define discrete times with 0.1 timesteps\n",
    "\n",
    "#m_i in the baseline hazard formula, sorted by time\n",
    "eventnum=[]\n",
    "for t in discreteTimes:\n",
    "    eventnum.append(NCtrain[(t<=NCtrain['Wait Time (s)']) &\n",
    "                            (NCtrain['Wait Time (s)']<(t+0.1))].shape[0])"
   ]
  },
  {
   "cell_type": "code",
   "execution_count": 5,
   "metadata": {},
   "outputs": [],
   "source": [
    "#eventnum = NCtrain['Wait Time (s)'].value_counts().sort_index() \n",
    "basehazard=[]\n",
    "for i in range(len(discreteTimes)):\n",
    "    basehazard.append(\n",
    "        eventnum[i] / ((sum(NCtrain['Partial Hazards'][NCtrain['Wait Time (s)'] >= discreteTimes[i]])))\n",
    "    )"
   ]
  },
  {
   "cell_type": "code",
   "execution_count": 6,
   "metadata": {},
   "outputs": [
    {
     "data": {
      "text/html": [
       "<div>\n",
       "<style scoped>\n",
       "    .dataframe tbody tr th:only-of-type {\n",
       "        vertical-align: middle;\n",
       "    }\n",
       "\n",
       "    .dataframe tbody tr th {\n",
       "        vertical-align: top;\n",
       "    }\n",
       "\n",
       "    .dataframe thead th {\n",
       "        text-align: right;\n",
       "    }\n",
       "</style>\n",
       "<table border=\"1\" class=\"dataframe\">\n",
       "  <thead>\n",
       "    <tr style=\"text-align: right;\">\n",
       "      <th></th>\n",
       "      <th>Times</th>\n",
       "      <th>Counts</th>\n",
       "      <th>Base Hazard</th>\n",
       "    </tr>\n",
       "  </thead>\n",
       "  <tbody>\n",
       "    <tr>\n",
       "      <th>0</th>\n",
       "      <td>0.0</td>\n",
       "      <td>175</td>\n",
       "      <td>0.067918</td>\n",
       "    </tr>\n",
       "    <tr>\n",
       "      <th>1</th>\n",
       "      <td>0.1</td>\n",
       "      <td>97</td>\n",
       "      <td>0.044676</td>\n",
       "    </tr>\n",
       "    <tr>\n",
       "      <th>2</th>\n",
       "      <td>0.2</td>\n",
       "      <td>40</td>\n",
       "      <td>0.020752</td>\n",
       "    </tr>\n",
       "    <tr>\n",
       "      <th>3</th>\n",
       "      <td>0.3</td>\n",
       "      <td>47</td>\n",
       "      <td>0.025379</td>\n",
       "    </tr>\n",
       "    <tr>\n",
       "      <th>4</th>\n",
       "      <td>0.4</td>\n",
       "      <td>50</td>\n",
       "      <td>0.028653</td>\n",
       "    </tr>\n",
       "  </tbody>\n",
       "</table>\n",
       "</div>"
      ],
      "text/plain": [
       "   Times  Counts  Base Hazard\n",
       "0    0.0     175     0.067918\n",
       "1    0.1      97     0.044676\n",
       "2    0.2      40     0.020752\n",
       "3    0.3      47     0.025379\n",
       "4    0.4      50     0.028653"
      ]
     },
     "execution_count": 6,
     "metadata": {},
     "output_type": "execute_result"
    }
   ],
   "source": [
    "# creating a df of hazards\n",
    "eventsDF = pd.DataFrame({'Times': discreteTimes, 'Counts': eventnum, 'Base Hazard': basehazard })\n",
    "\n",
    "eventsDF=eventsDF.reset_index()\n",
    "\n",
    "eventsDF=eventsDF.drop(columns=['index'])\n",
    "\n",
    "eventsDF.head()"
   ]
  },
  {
   "cell_type": "code",
   "execution_count": null,
   "metadata": {},
   "outputs": [],
   "source": [
    "plt.xlabel('Time (s)')\n",
    "plt.ylabel('Base hazard')\n",
    "plt.plot(eventsDF['Times'],eventsDF['Base Hazard'])\n",
    "plt.show()"
   ]
  },
  {
   "cell_type": "code",
   "execution_count": null,
   "metadata": {},
   "outputs": [],
   "source": [
    "#Cumulative Hazard function (integral of baseline*partial over time)\n",
    "BaseoverTimes = np.array(basehazard)\n",
    "CumBase = np.cumsum(BaseoverTimes)"
   ]
  },
  {
   "cell_type": "code",
   "execution_count": null,
   "metadata": {},
   "outputs": [],
   "source": [
    "plt.xlabel('Time (s)')\n",
    "plt.ylabel('Cumulative hazard')\n",
    "plt.plot(eventsDF['Times'],CumBase)\n",
    "plt.show()"
   ]
  },
  {
   "cell_type": "code",
   "execution_count": null,
   "metadata": {},
   "outputs": [],
   "source": [
    "plt.plot(discreteTimes,np.exp(-CumBase))"
   ]
  },
  {
   "cell_type": "code",
   "execution_count": null,
   "metadata": {},
   "outputs": [],
   "source": [
    "#Train set prediction and validation\n",
    "predictedwait = pd.DataFrame(columns=['Wait Time (s)'])\n",
    "medwait = pd.DataFrame(columns=['Wait Time (s)'])\n",
    "for n in range(xtrain.shape[0]):\n",
    "    parthazard = parthazards[n]\n",
    "    med = statistics.median(np.exp(-CumBase*parthazard))\n",
    "    expected = np.trapz(np.exp(-CumBase*parthazard),discreteTimes)\n",
    "    predictedwait =  predictedwait.append({'Wait Time (s)': expected}, ignore_index=True)\n",
    "    medwait =  medwait.append({'Wait Time (s)': med}, ignore_index=True)\n",
    "predictedwait.index=pd.DataFrame(NCtrain['Wait Time (s)']).index \n",
    "medwait.index=pd.DataFrame(NCtrain['Wait Time (s)']).index  "
   ]
  },
  {
   "cell_type": "code",
   "execution_count": null,
   "metadata": {},
   "outputs": [],
   "source": [
    "AVG = pd.DataFrame(predictedwait['Wait Time (s)']).mean()\n",
    "AVGm = pd.DataFrame(medwait['Wait Time (s)']).mean()\n",
    "print (AVG,AVGm)"
   ]
  },
  {
   "cell_type": "code",
   "execution_count": null,
   "metadata": {},
   "outputs": [],
   "source": [
    "diff = abs(predictedwait-pd.DataFrame(NCtrain['Wait Time (s)'])).mean()\n",
    "#mean difference between predicted and actual wait time \n",
    "\n",
    "print (diff)"
   ]
  },
  {
   "cell_type": "code",
   "execution_count": null,
   "metadata": {},
   "outputs": [],
   "source": [
    "RMSE = np.sqrt(np.mean((predictedwait-pd.DataFrame(NCtrain['Wait Time (s)']))**2))\n",
    "RMSEm = np.sqrt(np.mean((medwait-pd.DataFrame(NCtrain['Wait Time (s)']))**2))\n",
    "#Root mean square\n",
    "print (RMSE,RMSEm)"
   ]
  },
  {
   "cell_type": "code",
   "execution_count": null,
   "metadata": {},
   "outputs": [],
   "source": [
    "plt.hist(predictedwait.values, alpha=0.5, bins = 50, rwidth=0.9, range = (0,100), label='Predicted')\n",
    "plt.hist(NCtrain['Wait Time (s)'], alpha=0.5, bins = 50, rwidth=0.9, range = (0,100),  label='Actual')\n",
    "plt.hist(medwait.values, alpha=0.5, bins = 50, rwidth=0.9, range = (0,100),  label='Median')\n",
    "plt.legend(loc='upper right')"
   ]
  },
  {
   "cell_type": "code",
   "execution_count": null,
   "metadata": {},
   "outputs": [],
   "source": [
    "#Test set prediction and validation\n",
    "predictedwait = pd.DataFrame(columns=['Wait Time (s)'])\n",
    "for n in range(xtest.shape[0]):\n",
    "    risktest = network.predict_risk(xtest[n:n+1,0:network.hyperparams['n_in']])\n",
    "    risktestmodified = risktest - risks.mean()\n",
    "    parthazard = np.exp(risktestmodified)\n",
    "    expected = np.trapz(np.exp(-CumBase*parthazard),discreteTimes)\n",
    "    predictedwait =  predictedwait.append({'Wait Time (s)': expected}, ignore_index=True)\n",
    "    \n",
    "predictedwait.index=pd.DataFrame(NCtest['Wait Time (s)']).index\n",
    "\n",
    "RMSE = np.sqrt(np.mean((predictedwait-pd.DataFrame(NCtest['Wait Time (s)']))**2))\n",
    "\n",
    "print (RMSE)"
   ]
  },
  {
   "cell_type": "markdown",
   "metadata": {},
   "source": [
    "### Baseline Hazard: Distributions"
   ]
  },
  {
   "cell_type": "code",
   "execution_count": 7,
   "metadata": {},
   "outputs": [],
   "source": [
    "class Distribution(object):\n",
    "    \n",
    "    def __init__(self,dist_names_list = []):\n",
    "        self.dist_names = ['weibull_min']#, 'expon']#,'lognorm']\n",
    "        self.dist_results = []\n",
    "        self.params = {}\n",
    "        \n",
    "        self.DistributionName = \"\"\n",
    "        self.PValue = 0\n",
    "        self.Param = None\n",
    "        \n",
    "        self.isFitted = False\n",
    "        \n",
    "    def Fit(self, y):\n",
    "        self.dist_results = []\n",
    "        self.params = {}\n",
    "    \n",
    "        for dist_name in self.dist_names:\n",
    "            dist = getattr(scipy.stats, dist_name)\n",
    "            param = dist.fit(y,f0=0.61,floc=0)\n",
    "\n",
    "            self.params[dist_name] = param\n",
    "            #Applying the Kolmogorov-Smirnov test\n",
    "            D, p = scipy.stats.kstest(y, dist_name, args=param);\n",
    "            self.dist_results.append((dist_name,p))\n",
    "        #select the best fitted distribution\n",
    "        sel_dist,p = (max(self.dist_results,key=lambda item:item[1]))\n",
    "        #store the name of the best fit and its p value\n",
    "        self.DistributionName = sel_dist\n",
    "        self.PValue = p\n",
    "\n",
    "        self.isFitted = True\n",
    "        return self.DistributionName,self.PValue\n",
    "    \n",
    "    def Random(self, n = 1):\n",
    "        if self.isFitted:\n",
    "            dist_name = self.DistributionName\n",
    "            param = self.params[dist_name]\n",
    "            #initiate the scipy distribution\n",
    "            dist = getattr(scipy.stats, dist_name)\n",
    "            return dist.rvs(*param[:-2], loc=param[-2], scale=param[-1], size=n)\n",
    "        else:\n",
    "            raise ValueError('Must first run the Fit method.')\n",
    "    \n",
    "    def Plot(self,y):\n",
    "        x = self.Random(n=len(y))\n",
    "        size, scale = 1000, 10\n",
    "        plt.hist(x, alpha=0.5, bins = 50, rwidth=0.9, range = (0,100), label='Fitted')\n",
    "        plt.hist(y, alpha=0.5, bins = 50, rwidth=0.9, range = (0,100),  label='Actual')\n",
    "        plt.legend(loc='upper right')"
   ]
  },
  {
   "cell_type": "code",
   "execution_count": 8,
   "metadata": {},
   "outputs": [
    {
     "data": {
      "image/png": "[encoded data removed]",
      "text/plain": [
       "<Figure size 432x288 with 1 Axes>"
      ]
     },
     "metadata": {
      "needs_background": "light"
     },
     "output_type": "display_data"
    }
   ],
   "source": [
    "r = NCtrain['Wait Time (s)'].values\n",
    "\n",
    "dst = Distribution()\n",
    "dst.Fit(r)\n",
    "dst.Plot(r)"
   ]
  },
  {
   "cell_type": "code",
   "execution_count": null,
   "metadata": {},
   "outputs": [],
   "source": []
  },
  {
   "cell_type": "code",
   "execution_count": 9,
   "metadata": {},
   "outputs": [
    {
     "data": {
      "text/plain": [
       "[('weibull_min', 5.3153777664423024e-15)]"
      ]
     },
     "execution_count": 9,
     "metadata": {},
     "output_type": "execute_result"
    }
   ],
   "source": [
    "dst.dist_results"
   ]
  },
  {
   "cell_type": "code",
   "execution_count": 10,
   "metadata": {},
   "outputs": [
    {
     "data": {
      "text/plain": [
       "{'weibull_min': (0.61, 0, 3.668768247321892)}"
      ]
     },
     "execution_count": 10,
     "metadata": {},
     "output_type": "execute_result"
    }
   ],
   "source": [
    "dst.params"
   ]
  },
  {
   "cell_type": "code",
   "execution_count": null,
   "metadata": {},
   "outputs": [],
   "source": [
    "##randgamma=gamma.rvs(0.4,0,18 ,size=len(NCtrain['Wait Time (s)'].values))"
   ]
  },
  {
   "cell_type": "code",
   "execution_count": null,
   "metadata": {},
   "outputs": [],
   "source": [
    "#randweib=weibull_min.rvs(.61,0,3.75 ,size=len(NCtrain['Wait Time (s)'].values))\n",
    "\n",
    "#plt.plot(gamma.pdf(discreteTimes,0.3,0,1.5),discreteTimes)\n",
    "#plt.hist(r,bins=50,alpha=0.5, label='actual')\n",
    "#plt.hist(randgamma,bins=50,alpha=0.5, label='random')\n",
    "#plt.legend(loc='upper right')"
   ]
  },
  {
   "cell_type": "markdown",
   "metadata": {},
   "source": [
    "### Weibulll"
   ]
  },
  {
   "cell_type": "code",
   "execution_count": 11,
   "metadata": {},
   "outputs": [],
   "source": [
    "k = dst.params['weibull_min'][0]\n",
    "lamb = dst.params['weibull_min'][2]"
   ]
  },
  {
   "cell_type": "code",
   "execution_count": 12,
   "metadata": {},
   "outputs": [],
   "source": [
    "def Base(t):\n",
    "    if t==0.0:\n",
    "        t=0.1\n",
    "    base = (k/lamb) * ((t/lamb)**(k-1))\n",
    "    return base\n",
    "\n",
    "def CumBase(t):\n",
    "    CumBase=(t/lamb)**k\n",
    "    return CumBase\n",
    "\n",
    "def Surv(t):\n",
    "    s = (np.exp(-(t/lamb)**k))**parthazard\n",
    "    return s"
   ]
  },
  {
   "cell_type": "code",
   "execution_count": 16,
   "metadata": {},
   "outputs": [
    {
     "data": {
      "text/plain": [
       "(1832, 1)"
      ]
     },
     "execution_count": 16,
     "metadata": {},
     "output_type": "execute_result"
    }
   ],
   "source": [
    "predictedwait.shape"
   ]
  },
  {
   "cell_type": "code",
   "execution_count": 13,
   "metadata": {},
   "outputs": [],
   "source": [
    "predictedwait = pd.DataFrame(columns=['Wait Time (s)'])\n",
    "medwait = pd.DataFrame(columns=['Wait Time (s)'])\n",
    "\n",
    "for n in range(xtrain.shape[0]):\n",
    "    parthazard = parthazards[n][0]\n",
    "    med = statistics.median(np.exp(-CumBase(discreteTimes)*parthazard))\n",
    "    expected = integrate.quad(Surv, 0, 100)[0]\n",
    "    predictedwait =  predictedwait.append({'Wait Time (s)': expected}, ignore_index=True)\n",
    "    medwait =  medwait.append({'Wait Time (s)': med}, ignore_index=True)"
   ]
  },
  {
   "cell_type": "code",
   "execution_count": null,
   "metadata": {},
   "outputs": [],
   "source": [
    "plt.hist(predictedwait.values, alpha=0.5, bins = 50, rwidth=0.9, range = (0,100), label='Predicted')\n",
    "plt.hist(NCtrain['Wait Time (s)'], alpha=0.5, bins = 50, rwidth=0.9, range = (0,100),  label='Actual')\n",
    "plt.hist(medwait, alpha=0.5, bins = 50, rwidth=0.9, range = (0,100),  label='Median')\n",
    "plt.legend(loc='upper right')"
   ]
  },
  {
   "cell_type": "code",
   "execution_count": 17,
   "metadata": {},
   "outputs": [],
   "source": [
    "RMSE = np.sqrt(np.mean((predictedwait-pd.DataFrame(NCtrain['Wait Time (s)']))**2))\n",
    "\n",
    "RMSEm = np.sqrt(np.mean((medwait-pd.DataFrame(NCtrain['Wait Time (s)']))**2))\n",
    "\n",
    "print (RMSE,RMSEm)"
   ]
  },
  {
   "cell_type": "markdown",
   "metadata": {},
   "source": [
    "### Matlab method weibull"
   ]
  },
  {
   "cell_type": "code",
   "execution_count": null,
   "metadata": {},
   "outputs": [],
   "source": [
    "def mean_crude(t):\n",
    "    p = t * Base(t) * parthazard * Surv(t)\n",
    "    return p\n",
    "\n",
    "#Train set prediction and validation\n",
    "predictedwait = pd.DataFrame(columns=['Wait Time (s)'])\n",
    "\n",
    "for n in range(xtrain.shape[0]):\n",
    "    parthazard = parthazards[n]\n",
    "    expected = integrate.quad(mean_crude, 0, 100)[0]\n",
    "    predictedwait =  predictedwait.append({'Wait Time (s)': expected}, ignore_index=True)\n",
    "\n",
    "predictedwait.index=pd.DataFrame(NCtrain['Wait Time (s)']).index"
   ]
  },
  {
   "cell_type": "code",
   "execution_count": null,
   "metadata": {},
   "outputs": [],
   "source": [
    "plt.hist(predictedwait.values, alpha=0.5, bins = 50, rwidth=0.9, range = (0,100), label='Predicted')\n",
    "plt.hist(NCtrain['Wait Time (s)'], alpha=0.5, bins = 50, rwidth=0.9, range = (0,100),  label='Actual')\n",
    "plt.legend(loc='upper right')"
   ]
  },
  {
   "cell_type": "code",
   "execution_count": null,
   "metadata": {},
   "outputs": [],
   "source": [
    "RMSE = np.sqrt(np.mean((predictedwait-pd.DataFrame(NCtrain['Wait Time (s)']))**2))\n",
    "\n",
    "print (RMSE)"
   ]
  },
  {
   "cell_type": "code",
   "execution_count": null,
   "metadata": {},
   "outputs": [],
   "source": [
    "AVG = pd.DataFrame(predictedwait['Wait Time (s)']).mean()\n",
    "print (AVG)"
   ]
  },
  {
   "cell_type": "markdown",
   "metadata": {},
   "source": [
    "### Custom CDF"
   ]
  },
  {
   "cell_type": "code",
   "execution_count": null,
   "metadata": {},
   "outputs": [],
   "source": [
    "eventtimes = NCtrain.sort_values(by=['Wait Time (s)'])['Wait Time (s)'].unique()   \n",
    "eventnum = NCtrain['Wait Time (s)'].value_counts().sort_index() \n",
    "\n",
    "def customCDF(t):\n",
    "    #loc = np.where(eventtimes >= t)[0][0]\n",
    "    cum = np.cumsum(eventnum)\n",
    "    CDFs = cum/sum(eventnum)\n",
    "    cdf = np.interp(t, eventtimes, CDFs)\n",
    "    return cdf\n",
    "\n",
    "def Surv(t):\n",
    "    s = (1-customCDF(t))**parthazard\n",
    "    return s"
   ]
  },
  {
   "cell_type": "code",
   "execution_count": null,
   "metadata": {},
   "outputs": [],
   "source": [
    "predictedwait = pd.DataFrame(columns=['Wait Time (s)'])\n",
    "for n in range(xtrain.shape[0]):\n",
    "    parthazard = parthazards[n][0]\n",
    "    expected = integrate.quad(Surv, 0, 100)[0]\n",
    "    predictedwait =  predictedwait.append({'Wait Time (s)': expected}, ignore_index=True)\n",
    "    \n",
    "predictedwait.index=pd.DataFrame(NCtrain['Wait Time (s)']).index"
   ]
  },
  {
   "cell_type": "code",
   "execution_count": null,
   "metadata": {},
   "outputs": [],
   "source": [
    "plt.hist(predictedwait.values, alpha=0.5, bins = 50, rwidth=0.9, range = (0,100), label='Predicted')\n",
    "plt.hist(NCtrain['Wait Time (s)'], alpha=0.5, bins = 50, rwidth=0.9, range = (0,100),  label='Actual')\n",
    "plt.legend(loc='upper right')"
   ]
  },
  {
   "cell_type": "code",
   "execution_count": null,
   "metadata": {},
   "outputs": [],
   "source": [
    "RMSE = np.sqrt(np.mean((predictedwait-pd.DataFrame(NCtrain['Wait Time (s)']))**2))\n",
    "\n",
    "print (RMSE)"
   ]
  },
  {
   "cell_type": "code",
   "execution_count": null,
   "metadata": {},
   "outputs": [],
   "source": [
    "AVG = pd.DataFrame(predictedwait['Wait Time (s)']).mean()\n",
    "print (AVG)"
   ]
  },
  {
   "cell_type": "markdown",
   "metadata": {},
   "source": [
    "### Finding Opt Weibull params"
   ]
  },
  {
   "cell_type": "code",
   "execution_count": 25,
   "metadata": {},
   "outputs": [],
   "source": [
    "def parameterOpt(x):\n",
    "    k = x[0]\n",
    "    lamb = x[1]\n",
    "    predictedwait = []\n",
    "    medwait = []\n",
    "    for n in range(xtrain.shape[0]):\n",
    "        parthazard = parthazards[n][0]\n",
    "        #Surv = lambda t: (np.exp(-(t/lamb)**k))**parthazard\n",
    "        CumBase = lambda t : (t/lamb)**k\n",
    "        med = statistics.median(np.exp(-CumBase(discreteTimes)*parthazard))\n",
    "        #expected = integrate.quad(Surv, 0, 100)[0]\n",
    "        #predictedwait.append(expected)\n",
    "        medwait.append(med)\n",
    "    #predictedwait = np.array(predictedwait)\n",
    "    medwait = np.array(medwait)\n",
    "    #err = np.sqrt(np.mean((predictedwait-ytrain[:,1])**2))\n",
    "    err = np.sqrt(np.mean((medwait-ytrain[:,1])**2))\n",
    "    return err"
   ]
  },
  {
   "cell_type": "code",
   "execution_count": 26,
   "metadata": {},
   "outputs": [],
   "source": [
    "from scipy.optimize import minimize\n",
    "bnds = ((0, None), (0, None))"
   ]
  },
  {
   "cell_type": "code",
   "execution_count": 27,
   "metadata": {},
   "outputs": [],
   "source": [
    "res = minimize(parameterOpt, (1,1), method='SLSQP', bounds=bnds)"
   ]
  },
  {
   "cell_type": "code",
   "execution_count": 28,
   "metadata": {},
   "outputs": [
    {
     "data": {
      "text/plain": [
       "     fun: 10.691613046641715\n",
       "     jac: array([0.46015489, 0.        ])\n",
       " message: 'Optimization terminated successfully.'\n",
       "    nfev: 16\n",
       "     nit: 4\n",
       "    njev: 4\n",
       "  status: 0\n",
       " success: True\n",
       "       x: array([1.22124533e-15, 1.25769902e+00])"
      ]
     },
     "execution_count": 28,
     "metadata": {},
     "output_type": "execute_result"
    }
   ],
   "source": [
    "res"
   ]
  },
  {
   "cell_type": "code",
   "execution_count": 29,
   "metadata": {},
   "outputs": [
    {
     "ename": "IndexError",
     "evalue": "invalid index to scalar variable.",
     "output_type": "error",
     "traceback": [
      "\u001b[0;31m---------------------------------------------------------------------------\u001b[0m",
      "\u001b[0;31mIndexError\u001b[0m                                Traceback (most recent call last)",
      "\u001b[0;32m<ipython-input-29-55041636a8a8>\u001b[0m in \u001b[0;36m<module>\u001b[0;34m\u001b[0m\n\u001b[0;32m----> 1\u001b[0;31m \u001b[0mplt\u001b[0m\u001b[0;34m.\u001b[0m\u001b[0mhist\u001b[0m\u001b[0;34m(\u001b[0m\u001b[0mparameterOpt\u001b[0m\u001b[0;34m(\u001b[0m\u001b[0;34m(\u001b[0m\u001b[0;36m1.109\u001b[0m\u001b[0;34m,\u001b[0m \u001b[0;36m4.32\u001b[0m\u001b[0;34m)\u001b[0m\u001b[0;34m)\u001b[0m\u001b[0;34m[\u001b[0m\u001b[0;36m1\u001b[0m\u001b[0;34m]\u001b[0m\u001b[0;34m,\u001b[0m \u001b[0malpha\u001b[0m\u001b[0;34m=\u001b[0m\u001b[0;36m0.5\u001b[0m\u001b[0;34m,\u001b[0m \u001b[0mbins\u001b[0m \u001b[0;34m=\u001b[0m \u001b[0;36m50\u001b[0m\u001b[0;34m,\u001b[0m \u001b[0mrwidth\u001b[0m\u001b[0;34m=\u001b[0m\u001b[0;36m0.9\u001b[0m\u001b[0;34m,\u001b[0m \u001b[0mrange\u001b[0m \u001b[0;34m=\u001b[0m \u001b[0;34m(\u001b[0m\u001b[0;36m0\u001b[0m\u001b[0;34m,\u001b[0m\u001b[0;36m100\u001b[0m\u001b[0;34m)\u001b[0m\u001b[0;34m,\u001b[0m \u001b[0mlabel\u001b[0m\u001b[0;34m=\u001b[0m\u001b[0;34m'Predicted'\u001b[0m\u001b[0;34m)\u001b[0m\u001b[0;34m\u001b[0m\u001b[0;34m\u001b[0m\u001b[0m\n\u001b[0m\u001b[1;32m      2\u001b[0m \u001b[0mplt\u001b[0m\u001b[0;34m.\u001b[0m\u001b[0mhist\u001b[0m\u001b[0;34m(\u001b[0m\u001b[0mytrain\u001b[0m\u001b[0;34m[\u001b[0m\u001b[0;34m:\u001b[0m\u001b[0;34m,\u001b[0m\u001b[0;36m1\u001b[0m\u001b[0;34m]\u001b[0m\u001b[0;34m,\u001b[0m \u001b[0malpha\u001b[0m\u001b[0;34m=\u001b[0m\u001b[0;36m0.5\u001b[0m\u001b[0;34m,\u001b[0m \u001b[0mbins\u001b[0m \u001b[0;34m=\u001b[0m \u001b[0;36m50\u001b[0m\u001b[0;34m,\u001b[0m \u001b[0mrwidth\u001b[0m\u001b[0;34m=\u001b[0m\u001b[0;36m0.9\u001b[0m\u001b[0;34m,\u001b[0m \u001b[0mrange\u001b[0m \u001b[0;34m=\u001b[0m \u001b[0;34m(\u001b[0m\u001b[0;36m0\u001b[0m\u001b[0;34m,\u001b[0m\u001b[0;36m100\u001b[0m\u001b[0;34m)\u001b[0m\u001b[0;34m,\u001b[0m  \u001b[0mlabel\u001b[0m\u001b[0;34m=\u001b[0m\u001b[0;34m'Actual'\u001b[0m\u001b[0;34m)\u001b[0m\u001b[0;34m\u001b[0m\u001b[0;34m\u001b[0m\u001b[0m\n\u001b[1;32m      3\u001b[0m \u001b[0mplt\u001b[0m\u001b[0;34m.\u001b[0m\u001b[0mlegend\u001b[0m\u001b[0;34m(\u001b[0m\u001b[0mloc\u001b[0m\u001b[0;34m=\u001b[0m\u001b[0;34m'upper right'\u001b[0m\u001b[0;34m)\u001b[0m\u001b[0;34m\u001b[0m\u001b[0;34m\u001b[0m\u001b[0m\n",
      "\u001b[0;31mIndexError\u001b[0m: invalid index to scalar variable."
     ]
    }
   ],
   "source": [
    "plt.hist(parameterOpt((1.109, 4.32))[1], alpha=0.5, bins = 50, rwidth=0.9, range = (0,100), label='Predicted')\n",
    "plt.hist(ytrain[:,1], alpha=0.5, bins = 50, rwidth=0.9, range = (0,100),  label='Actual')\n",
    "plt.legend(loc='upper right')"
   ]
  },
  {
   "cell_type": "code",
   "execution_count": null,
   "metadata": {},
   "outputs": [],
   "source": []
  },
  {
   "cell_type": "markdown",
   "metadata": {},
   "source": [
    "### optimal lambda matlab method"
   ]
  },
  {
   "cell_type": "code",
   "execution_count": null,
   "metadata": {},
   "outputs": [],
   "source": [
    "def parameterOpt(x):\n",
    "    k = x[0]\n",
    "    lamb = x[1]\n",
    "    predictedwait = []\n",
    "    for n in range(xtrain.shape[0]):\n",
    "        parthazard = parthazards[n][0]\n",
    "        Base= lambda t: (k/lamb) * ((t/lamb)**(k-1)) #if t>0 else \n",
    "        Surv = lambda t: (np.exp(-(t/lamb)**k))**parthazard\n",
    "        mean_crude = lambda t: t * Base(t) * parthazard * Surv(t)\n",
    "        expected = integrate.quad(mean_crude, 0, 100)[0]\n",
    "        predictedwait.append(expected)\n",
    "    predictedwait = np.array(predictedwait)\n",
    "    err = np.sqrt(np.mean((predictedwait-ytrain[:,1])**2))\n",
    "    return err,predictedwait"
   ]
  },
  {
   "cell_type": "code",
   "execution_count": null,
   "metadata": {},
   "outputs": [],
   "source": [
    "from scipy.optimize import minimize\n",
    "bnds = ((0, None), (0, None))"
   ]
  },
  {
   "cell_type": "code",
   "execution_count": null,
   "metadata": {},
   "outputs": [],
   "source": [
    "res = minimize(parameterOpt, (10,10), method='SLSQP', bounds=bnds)"
   ]
  },
  {
   "cell_type": "code",
   "execution_count": null,
   "metadata": {},
   "outputs": [],
   "source": [
    "res"
   ]
  },
  {
   "cell_type": "code",
   "execution_count": null,
   "metadata": {},
   "outputs": [],
   "source": [
    "parameterOpt((1.3766519, 5.4949331))"
   ]
  },
  {
   "cell_type": "code",
   "execution_count": null,
   "metadata": {},
   "outputs": [],
   "source": [
    "plt.hist(parameterOpt((1.3766519, 5.4949331))[1], alpha=0.5, bins = 50, rwidth=0.9, range = (0,100), label='Predicted')\n",
    "plt.hist(ytrain[:,1], alpha=0.5, bins = 50, rwidth=0.9, range = (0,100),  label='Actual')\n",
    "plt.legend(loc='upper right')"
   ]
  },
  {
   "cell_type": "markdown",
   "metadata": {},
   "source": [
    "### optimal Gamma method"
   ]
  },
  {
   "cell_type": "code",
   "execution_count": null,
   "metadata": {},
   "outputs": [],
   "source": [
    "\n",
    "\n",
    "\n",
    "\n",
    "\n",
    "\n",
    "\n",
    "\n",
    "\n",
    "\n"
   ]
  },
  {
   "cell_type": "markdown",
   "metadata": {},
   "source": [
    "### Weibull Smoothe method 1."
   ]
  },
  {
   "cell_type": "code",
   "execution_count": null,
   "metadata": {},
   "outputs": [],
   "source": [
    "def logcumbase(t):\n",
    "    zed0 = k* np.log(t) - k* np.log(lamb)\n",
    "    return zed0"
   ]
  },
  {
   "cell_type": "code",
   "execution_count": null,
   "metadata": {},
   "outputs": [],
   "source": [
    "CumBase = np.exp(np.vectorize(logcumbase)(discreteTimes))"
   ]
  },
  {
   "cell_type": "code",
   "execution_count": null,
   "metadata": {},
   "outputs": [],
   "source": []
  },
  {
   "cell_type": "code",
   "execution_count": null,
   "metadata": {},
   "outputs": [],
   "source": [
    "predictedwait = pd.DataFrame(columns=['Wait Time (s)'])\n",
    "for n in range(xtrain.shape[0]):\n",
    "    hazardarray = cumhazard(xtrain[n:n+1,0:network.hyperparams['n_in']])\n",
    "    surv = np.exp(-hazardarray)\n",
    "    expected = np.trapz(surv,discreteTimes)\n",
    "    predictedwait =  predictedwait.append({'Wait Time (s)': expected}, ignore_index=True)"
   ]
  },
  {
   "cell_type": "code",
   "execution_count": null,
   "metadata": {},
   "outputs": [],
   "source": [
    "predictedwait.index=pd.DataFrame(NCtrain['Wait Time (s)']).index"
   ]
  },
  {
   "cell_type": "code",
   "execution_count": null,
   "metadata": {},
   "outputs": [],
   "source": [
    "plt.hist(predictedwait.values, alpha=0.5, bins = 50, rwidth=0.9, range = (0,100), label='Predicted')\n",
    "plt.hist(NCtrain['Wait Time (s)'], alpha=0.5, bins = 50, rwidth=0.9, range = (0,100),  label='Actual')\n",
    "plt.legend(loc='upper right')"
   ]
  },
  {
   "cell_type": "code",
   "execution_count": null,
   "metadata": {},
   "outputs": [],
   "source": [
    "RMSE = np.sqrt(np.mean((predictedwait-pd.DataFrame(NCtrain['Wait Time (s)']))**2))\n",
    "\n",
    "print (RMSE)\n"
   ]
  },
  {
   "cell_type": "code",
   "execution_count": null,
   "metadata": {},
   "outputs": [],
   "source": []
  }
 ],
 "metadata": {
  "kernelspec": {
   "display_name": "Python 3",
   "language": "python",
   "name": "python3"
  },
  "language_info": {
   "codemirror_mode": {
    "name": "ipython",
    "version": 3
   },
   "file_extension": ".py",
   "mimetype": "text/x-python",
   "name": "python",
   "nbconvert_exporter": "python",
   "pygments_lexer": "ipython3",
   "version": "3.6.8"
  }
 },
 "nbformat": 4,
 "nbformat_minor": 2
}
