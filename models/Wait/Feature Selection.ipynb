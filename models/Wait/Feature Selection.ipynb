{
 "cells": [
  {
   "cell_type": "code",
   "execution_count": 8,
   "metadata": {},
   "outputs": [],
   "source": [
    "import pandas as pd\n",
    "import numpy as np\n",
    "import pickle\n",
    "\n",
    "from sklearn.pipeline import make_pipeline\n",
    "from skrebate import ReliefF,SURF,TuRF\n",
    "from sklearn.model_selection import cross_val_score\n",
    "from sklearn.model_selection import train_test_split\n",
    "import matplotlib\n",
    "import matplotlib.pyplot as plt\n",
    "plt.rcParams['text.usetex'] = True #Let TeX do the typsetting\n",
    "plt.rcParams['text.latex.preamble'] = [r'\\usepackage{sansmath}', r'\\sansmath'] #Force sans-serif math mode (for axes labels)\n",
    "plt.rcParams['font.family'] = 'sans-serif' # ... for regular text\n",
    "plt.rcParams['font.sans-serif'] = 'Helvetica, Avant Garde, Computer Modern Sans serif' # Choose a nice font here\n",
    "from statsmodels.stats.outliers_influence import variance_inflation_factor    \n",
    "\n",
    "%matplotlib inline"
   ]
  },
  {
   "cell_type": "code",
   "execution_count": 13,
   "metadata": {},
   "outputs": [],
   "source": [
    "with open('/home/arash/ProjectVR/cleaneddata/deepwaitdata/datanorelieff', 'rb') as f:\n",
    "    data=pickle.load(f)"
   ]
  },
  {
   "cell_type": "code",
   "execution_count": 14,
   "metadata": {},
   "outputs": [],
   "source": [
    "features, labels = data.drop(columns=['Wait Time (s)','E'], axis=1).values, data['Wait Time (s)'].values\n",
    "\n",
    "ReliefWeights=pd.DataFrame(index=range(features.shape[1]),columns=['Covariate','Importance'])\n",
    "fs = SURF()\n",
    "fs.fit(features, labels)\n",
    "i=0\n",
    "for feature_name, feature_score in zip(data.drop(columns=['Wait Time (s)'],axis=1).columns,\n",
    "                                       fs.feature_importances_):\n",
    "    ReliefWeights.iloc[i,0] = feature_name\n",
    "    ReliefWeights.iloc[i,1]= feature_score\n",
    "    i=i+1\n",
    "\n",
    "\n",
    "\n"
   ]
  },
  {
   "cell_type": "code",
   "execution_count": 15,
   "metadata": {},
   "outputs": [],
   "source": [
    "ReliefWeights=ReliefWeights.sort_values(['Importance'],ascending=False)"
   ]
  },
  {
   "cell_type": "code",
   "execution_count": 16,
   "metadata": {},
   "outputs": [
    {
     "data": {
      "text/plain": [
       "21             walktoshop\n",
       "19      numcars_morethan1\n",
       "15               mode_Car\n",
       "4             normarrival\n",
       "12                 over50\n",
       "5                normdens\n",
       "10            Age_18 - 29\n",
       "6                   Snowy\n",
       "13          Gender_Female\n",
       "8                 One way\n",
       "16            mode-active\n",
       "14    driving license_Yes\n",
       "1                   Mixed\n",
       "17              Vrexp_Yes\n",
       "11            Age_30 - 39\n",
       "0                  FullAV\n",
       "2           normlanewidth\n",
       "7                   Night\n",
       "20             walktowork\n",
       "3              normmingap\n",
       "9     Two way with median\n",
       "18              numcars_0\n",
       "Name: Covariate, dtype: object"
      ]
     },
     "execution_count": 16,
     "metadata": {},
     "output_type": "execute_result"
    }
   ],
   "source": [
    "ReliefWeights['Covariate']"
   ]
  },
  {
   "cell_type": "code",
   "execution_count": null,
   "metadata": {},
   "outputs": [],
   "source": []
  },
  {
   "cell_type": "code",
   "execution_count": 18,
   "metadata": {},
   "outputs": [
    {
     "name": "stderr",
     "output_type": "stream",
     "text": [
      "/home/arash/anaconda3/envs/py3.6/lib/python3.6/site-packages/ipykernel_launcher.py:2: SettingWithCopyWarning: \n",
      "A value is trying to be set on a copy of a slice from a DataFrame.\n",
      "Try using .loc[row_indexer,col_indexer] = value instead\n",
      "\n",
      "See the caveats in the documentation: http://pandas.pydata.org/pandas-docs/stable/indexing.html#indexing-view-versus-copy\n",
      "  \n"
     ]
    }
   ],
   "source": [
    "datasorted=data[ReliefWeights['Covariate']]\n",
    "datasorted['E']=data['E']\n",
    "datasorted['Wait Time (s)']=data['Wait Time (s)']"
   ]
  },
  {
   "cell_type": "code",
   "execution_count": null,
   "metadata": {},
   "outputs": [],
   "source": []
  },
  {
   "cell_type": "code",
   "execution_count": 19,
   "metadata": {},
   "outputs": [],
   "source": [
    "with open('/home/arash/ProjectVR/cleaneddata/deepwaitdata/featureimportance', 'wb') as f:\n",
    "    pickle.dump(ReliefWeights,f)     #save Relief\n",
    "\n",
    "with open('/home/arash/ProjectVR/cleaneddata/deepwaitdata/data', 'wb') as f:\n",
    "    pickle.dump(datasorted,f)     #save data sorted by columns based on importance"
   ]
  },
  {
   "cell_type": "code",
   "execution_count": 21,
   "metadata": {},
   "outputs": [
    {
     "data": {
      "text/html": [
       "<div>\n",
       "<style scoped>\n",
       "    .dataframe tbody tr th:only-of-type {\n",
       "        vertical-align: middle;\n",
       "    }\n",
       "\n",
       "    .dataframe tbody tr th {\n",
       "        vertical-align: top;\n",
       "    }\n",
       "\n",
       "    .dataframe thead th {\n",
       "        text-align: right;\n",
       "    }\n",
       "</style>\n",
       "<table border=\"1\" class=\"dataframe\">\n",
       "  <thead>\n",
       "    <tr style=\"text-align: right;\">\n",
       "      <th></th>\n",
       "      <th>Covariate</th>\n",
       "      <th>Importance</th>\n",
       "    </tr>\n",
       "  </thead>\n",
       "  <tbody>\n",
       "    <tr>\n",
       "      <th>21</th>\n",
       "      <td>walktoshop</td>\n",
       "      <td>0.0367697</td>\n",
       "    </tr>\n",
       "    <tr>\n",
       "      <th>19</th>\n",
       "      <td>numcars_morethan1</td>\n",
       "      <td>0.0238954</td>\n",
       "    </tr>\n",
       "    <tr>\n",
       "      <th>15</th>\n",
       "      <td>mode_Car</td>\n",
       "      <td>0.0235284</td>\n",
       "    </tr>\n",
       "    <tr>\n",
       "      <th>4</th>\n",
       "      <td>normarrival</td>\n",
       "      <td>0.020254</td>\n",
       "    </tr>\n",
       "    <tr>\n",
       "      <th>12</th>\n",
       "      <td>over50</td>\n",
       "      <td>0.0193433</td>\n",
       "    </tr>\n",
       "    <tr>\n",
       "      <th>5</th>\n",
       "      <td>normdens</td>\n",
       "      <td>0.0109748</td>\n",
       "    </tr>\n",
       "    <tr>\n",
       "      <th>10</th>\n",
       "      <td>Age_18 - 29</td>\n",
       "      <td>0.00717882</td>\n",
       "    </tr>\n",
       "    <tr>\n",
       "      <th>6</th>\n",
       "      <td>Snowy</td>\n",
       "      <td>0.00682556</td>\n",
       "    </tr>\n",
       "    <tr>\n",
       "      <th>13</th>\n",
       "      <td>Gender_Female</td>\n",
       "      <td>0.00679395</td>\n",
       "    </tr>\n",
       "    <tr>\n",
       "      <th>8</th>\n",
       "      <td>One way</td>\n",
       "      <td>0.0038569</td>\n",
       "    </tr>\n",
       "    <tr>\n",
       "      <th>16</th>\n",
       "      <td>mode-active</td>\n",
       "      <td>0.00262397</td>\n",
       "    </tr>\n",
       "    <tr>\n",
       "      <th>14</th>\n",
       "      <td>driving license_Yes</td>\n",
       "      <td>0.00155247</td>\n",
       "    </tr>\n",
       "    <tr>\n",
       "      <th>1</th>\n",
       "      <td>Mixed</td>\n",
       "      <td>0.00125979</td>\n",
       "    </tr>\n",
       "    <tr>\n",
       "      <th>17</th>\n",
       "      <td>Vrexp_Yes</td>\n",
       "      <td>-0.0014633</td>\n",
       "    </tr>\n",
       "    <tr>\n",
       "      <th>11</th>\n",
       "      <td>Age_30 - 39</td>\n",
       "      <td>-0.00180423</td>\n",
       "    </tr>\n",
       "    <tr>\n",
       "      <th>0</th>\n",
       "      <td>FullAV</td>\n",
       "      <td>-0.00232749</td>\n",
       "    </tr>\n",
       "    <tr>\n",
       "      <th>2</th>\n",
       "      <td>normlanewidth</td>\n",
       "      <td>-0.00375081</td>\n",
       "    </tr>\n",
       "    <tr>\n",
       "      <th>7</th>\n",
       "      <td>Night</td>\n",
       "      <td>-0.0055147</td>\n",
       "    </tr>\n",
       "    <tr>\n",
       "      <th>20</th>\n",
       "      <td>walktowork</td>\n",
       "      <td>-0.00603864</td>\n",
       "    </tr>\n",
       "    <tr>\n",
       "      <th>3</th>\n",
       "      <td>normmingap</td>\n",
       "      <td>-0.00659944</td>\n",
       "    </tr>\n",
       "    <tr>\n",
       "      <th>9</th>\n",
       "      <td>Two way with median</td>\n",
       "      <td>-0.0137009</td>\n",
       "    </tr>\n",
       "    <tr>\n",
       "      <th>18</th>\n",
       "      <td>numcars_0</td>\n",
       "      <td>-0.0175371</td>\n",
       "    </tr>\n",
       "  </tbody>\n",
       "</table>\n",
       "</div>"
      ],
      "text/plain": [
       "              Covariate  Importance\n",
       "21           walktoshop   0.0367697\n",
       "19    numcars_morethan1   0.0238954\n",
       "15             mode_Car   0.0235284\n",
       "4           normarrival    0.020254\n",
       "12               over50   0.0193433\n",
       "5              normdens   0.0109748\n",
       "10          Age_18 - 29  0.00717882\n",
       "6                 Snowy  0.00682556\n",
       "13        Gender_Female  0.00679395\n",
       "8               One way   0.0038569\n",
       "16          mode-active  0.00262397\n",
       "14  driving license_Yes  0.00155247\n",
       "1                 Mixed  0.00125979\n",
       "17            Vrexp_Yes  -0.0014633\n",
       "11          Age_30 - 39 -0.00180423\n",
       "0                FullAV -0.00232749\n",
       "2         normlanewidth -0.00375081\n",
       "7                 Night  -0.0055147\n",
       "20           walktowork -0.00603864\n",
       "3            normmingap -0.00659944\n",
       "9   Two way with median  -0.0137009\n",
       "18            numcars_0  -0.0175371"
      ]
     },
     "execution_count": 21,
     "metadata": {},
     "output_type": "execute_result"
    }
   ],
   "source": [
    "ReliefWeights"
   ]
  },
  {
   "cell_type": "code",
   "execution_count": null,
   "metadata": {},
   "outputs": [],
   "source": []
  }
 ],
 "metadata": {
  "kernelspec": {
   "display_name": "Python 3",
   "language": "python",
   "name": "python3"
  },
  "language_info": {
   "codemirror_mode": {
    "name": "ipython",
    "version": 3
   },
   "file_extension": ".py",
   "mimetype": "text/x-python",
   "name": "python",
   "nbconvert_exporter": "python",
   "pygments_lexer": "ipython3",
   "version": "3.6.8"
  }
 },
 "nbformat": 4,
 "nbformat_minor": 2
}
