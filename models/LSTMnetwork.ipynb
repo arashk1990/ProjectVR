{
 "cells": [
  {
   "cell_type": "markdown",
   "metadata": {},
   "source": [
    "## Code for lstm network development. data preparation for lstm can be found in preprocess/seqdata.ipynb"
   ]
  },
  {
   "cell_type": "code",
   "execution_count": 24,
   "metadata": {},
   "outputs": [],
   "source": [
    "import pandas as pd\n",
    "import numpy as np\n",
    "import time\n",
    "import keras\n",
    "from math import ceil\n",
    "import time\n",
    "import random\n",
    "import glob,os\n",
    "import matplotlib.pyplot as plt\n",
    "import pickle\n",
    "import pdb\n",
    "from keras.models import Sequential, Model\n",
    "from keras.layers import LSTM, Dense, Input, Embedding, Masking, Dropout\n",
    "from keras.preprocessing.sequence import pad_sequences\n",
    "from sklearn.preprocessing import MinMaxScaler\n",
    "from math import sqrt\n",
    "from sklearn.metrics import mean_squared_error\n",
    "import tensorflow as tf\n",
    "from sklearn.base import BaseEstimator\n",
    "from sklearn.model_selection import GridSearchCV\n",
    "from sklearn.externals import joblib"
   ]
  },
  {
   "cell_type": "markdown",
   "metadata": {},
   "source": [
    "### Load Data"
   ]
  },
  {
   "cell_type": "code",
   "execution_count": null,
   "metadata": {},
   "outputs": [],
   "source": [
    "with open('/home/arash/ProjectVR/cleaneddata/seperateddata/inputseqtrain', 'rb') as f:\n",
    "    inputseqtrain = pickle.load(f) \n",
    "with open('/home/arash/ProjectVR/cleaneddata/seperateddata/ytrain', 'rb') as f:\n",
    "    ytrain = pickle.load(f) \n",
    "with open('/home/arash/ProjectVR/cleaneddata/seperateddata/inputseqTEST', 'rb') as f:\n",
    "    inputseqTEST = pickle.load(f) \n",
    "with open('/home/arash/ProjectVR/cleaneddata/seperateddata/ytest', 'rb') as f:\n",
    "    ytest = pickle.load(f) "
   ]
  },
  {
   "cell_type": "markdown",
   "metadata": {},
   "source": [
    "### Define Vanilla Model"
   ]
  },
  {
   "cell_type": "code",
   "execution_count": 17,
   "metadata": {},
   "outputs": [],
   "source": [
    "class VanillaLSTM(BaseEstimator):\n",
    "    \n",
    "    def __init__(self, nodes=50, batch_size=32,\n",
    "                 epochs=200, Llayers=1, features=5, steps_in=0, steps_out=0\n",
    "                 ):\n",
    "\n",
    "        self.nodes = nodes\n",
    "        self.batch_size = batch_size\n",
    "        self.epochs = epochs\n",
    "        self.Llayers= Llayers\n",
    "        self.features = features\n",
    "        self.steps_in = steps_in\n",
    "        self.steps_out = steps_out\n",
    "        self.maxXY=654.7\n",
    "        self.minXY=650.1\n",
    "\n",
    "\n",
    "    def create_model(self):\n",
    "        model = Sequential()\n",
    "        model.add(Masking(mask_value=-0.01, input_shape=(self.steps_in, self.features)))\n",
    "        for i in range(self.Llayers-1):\n",
    "            model.add(LSTM(self.nodes, activation='relu', return_sequences=True))\n",
    "        model.add(LSTM(self.nodes, activation='relu'))\n",
    "        model.add(Dense(self.steps_out))\n",
    "        model.compile(optimizer='adam', loss='mse')\n",
    "        return model\n",
    "    \n",
    "    def fit(self,inputseq,y):\n",
    "        start = time.time()\n",
    "        X = inputseq[:,:,:self.features]\n",
    "        self.model=self.create_model()\n",
    "        self.model.fit(X, y, epochs = self.epochs, verbose = 0, batch_size = self.batch_size)\n",
    "        end = time.time()\n",
    "        print (\"Finished Fitting Model. # of Epochs: %d\\n Time Taken : %d secs\"\n",
    "               % (self.epochs,end - start))\n",
    "        return self\n",
    "    \n",
    "    def predict(self, inputseq):\n",
    "        X = inputseq[:,:,:self.features]\n",
    "        \n",
    "        return self.model.predict(X)\n",
    "    \n",
    "    def score(self,inputseq,y):\n",
    "        \n",
    "        X = inputseq[:,:,:self.features]\n",
    "        ypred = self.predict(inputseq)\n",
    "        yinv = np.zeros(y.shape)\n",
    "        ypredinv = np.zeros(ypred.shape)\n",
    "        for i in range(len(y)):\n",
    "            pos = sum (n>=0 for n in y[i])                #position of the last actual value on y, not padded\n",
    "            yinv[i][:pos]= y[i][:pos] * (self.maxXY-self.minXY) + self.minXY\n",
    "            ypredinv[i][:pos] = ypred[i][:pos]* (self.maxXY-self.minXY) + self.minXY\n",
    "            \n",
    "        rmseScore = -sqrt(mean_squared_error(ypredinv, yinv))    #negative of RMSE\n",
    "\n",
    "        return rmseScore\n",
    "        "
   ]
  },
  {
   "cell_type": "markdown",
   "metadata": {},
   "source": [
    "### fitting Vanilla LSTM, using grid search for hypperparameters"
   ]
  },
  {
   "cell_type": "code",
   "execution_count": 18,
   "metadata": {},
   "outputs": [],
   "source": [
    "n_features = (inputseqtrain.shape[2]-1)\n",
    "n_steps_in=inputseqtrain.shape[1]\n",
    "n_steps_out=ytrain.shape[1]\n",
    "\n",
    "VLmodel=VanillaLSTM(epochs=1, features=n_features,\n",
    "                    steps_in=n_steps_in, steps_out=n_steps_out)"
   ]
  },
  {
   "cell_type": "code",
   "execution_count": 19,
   "metadata": {},
   "outputs": [],
   "source": [
    "tuned_params = {\"Llayers\" : [2,3]}#{\"nodes\" : [10,50,100],\"batch_size\": [32,64,128] ,\"Llayers\" : [1,2,3]}\n",
    "\n",
    "gs = GridSearchCV(VLmodel, tuned_params,cv = 8, refit= True, n_jobs=2)"
   ]
  },
  {
   "cell_type": "code",
   "execution_count": null,
   "metadata": {},
   "outputs": [],
   "source": []
  },
  {
   "cell_type": "code",
   "execution_count": 20,
   "metadata": {},
   "outputs": [
    {
     "name": "stderr",
     "output_type": "stream",
     "text": [
      "/home/arash/anaconda3/envs/gpusupport/lib/python3.6/site-packages/sklearn/model_selection/_search.py:813: DeprecationWarning: The default of the `iid` parameter will change from True to False in version 0.22 and will be removed in 0.24. This will change numeric results when test-set sizes are unequal.\n",
      "  DeprecationWarning)\n"
     ]
    },
    {
     "name": "stdout",
     "output_type": "stream",
     "text": [
      "Finished Fitting Model. # of Epochs: 1\n",
      " Time Taken : 22 secs\n"
     ]
    }
   ],
   "source": [
    "grid_result=gs.fit(inputseqtrain,ytrain)"
   ]
  },
  {
   "cell_type": "code",
   "execution_count": null,
   "metadata": {},
   "outputs": [],
   "source": [
    "np.save('/home/arash/ProjectVR/models/GridResults/VLSTM400_8_50_32_L.npy',grid_result.cv_results_)      \n",
    "#filename: ModelnameEpochs_CV_Nodes_Batch_changingparameters (L:LLayers)"
   ]
  },
  {
   "cell_type": "code",
   "execution_count": 21,
   "metadata": {},
   "outputs": [],
   "source": [
    "bestVLSTM = grid_result.best_estimator_"
   ]
  },
  {
   "cell_type": "code",
   "execution_count": null,
   "metadata": {},
   "outputs": [],
   "source": [
    "joblib.dump(bestVLSTM, '/home/arash/ProjectVR/models/trainedmodels/VLSTM1.pkl')"
   ]
  },
  {
   "cell_type": "code",
   "execution_count": 22,
   "metadata": {},
   "outputs": [
    {
     "data": {
      "text/plain": [
       "-0.5619615507219169"
      ]
     },
     "execution_count": 22,
     "metadata": {},
     "output_type": "execute_result"
    }
   ],
   "source": [
    "bestVLSTM.score(inputseqTEST,ytest)"
   ]
  },
  {
   "cell_type": "code",
   "execution_count": null,
   "metadata": {},
   "outputs": [],
   "source": [
    "history = bestVLSTM.model.history.history\n",
    "# plot history\n",
    "plt.plot(history['loss'], label='train')\n",
    "#pyplot.plot(history.history['val_loss'], label='test')\n",
    "plt.legend()\n",
    "plt.show()\n"
   ]
  },
  {
   "cell_type": "markdown",
   "metadata": {},
   "source": [
    "## lstm model with aux variables"
   ]
  },
  {
   "cell_type": "code",
   "execution_count": null,
   "metadata": {},
   "outputs": [],
   "source": []
  },
  {
   "cell_type": "code",
   "execution_count": 25,
   "metadata": {},
   "outputs": [],
   "source": [
    "class AuxLSTM(BaseEstimator):\n",
    "    \n",
    "    def __init__(self, nodes=50, batch_size=32,\n",
    "                 epochs=200, Dlayers=1, Llayers=1, features=5, steps_in=83, steps_out=147, drpout=0.5\n",
    "                 ):\n",
    "\n",
    "        self.nodes = nodes\n",
    "        self.features = features\n",
    "        self.steps_in = steps_in\n",
    "        self.steps_out = steps_out\n",
    "        self.epochs = epochs\n",
    "        self.batch_size = batch_size\n",
    "        self.Dlayers= Dlayers   #number of hidden dense layers\n",
    "        self.Llayers = Llayers  #number of lstm layers\n",
    "        self.maxXY=654.7\n",
    "        self.minXY=650.1\n",
    "        self.drpout=drpout\n",
    "\n",
    "\n",
    "    def create_model(self):\n",
    "        \n",
    "        seq_input = Input(shape=(self.steps_in, self.features), dtype='float32', name='seq_input')\n",
    "        mask = Masking(mask_value=-0.01)(seq_input)\n",
    "        if self.Llayers==1:\n",
    "            \n",
    "            lstm_out = LSTM(self.nodes, activation='relu')(mask)\n",
    "            \n",
    "        else:\n",
    "            lstm_out = LSTM(self.nodes,activation='relu',return_sequences=True)(mask)\n",
    "            \n",
    "            for i in range(self.Llayers-2):\n",
    "                lstm_out = LSTM(self.nodes,activation='relu',return_sequences=True)(lstm_out)\n",
    "                \n",
    "            lstm_out = LSTM(self.nodes, activation='relu')(lstm_out)\n",
    "\n",
    "        #output for lstm, corresponds to 0.2 of loss, used to smooth training and regularization:\n",
    "        auxiliary_output = Dense(self.steps_out, activation='sigmoid' ,name='aux_output')(lstm_out)   \n",
    "\n",
    "        auxiliary_input = Input(shape=(14,), name='aux_input')\n",
    "        x = keras.layers.concatenate([lstm_out, auxiliary_input])\n",
    "\n",
    "        # We stack a deep densely-connected network on top\n",
    "        for i in range(self.Dlayers):\n",
    "            x = Dense(self.nodes, activation='relu')(x)\n",
    "            if self.drpout>0:\n",
    "                x = Dropout(self.drpout)(x)\n",
    "\n",
    "        # And finally we add the main logistic regression layer\n",
    "        main_output = Dense(self.steps_out, activation='sigmoid', name='main_output')(x)\n",
    "\n",
    "        modelaux = Model(inputs=[seq_input, auxiliary_input], outputs=[main_output, auxiliary_output])\n",
    "\n",
    "\n",
    "        modelaux.compile(optimizer='adam', loss='mse',\n",
    "                      loss_weights=[1., 0.2])\n",
    "        return modelaux\n",
    "    \n",
    "    def fit(self,inputseq,y):\n",
    "        start = time.time()\n",
    "        X = inputseq[:,:,:self.features]\n",
    "        aux=inputseq[:,:,self.features][:,:14]      \n",
    "        self.model=self.create_model()\n",
    "        self.model.fit([X,aux], [y,y], epochs = self.epochs, verbose = 0, batch_size = self.batch_size)\n",
    "        end = time.time()\n",
    "        print (\"Finished Fitting AuxModel. # of Epochs: %d\\n Time Taken : %d secs\"\n",
    "               % (self.epochs,end - start))\n",
    "        return self\n",
    "    \n",
    "    def predict(self, inputseq):\n",
    "        X = inputseq[:,:,:self.features]\n",
    "        aux=inputseq[:,:,self.features][:,:14]\n",
    "        \n",
    "        return self.model.predict([X,aux])\n",
    "    \n",
    "    def score(self,inputseq,y):\n",
    "        X = inputseq[:,:,:self.features]\n",
    "        aux = inputseq[:,:,self.features][:,:14]    \n",
    "        ypred = self.predict(inputseq)[0]        #auxlstm has two identical outputs, 1st in chosen\n",
    "        yinv = np.zeros(y.shape)\n",
    "        ypredinv = np.zeros(ypred.shape)\n",
    "        for i in range(len(y)):\n",
    "            pos = sum (n>=0 for n in y[i])                #position of the last actual value on y, not padded\n",
    "            yinv[i][:pos]= y[i][:pos] * (self.maxXY-self.minXY) + self.minXY\n",
    "            ypredinv[i][:pos] = ypred[i][:pos]* (self.maxXY-self.minXY) + self.minXY\n",
    "            \n",
    "        rmseScore = -sqrt(mean_squared_error(ypredinv, yinv))    #negative of RMSE\n",
    "        return rmseScore\n",
    "        "
   ]
  },
  {
   "cell_type": "code",
   "execution_count": 36,
   "metadata": {},
   "outputs": [],
   "source": [
    "n_features = (inputseq.shape[2]-1)\n",
    "n_steps_in=inputseq.shape[1]\n",
    "n_steps_out=ytrain.shape[1]\n",
    "\n",
    "Auxmodel=AuxLSTM(epochs=200, features=n_features,\n",
    "                    steps_in=n_steps_in, steps_out=n_steps_out)\n",
    " "
   ]
  },
  {
   "cell_type": "code",
   "execution_count": 37,
   "metadata": {},
   "outputs": [],
   "source": [
    "tuned_params = {'drpout': [0,0.2,0.5],\"Dlayers\" : [1,2,3], \"Llayers\" : [2,3]}\n",
    "\n",
    "gsaux = GridSearchCV(Auxmodel, tuned_params,cv = 8, refit= True, n_jobs=-1)"
   ]
  },
  {
   "cell_type": "code",
   "execution_count": null,
   "metadata": {},
   "outputs": [],
   "source": [
    "gridaux_result=gsaux.fit(inputseqtrain,ytrain)"
   ]
  },
  {
   "cell_type": "code",
   "execution_count": null,
   "metadata": {},
   "outputs": [],
   "source": [
    "np.save('/home/arash/ProjectVR/models/GridResults/AuxLSTM200_8_DropDL.npy',gridaux_result.cv_results_)\n",
    "bestauxLSTM = gridaux_result.best_estimator_"
   ]
  },
  {
   "cell_type": "code",
   "execution_count": null,
   "metadata": {},
   "outputs": [],
   "source": [
    "joblib.dump(bestauxLSTM, '/home/arash/ProjectVR/models/trainedmodels/AuxLSTM3.pkl')\n",
    "bestauxLSTM.score(inputseqTEST,ytest)"
   ]
  },
  {
   "cell_type": "code",
   "execution_count": null,
   "metadata": {},
   "outputs": [],
   "source": [
    "history = bestauxLSTM.model.history.history\n",
    "# plot history\n",
    "plt.plot(history['loss'], label='train')\n",
    "#pyplot.plot(history.history['val_loss'], label='test')\n",
    "plt.legend()\n",
    "plt.show()\n"
   ]
  },
  {
   "cell_type": "code",
   "execution_count": null,
   "metadata": {},
   "outputs": [],
   "source": [
    "gridaux_result.cv_results_"
   ]
  }
 ],
 "metadata": {
  "kernelspec": {
   "display_name": "Python 3",
   "language": "python",
   "name": "python3"
  },
  "language_info": {
   "codemirror_mode": {
    "name": "ipython",
    "version": 3
   },
   "file_extension": ".py",
   "mimetype": "text/x-python",
   "name": "python",
   "nbconvert_exporter": "python",
   "pygments_lexer": "ipython3",
   "version": "3.6.8"
  }
 },
 "nbformat": 4,
 "nbformat_minor": 2
}
