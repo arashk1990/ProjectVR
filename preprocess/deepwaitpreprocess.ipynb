{
 "cells": [
  {
   "cell_type": "code",
   "execution_count": 1,
   "metadata": {},
   "outputs": [],
   "source": [
    "import pickle\n",
    "\n",
    "import numpy as np\n",
    "import pandas as pd\n",
    "from sklearn.model_selection import train_test_split\n",
    "from statsmodels.stats.outliers_influence import variance_inflation_factor\n",
    "import matplotlib\n",
    "import matplotlib.pyplot as plt\n",
    "\n",
    "from statsmodels.stats.outliers_influence import variance_inflation_factor    \n",
    "\n",
    "%matplotlib inline"
   ]
  },
  {
   "cell_type": "code",
   "execution_count": 2,
   "metadata": {},
   "outputs": [
    {
     "name": "stdout",
     "output_type": "stream",
     "text": [
      "Remaining variables:\n",
      "Index(['Wait Time (s)', 'Snowy', 'One way', 'Two way with median', 'Night',\n",
      "       'Age_18 - 24', 'Age_25 - 29', 'Age_30 - 39', 'Gender_Female',\n",
      "       'Occupation_Employed', 'Occupation_Student', 'driving license_Yes',\n",
      "       'mode_Car', 'mode_Public Transit', 'mode_Walking', 'workwalk_No',\n",
      "       'workwalk_Yes', 'shopwalk_No', 'shopwalk_Yes', 'Vrexp_Yes',\n",
      "       'Speed Limit_30.0', 'Speed Limit_50.0', 'Lane Width_2.5',\n",
      "       'Lane Width_3.0', 'Minimum Gap_1.0', 'Minimum Gap_2.0',\n",
      "       'Mean Arrival Rate_530.0', 'Mean Arrival Rate_1100.0', 'numcars_0',\n",
      "       'numcars_morethan1', 'FullAV', 'Mixed', 'over50'],\n",
      "      dtype='object')\n"
     ]
    }
   ],
   "source": [
    "with open('/home/arash/ProjectVR/cleaneddata/ALLDATA', 'rb') as f:\n",
    "    data=pickle.load(f)\n",
    "    \n",
    "data=data.loc[-data['Wait Time (s)'].isin(['Err1','Err2','Err3','Err4','Err5'])]\n",
    "data=data.loc[data['Age_9-12'].isin([0,1])]\n",
    "\n",
    "\n",
    "data=data.loc[:,['Wait Time (s)','Speed Limit', 'Lane Width', 'Minimum Gap', 'Mean Arrival Rate', 'AV', \n",
    "                    'Snowy',\n",
    "                   'One way', 'two way', 'Two way with median', 'Night', 'numcars', \n",
    "                    'Age_9-12', 'Age_15-18', 'Age_12-15', 'Age_18 - 24', 'Age_25 - 29', 'Age_30 - 39', 'Age_50 - 59',\n",
    "                 'Age_60+', 'Gender_Female', 'Occupation_Employed', 'Occupation_Student', 'Occupation_Unemployed', \n",
    "                   'Occupation_kid', 'driving license_Yes', 'mode_Bike', 'mode_Car',\n",
    "                   'mode_Public Transit', 'mode_Walking', 'workwalk_No', 'workwalk_Sometimes', 'workwalk_Yes', \n",
    "                   'shopwalk_No', 'shopwalk_Sometimes', 'shopwalk_Yes', 'Vrexp_Yes']]       #numwalk and VRexpnum removed because of some false inputs in the data should be fixed later\n",
    "\n",
    "\n",
    "\n",
    "data=pd.get_dummies(data=data,columns=['Speed Limit','Lane Width','Minimum Gap','Mean Arrival Rate','numcars'])\n",
    "\n",
    "data['numcars_morethan1']=data['numcars_2']+data['numcars_3']+data['numcars_4']\n",
    "\n",
    "data=data.drop(columns=['numcars_2','numcars_3','numcars_4'])\n",
    "\n",
    "data=data.apply(pd.to_numeric, errors='coerce')\n",
    "\n",
    "\n",
    "def FullAV(row):\n",
    "    if row['AV']==100:\n",
    "        return 1\n",
    "    else:\n",
    "        return 0\n",
    "def MixedAV(row):\n",
    "    if row['AV']>0 and row['AV']<100:\n",
    "        return 1\n",
    "    else:\n",
    "        return 0   \n",
    "def HDV(row):\n",
    "    if row['AV']==0:\n",
    "        return 1\n",
    "\n",
    "    else:\n",
    "        return 0   \n",
    "data=data[data.Occupation_kid==0]                         #remove kids\n",
    "\n",
    "\n",
    "data['FullAV']=data.apply (lambda row: FullAV(row), axis=1)\n",
    "data['Mixed']=data.apply (lambda row: MixedAV(row), axis=1)\n",
    "#data['HDV']=data.apply (lambda row: HDV(row), axis=1)\n",
    "data['over50']=data['Age_50 - 59']+data['Age_60+']\n",
    "data=data.drop(columns=['Age_9-12', 'Age_15-18', 'Age_12-15','Occupation_kid','AV','Age_50 - 59','Age_60+'])\n",
    "\n",
    "\n",
    "\n",
    "\n",
    " #the value in the middle is removed for more than two level features\n",
    "data=data.drop(columns=['two way', 'Occupation_Unemployed',                  \n",
    "                        'mode_Bike','workwalk_Sometimes','shopwalk_Sometimes',\n",
    "                        'Speed Limit_40.0','Lane Width_2.75','Minimum Gap_1.5','Mean Arrival Rate_750.0'\n",
    "                        ,'numcars_1'])\n",
    "\n",
    "# check if we have collinear variables\n",
    "def calculate_vif_(X, thresh=50.0):\n",
    "    variables = list(range(X.shape[1]))\n",
    "    dropped = True\n",
    "    while dropped:\n",
    "        dropped = False\n",
    "        vif = [variance_inflation_factor(X.iloc[:, variables].values, ix)\n",
    "               for ix in range(X.iloc[:, variables].shape[1])]\n",
    "\n",
    "        maxloc = vif.index(max(vif))\n",
    "        if max(vif) > thresh:\n",
    "            print('dropping \\'' + X.iloc[:, variables].columns[maxloc] +\n",
    "                  '\\' at index: ' + str(maxloc))\n",
    "            del variables[maxloc]\n",
    "            dropped = True\n",
    "\n",
    "    print('Remaining variables:')\n",
    "    print(X.columns[variables])\n",
    "    return X.iloc[:, variables]\n",
    "\n",
    "data=calculate_vif_(data, thresh=50.0)\n",
    "\n",
    "data['E']=1"
   ]
  },
  {
   "cell_type": "code",
   "execution_count": 3,
   "metadata": {},
   "outputs": [
    {
     "data": {
      "image/png": "[encoded data removed]",
      "text/plain": [
       "<Figure size 432x288 with 1 Axes>"
      ]
     },
     "metadata": {
      "needs_background": "light"
     },
     "output_type": "display_data"
    }
   ],
   "source": [
    "# Wait time freq table.\n",
    "\n",
    "size, scale = 1000, 10\n",
    "waittimes = pd.Series(data['Wait Time (s)'])\n",
    "\n",
    "waittimes.plot.hist(grid=True, bins=50, rwidth=0.9,\n",
    "                   color='#607c8e')\n",
    "#plt.title('Waiting Time frequency distribution for all participants')\n",
    "plt.xlabel('Wait Time (S)')\n",
    "plt.ylabel('Counts')\n",
    "plt.grid(axis='y', alpha=1)\n",
    "plt.savefig('waitfreq.pdf')"
   ]
  },
  {
   "cell_type": "code",
   "execution_count": null,
   "metadata": {},
   "outputs": [],
   "source": [
    "with open('/home/arash/ProjectVR/cleaneddata/deepwaitdata/datanorelieff', 'wb') as f:\n",
    "    pickle.dump(data,f) "
   ]
  },
  {
   "cell_type": "markdown",
   "metadata": {},
   "source": [
    "### Go to feature selection, sort data columns based on importance, and reload the data"
   ]
  },
  {
   "cell_type": "code",
   "execution_count": null,
   "metadata": {},
   "outputs": [],
   "source": [
    "with open('/home/arash/ProjectVR/cleaneddata/deepwaitdata/data', 'rb') as f:\n",
    "    data=pickle.load(f) "
   ]
  },
  {
   "cell_type": "code",
   "execution_count": 20,
   "metadata": {},
   "outputs": [],
   "source": [
    "train, test = train_test_split(data,test_size=0.2, random_state=1)\n",
    "             \n",
    "#20 percent of data is seperated for test set\n",
    "NCtrain=train   \n",
    "NCtest= test\n",
    "#NC: Not changed, used later for shap, without a format change that deepsurv requires\n",
    "\n",
    "trainsub, valsub = train_test_split(train,test_size=0.2, random_state=1)  \n",
    "#20 percent of train data is selected for validation set, \n",
    "#for cross-validation train is used,\n",
    "#for network training using opt_params, trainsub and valsub are used"
   ]
  },
  {
   "cell_type": "code",
   "execution_count": 21,
   "metadata": {},
   "outputs": [],
   "source": [
    "def dataframe_to_deepsurv_ds(df, event_col = 'E', time_col = 'Wait Time (s)'):\n",
    "    # Extract the event and time columns as numpy arrays\n",
    "    e = df[event_col].values.astype(np.int32)\n",
    "    t = df[time_col].values.astype(np.float32)\n",
    "\n",
    "    # Extract the patient's covariates as a numpy array\n",
    "    x_df = df.drop([event_col, time_col], axis = 1)\n",
    "    x = x_df.values.astype(np.float32)\n",
    "    \n",
    "    # Return the deep surv dataframe\n",
    "    return {\n",
    "        'x' : x,\n",
    "        'e' : e,\n",
    "        't' : t\n",
    "    }"
   ]
  },
  {
   "cell_type": "code",
   "execution_count": 22,
   "metadata": {},
   "outputs": [],
   "source": [
    "train=dataframe_to_deepsurv_ds(train)\n",
    "test=dataframe_to_deepsurv_ds(test)\n",
    "trainsub = dataframe_to_deepsurv_ds(trainsub)\n",
    "valsub = dataframe_to_deepsurv_ds(valsub)"
   ]
  },
  {
   "cell_type": "code",
   "execution_count": 23,
   "metadata": {},
   "outputs": [],
   "source": [
    "xtrain = train['x']\n",
    "etrain = train['e']\n",
    "ttrain = train['t']\n",
    "ytrain = np.column_stack((etrain, ttrain))"
   ]
  },
  {
   "cell_type": "code",
   "execution_count": 24,
   "metadata": {},
   "outputs": [],
   "source": [
    "xtest = test['x']\n",
    "etest = test['e']\n",
    "ttest = test['t']\n",
    "ytest = np.column_stack((etest, ttest))"
   ]
  },
  {
   "cell_type": "code",
   "execution_count": 25,
   "metadata": {},
   "outputs": [],
   "source": [
    "xtrainsub = trainsub['x']\n",
    "etrainsub = trainsub['e']\n",
    "ttrainsub = trainsub['t']\n",
    "ytrainsub = np.column_stack((etrainsub, ttrainsub))"
   ]
  },
  {
   "cell_type": "code",
   "execution_count": 26,
   "metadata": {},
   "outputs": [],
   "source": [
    "xvalsub = valsub['x']\n",
    "evalsub = valsub['e']\n",
    "tvalsub = valsub['t']\n",
    "yvalsub = np.column_stack((evalsub, tvalsub))"
   ]
  },
  {
   "cell_type": "code",
   "execution_count": 36,
   "metadata": {},
   "outputs": [],
   "source": [
    "with open('/home/arash/ProjectVR/cleaneddata/deepwaitdata/xtrain', 'wb') as f:\n",
    "    pickle.dump(xtrain,f)\n",
    "    \n",
    "with open('/home/arash/ProjectVR/cleaneddata/deepwaitdata/ytrain', 'wb') as f:\n",
    "    pickle.dump(ytrain,f)  \n",
    "    \n",
    "with open('/home/arash/ProjectVR/cleaneddata/deepwaitdata/xtest', 'wb') as f:\n",
    "    pickle.dump(xtest,f)   \n",
    "\n",
    "with open('/home/arash/ProjectVR/cleaneddata/deepwaitdata/ytest', 'wb') as f:\n",
    "    pickle.dump(ytest,f)   "
   ]
  },
  {
   "cell_type": "code",
   "execution_count": 37,
   "metadata": {},
   "outputs": [],
   "source": [
    "\n",
    "with open('/home/arash/ProjectVR/cleaneddata/deepwaitdata/xtrainsub', 'wb') as f:\n",
    "    pickle.dump(xtrainsub,f)   \n",
    "with open('/home/arash/ProjectVR/cleaneddata/deepwaitdata/ytrainsub', 'wb') as f:\n",
    "    pickle.dump(ytrainsub,f) \n",
    "    \n",
    "with open('/home/arash/ProjectVR/cleaneddata/deepwaitdata/xvalsub', 'wb') as f:\n",
    "    pickle.dump(xvalsub,f) \n",
    "    \n",
    "with open('/home/arash/ProjectVR/cleaneddata/deepwaitdata/yvalsub', 'wb') as f:\n",
    "    pickle.dump(yvalsub,f) "
   ]
  },
  {
   "cell_type": "code",
   "execution_count": null,
   "metadata": {},
   "outputs": [],
   "source": [
    "with open('/home/arash/ProjectVR/cleaneddata/deepwaitdata/nctrain', 'wb') as f:\n",
    "    pickle.dump(NCtrain,f)  \n",
    "with open('/home/arash/ProjectVR/cleaneddata/deepwaitdata/nctest', 'wb') as f:\n",
    "    pickle.dump(NCtest,f) "
   ]
  },
  {
   "cell_type": "code",
   "execution_count": null,
   "metadata": {},
   "outputs": [],
   "source": []
  },
  {
   "cell_type": "code",
   "execution_count": null,
   "metadata": {},
   "outputs": [],
   "source": []
  }
 ],
 "metadata": {
  "kernelspec": {
   "display_name": "Python 3",
   "language": "python",
   "name": "python3"
  },
  "language_info": {
   "codemirror_mode": {
    "name": "ipython",
    "version": 3
   },
   "file_extension": ".py",
   "mimetype": "text/x-python",
   "name": "python",
   "nbconvert_exporter": "python",
   "pygments_lexer": "ipython3",
   "version": "3.6.8"
  }
 },
 "nbformat": 4,
 "nbformat_minor": 2
}
