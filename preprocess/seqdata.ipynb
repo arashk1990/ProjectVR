{
 "cells": [
  {
   "cell_type": "code",
   "execution_count": 1,
   "metadata": {},
   "outputs": [
    {
     "name": "stderr",
     "output_type": "stream",
     "text": [
      "Using TensorFlow backend.\n"
     ]
    }
   ],
   "source": [
    "import pandas as pd\n",
    "import numpy as np\n",
    "from math import ceil\n",
    "import time\n",
    "import glob,os\n",
    "import matplotlib.pyplot as plt\n",
    "import pickle\n",
    "import pdb\n",
    "from keras.preprocessing.sequence import pad_sequences\n",
    "from sklearn.preprocessing import StandardScaler\n"
   ]
  },
  {
   "cell_type": "code",
   "execution_count": 2,
   "metadata": {},
   "outputs": [],
   "source": [
    "### Prepare data for LSTM: project: pedestrian trajecory prediction based on head orientation, previous trajectory and distance to cars\n",
    "\n",
    "with open('/home/arash/ProjectVR/cleaneddata/ALLDATA', 'rb') as f:\n",
    "    ALLDATA = pickle.load(f)\n",
    "    \n",
    "with open('/home/arash/ProjectVR/cleaneddata/experiments', 'rb') as f:\n",
    "    experiments = pickle.load(f)\n",
    "    \n",
    "with open('/home/arash/ProjectVR/cleaneddata/DesignID', 'rb') as f:\n",
    "    DesignID = pickle.load(f)\n",
    "\n",
    "    "
   ]
  },
  {
   "cell_type": "code",
   "execution_count": 3,
   "metadata": {},
   "outputs": [],
   "source": [
    "#removing error data\n",
    "ALLDATAfortraj=ALLDATA.loc[-ALLDATA['starttime'].isin(['Err1','Err2','Err3','Err4','Err5'])]\n",
    "\n",
    "#only observable columns by AV are selected\n",
    "ALLDATAfortraj=ALLDATAfortraj[['File','Scenario','Speed Limit', 'Lane Width', \n",
    "                               'Mean Arrival Rate', 'Snowy','One way', 'two way',\n",
    "                               'Two way with median', 'Night','starttime']] \n",
    "\n",
    "\n",
    "ALLDATAfortraj=pd.get_dummies(data=ALLDATAfortraj,columns=['Speed Limit', 'Lane Width', \n",
    "                               'Mean Arrival Rate'])"
   ]
  },
  {
   "cell_type": "code",
   "execution_count": 4,
   "metadata": {},
   "outputs": [],
   "source": [
    "# limit trajectory records to a time frame starting from 1 sec before cross to the end.\n",
    "trajectory=[]\n",
    "for n in range(len(experiments)):    \n",
    "    if len(ALLDATAfortraj[ALLDATAfortraj['File']==experiments[n]['filename'][0]]['starttime'])>0:\n",
    "        df=experiments[n][experiments[n]['timeelaspsed'].astype(float)>\n",
    "                          (float(ALLDATAfortraj[ALLDATAfortraj['File']==\n",
    "                                                experiments[n]['filename'][0]]['starttime'])-1)]\n",
    "        df=df.drop(columns=['timehr','timemin','timesec',])\n",
    "        trajectory.append(df)"
   ]
  },
  {
   "cell_type": "code",
   "execution_count": null,
   "metadata": {},
   "outputs": [],
   "source": []
  },
  {
   "cell_type": "code",
   "execution_count": 5,
   "metadata": {},
   "outputs": [],
   "source": [
    "# build time series data from pedestrian movements\n",
    "userXtraj=[]\n",
    "usero1traj=[]\n",
    "usero2traj=[]\n",
    "usero3traj=[]\n",
    "userdisttraj=[]\n",
    "useraux=[]\n",
    "\n",
    "for i in range(len(trajectory)):\n",
    "    if len(trajectory[i][(trajectory[i]['status']=='u ') & (trajectory[i]['x'].astype(float)>650)])>0:\n",
    "        oneroad=int(DesignID[DesignID['Card ID']==       #to see if the scenario is one road\n",
    "                             int(ALLDATAfortraj[ALLDATAfortraj['File']\n",
    "                                                ==trajectory[i].iloc[0,-1]]['Scenario'])]['Road Type_One way'])\n",
    "        xarr=trajectory[i][(trajectory[i]['status']=='u ') & \n",
    "                           (trajectory[i]['x'].astype(float)>650)]['x'].values.astype(float)    \n",
    "        # 650 threshold is the approximate x coordinate for the middle of the road, \n",
    "        #user trajectory in the end of experiment are removed\n",
    "        \n",
    "        \n",
    "        #head orientation coordinates:\n",
    "        headarr1=trajectory[i][(trajectory[i]['status']=='u ') & \n",
    "                           (trajectory[i]['x'].astype(float)>650)]['o1'].values.astype(float)  \n",
    "        headarr2=trajectory[i][(trajectory[i]['status']=='u ') & \n",
    "                           (trajectory[i]['x'].astype(float)>650)]['o2'].values.astype(float)\n",
    "        headarr3=trajectory[i][(trajectory[i]['status']=='u ') & \n",
    "                           (trajectory[i]['x'].astype(float)>650)]['o3'].values.astype(float)    \n",
    "        \n",
    "        \n",
    "        \n",
    "        aux= ALLDATAfortraj[ALLDATAfortraj['File'] == trajectory[i].iloc[0,-1]][   #get aux info \n",
    "                ['Snowy','Night', 'One way', 'two way', 'Two way with median',\n",
    "                 'Speed Limit_30.0', 'Speed Limit_40.0', 'Speed Limit_50.0',\n",
    "                 'Lane Width_2.5', 'Lane Width_2.75', 'Lane Width_3.0',\n",
    "                 'Mean Arrival Rate_530.0', 'Mean Arrival Rate_750.0',\n",
    "                 'Mean Arrival Rate_1100.0']].values\n",
    "        aux=aux.reshape(aux.shape[1],)          #reshape to (14,)  14: number of aux categories\n",
    "        aux =aux.astype(float) \n",
    "\n",
    "        \n",
    "        \n",
    "        firstpedindex=trajectory[i][(trajectory[i]['status']=='u ') & \n",
    "                           (trajectory[i]['x'].astype(float)>650)].index[0]  \n",
    "                            #index for pedestrian 1st appearance\n",
    "        pedindex=trajectory[i][(trajectory[i]['status']=='u ') & \n",
    "                           (trajectory[i]['x'].astype(float)>650)].index-firstpedindex   \n",
    "                            #convert index to new format\n",
    "        dist=[]\n",
    "        for index, item in enumerate(pedindex):      #distance at every moment\n",
    "            if index>0:\n",
    "                bwped=trajectory[i].iloc[pedindex[index-1]:\n",
    "                                         pedindex[index],:]  #data from one pedestrian idex to next\n",
    "                if len(bwped[bwped['status'].str.contains('L',na=False)].index)==0:   \n",
    "                    #if no cars on left lane at the moment\n",
    "                    distance=100\n",
    "                else:            \n",
    "                    if oneroad==0:\n",
    "                        if len((bwped[(bwped['x'].astype(float)>650) & (bwped['status'] !='u ') &\n",
    "                                      (bwped['y'].astype(float)> bwped.iloc[0,1])]['y']))==0:     \n",
    "                            #check if any car that has not passed exists  \n",
    "                            #1st cond: car on left lane, 2nd: not a user data, 3rd: car has not passed ped yet\n",
    "                            #only 3rd differs for oneway and two-way roads\n",
    "                            distance=100\n",
    "                        else:\n",
    "                            distance=min(bwped[(bwped['x'].astype(float)>650) & (bwped['status'] !='u ') &\n",
    "                                               (bwped['y'].astype(float)> bwped.iloc[0,1])]['y']) - bwped.iloc[0,1] \n",
    "                    else:   #one-way roads\n",
    "                        if len((bwped[(bwped['x'].astype(float)>650) & (bwped['status'] !='u ') &\n",
    "                                      (bwped['y'].astype(float)< bwped.iloc[0,1])]['y']))==0:     \n",
    "                            #check if any car that has not passed exists  \n",
    "                            #1st cond: car in left lane, 2nd not a user data, 3rd: car has not passed ped yet\n",
    "                            #differs for oneway and two-way roads\n",
    "                            distance = 100\n",
    "                        else:\n",
    "                            distance = bwped.iloc[0,1] - max(bwped[(bwped['x'].astype(float)>650)\n",
    "                                      & (bwped['status'] !='u ') & (bwped['y'].astype(float)< \n",
    "                                                                    bwped.iloc[0,1])]['y']) \n",
    "                dist.append(distance)\n",
    "\n",
    "\n",
    "        userXtraj.append(xarr)\n",
    "        usero1traj.append(headarr1)\n",
    "        usero2traj.append(headarr2)\n",
    "        usero3traj.append(headarr3)\n",
    "        userdisttraj.append(dist)\n",
    "        useraux.append(aux)"
   ]
  },
  {
   "cell_type": "markdown",
   "metadata": {},
   "source": [
    "###### Convert sequential tractory files to readable format for lstm. "
   ]
  },
  {
   "cell_type": "code",
   "execution_count": 6,
   "metadata": {},
   "outputs": [],
   "source": [
    "def sampleinput(userXtraj,usero1traj,usero2traj,usero3traj,userdisttraj, inputportion):\n",
    "    X, o1, o2, o3, dist, y = list(), list(),list(), list(),list(), list()\n",
    "    for i in range(len(userXtraj)):\n",
    "        # find the end of this pattern\n",
    "        xdistancecovered=max(userXtraj[i])-min(userXtraj[i])     #total distance covered by user from start to end of the expmeriment\n",
    "        xinput=xdistancecovered*inputportion                    #distance that is used as input to the model                   \n",
    "        breakpoint=min(userXtraj[i])+xinput\n",
    "        n_steps=len([x for x in userXtraj[i] if x<breakpoint])\n",
    "        \n",
    "        # gather input and output parts of the pattern\n",
    "        seq_x, seq_y = userXtraj[i][0:n_steps], userXtraj[i][n_steps:]\n",
    "        seq_o1=usero1traj[i][0:n_steps]\n",
    "        seq_o2=usero2traj[i][0:n_steps]\n",
    "        seq_o3=usero3traj[i][0:n_steps]\n",
    "        seq_dist=userdisttraj[i][0:n_steps]\n",
    "\n",
    "        X.append(seq_x)\n",
    "        o1.append(seq_o1)\n",
    "        o2.append(seq_o2)\n",
    "        o3.append(seq_o3)\n",
    "        dist.append(seq_dist)\n",
    "        y.append(seq_y)\n",
    "        \n",
    "    return X,o1,o2,o3 ,dist, y\n",
    "\n",
    "inputportion = 0.3"
   ]
  },
  {
   "cell_type": "markdown",
   "metadata": {},
   "source": [
    "# convert into input/output"
   ]
  },
  {
   "cell_type": "code",
   "execution_count": 7,
   "metadata": {},
   "outputs": [],
   "source": [
    "X, o1, o2, o3, dist, y = sampleinput(userXtraj,usero1traj, usero2traj, usero3traj,userdisttraj, inputportion)"
   ]
  },
  {
   "cell_type": "code",
   "execution_count": null,
   "metadata": {},
   "outputs": [],
   "source": []
  },
  {
   "cell_type": "code",
   "execution_count": 8,
   "metadata": {},
   "outputs": [
    {
     "data": {
      "text/html": [
       "<div>\n",
       "<style scoped>\n",
       "    .dataframe tbody tr th:only-of-type {\n",
       "        vertical-align: middle;\n",
       "    }\n",
       "\n",
       "    .dataframe tbody tr th {\n",
       "        vertical-align: top;\n",
       "    }\n",
       "\n",
       "    .dataframe thead th {\n",
       "        text-align: right;\n",
       "    }\n",
       "</style>\n",
       "<table border=\"1\" class=\"dataframe\">\n",
       "  <thead>\n",
       "    <tr style=\"text-align: right;\">\n",
       "      <th></th>\n",
       "      <th>duration</th>\n",
       "    </tr>\n",
       "  </thead>\n",
       "  <tbody>\n",
       "    <tr>\n",
       "      <th>count</th>\n",
       "      <td>3418.000000</td>\n",
       "    </tr>\n",
       "    <tr>\n",
       "      <th>mean</th>\n",
       "      <td>45.064073</td>\n",
       "    </tr>\n",
       "    <tr>\n",
       "      <th>std</th>\n",
       "      <td>52.482100</td>\n",
       "    </tr>\n",
       "    <tr>\n",
       "      <th>min</th>\n",
       "      <td>1.000000</td>\n",
       "    </tr>\n",
       "    <tr>\n",
       "      <th>25%</th>\n",
       "      <td>25.000000</td>\n",
       "    </tr>\n",
       "    <tr>\n",
       "      <th>50%</th>\n",
       "      <td>31.000000</td>\n",
       "    </tr>\n",
       "    <tr>\n",
       "      <th>75%</th>\n",
       "      <td>42.000000</td>\n",
       "    </tr>\n",
       "    <tr>\n",
       "      <th>max</th>\n",
       "      <td>929.000000</td>\n",
       "    </tr>\n",
       "  </tbody>\n",
       "</table>\n",
       "</div>"
      ],
      "text/plain": [
       "          duration\n",
       "count  3418.000000\n",
       "mean     45.064073\n",
       "std      52.482100\n",
       "min       1.000000\n",
       "25%      25.000000\n",
       "50%      31.000000\n",
       "75%      42.000000\n",
       "max     929.000000"
      ]
     },
     "execution_count": 8,
     "metadata": {},
     "output_type": "execute_result"
    }
   ],
   "source": [
    "#check for ouliers\n",
    "dur=[]\n",
    "for i in range(len(X)):\n",
    "    x=X[i].shape[0]+y[i].shape[0]\n",
    "    dur.append(x)\n",
    "\n",
    "dur=pd.DataFrame(dur,columns=['duration'])\n",
    "\n",
    "dur.describe()"
   ]
  },
  {
   "cell_type": "code",
   "execution_count": 9,
   "metadata": {},
   "outputs": [
    {
     "data": {
      "text/plain": [
       "(array([2.777e+03, 3.780e+02, 1.350e+02, 5.700e+01, 2.400e+01, 2.000e+01,\n",
       "        7.000e+00, 3.000e+00, 7.000e+00, 2.000e+00, 2.000e+00, 2.000e+00,\n",
       "        0.000e+00, 0.000e+00, 0.000e+00, 0.000e+00, 1.000e+00, 1.000e+00,\n",
       "        0.000e+00, 2.000e+00]),\n",
       " array([  1. ,  47.4,  93.8, 140.2, 186.6, 233. , 279.4, 325.8, 372.2,\n",
       "        418.6, 465. , 511.4, 557.8, 604.2, 650.6, 697. , 743.4, 789.8,\n",
       "        836.2, 882.6, 929. ]),\n",
       " <a list of 20 Patch objects>)"
      ]
     },
     "execution_count": 9,
     "metadata": {},
     "output_type": "execute_result"
    },
    {
     "data": {
      "image/png": "[encoded data removed]",
      "text/plain": [
       "<Figure size 432x288 with 1 Axes>"
      ]
     },
     "metadata": {
      "needs_background": "light"
     },
     "output_type": "display_data"
    }
   ],
   "source": [
    "plt.hist(dur.iloc[:,0],bins=20)"
   ]
  },
  {
   "cell_type": "code",
   "execution_count": 10,
   "metadata": {},
   "outputs": [],
   "source": [
    "#indices of experiments when it takes more than ~15 seconds  to cross. 109 rows out of total 3424 removed\n",
    "out=dur[dur['duration']>150].index\n",
    "\n",
    "for i in sorted(out,reverse=True):      #reverse is true to make sure indices does not change after removing\n",
    "    del X[i]\n",
    "    del o1[i]\n",
    "    del o2[i]\n",
    "    del o3[i]\n",
    "    del dist[i]\n",
    "    del y[i]\n",
    "    del useraux[i]"
   ]
  },
  {
   "cell_type": "code",
   "execution_count": 12,
   "metadata": {},
   "outputs": [],
   "source": [
    "#remove items where no data is kept for either X for y, due to pedestrian not moving at all\n",
    "for i in reversed(range(len(X))):           \n",
    "    if (len(X[i])==0) or (len(y[i])==0):\n",
    "        del X[i]\n",
    "        del o1[i]\n",
    "        del o2[i]\n",
    "        del o3[i]\n",
    "        del dist[i]\n",
    "        del y[i]\n",
    "        del useraux[i]"
   ]
  },
  {
   "cell_type": "code",
   "execution_count": 13,
   "metadata": {},
   "outputs": [],
   "source": [
    "# converting list to array:\n",
    "X=np.array(X)\n",
    "o1=np.array(o1)\n",
    "o2=np.array(o2)\n",
    "o3=np.array(o3)\n",
    "dist=np.array(dist)\n",
    "y=np.array(y)\n",
    "useraux=np.array(useraux)"
   ]
  },
  {
   "cell_type": "code",
   "execution_count": 14,
   "metadata": {},
   "outputs": [],
   "source": [
    "allseqdata=[X,o1,o2,o3,dist,y]     #save all the sequence data to file"
   ]
  },
  {
   "cell_type": "code",
   "execution_count": 15,
   "metadata": {},
   "outputs": [],
   "source": [
    "# save to pickle\n",
    "with open('/home/arash/ProjectVR/cleaneddata/seqdata', 'wb') as f:\n",
    "    pickle.dump(allseqdata, f)\n",
    "    "
   ]
  },
  {
   "cell_type": "code",
   "execution_count": 16,
   "metadata": {},
   "outputs": [],
   "source": [
    "with open('/home/arash/ProjectVR/cleaneddata/auxdata', 'wb') as f:\n",
    "    pickle.dump(useraux, f)"
   ]
  },
  {
   "cell_type": "code",
   "execution_count": null,
   "metadata": {},
   "outputs": [],
   "source": []
  },
  {
   "cell_type": "code",
   "execution_count": null,
   "metadata": {},
   "outputs": [],
   "source": []
  }
 ],
 "metadata": {
  "kernelspec": {
   "display_name": "Python 3",
   "language": "python",
   "name": "python3"
  },
  "language_info": {
   "codemirror_mode": {
    "name": "ipython",
    "version": 3
   },
   "file_extension": ".py",
   "mimetype": "text/x-python",
   "name": "python",
   "nbconvert_exporter": "python",
   "pygments_lexer": "ipython3",
   "version": "3.6.8"
  }
 },
 "nbformat": 4,
 "nbformat_minor": 2
}
