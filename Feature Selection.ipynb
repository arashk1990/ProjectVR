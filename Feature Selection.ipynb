{
 "cells": [
  {
   "cell_type": "code",
   "execution_count": 12,
   "metadata": {},
   "outputs": [],
   "source": [
    "import pandas as pd\n",
    "import numpy as np\n",
    "import pickle\n",
    "\n",
    "from sklearn.pipeline import make_pipeline\n",
    "from skrebate import ReliefF,SURF,TuRF\n",
    "from sklearn.model_selection import cross_val_score\n",
    "from sklearn.model_selection import train_test_split\n",
    "import matplotlib\n",
    "import matplotlib.pyplot as plt\n",
    "plt.rcParams['text.usetex'] = True #Let TeX do the typsetting\n",
    "plt.rcParams['text.latex.preamble'] = [r'\\usepackage{sansmath}', r'\\sansmath'] #Force sans-serif math mode (for axes labels)\n",
    "plt.rcParams['font.family'] = 'sans-serif' # ... for regular text\n",
    "plt.rcParams['font.sans-serif'] = 'Helvetica, Avant Garde, Computer Modern Sans serif' # Choose a nice font here\n",
    "from statsmodels.stats.outliers_influence import variance_inflation_factor    \n",
    "\n",
    "%matplotlib inline"
   ]
  },
  {
   "cell_type": "code",
   "execution_count": 19,
   "metadata": {},
   "outputs": [],
   "source": [
    "with open('/home/arash/ProjectVR/cleaneddata/deepwaitdata/datanorelieff', 'rb') as f:\n",
    "    data=pickle.load(f)"
   ]
  },
  {
   "cell_type": "code",
   "execution_count": 20,
   "metadata": {},
   "outputs": [],
   "source": [
    "features, labels = data.drop(columns=['Wait Time (s)','E'], axis=1).values, data['Wait Time (s)'].values\n",
    "\n",
    "ReliefWeights=pd.DataFrame(index=range(features.shape[1]),columns=['Covariate','Importance'])\n",
    "fs = SURF()\n",
    "fs.fit(features, labels)\n",
    "i=0\n",
    "for feature_name, feature_score in zip(data.drop(columns=['Wait Time (s)'],axis=1).columns,\n",
    "                                       fs.feature_importances_):\n",
    "    ReliefWeights.iloc[i,0] = feature_name\n",
    "    ReliefWeights.iloc[i,1]= feature_score\n",
    "    i=i+1\n",
    "\n",
    "\n",
    "\n"
   ]
  },
  {
   "cell_type": "code",
   "execution_count": 21,
   "metadata": {},
   "outputs": [],
   "source": [
    "ReliefWeights=ReliefWeights.sort_values(['Importance'],ascending=False)"
   ]
  },
  {
   "cell_type": "code",
   "execution_count": 23,
   "metadata": {},
   "outputs": [
    {
     "data": {
      "text/plain": [
       "26    Mean Arrival Rate_1100.0\n",
       "28           numcars_morethan1\n",
       "19            Speed Limit_30.0\n",
       "16                 shopwalk_No\n",
       "11                    mode_Car\n",
       "31                      over50\n",
       "15                workwalk_Yes\n",
       "0                        Snowy\n",
       "17                shopwalk_Yes\n",
       "4                  Age_18 - 24\n",
       "13                mode_Walking\n",
       "7                Gender_Female\n",
       "22              Lane Width_3.0\n",
       "1                      One way\n",
       "12         mode_Public Transit\n",
       "18                   Vrexp_Yes\n",
       "10         driving license_Yes\n",
       "30                       Mixed\n",
       "5                  Age_25 - 29\n",
       "24             Minimum Gap_2.0\n",
       "29                      FullAV\n",
       "23             Minimum Gap_1.0\n",
       "3                        Night\n",
       "6                  Age_30 - 39\n",
       "8          Occupation_Employed\n",
       "14                 workwalk_No\n",
       "21              Lane Width_2.5\n",
       "9           Occupation_Student\n",
       "25     Mean Arrival Rate_530.0\n",
       "2          Two way with median\n",
       "20            Speed Limit_50.0\n",
       "27                   numcars_0\n",
       "Name: Covariate, dtype: object"
      ]
     },
     "execution_count": 23,
     "metadata": {},
     "output_type": "execute_result"
    }
   ],
   "source": [
    "ReliefWeights['Covariate']"
   ]
  },
  {
   "cell_type": "code",
   "execution_count": 29,
   "metadata": {},
   "outputs": [
    {
     "data": {
      "text/plain": [
       "Index(['Wait Time (s)', 'Snowy', 'One way', 'Two way with median', 'Night',\n",
       "       'Age_18 - 24', 'Age_25 - 29', 'Age_30 - 39', 'Gender_Female',\n",
       "       'Occupation_Employed', 'Occupation_Student', 'driving license_Yes',\n",
       "       'mode_Car', 'mode_Public Transit', 'mode_Walking', 'workwalk_No',\n",
       "       'workwalk_Yes', 'shopwalk_No', 'shopwalk_Yes', 'Vrexp_Yes',\n",
       "       'Speed Limit_30.0', 'Speed Limit_50.0', 'Lane Width_2.5',\n",
       "       'Lane Width_3.0', 'Minimum Gap_1.0', 'Minimum Gap_2.0',\n",
       "       'Mean Arrival Rate_530.0', 'Mean Arrival Rate_1100.0', 'numcars_0',\n",
       "       'numcars_morethan1', 'FullAV', 'Mixed', 'over50', 'E'],\n",
       "      dtype='object')"
      ]
     },
     "execution_count": 29,
     "metadata": {},
     "output_type": "execute_result"
    }
   ],
   "source": [
    "data.columns"
   ]
  },
  {
   "cell_type": "code",
   "execution_count": null,
   "metadata": {},
   "outputs": [],
   "source": [
    "datasorted=data[ReliefWeights['Covariate']]\n",
    "datasorted['E']=data['E']\n",
    "datasorted['Wait Time (s)']=data['Wait Time (s)']"
   ]
  },
  {
   "cell_type": "code",
   "execution_count": null,
   "metadata": {},
   "outputs": [],
   "source": []
  },
  {
   "cell_type": "code",
   "execution_count": 37,
   "metadata": {},
   "outputs": [],
   "source": [
    "with open('/home/arash/ProjectVR/cleaneddata/deepwaitdata/featureimportance', 'wb') as f:\n",
    "    pickle.dump(ReliefWeights,f)     #save Relief\n",
    "\n",
    "with open('/home/arash/ProjectVR/cleaneddata/deepwaitdata/data', 'wb') as f:\n",
    "    pickle.dump(datasorted,f)     #save data sorted by columns based on importance"
   ]
  },
  {
   "cell_type": "code",
   "execution_count": null,
   "metadata": {},
   "outputs": [],
   "source": []
  }
 ],
 "metadata": {
  "kernelspec": {
   "display_name": "Python 3",
   "language": "python",
   "name": "python3"
  },
  "language_info": {
   "codemirror_mode": {
    "name": "ipython",
    "version": 3
   },
   "file_extension": ".py",
   "mimetype": "text/x-python",
   "name": "python",
   "nbconvert_exporter": "python",
   "pygments_lexer": "ipython3",
   "version": "3.6.8"
  }
 },
 "nbformat": 4,
 "nbformat_minor": 2
}
