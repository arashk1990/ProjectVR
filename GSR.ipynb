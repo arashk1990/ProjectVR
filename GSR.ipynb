{
 "cells": [
  {
   "cell_type": "code",
   "execution_count": null,
   "metadata": {},
   "outputs": [],
   "source": [
    "import pandas as pd\n",
    "import numpy as np\n",
    "from math import ceil\n",
    "import time\n",
    "import glob,os\n",
    "import re"
   ]
  },
  {
   "cell_type": "code",
   "execution_count": null,
   "metadata": {},
   "outputs": [],
   "source": [
    "def scantext():\n",
    "    x=[]\n",
    "    for path,dirs,files in os.walk('/home/arash/VRdata/Data/'):\n",
    "        for f in files:\n",
    "            if f.endswith('.txt'):\n",
    "                x.append(os.path.join(path,f))\n",
    "    return(x)\n",
    "                \n",
    "\n",
    "alltext=scantext()"
   ]
  }
 ],
 "metadata": {
  "kernelspec": {
   "display_name": "Python 3",
   "language": "python",
   "name": "python3"
  },
  "language_info": {
   "codemirror_mode": {
    "name": "ipython",
    "version": 3
   },
   "file_extension": ".py",
   "mimetype": "text/x-python",
   "name": "python",
   "nbconvert_exporter": "python",
   "pygments_lexer": "ipython3",
   "version": "3.6.8"
  }
 },
 "nbformat": 4,
 "nbformat_minor": 2
}
