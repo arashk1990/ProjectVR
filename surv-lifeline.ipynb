{
 "cells": [
  {
   "cell_type": "code",
   "execution_count": 132,
   "metadata": {},
   "outputs": [],
   "source": [
    "import pandas as pd\n",
    "import numpy as np\n",
    "import time\n",
    "from lifelines import CoxPHFitter\n",
    "import matplotlib.pyplot as plt\n",
    "from statsmodels.stats.outliers_influence import variance_inflation_factor    \n",
    "from lifelines import WeibullAFTFitter\n"
   ]
  },
  {
   "cell_type": "code",
   "execution_count": null,
   "metadata": {},
   "outputs": [],
   "source": []
  },
  {
   "cell_type": "code",
   "execution_count": 133,
   "metadata": {},
   "outputs": [],
   "source": [
    "data = pd.read_pickle('ALLDATA.pkl')\n",
    "data=data.loc[-data['Wait Time (s)'].isin(['Err1','Err2','Err3','Err4','Err5'])]\n",
    "data=data.loc[data['Age_9-12'].isin([0,1])]\n",
    "\n",
    "\n",
    "data=data.loc[:,['Wait Time (s)','Speed Limit', 'Lane Width', 'Minimum Gap', 'Mean Arrival Rate', 'AV', \n",
    "                   'Full Braking Before Impact_-1.0', 'Full Braking Before Impact_1', \n",
    "                   'Full Braking Before Impact_2', 'Full Braking Before Impact_3', 'Clear', 'Snowy',\n",
    "                   'One way', 'two way', 'Two way with median', 'Day', 'Night', 'numcars', \n",
    "                    'Age_9-12', 'Age_15-18', 'Age_12-15', 'Age_18 - 24', 'Age_25 - 29', 'Age_30 - 39', 'Age_40 - 49', 'Age_50 - 59', 'Age_60+', 'Gender_Female', 'Occupation_Employed', 'Occupation_Student', 'Occupation_Unemployed', \n",
    "                   'Occupation_kid', 'Education_Bachelors degree', 'Education_College/University student', \n",
    "                   'Education_Doctorate degree', 'Education_High school diploma', 'Education_Masters degree', \n",
    "                   'Education_Professional degree', 'Education_kid', 'driving license_Yes', 'mode_Bike', 'mode_Car',\n",
    "                   'mode_Public Transit', 'mode_Walking', 'workwalk_No', 'workwalk_Sometimes', 'workwalk_Yes', \n",
    "                   'shopwalk_No', 'shopwalk_Sometimes', 'shopwalk_Yes', 'shopwalk_kid', 'Vrexp_Yes', 'Heart_Currently',\n",
    "                   'Heart_Over the years', 'vision_Currently', 'vision_Currently;Over the years', \n",
    "                   'vision_Over the years', 'anxiety_Currently', 'anxiety_Over the years', 'Headaches_Currently',\n",
    "                   'Headaches_Over the years', 'dizziness_Over the years']]       #numwalk and VRexpnum removed because of some false inputs in the data should be fixed later\n",
    "\n",
    "data['E']=1   #all pedestrians cross, so no right censored data\n",
    "\n",
    "data=data.apply(pd.to_numeric, errors='coerce')"
   ]
  },
  {
   "cell_type": "code",
   "execution_count": null,
   "metadata": {},
   "outputs": [],
   "source": [
    "def plot_corr(df,size=10):\n",
    "    '''Function plots a graphical correlation matrix for each pair of columns in the dataframe.\n",
    "\n",
    "    Input:\n",
    "        df: pandas DataFrame\n",
    "        size: vertical and horizontal size of the plot'''\n",
    "\n",
    "    corr = df.corr()\n",
    "    fig, ax = plt.subplots(figsize=(size, size))\n",
    "    ax.matshow(corr)\n",
    "    plt.xticks(range(len(corr.columns)), corr.columns);\n",
    "    plt.yticks(range(len(corr.columns)), corr.columns);"
   ]
  },
  {
   "cell_type": "code",
   "execution_count": 134,
   "metadata": {},
   "outputs": [],
   "source": [
    "def calculate_vif_(X, thresh=10.0):\n",
    "    variables = list(range(X.shape[1]))\n",
    "    dropped = True\n",
    "    while dropped:\n",
    "        dropped = False\n",
    "        vif = [variance_inflation_factor(X.iloc[:, variables].values, ix)\n",
    "               for ix in range(X.iloc[:, variables].shape[1])]\n",
    "\n",
    "        maxloc = vif.index(max(vif))\n",
    "        if max(vif) > thresh:\n",
    "            print('dropping \\'' + X.iloc[:, variables].columns[maxloc] +\n",
    "                  '\\' at index: ' + str(maxloc))\n",
    "            del variables[maxloc]\n",
    "            dropped = True\n",
    "\n",
    "    print('Remaining variables:')\n",
    "    print(X.columns[variables])\n",
    "    return X.iloc[:, variables]"
   ]
  },
  {
   "cell_type": "code",
   "execution_count": 136,
   "metadata": {},
   "outputs": [
    {
     "name": "stderr",
     "output_type": "stream",
     "text": [
      "/home/arash/anaconda3/envs/py3.6/lib/python3.6/site-packages/statsmodels/stats/outliers_influence.py:181: RuntimeWarning: divide by zero encountered in double_scalars\n",
      "  vif = 1. / (1. - r_squared_i)\n",
      "/home/arash/anaconda3/envs/py3.6/lib/python3.6/site-packages/statsmodels/regression/linear_model.py:1543: RuntimeWarning: divide by zero encountered in double_scalars\n",
      "  return 1 - self.ssr/self.centered_tss\n"
     ]
    },
    {
     "name": "stdout",
     "output_type": "stream",
     "text": [
      "dropping 'Full Braking Before Impact_-1.0' at index: 6\n",
      "dropping 'Clear' at index: 9\n",
      "dropping 'One way' at index: 10\n",
      "dropping 'Day' at index: 12\n",
      "dropping 'Age_9-12' at index: 14\n",
      "dropping 'Age_18 - 24' at index: 16\n",
      "dropping 'Occupation_Employed' at index: 22\n",
      "dropping 'Occupation_kid' at index: 24\n",
      "dropping 'Education_Bachelors degree' at index: 24\n",
      "dropping 'Education_kid' at index: 29\n",
      "dropping 'mode_Bike' at index: 30\n",
      "dropping 'workwalk_No' at index: 33\n",
      "dropping 'shopwalk_No' at index: 35\n",
      "dropping 'E' at index: 49\n",
      "dropping 'AV' at index: 5\n",
      "dropping 'Lane Width' at index: 2\n",
      "dropping 'Speed Limit' at index: 1\n",
      "dropping 'driving license_Yes' at index: 26\n",
      "dropping 'Minimum Gap' at index: 1\n",
      "dropping 'Mean Arrival Rate' at index: 1\n",
      "dropping 'mode_Car' at index: 24\n",
      "dropping 'numcars' at index: 8\n",
      "dropping 'Heart_Over the years' at index: 32\n",
      "Remaining variables:\n",
      "Index(['Wait Time (s)', 'Full Braking Before Impact_1',\n",
      "       'Full Braking Before Impact_2', 'Full Braking Before Impact_3', 'Snowy',\n",
      "       'two way', 'Two way with median', 'Night', 'Age_15-18', 'Age_12-15',\n",
      "       'Age_25 - 29', 'Age_30 - 39', 'Age_40 - 49', 'Age_50 - 59', 'Age_60+',\n",
      "       'Gender_Female', 'Occupation_Student', 'Occupation_Unemployed',\n",
      "       'Education_College/University student', 'Education_Doctorate degree',\n",
      "       'Education_High school diploma', 'Education_Masters degree',\n",
      "       'Education_Professional degree', 'mode_Public Transit', 'mode_Walking',\n",
      "       'workwalk_Sometimes', 'workwalk_Yes', 'shopwalk_Sometimes',\n",
      "       'shopwalk_Yes', 'shopwalk_kid', 'Vrexp_Yes', 'Heart_Currently',\n",
      "       'vision_Currently', 'vision_Currently;Over the years',\n",
      "       'vision_Over the years', 'anxiety_Currently', 'anxiety_Over the years',\n",
      "       'Headaches_Currently', 'Headaches_Over the years',\n",
      "       'dizziness_Over the years'],\n",
      "      dtype='object')\n"
     ]
    }
   ],
   "source": [
    "data=calculate_vif_(data, thresh=5.0)"
   ]
  },
  {
   "cell_type": "code",
   "execution_count": 137,
   "metadata": {},
   "outputs": [
    {
     "name": "stderr",
     "output_type": "stream",
     "text": [
      "/home/arash/anaconda3/envs/py3.6/lib/python3.6/site-packages/ipykernel_launcher.py:1: SettingWithCopyWarning: \n",
      "A value is trying to be set on a copy of a slice from a DataFrame.\n",
      "Try using .loc[row_indexer,col_indexer] = value instead\n",
      "\n",
      "See the caveats in the documentation: http://pandas.pydata.org/pandas-docs/stable/indexing.html#indexing-view-versus-copy\n",
      "  \"\"\"Entry point for launching an IPython kernel.\n"
     ]
    },
    {
     "name": "stdout",
     "output_type": "stream",
     "text": [
      "<lifelines.CoxPHFitter: fitted with 2463 observations, 0 censored>\n",
      "      duration col = 'Wait Time (s)'\n",
      "         event col = 'E'\n",
      "number of subjects = 2463\n",
      "  number of events = 2463\n",
      "    log-likelihood = -16635.83\n",
      "  time fit was run = 2019-03-11 23:54:38 UTC\n",
      "\n",
      "---\n",
      "                                      coef  exp(coef)  se(coef)     z      p  -log2(p)  lower 0.95  upper 0.95\n",
      "Full Braking Before Impact_1          0.07       1.08      0.09  0.82   0.41      1.29       -0.10        0.25\n",
      "Full Braking Before Impact_2          0.01       1.01      0.09  0.12   0.91      0.14       -0.16        0.18\n",
      "Full Braking Before Impact_3         -0.01       0.99      0.09 -0.15   0.88      0.18       -0.19        0.16\n",
      "Snowy                                -0.06       0.94      0.04 -1.45   0.15      2.76       -0.15        0.02\n",
      "two way                               0.07       1.08      0.05  1.46   0.14      2.80       -0.02        0.17\n",
      "Two way with median                   0.23       1.26      0.05  4.48 <0.005     17.06        0.13        0.33\n",
      "Night                                 0.02       1.02      0.04  0.52   0.60      0.73       -0.06        0.11\n",
      "Age_15-18                            -0.37       0.69      0.20 -1.85   0.06      3.95       -0.75        0.02\n",
      "Age_12-15                            -0.06       0.94      0.21 -0.30   0.76      0.39       -0.47        0.35\n",
      "Age_25 - 29                          -0.01       0.99      0.09 -0.10   0.92      0.12       -0.19        0.17\n",
      "Age_30 - 39                           0.32       1.38      0.09  3.51 <0.005     11.10        0.14        0.50\n",
      "Age_40 - 49                           0.36       1.43      0.13  2.66   0.01      7.02        0.09        0.62\n",
      "Age_50 - 59                          -0.43       0.65      0.13 -3.42 <0.005     10.67       -0.67       -0.18\n",
      "Age_60+                               1.40       4.04      0.30  4.58 <0.005     17.74        0.80        1.99\n",
      "Gender_Female                        -0.07       0.93      0.05 -1.36   0.17      2.52       -0.17        0.03\n",
      "Occupation_Student                    0.10       1.11      0.08  1.28   0.20      2.31       -0.05        0.25\n",
      "Occupation_Unemployed                -0.24       0.78      0.21 -1.15   0.25      2.00       -0.66        0.17\n",
      "Education_College/University student -0.06       0.95      0.07 -0.80   0.42      1.25       -0.19        0.08\n",
      "Education_Doctorate degree            0.14       1.15      0.12  1.16   0.25      2.01       -0.10        0.37\n",
      "Education_High school diploma        -0.79       0.45      0.15 -5.17 <0.005     22.04       -1.09       -0.49\n",
      "Education_Masters degree             -0.12       0.89      0.06 -1.88   0.06      4.06       -0.24        0.00\n",
      "Education_Professional degree        -0.00       1.00      0.13 -0.03   0.97      0.04       -0.27        0.26\n",
      "mode_Public Transit                   0.14       1.15      0.06  2.52   0.01      6.40        0.03        0.25\n",
      "mode_Walking                         -0.17       0.85      0.13 -1.34   0.18      2.46       -0.41        0.08\n",
      "workwalk_Sometimes                    0.02       1.03      0.07  0.34   0.74      0.44       -0.12        0.17\n",
      "workwalk_Yes                          0.21       1.23      0.11  1.92   0.05      4.19       -0.00        0.42\n",
      "shopwalk_Sometimes                    0.12       1.13      0.08  1.57   0.12      3.11       -0.03        0.27\n",
      "shopwalk_Yes                          0.21       1.24      0.06  3.45 <0.005     10.78        0.09        0.33\n",
      "shopwalk_kid                          0.01       1.01      0.14  0.09   0.93      0.10       -0.27        0.29\n",
      "Vrexp_Yes                             0.14       1.15      0.06  2.46   0.01      6.18        0.03        0.24\n",
      "Heart_Currently                       0.05       1.05      0.19  0.27   0.79      0.34       -0.32        0.42\n",
      "vision_Currently                     -0.26       0.77      0.14 -1.91   0.06      4.15       -0.53        0.01\n",
      "vision_Currently;Over the years      -0.04       0.96      0.14 -0.30   0.76      0.39       -0.31        0.23\n",
      "vision_Over the years                 0.24       1.27      0.11  2.16   0.03      5.02        0.02        0.45\n",
      "anxiety_Currently                     0.17       1.19      0.21  0.82   0.41      1.28       -0.24        0.59\n",
      "anxiety_Over the years               -0.34       0.71      0.20 -1.67   0.09      3.40       -0.74        0.06\n",
      "Headaches_Currently                  -0.02       0.98      0.27 -0.08   0.94      0.09       -0.55        0.50\n",
      "Headaches_Over the years              0.58       1.78      0.11  5.49 <0.005     24.54        0.37        0.78\n",
      "dizziness_Over the years             -0.51       0.60      0.19 -2.70   0.01      7.19       -0.89       -0.14\n",
      "---\n",
      "Concordance = 0.59\n",
      "Log-likelihood ratio test = 279.79 on 39 df, -log2(p)=124.37\n"
     ]
    }
   ],
   "source": [
    "data['E']=1\n",
    "cph = CoxPHFitter()\n",
    "cph.fit(data, 'Wait Time (s)', event_col='E')\n",
    "cph.print_summary()"
   ]
  },
  {
   "cell_type": "code",
   "execution_count": null,
   "metadata": {},
   "outputs": [],
   "source": []
  },
  {
   "cell_type": "code",
   "execution_count": null,
   "metadata": {},
   "outputs": [],
   "source": [
    "data=data.drop(columns=['Full Braking Before Impact_1','Full Braking Before Impact_3','Full Braking Before Impact_2','Night',\n",
    "                        'Age_12-15','Age_25 - 29','Education_Professional degree','Education_College/University student',\n",
    "                        'Headaches_Currently','Occupation_Unemployed',\n",
    "                        'workwalk_Sometimes','shopwalk_kid','Heart_Currently','vision_Currently;Over the years','anxiety_Currently'],axis=1)"
   ]
  },
  {
   "cell_type": "code",
   "execution_count": 141,
   "metadata": {},
   "outputs": [],
   "source": []
  },
  {
   "cell_type": "code",
   "execution_count": 142,
   "metadata": {},
   "outputs": [
    {
     "name": "stdout",
     "output_type": "stream",
     "text": [
      "<lifelines.CoxPHFitter: fitted with 2463 observations, 0 censored>\n",
      "      duration col = 'Wait Time (s)'\n",
      "         event col = 'E'\n",
      "number of subjects = 2463\n",
      "  number of events = 2463\n",
      "    log-likelihood = -16639.21\n",
      "  time fit was run = 2019-03-11 23:59:40 UTC\n",
      "\n",
      "---\n",
      "                               coef  exp(coef)  se(coef)     z      p  -log2(p)  lower 0.95  upper 0.95\n",
      "Snowy                         -0.07       0.93      0.04 -1.54   0.12      3.02       -0.15        0.02\n",
      "two way                        0.07       1.08      0.05  1.50   0.13      2.90       -0.02        0.17\n",
      "Two way with median            0.23       1.25      0.05  4.48 <0.005     17.06        0.13        0.32\n",
      "Age_15-18                     -0.29       0.75      0.18 -1.67   0.09      3.41       -0.64        0.05\n",
      "Age_30 - 39                    0.33       1.40      0.06  5.51 <0.005     24.76        0.21        0.45\n",
      "Age_40 - 49                    0.38       1.46      0.10  3.85 <0.005     13.03        0.19        0.58\n",
      "Age_50 - 59                   -0.39       0.68      0.10 -4.02 <0.005     14.06       -0.58       -0.20\n",
      "Age_60+                        1.43       4.18      0.25  5.79 <0.005     27.04        0.95        1.92\n",
      "Gender_Female                 -0.05       0.95      0.05 -1.21   0.23      2.13       -0.14        0.03\n",
      "Occupation_Student             0.13       1.14      0.06  2.04   0.04      4.58        0.00        0.26\n",
      "Education_Doctorate degree     0.15       1.16      0.11  1.41   0.16      2.65       -0.06        0.36\n",
      "Education_High school diploma -0.75       0.47      0.14 -5.42 <0.005     23.99       -1.02       -0.48\n",
      "Education_Masters degree      -0.11       0.90      0.05 -1.96   0.05      4.32       -0.21        0.00\n",
      "mode_Public Transit            0.13       1.14      0.05  2.54   0.01      6.51        0.03        0.23\n",
      "mode_Walking                  -0.20       0.82      0.12 -1.65   0.10      3.34       -0.43        0.04\n",
      "workwalk_Yes                   0.22       1.24      0.10  2.07   0.04      4.70        0.01        0.42\n",
      "shopwalk_Sometimes             0.14       1.15      0.07  2.05   0.04      4.64        0.01        0.28\n",
      "shopwalk_Yes                   0.22       1.25      0.05  4.33 <0.005     16.07        0.12        0.32\n",
      "Vrexp_Yes                      0.13       1.14      0.05  2.64   0.01      6.93        0.03        0.23\n",
      "vision_Currently              -0.24       0.79      0.12 -2.07   0.04      4.69       -0.47       -0.01\n",
      "vision_Over the years          0.24       1.27      0.09  2.64   0.01      6.89        0.06        0.42\n",
      "anxiety_Over the years        -0.31       0.73      0.18 -1.75   0.08      3.63       -0.66        0.04\n",
      "Headaches_Over the years       0.57       1.77      0.10  5.60 <0.005     25.49        0.37        0.77\n",
      "dizziness_Over the years      -0.50       0.61      0.18 -2.78   0.01      7.52       -0.85       -0.15\n",
      "---\n",
      "Concordance = 0.59\n",
      "Log-likelihood ratio test = 273.03 on 24 df, -log2(p)=144.06\n"
     ]
    }
   ],
   "source": [
    "cph = CoxPHFitter()\n",
    "cph.fit(data, 'Wait Time (s)', event_col='E')\n",
    "cph.print_summary()"
   ]
  },
  {
   "cell_type": "code",
   "execution_count": null,
   "metadata": {},
   "outputs": [],
   "source": []
  },
  {
   "cell_type": "code",
   "execution_count": null,
   "metadata": {},
   "outputs": [],
   "source": []
  },
  {
   "cell_type": "code",
   "execution_count": 62,
   "metadata": {},
   "outputs": [],
   "source": []
  },
  {
   "cell_type": "code",
   "execution_count": null,
   "metadata": {},
   "outputs": [],
   "source": []
  },
  {
   "cell_type": "code",
   "execution_count": 66,
   "metadata": {},
   "outputs": [
    {
     "data": {
      "text/plain": [
       "(2463, 63)"
      ]
     },
     "execution_count": 66,
     "metadata": {},
     "output_type": "execute_result"
    }
   ],
   "source": [
    "data.shap"
   ]
  },
  {
   "cell_type": "code",
   "execution_count": null,
   "metadata": {},
   "outputs": [],
   "source": []
  }
 ],
 "metadata": {
  "kernelspec": {
   "display_name": "Python 3",
   "language": "python",
   "name": "python3"
  },
  "language_info": {
   "codemirror_mode": {
    "name": "ipython",
    "version": 3
   },
   "file_extension": ".py",
   "mimetype": "text/x-python",
   "name": "python",
   "nbconvert_exporter": "python",
   "pygments_lexer": "ipython3",
   "version": "3.6.8"
  }
 },
 "nbformat": 4,
 "nbformat_minor": 2
}
