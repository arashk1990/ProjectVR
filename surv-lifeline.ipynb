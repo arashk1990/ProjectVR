{
 "cells": [
  {
   "cell_type": "code",
   "execution_count": 136,
   "metadata": {},
   "outputs": [],
   "source": [
    "import pandas as pd\n",
    "import numpy as np\n",
    "import time\n",
    "from lifelines import CoxPHFitter\n",
    "import matplotlib.pyplot as plt\n",
    "from statsmodels.stats.outliers_influence import variance_inflation_factor    \n",
    "from lifelines import WeibullAFTFitter\n",
    "from lifelines.utils import k_fold_cross_validation\n"
   ]
  },
  {
   "cell_type": "code",
   "execution_count": null,
   "metadata": {},
   "outputs": [],
   "source": []
  },
  {
   "cell_type": "code",
   "execution_count": 137,
   "metadata": {},
   "outputs": [],
   "source": [
    "data = pd.read_pickle('ALLDATA.pkl')\n",
    "data=data.loc[-data['Wait Time (s)'].isin(['Err1','Err2','Err3','Err4','Err5'])]\n",
    "data=data.loc[data['Age_9-12'].isin([0,1])]\n",
    "\n",
    "\n",
    "data=data.loc[:,['Wait Time (s)','Speed Limit', 'Lane Width', 'Minimum Gap', 'Mean Arrival Rate', 'AV', \n",
    "                   'Full Braking Before Impact_-1.0', 'Full Braking Before Impact_1', \n",
    "                   'Full Braking Before Impact_2', 'Full Braking Before Impact_3', 'Snowy',\n",
    "                   'One way', 'two way', 'Two way with median', 'Night', 'numcars', \n",
    "                    'Age_9-12', 'Age_15-18', 'Age_12-15', 'Age_18 - 24', 'Age_25 - 29', 'Age_30 - 39', 'Age_50 - 59', 'Age_60+', \n",
    "                  'Gender_Female', 'Occupation_Employed', 'Occupation_Student', 'Occupation_Unemployed', \n",
    "                   'Occupation_kid', 'Education_Bachelors degree', 'Education_College/University student', \n",
    "                   'Education_Doctorate degree', 'Education_High school diploma', 'Education_Masters degree', \n",
    "                   'Education_Professional degree', 'driving license_Yes', 'mode_Bike', 'mode_Car',\n",
    "                   'mode_Public Transit', 'mode_Walking', 'workwalk_No', 'workwalk_Sometimes', 'workwalk_Yes', \n",
    "                   'shopwalk_No', 'shopwalk_Sometimes', 'shopwalk_Yes', 'shopwalk_kid', 'Vrexp_Yes', 'Heart_Currently',\n",
    "                   'Heart_Over the years', 'vision_Currently', \n",
    "                   'vision_Over the years', 'anxiety_Currently', 'anxiety_Over the years', 'Headaches_Currently',\n",
    "                   'Headaches_Over the years', 'dizziness_Over the years']]       #numwalk and VRexpnum removed because of some false inputs in the data should be fixed later\n",
    "\n",
    "\n",
    "data=data.apply(pd.to_numeric, errors='coerce')\n",
    "\n",
    "def FullAV(row):\n",
    "    if row['AV']==100:\n",
    "        return 1\n",
    "    else:\n",
    "        return 0\n",
    "def MixedAV(row):\n",
    "    if row['AV']>0 and row['AV']<100:\n",
    "        return 1\n",
    "    else:\n",
    "        return 0   \n",
    "def HDV(row):\n",
    "    if row['AV']==0:\n",
    "        return 1\n",
    "    else:\n",
    "        return 0   \n",
    "data=data[data.Occupation_kid==0]                         #remove kids\n",
    "\n",
    "\n",
    "data['FullAV']=data.apply (lambda row: FullAV(row), axis=1)\n",
    "data['Mixed']=data.apply (lambda row: MixedAV(row), axis=1)\n",
    "#data['HDV']=data.apply (lambda row: HDV(row), axis=1)\n",
    "data['over50']=data['Age_50 - 59']+data['Age_60+']"
   ]
  },
  {
   "cell_type": "code",
   "execution_count": 138,
   "metadata": {},
   "outputs": [],
   "source": [
    "data=data.drop(columns=['Age_9-12', 'Age_15-18', 'Age_12-15','Occupation_kid','shopwalk_kid','AV','Age_50 - 59','Age_60+'])"
   ]
  },
  {
   "cell_type": "code",
   "execution_count": null,
   "metadata": {},
   "outputs": [],
   "source": []
  },
  {
   "cell_type": "code",
   "execution_count": 83,
   "metadata": {},
   "outputs": [],
   "source": [
    "def plot_corr(df,size=10):\n",
    "    '''Function plots a graphical correlation matrix for each pair of columns in the dataframe.\n",
    "\n",
    "    Input:\n",
    "        df: pandas DataFrame\n",
    "        size: vertical and horizontal size of the plot'''\n",
    "\n",
    "    corr = df.corr()\n",
    "    fig, ax = plt.subplots(figsize=(size, size))\n",
    "    ax.matshow(corr)\n",
    "    plt.xticks(range(len(corr.columns)), corr.columns);\n",
    "    plt.yticks(range(len(corr.columns)), corr.columns);"
   ]
  },
  {
   "cell_type": "code",
   "execution_count": 139,
   "metadata": {},
   "outputs": [
    {
     "name": "stderr",
     "output_type": "stream",
     "text": [
      "/home/arash/anaconda3/envs/py3.6/lib/python3.6/site-packages/statsmodels/stats/outliers_influence.py:181: RuntimeWarning: divide by zero encountered in double_scalars\n",
      "  vif = 1. / (1. - r_squared_i)\n"
     ]
    },
    {
     "name": "stdout",
     "output_type": "stream",
     "text": [
      "dropping 'Full Braking Before Impact_-1.0' at index: 5\n",
      "dropping 'Full Braking Before Impact_1' at index: 5\n",
      "dropping 'One way' at index: 8\n",
      "dropping 'Occupation_Employed' at index: 16\n",
      "dropping 'Education_Bachelors degree' at index: 18\n",
      "dropping 'mode_Bike' at index: 24\n",
      "dropping 'workwalk_No' at index: 27\n",
      "dropping 'shopwalk_Yes' at index: 31\n",
      "Remaining variables:\n",
      "Index(['Wait Time (s)', 'Speed Limit', 'Lane Width', 'Minimum Gap',\n",
      "       'Mean Arrival Rate', 'Full Braking Before Impact_2',\n",
      "       'Full Braking Before Impact_3', 'Snowy', 'two way',\n",
      "       'Two way with median', 'Night', 'numcars', 'Age_18 - 24', 'Age_25 - 29',\n",
      "       'Age_30 - 39', 'Gender_Female', 'Occupation_Student',\n",
      "       'Occupation_Unemployed', 'Education_College/University student',\n",
      "       'Education_Doctorate degree', 'Education_High school diploma',\n",
      "       'Education_Masters degree', 'Education_Professional degree',\n",
      "       'driving license_Yes', 'mode_Car', 'mode_Public Transit',\n",
      "       'mode_Walking', 'workwalk_Sometimes', 'workwalk_Yes', 'shopwalk_No',\n",
      "       'shopwalk_Sometimes', 'Vrexp_Yes', 'Heart_Currently',\n",
      "       'Heart_Over the years', 'vision_Currently', 'vision_Over the years',\n",
      "       'anxiety_Currently', 'anxiety_Over the years', 'Headaches_Currently',\n",
      "       'Headaches_Over the years', 'dizziness_Over the years', 'FullAV',\n",
      "       'Mixed', 'over50'],\n",
      "      dtype='object')\n"
     ]
    }
   ],
   "source": [
    "def calculate_vif_(X, thresh=20.0):\n",
    "    variables = list(range(X.shape[1]))\n",
    "    dropped = True\n",
    "    while dropped:\n",
    "        dropped = False\n",
    "        vif = [variance_inflation_factor(X.iloc[:, variables].values, ix)\n",
    "               for ix in range(X.iloc[:, variables].shape[1])]\n",
    "\n",
    "        maxloc = vif.index(max(vif))\n",
    "        if max(vif) > thresh:\n",
    "            print('dropping \\'' + X.iloc[:, variables].columns[maxloc] +\n",
    "                  '\\' at index: ' + str(maxloc))\n",
    "            del variables[maxloc]\n",
    "            dropped = True\n",
    "\n",
    "    print('Remaining variables:')\n",
    "    print(X.columns[variables])\n",
    "    return X.iloc[:, variables]\n",
    "\n",
    "data=calculate_vif_(data, thresh=180.0)"
   ]
  },
  {
   "cell_type": "code",
   "execution_count": 140,
   "metadata": {},
   "outputs": [],
   "source": [
    "data['E']=1   #all pedestrians cross, so no right censored data"
   ]
  },
  {
   "cell_type": "code",
   "execution_count": 141,
   "metadata": {},
   "outputs": [
    {
     "name": "stdout",
     "output_type": "stream",
     "text": [
      "<lifelines.CoxPHFitter: fitted with 2291 observations, 0 censored>\n",
      "      duration col = 'Wait Time (s)'\n",
      "         event col = 'E'\n",
      "number of subjects = 2291\n",
      "  number of events = 2291\n",
      "    log-likelihood = -15244.20\n",
      "  time fit was run = 2019-04-14 02:31:08 UTC\n",
      "\n",
      "---\n",
      "                                      coef  exp(coef)  se(coef)     z      p  -log2(p)  lower 0.95  upper 0.95\n",
      "Speed Limit                           0.01       1.01      0.00  5.50 <0.005     24.68        0.01        0.02\n",
      "Lane Width                           -0.59       0.55      0.11 -5.41 <0.005     23.94       -0.81       -0.38\n",
      "Minimum Gap                          -0.02       0.98      0.05 -0.29   0.77      0.38       -0.12        0.09\n",
      "Mean Arrival Rate                    -0.00       1.00      0.00 -8.34 <0.005     53.56       -0.00       -0.00\n",
      "Full Braking Before Impact_2         -0.08       0.92      0.05 -1.54   0.12      3.01       -0.19        0.02\n",
      "Full Braking Before Impact_3         -0.09       0.91      0.05 -1.65   0.10      3.32       -0.20        0.02\n",
      "Snowy                                -0.06       0.94      0.05 -1.28   0.20      2.31       -0.15        0.03\n",
      "two way                               0.10       1.10      0.05  1.84   0.07      3.93       -0.01        0.20\n",
      "Two way with median                   0.23       1.26      0.05  4.38 <0.005     16.33        0.13        0.34\n",
      "Night                                 0.02       1.02      0.05  0.38   0.70      0.51       -0.07        0.11\n",
      "numcars                               0.03       1.03      0.03  0.97   0.33      1.59       -0.03        0.10\n",
      "Age_18 - 24                          -0.32       0.72      0.15 -2.21   0.03      5.20       -0.61       -0.04\n",
      "Age_25 - 29                          -0.32       0.72      0.13 -2.58   0.01      6.64       -0.57       -0.08\n",
      "Age_30 - 39                           0.02       1.02      0.11  0.14   0.89      0.17       -0.20        0.24\n",
      "Gender_Female                        -0.13       0.88      0.05 -2.36   0.02      5.76       -0.23       -0.02\n",
      "Occupation_Student                    0.12       1.13      0.09  1.44   0.15      2.75       -0.04        0.29\n",
      "Occupation_Unemployed                -0.23       0.80      0.22 -1.04   0.30      1.75       -0.66        0.20\n",
      "Education_College/University student -0.08       0.92      0.07 -1.12   0.26      1.94       -0.22        0.06\n",
      "Education_Doctorate degree            0.30       1.34      0.12  2.51   0.01      6.36        0.06        0.53\n",
      "Education_High school diploma        -0.68       0.51      0.17 -4.01 <0.005     14.04       -1.01       -0.35\n",
      "Education_Masters degree             -0.13       0.88      0.07 -1.97   0.05      4.37       -0.26       -0.00\n",
      "Education_Professional degree         0.17       1.18      0.12  1.36   0.17      2.54       -0.07        0.41\n",
      "driving license_Yes                  -0.19       0.82      0.10 -1.88   0.06      4.06       -0.40        0.01\n",
      "mode_Car                              0.07       1.07      0.11  0.62   0.54      0.90       -0.14        0.28\n",
      "mode_Public Transit                   0.26       1.30      0.11  2.48   0.01      6.26        0.06        0.47\n",
      "mode_Walking                         -0.08       0.92      0.17 -0.50   0.62      0.70       -0.41        0.24\n",
      "workwalk_Sometimes                    0.03       1.03      0.09  0.32   0.75      0.42       -0.14        0.20\n",
      "workwalk_Yes                          0.09       1.09      0.12  0.75   0.45      1.14       -0.14        0.32\n",
      "shopwalk_No                          -0.25       0.78      0.07 -3.49 <0.005     11.02       -0.39       -0.11\n",
      "shopwalk_Sometimes                   -0.08       0.92      0.07 -1.11   0.27      1.90       -0.22        0.06\n",
      "Vrexp_Yes                             0.23       1.26      0.06  3.89 <0.005     13.28        0.11        0.35\n",
      "Heart_Currently                      -0.10       0.91      0.22 -0.45   0.65      0.61       -0.52        0.33\n",
      "Heart_Over the years                 -0.68       0.51      0.47 -1.44   0.15      2.75       -1.61        0.24\n",
      "vision_Currently                     -0.14       0.87      0.10 -1.44   0.15      2.73       -0.34        0.05\n",
      "vision_Over the years                 0.32       1.37      0.11  2.83 <0.005      7.76        0.10        0.53\n",
      "anxiety_Currently                     0.18       1.19      0.22  0.82   0.41      1.28       -0.24        0.60\n",
      "anxiety_Over the years               -0.31       0.73      0.29 -1.07   0.28      1.82       -0.87        0.25\n",
      "Headaches_Currently                   0.04       1.04      0.27  0.14   0.89      0.17       -0.49        0.57\n",
      "Headaches_Over the years              0.60       1.82      0.11  5.49 <0.005     24.53        0.39        0.82\n",
      "dizziness_Over the years             -0.12       0.88      0.23 -0.54   0.59      0.76       -0.57        0.32\n",
      "FullAV                               -0.06       0.94      0.15 -0.42   0.67      0.57       -0.35        0.23\n",
      "Mixed                                -0.03       0.97      0.18 -0.20   0.84      0.24       -0.38        0.31\n",
      "over50                               -0.67       0.51      0.13 -5.28 <0.005     22.84       -0.92       -0.42\n",
      "---\n",
      "Concordance = 0.61\n",
      "Log-likelihood ratio test = 388.93 on 43 df, -log2(p)=187.79\n"
     ]
    }
   ],
   "source": [
    "cph = CoxPHFitter()\n",
    "cph.fit(data, 'Wait Time (s)', event_col='E')\n",
    "cph.print_summary()"
   ]
  },
  {
   "cell_type": "code",
   "execution_count": 142,
   "metadata": {},
   "outputs": [],
   "source": [
    "data=data.drop(columns=['Minimum Gap','Night','dizziness_Over the years','Headaches_Currently','Headaches_Over the years','Heart_Over the years','FullAV'\n",
    "                       ],axis=1)"
   ]
  },
  {
   "cell_type": "code",
   "execution_count": 143,
   "metadata": {},
   "outputs": [
    {
     "name": "stdout",
     "output_type": "stream",
     "text": [
      "<lifelines.CoxPHFitter: fitted with 2291 observations, 0 censored>\n",
      "      duration col = 'Wait Time (s)'\n",
      "         event col = 'E'\n",
      "number of subjects = 2291\n",
      "  number of events = 2291\n",
      "    log-likelihood = -15258.57\n",
      "  time fit was run = 2019-04-14 02:31:41 UTC\n",
      "\n",
      "---\n",
      "                                      coef  exp(coef)  se(coef)     z      p  -log2(p)  lower 0.95  upper 0.95\n",
      "Speed Limit                           0.01       1.01      0.00  5.53 <0.005     24.90        0.01        0.02\n",
      "Lane Width                           -0.59       0.55      0.11 -5.52 <0.005     24.83       -0.80       -0.38\n",
      "Mean Arrival Rate                    -0.00       1.00      0.00 -8.56 <0.005     56.26       -0.00       -0.00\n",
      "Full Braking Before Impact_2         -0.08       0.93      0.05 -1.42   0.15      2.69       -0.18        0.03\n",
      "Full Braking Before Impact_3         -0.09       0.92      0.05 -1.62   0.10      3.26       -0.19        0.02\n",
      "Snowy                                -0.07       0.94      0.05 -1.43   0.15      2.70       -0.16        0.02\n",
      "two way                               0.10       1.11      0.05  1.93   0.05      4.21       -0.00        0.20\n",
      "Two way with median                   0.23       1.26      0.05  4.30 <0.005     15.85        0.12        0.33\n",
      "numcars                               0.06       1.06      0.03  1.91   0.06      4.15       -0.00        0.12\n",
      "Age_18 - 24                          -0.25       0.78      0.14 -1.80   0.07      3.80       -0.52        0.02\n",
      "Age_25 - 29                          -0.32       0.73      0.12 -2.75   0.01      7.40       -0.55       -0.09\n",
      "Age_30 - 39                           0.01       1.01      0.10  0.14   0.89      0.16       -0.19        0.22\n",
      "Gender_Female                        -0.13       0.88      0.05 -2.38   0.02      5.87       -0.23       -0.02\n",
      "Occupation_Student                    0.09       1.09      0.08  1.09   0.27      1.87       -0.07        0.25\n",
      "Occupation_Unemployed                -0.28       0.76      0.22 -1.27   0.21      2.28       -0.70        0.15\n",
      "Education_College/University student -0.11       0.89      0.07 -1.64   0.10      3.30       -0.25        0.02\n",
      "Education_Doctorate degree            0.29       1.33      0.12  2.48   0.01      6.24        0.06        0.52\n",
      "Education_High school diploma        -0.69       0.50      0.16 -4.25 <0.005     15.48       -1.00       -0.37\n",
      "Education_Masters degree             -0.16       0.85      0.06 -2.48   0.01      6.25       -0.29       -0.03\n",
      "Education_Professional degree         0.16       1.17      0.12  1.31   0.19      2.39       -0.08        0.39\n",
      "driving license_Yes                  -0.20       0.82      0.10 -2.02   0.04      4.53       -0.38       -0.01\n",
      "mode_Car                              0.03       1.03      0.10  0.31   0.76      0.40       -0.17        0.24\n",
      "mode_Public Transit                   0.25       1.29      0.10  2.45   0.01      6.15        0.05        0.45\n",
      "mode_Walking                         -0.13       0.88      0.15 -0.84   0.40      1.31       -0.43        0.17\n",
      "workwalk_Sometimes                   -0.02       0.98      0.09 -0.23   0.82      0.29       -0.19        0.15\n",
      "workwalk_Yes                          0.05       1.06      0.11  0.48   0.63      0.66       -0.17        0.27\n",
      "shopwalk_No                          -0.27       0.76      0.07 -3.93 <0.005     13.54       -0.41       -0.14\n",
      "shopwalk_Sometimes                   -0.06       0.95      0.07 -0.80   0.42      1.24       -0.19        0.08\n",
      "Vrexp_Yes                             0.16       1.18      0.06  2.93 <0.005      8.20        0.05        0.27\n",
      "Heart_Currently                       0.02       1.02      0.19  0.11   0.91      0.13       -0.34        0.38\n",
      "vision_Currently                     -0.14       0.87      0.10 -1.43   0.15      2.70       -0.33        0.05\n",
      "vision_Over the years                 0.41       1.50      0.11  3.67 <0.005     11.99        0.19        0.62\n",
      "anxiety_Currently                     0.14       1.15      0.14  0.95   0.34      1.54       -0.15        0.42\n",
      "anxiety_Over the years               -0.47       0.62      0.17 -2.76   0.01      7.44       -0.81       -0.14\n",
      "Mixed                                 0.04       1.04      0.11  0.33   0.74      0.43       -0.19        0.26\n",
      "over50                               -0.55       0.58      0.12 -4.66 <0.005     18.27       -0.78       -0.32\n",
      "---\n",
      "Concordance = 0.61\n",
      "Log-likelihood ratio test = 360.19 on 36 df, -log2(p)=180.64\n"
     ]
    }
   ],
   "source": [
    "cph = CoxPHFitter()\n",
    "cph.fit(data, 'Wait Time (s)', event_col='E')\n",
    "cph.print_summary()"
   ]
  },
  {
   "cell_type": "code",
   "execution_count": 144,
   "metadata": {},
   "outputs": [],
   "source": [
    "data=data.drop(columns=['Snowy','numcars','Occupation_Unemployed','workwalk_Sometimes','shopwalk_Sometimes',\n",
    "                        'Education_Professional degree','Education_College/University student',\n",
    "                        'mode_Car','anxiety_Currently','anxiety_Over the years'],axis=1)"
   ]
  },
  {
   "cell_type": "code",
   "execution_count": 145,
   "metadata": {},
   "outputs": [
    {
     "name": "stdout",
     "output_type": "stream",
     "text": [
      "<lifelines.CoxPHFitter: fitted with 2291 observations, 0 censored>\n",
      "      duration col = 'Wait Time (s)'\n",
      "         event col = 'E'\n",
      "number of subjects = 2291\n",
      "  number of events = 2291\n",
      "    log-likelihood = -15268.52\n",
      "  time fit was run = 2019-04-14 02:32:28 UTC\n",
      "\n",
      "---\n",
      "                               coef  exp(coef)  se(coef)     z      p  -log2(p)  lower 0.95  upper 0.95\n",
      "Speed Limit                    0.02       1.02      0.00  5.72 <0.005     26.45        0.01        0.02\n",
      "Lane Width                    -0.59       0.55      0.11 -5.59 <0.005     25.37       -0.80       -0.38\n",
      "Mean Arrival Rate             -0.00       1.00      0.00 -8.74 <0.005     58.57       -0.00       -0.00\n",
      "Full Braking Before Impact_2  -0.06       0.94      0.05 -1.23   0.22      2.19       -0.17        0.04\n",
      "Full Braking Before Impact_3  -0.07       0.93      0.05 -1.37   0.17      2.54       -0.18        0.03\n",
      "two way                        0.11       1.11      0.05  2.05   0.04      4.64        0.00        0.21\n",
      "Two way with median            0.22       1.25      0.05  4.21 <0.005     15.28        0.12        0.32\n",
      "Age_18 - 24                   -0.33       0.72      0.11 -2.91 <0.005      8.11       -0.56       -0.11\n",
      "Age_25 - 29                   -0.33       0.72      0.10 -3.18 <0.005      9.40       -0.53       -0.13\n",
      "Age_30 - 39                    0.03       1.03      0.10  0.27   0.79      0.35       -0.16        0.21\n",
      "Gender_Female                 -0.10       0.91      0.05 -2.07   0.04      4.68       -0.19       -0.01\n",
      "Occupation_Student             0.20       1.22      0.07  2.84 <0.005      7.78        0.06        0.34\n",
      "Education_Doctorate degree     0.21       1.23      0.11  1.93   0.05      4.21       -0.00        0.42\n",
      "Education_High school diploma -0.67       0.51      0.15 -4.60 <0.005     17.84       -0.95       -0.38\n",
      "Education_Masters degree      -0.13       0.88      0.05 -2.45   0.01      6.12       -0.24       -0.03\n",
      "driving license_Yes           -0.09       0.91      0.09 -1.01   0.31      1.67       -0.26        0.08\n",
      "mode_Public Transit            0.18       1.20      0.05  3.45 <0.005     10.82        0.08        0.29\n",
      "mode_Walking                  -0.08       0.92      0.12 -0.68   0.50      1.00       -0.31        0.15\n",
      "workwalk_Yes                   0.02       1.03      0.10  0.24   0.81      0.30       -0.18        0.23\n",
      "shopwalk_No                   -0.18       0.84      0.05 -3.45 <0.005     10.81       -0.28       -0.08\n",
      "Vrexp_Yes                      0.16       1.18      0.05  3.12 <0.005      9.09        0.06        0.27\n",
      "Heart_Currently               -0.20       0.82      0.17 -1.21   0.23      2.15       -0.53        0.13\n",
      "vision_Currently              -0.09       0.92      0.09 -1.03   0.30      1.73       -0.26        0.08\n",
      "vision_Over the years          0.24       1.27      0.09  2.60   0.01      6.74        0.06        0.42\n",
      "Mixed                          0.04       1.04      0.11  0.33   0.74      0.44       -0.18        0.26\n",
      "over50                        -0.48       0.62      0.11 -4.23 <0.005     15.37       -0.70       -0.25\n",
      "---\n",
      "Concordance = 0.60\n",
      "Log-likelihood ratio test = 340.30 on 26 df, -log2(p)=185.28\n"
     ]
    }
   ],
   "source": [
    "cph = CoxPHFitter()\n",
    "cph.fit(data, 'Wait Time (s)', event_col='E')\n",
    "cph.print_summary()"
   ]
  },
  {
   "cell_type": "code",
   "execution_count": 146,
   "metadata": {},
   "outputs": [],
   "source": [
    "data=data.drop(columns=['Heart_Currently','driving license_Yes','workwalk_Yes','mode_Walking','vision_Currently','vision_Over the years' ],axis=1)"
   ]
  },
  {
   "cell_type": "code",
   "execution_count": 147,
   "metadata": {},
   "outputs": [
    {
     "name": "stdout",
     "output_type": "stream",
     "text": [
      "<lifelines.CoxPHFitter: fitted with 2291 observations, 0 censored>\n",
      "      duration col = 'Wait Time (s)'\n",
      "         event col = 'E'\n",
      "number of subjects = 2291\n",
      "  number of events = 2291\n",
      "    log-likelihood = -15273.64\n",
      "  time fit was run = 2019-04-14 02:32:49 UTC\n",
      "\n",
      "---\n",
      "                               coef  exp(coef)  se(coef)     z      p  -log2(p)  lower 0.95  upper 0.95\n",
      "Speed Limit                    0.02       1.02      0.00  5.92 <0.005     28.21        0.01        0.02\n",
      "Lane Width                    -0.59       0.56      0.11 -5.57 <0.005     25.21       -0.79       -0.38\n",
      "Mean Arrival Rate             -0.00       1.00      0.00 -8.81 <0.005     59.47       -0.00       -0.00\n",
      "Full Braking Before Impact_2  -0.07       0.93      0.05 -1.37   0.17      2.55       -0.17        0.03\n",
      "Full Braking Before Impact_3  -0.07       0.93      0.05 -1.34   0.18      2.46       -0.17        0.03\n",
      "two way                        0.09       1.10      0.05  1.82   0.07      3.87       -0.01        0.20\n",
      "Two way with median            0.22       1.25      0.05  4.28 <0.005     15.70        0.12        0.33\n",
      "Age_18 - 24                   -0.36       0.70      0.10 -3.44 <0.005     10.72       -0.56       -0.15\n",
      "Age_25 - 29                   -0.31       0.73      0.10 -3.21 <0.005      9.56       -0.50       -0.12\n",
      "Age_30 - 39                    0.00       1.00      0.09  0.05   0.96      0.06       -0.16        0.17\n",
      "Gender_Female                 -0.06       0.94      0.04 -1.31   0.19      2.40       -0.15        0.03\n",
      "Occupation_Student             0.19       1.21      0.07  2.87 <0.005      7.92        0.06        0.32\n",
      "Education_Doctorate degree     0.14       1.15      0.09  1.53   0.13      2.98       -0.04        0.33\n",
      "Education_High school diploma -0.65       0.52      0.12 -5.63 <0.005     25.71       -0.88       -0.42\n",
      "Education_Masters degree      -0.13       0.88      0.05 -2.54   0.01      6.49       -0.23       -0.03\n",
      "mode_Public Transit            0.19       1.21      0.05  3.96 <0.005     13.73        0.10        0.29\n",
      "shopwalk_No                   -0.16       0.86      0.05 -3.15 <0.005      9.28       -0.25       -0.06\n",
      "Vrexp_Yes                      0.17       1.18      0.05  3.25 <0.005      9.78        0.07        0.27\n",
      "Mixed                          0.02       1.02      0.11  0.15   0.88      0.19       -0.20        0.24\n",
      "over50                        -0.49       0.61      0.11 -4.56 <0.005     17.59       -0.70       -0.28\n",
      "---\n",
      "Concordance = 0.60\n",
      "Log-likelihood ratio test = 330.06 on 20 df, -log2(p)=190.18\n"
     ]
    }
   ],
   "source": [
    "cph = CoxPHFitter()\n",
    "cph.fit(data, 'Wait Time (s)', event_col='E')\n",
    "cph.print_summary()"
   ]
  },
  {
   "cell_type": "code",
   "execution_count": 148,
   "metadata": {},
   "outputs": [],
   "source": [
    "data=data.drop(columns=['Age_30 - 39'],axis=1)"
   ]
  },
  {
   "cell_type": "code",
   "execution_count": 149,
   "metadata": {},
   "outputs": [
    {
     "name": "stdout",
     "output_type": "stream",
     "text": [
      "<lifelines.CoxPHFitter: fitted with 2291 observations, 0 censored>\n",
      "      duration col = 'Wait Time (s)'\n",
      "         event col = 'E'\n",
      "number of subjects = 2291\n",
      "  number of events = 2291\n",
      "    log-likelihood = -15273.64\n",
      "  time fit was run = 2019-04-14 02:33:08 UTC\n",
      "\n",
      "---\n",
      "                               coef  exp(coef)  se(coef)     z      p  -log2(p)  lower 0.95  upper 0.95\n",
      "Speed Limit                    0.02       1.02      0.00  5.92 <0.005     28.21        0.01        0.02\n",
      "Lane Width                    -0.59       0.56      0.11 -5.57 <0.005     25.25       -0.79       -0.38\n",
      "Mean Arrival Rate             -0.00       1.00      0.00 -8.81 <0.005     59.47       -0.00       -0.00\n",
      "Full Braking Before Impact_2  -0.07       0.93      0.05 -1.37   0.17      2.55       -0.17        0.03\n",
      "Full Braking Before Impact_3  -0.07       0.93      0.05 -1.34   0.18      2.46       -0.17        0.03\n",
      "two way                        0.09       1.10      0.05  1.83   0.07      3.88       -0.01        0.20\n",
      "Two way with median            0.22       1.25      0.05  4.28 <0.005     15.70        0.12        0.33\n",
      "Age_18 - 24                   -0.36       0.70      0.08 -4.74 <0.005     18.82       -0.51       -0.21\n",
      "Age_25 - 29                   -0.31       0.73      0.06 -4.88 <0.005     19.86       -0.44       -0.19\n",
      "Gender_Female                 -0.06       0.94      0.04 -1.31   0.19      2.40       -0.15        0.03\n",
      "Occupation_Student             0.19       1.21      0.07  2.87 <0.005      7.94        0.06        0.32\n",
      "Education_Doctorate degree     0.14       1.15      0.09  1.53   0.12      3.00       -0.04        0.33\n",
      "Education_High school diploma -0.65       0.52      0.12 -5.63 <0.005     25.76       -0.88       -0.43\n",
      "Education_Masters degree      -0.13       0.88      0.05 -2.62   0.01      6.83       -0.23       -0.03\n",
      "mode_Public Transit            0.19       1.21      0.05  3.96 <0.005     13.73        0.10        0.29\n",
      "shopwalk_No                   -0.16       0.86      0.05 -3.18 <0.005      9.41       -0.25       -0.06\n",
      "Vrexp_Yes                      0.17       1.18      0.05  3.26 <0.005      9.80        0.07        0.27\n",
      "Mixed                          0.02       1.02      0.11  0.15   0.88      0.19       -0.20        0.24\n",
      "over50                        -0.49       0.61      0.08 -6.04 <0.005     29.31       -0.65       -0.33\n",
      "---\n",
      "Concordance = 0.60\n",
      "Log-likelihood ratio test = 330.06 on 19 df, -log2(p)=192.26\n"
     ]
    }
   ],
   "source": [
    "cph = CoxPHFitter()\n",
    "cph.fit(data, 'Wait Time (s)', event_col='E')\n",
    "cph.print_summary()"
   ]
  },
  {
   "cell_type": "code",
   "execution_count": 150,
   "metadata": {},
   "outputs": [],
   "source": [
    "data=data.drop(columns=['Full Braking Before Impact_3'],axis=1)"
   ]
  },
  {
   "cell_type": "code",
   "execution_count": 151,
   "metadata": {},
   "outputs": [
    {
     "name": "stdout",
     "output_type": "stream",
     "text": [
      "<lifelines.CoxPHFitter: fitted with 2291 observations, 0 censored>\n",
      "      duration col = 'Wait Time (s)'\n",
      "         event col = 'E'\n",
      "number of subjects = 2291\n",
      "  number of events = 2291\n",
      "    log-likelihood = -15274.53\n",
      "  time fit was run = 2019-04-14 02:33:31 UTC\n",
      "\n",
      "---\n",
      "                               coef  exp(coef)  se(coef)     z      p  -log2(p)  lower 0.95  upper 0.95\n",
      "Speed Limit                    0.02       1.02      0.00  6.01 <0.005     29.00        0.01        0.02\n",
      "Lane Width                    -0.59       0.56      0.11 -5.56 <0.005     25.12       -0.79       -0.38\n",
      "Mean Arrival Rate             -0.00       1.00      0.00 -8.91 <0.005     60.76       -0.00       -0.00\n",
      "Full Braking Before Impact_2  -0.04       0.96      0.05 -0.83   0.41      1.30       -0.13        0.05\n",
      "two way                        0.09       1.10      0.05  1.80   0.07      3.81       -0.01        0.19\n",
      "Two way with median            0.22       1.25      0.05  4.25 <0.005     15.50        0.12        0.32\n",
      "Age_18 - 24                   -0.35       0.70      0.08 -4.66 <0.005     18.28       -0.50       -0.21\n",
      "Age_25 - 29                   -0.31       0.73      0.06 -4.88 <0.005     19.83       -0.44       -0.19\n",
      "Gender_Female                 -0.06       0.94      0.04 -1.30   0.19      2.37       -0.15        0.03\n",
      "Occupation_Student             0.19       1.21      0.07  2.81 <0.005      7.66        0.06        0.32\n",
      "Education_Doctorate degree     0.15       1.16      0.09  1.55   0.12      3.05       -0.04        0.33\n",
      "Education_High school diploma -0.65       0.52      0.12 -5.62 <0.005     25.61       -0.88       -0.42\n",
      "Education_Masters degree      -0.14       0.87      0.05 -2.69   0.01      7.12       -0.23       -0.04\n",
      "mode_Public Transit            0.19       1.21      0.05  3.93 <0.005     13.54        0.10        0.29\n",
      "shopwalk_No                   -0.15       0.86      0.05 -3.12 <0.005      9.13       -0.25       -0.06\n",
      "Vrexp_Yes                      0.17       1.18      0.05  3.24 <0.005      9.69        0.07        0.27\n",
      "Mixed                          0.05       1.05      0.11  0.44   0.66      0.60       -0.17        0.27\n",
      "over50                        -0.49       0.61      0.08 -6.02 <0.005     29.14       -0.65       -0.33\n",
      "---\n",
      "Concordance = 0.60\n",
      "Log-likelihood ratio test = 328.27 on 18 df, -log2(p)=193.16\n"
     ]
    }
   ],
   "source": [
    "cph = CoxPHFitter()\n",
    "cph.fit(data, 'Wait Time (s)', event_col='E')\n",
    "cph.print_summary()"
   ]
  },
  {
   "cell_type": "code",
   "execution_count": 152,
   "metadata": {},
   "outputs": [],
   "source": [
    "data=data.drop(columns=['two way','Full Braking Before Impact_2','Education_Doctorate degree','Education_Masters degree'],axis=1)"
   ]
  },
  {
   "cell_type": "code",
   "execution_count": 153,
   "metadata": {},
   "outputs": [
    {
     "name": "stdout",
     "output_type": "stream",
     "text": [
      "<lifelines.CoxPHFitter: fitted with 2291 observations, 0 censored>\n",
      "      duration col = 'Wait Time (s)'\n",
      "         event col = 'E'\n",
      "number of subjects = 2291\n",
      "  number of events = 2291\n",
      "    log-likelihood = -15282.59\n",
      "  time fit was run = 2019-04-14 02:34:03 UTC\n",
      "\n",
      "---\n",
      "                               coef  exp(coef)  se(coef)     z      p  -log2(p)  lower 0.95  upper 0.95\n",
      "Speed Limit                    0.01       1.01      0.00  5.68 <0.005     26.12        0.01        0.02\n",
      "Lane Width                    -0.58       0.56      0.11 -5.55 <0.005     25.06       -0.79       -0.38\n",
      "Mean Arrival Rate             -0.00       1.00      0.00 -8.74 <0.005     58.59       -0.00       -0.00\n",
      "Two way with median            0.18       1.20      0.05  4.03 <0.005     14.15        0.09        0.27\n",
      "Age_18 - 24                   -0.36       0.70      0.07 -4.86 <0.005     19.68       -0.51       -0.22\n",
      "Age_25 - 29                   -0.31       0.73      0.06 -4.90 <0.005     19.99       -0.44       -0.19\n",
      "Gender_Female                 -0.05       0.95      0.04 -1.05   0.30      1.76       -0.13        0.04\n",
      "Occupation_Student             0.18       1.19      0.07  2.67   0.01      7.03        0.05        0.30\n",
      "Education_High school diploma -0.60       0.55      0.11 -5.33 <0.005     23.25       -0.82       -0.38\n",
      "mode_Public Transit            0.21       1.24      0.05  4.56 <0.005     17.57        0.12        0.31\n",
      "shopwalk_No                   -0.15       0.86      0.05 -3.02 <0.005      8.63       -0.24       -0.05\n",
      "Vrexp_Yes                      0.18       1.19      0.05  3.57 <0.005     11.43        0.08        0.27\n",
      "Mixed                          0.06       1.07      0.11  0.58   0.56      0.83       -0.15        0.28\n",
      "over50                        -0.51       0.60      0.08 -6.31 <0.005     31.71       -0.67       -0.35\n",
      "---\n",
      "Concordance = 0.60\n",
      "Log-likelihood ratio test = 312.15 on 14 df, -log2(p)=190.89\n"
     ]
    }
   ],
   "source": [
    "cph = CoxPHFitter()\n",
    "cph.fit(data, 'Wait Time (s)', event_col='E')\n",
    "cph.print_summary()"
   ]
  },
  {
   "cell_type": "code",
   "execution_count": 154,
   "metadata": {},
   "outputs": [],
   "source": [
    "data=data.drop(columns=['Age_25 - 29','Education_High school diploma'],axis=1)"
   ]
  },
  {
   "cell_type": "code",
   "execution_count": 155,
   "metadata": {},
   "outputs": [
    {
     "name": "stdout",
     "output_type": "stream",
     "text": [
      "<lifelines.CoxPHFitter: fitted with 2291 observations, 0 censored>\n",
      "      duration col = 'Wait Time (s)'\n",
      "         event col = 'E'\n",
      "number of subjects = 2291\n",
      "  number of events = 2291\n",
      "    log-likelihood = -15309.59\n",
      "  time fit was run = 2019-04-14 02:34:28 UTC\n",
      "\n",
      "---\n",
      "                     coef  exp(coef)  se(coef)     z      p  -log2(p)  lower 0.95  upper 0.95\n",
      "Speed Limit          0.01       1.01      0.00  5.30 <0.005     23.05        0.01        0.02\n",
      "Lane Width          -0.60       0.55      0.11 -5.67 <0.005     26.07       -0.81       -0.39\n",
      "Mean Arrival Rate   -0.00       1.00      0.00 -8.76 <0.005     58.82       -0.00       -0.00\n",
      "Two way with median  0.19       1.21      0.05  4.17 <0.005     15.01        0.10        0.28\n",
      "Age_18 - 24         -0.27       0.77      0.06 -4.26 <0.005     15.60       -0.39       -0.14\n",
      "Gender_Female       -0.11       0.90      0.04 -2.40   0.02      5.93       -0.19       -0.02\n",
      "Occupation_Student  -0.01       0.99      0.06 -0.18   0.85      0.23       -0.13        0.10\n",
      "mode_Public Transit  0.23       1.26      0.05  5.11 <0.005     21.60        0.14        0.32\n",
      "shopwalk_No         -0.18       0.83      0.05 -3.85 <0.005     13.05       -0.28       -0.09\n",
      "Vrexp_Yes            0.19       1.21      0.05  4.00 <0.005     13.97        0.10        0.28\n",
      "Mixed                0.06       1.06      0.11  0.53   0.59      0.75       -0.16        0.27\n",
      "over50              -0.43       0.65      0.08 -5.46 <0.005     24.32       -0.59       -0.28\n",
      "---\n",
      "Concordance = 0.59\n",
      "Log-likelihood ratio test = 258.15 on 12 df, -log2(p)=158.01\n"
     ]
    }
   ],
   "source": [
    "cph = CoxPHFitter()\n",
    "cph.fit(data, 'Wait Time (s)', event_col='E')\n",
    "cph.print_summary()"
   ]
  },
  {
   "cell_type": "code",
   "execution_count": 156,
   "metadata": {},
   "outputs": [],
   "source": [
    "data=data.drop(columns=['Occupation_Student','Mixed'],axis=1)"
   ]
  },
  {
   "cell_type": "code",
   "execution_count": 157,
   "metadata": {},
   "outputs": [
    {
     "name": "stdout",
     "output_type": "stream",
     "text": [
      "<lifelines.CoxPHFitter: fitted with 2291 observations, 0 censored>\n",
      "      duration col = 'Wait Time (s)'\n",
      "         event col = 'E'\n",
      "number of subjects = 2291\n",
      "  number of events = 2291\n",
      "    log-likelihood = -15309.75\n",
      "  time fit was run = 2019-04-14 02:34:50 UTC\n",
      "\n",
      "---\n",
      "                     coef  exp(coef)  se(coef)     z      p  -log2(p)  lower 0.95  upper 0.95\n",
      "Speed Limit          0.01       1.01      0.00  5.35 <0.005     23.42        0.01        0.02\n",
      "Lane Width          -0.59       0.56      0.10 -5.73 <0.005     26.56       -0.79       -0.38\n",
      "Mean Arrival Rate   -0.00       1.00      0.00 -8.76 <0.005     58.82       -0.00       -0.00\n",
      "Two way with median  0.19       1.21      0.05  4.21 <0.005     15.26        0.10        0.28\n",
      "Age_18 - 24         -0.27       0.76      0.05 -5.42 <0.005     23.98       -0.37       -0.17\n",
      "Gender_Female       -0.11       0.90      0.04 -2.39   0.02      5.91       -0.19       -0.02\n",
      "mode_Public Transit  0.23       1.26      0.05  5.15 <0.005     21.86        0.14        0.32\n",
      "shopwalk_No         -0.19       0.83      0.05 -3.87 <0.005     13.17       -0.28       -0.09\n",
      "Vrexp_Yes            0.19       1.21      0.05  4.18 <0.005     15.08        0.10        0.28\n",
      "over50              -0.43       0.65      0.08 -5.48 <0.005     24.51       -0.59       -0.28\n",
      "---\n",
      "Concordance = 0.59\n",
      "Log-likelihood ratio test = 257.83 on 10 df, -log2(p)=162.49\n"
     ]
    }
   ],
   "source": [
    "cph = CoxPHFitter()\n",
    "cph.fit(data, 'Wait Time (s)', event_col='E')\n",
    "cph.print_summary()"
   ]
  },
  {
   "cell_type": "code",
   "execution_count": 129,
   "metadata": {},
   "outputs": [],
   "source": []
  },
  {
   "cell_type": "code",
   "execution_count": 112,
   "metadata": {},
   "outputs": [],
   "source": []
  },
  {
   "cell_type": "code",
   "execution_count": null,
   "metadata": {},
   "outputs": [],
   "source": []
  },
  {
   "cell_type": "code",
   "execution_count": 131,
   "metadata": {},
   "outputs": [],
   "source": []
  },
  {
   "cell_type": "code",
   "execution_count": null,
   "metadata": {},
   "outputs": [],
   "source": []
  },
  {
   "cell_type": "code",
   "execution_count": null,
   "metadata": {},
   "outputs": [],
   "source": []
  },
  {
   "cell_type": "code",
   "execution_count": null,
   "metadata": {},
   "outputs": [],
   "source": []
  },
  {
   "cell_type": "code",
   "execution_count": 158,
   "metadata": {},
   "outputs": [],
   "source": [
    "scores = k_fold_cross_validation(cph, data, 'Wait Time (s)', event_col='E', k=10)"
   ]
  },
  {
   "cell_type": "code",
   "execution_count": 159,
   "metadata": {},
   "outputs": [
    {
     "data": {
      "text/plain": [
       "[0.6160444767108632,\n",
       " 0.5709436000308619,\n",
       " 0.5631432866890251,\n",
       " 0.5992126904938223,\n",
       " 0.5952454700325228,\n",
       " 0.594853819190324,\n",
       " 0.5848049679798176,\n",
       " 0.5602651822644864,\n",
       " 0.5773668466648537,\n",
       " 0.5827727518750483]"
      ]
     },
     "execution_count": 159,
     "metadata": {},
     "output_type": "execute_result"
    }
   ],
   "source": [
    "scores"
   ]
  },
  {
   "cell_type": "code",
   "execution_count": 160,
   "metadata": {},
   "outputs": [
    {
     "name": "stdout",
     "output_type": "stream",
     "text": [
      "0.5844653091931624\n"
     ]
    }
   ],
   "source": [
    "print(np.mean(scores))"
   ]
  },
  {
   "cell_type": "code",
   "execution_count": null,
   "metadata": {},
   "outputs": [],
   "source": []
  },
  {
   "cell_type": "code",
   "execution_count": null,
   "metadata": {},
   "outputs": [],
   "source": []
  },
  {
   "cell_type": "code",
   "execution_count": null,
   "metadata": {},
   "outputs": [],
   "source": []
  }
 ],
 "metadata": {
  "kernelspec": {
   "display_name": "Python 3",
   "language": "python",
   "name": "python3"
  },
  "language_info": {
   "codemirror_mode": {
    "name": "ipython",
    "version": 3
   },
   "file_extension": ".py",
   "mimetype": "text/x-python",
   "name": "python",
   "nbconvert_exporter": "python",
   "pygments_lexer": "ipython3",
   "version": "3.6.8"
  }
 },
 "nbformat": 4,
 "nbformat_minor": 2
}
