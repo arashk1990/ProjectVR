{
 "cells": [
  {
   "cell_type": "code",
   "execution_count": 124,
   "metadata": {},
   "outputs": [],
   "source": [
    "import pandas as pd\n",
    "import numpy as np\n",
    "import time\n",
    "from lifelines import CoxPHFitter\n",
    "import matplotlib.pyplot as plt\n",
    "from statsmodels.stats.outliers_influence import variance_inflation_factor    \n",
    "from lifelines import WeibullAFTFitter\n",
    "from lifelines.utils import k_fold_cross_validation\n"
   ]
  },
  {
   "cell_type": "code",
   "execution_count": null,
   "metadata": {},
   "outputs": [],
   "source": []
  },
  {
   "cell_type": "code",
   "execution_count": 79,
   "metadata": {},
   "outputs": [],
   "source": [
    "data = pd.read_pickle('ALLDATA.pkl')\n",
    "data=data.loc[-data['Wait Time (s)'].isin(['Err1','Err2','Err3','Err4','Err5'])]\n",
    "data=data.loc[data['Age_9-12'].isin([0,1])]\n",
    "\n",
    "\n",
    "data=data.loc[:,['Wait Time (s)','Speed Limit', 'Lane Width', 'Minimum Gap', 'Mean Arrival Rate', 'AV', \n",
    "                   'Full Braking Before Impact_-1.0', 'Full Braking Before Impact_1', \n",
    "                   'Full Braking Before Impact_2', 'Full Braking Before Impact_3', 'Snowy',\n",
    "                   'One way', 'two way', 'Two way with median', 'Night', 'numcars', \n",
    "                    'Age_9-12', 'Age_15-18', 'Age_12-15', 'Age_18 - 24', 'Age_25 - 29', 'Age_30 - 39', 'Age_40 - 49', 'Age_50 - 59', 'Age_60+', 'Gender_Female', 'Occupation_Employed', 'Occupation_Student', 'Occupation_Unemployed', \n",
    "                   'Occupation_kid', 'Education_Bachelors degree', 'Education_College/University student', \n",
    "                   'Education_Doctorate degree', 'Education_High school diploma', 'Education_Masters degree', \n",
    "                   'Education_Professional degree', 'driving license_Yes', 'mode_Bike', 'mode_Car',\n",
    "                   'mode_Public Transit', 'mode_Walking', 'workwalk_No', 'workwalk_Sometimes', 'workwalk_Yes', \n",
    "                   'shopwalk_No', 'shopwalk_Sometimes', 'shopwalk_Yes', 'shopwalk_kid', 'Vrexp_Yes', 'Heart_Currently',\n",
    "                   'Heart_Over the years', 'vision_Currently', \n",
    "                   'vision_Over the years', 'anxiety_Currently', 'anxiety_Over the years', 'Headaches_Currently',\n",
    "                   'Headaches_Over the years', 'dizziness_Over the years']]       #numwalk and VRexpnum removed because of some false inputs in the data should be fixed later\n",
    "\n",
    "\n",
    "data=data.apply(pd.to_numeric, errors='coerce')"
   ]
  },
  {
   "cell_type": "code",
   "execution_count": 59,
   "metadata": {},
   "outputs": [],
   "source": [
    "def plot_corr(df,size=10):\n",
    "    '''Function plots a graphical correlation matrix for each pair of columns in the dataframe.\n",
    "\n",
    "    Input:\n",
    "        df: pandas DataFrame\n",
    "        size: vertical and horizontal size of the plot'''\n",
    "\n",
    "    corr = df.corr()\n",
    "    fig, ax = plt.subplots(figsize=(size, size))\n",
    "    ax.matshow(corr)\n",
    "    plt.xticks(range(len(corr.columns)), corr.columns);\n",
    "    plt.yticks(range(len(corr.columns)), corr.columns);"
   ]
  },
  {
   "cell_type": "code",
   "execution_count": 60,
   "metadata": {},
   "outputs": [],
   "source": [
    "def calculate_vif_(X, thresh=20.0):\n",
    "    variables = list(range(X.shape[1]))\n",
    "    dropped = True\n",
    "    while dropped:\n",
    "        dropped = False\n",
    "        vif = [variance_inflation_factor(X.iloc[:, variables].values, ix)\n",
    "               for ix in range(X.iloc[:, variables].shape[1])]\n",
    "\n",
    "        maxloc = vif.index(max(vif))\n",
    "        if max(vif) > thresh:\n",
    "            print('dropping \\'' + X.iloc[:, variables].columns[maxloc] +\n",
    "                  '\\' at index: ' + str(maxloc))\n",
    "            del variables[maxloc]\n",
    "            dropped = True\n",
    "\n",
    "    print('Remaining variables:')\n",
    "    print(X.columns[variables])\n",
    "    return X.iloc[:, variables]\n",
    "\n",
    "data=calculate_vif_(data, thresh=180.0)"
   ]
  },
  {
   "cell_type": "code",
   "execution_count": 81,
   "metadata": {},
   "outputs": [],
   "source": [
    "data['E']=1   #all pedestrians cross, so no right censored data"
   ]
  },
  {
   "cell_type": "code",
   "execution_count": 82,
   "metadata": {},
   "outputs": [
    {
     "name": "stdout",
     "output_type": "stream",
     "text": [
      "<lifelines.CoxPHFitter: fitted with 2463 observations, 0 censored>\n",
      "      duration col = 'Wait Time (s)'\n",
      "         event col = 'E'\n",
      "number of subjects = 2463\n",
      "  number of events = 2463\n",
      "    log-likelihood = -16560.60\n",
      "  time fit was run = 2019-03-25 17:36:12 UTC\n",
      "\n",
      "---\n",
      "                                      coef  exp(coef)  se(coef)     z      p  -log2(p)  lower 0.95  upper 0.95\n",
      "Speed Limit                           0.02       1.02      0.00  6.19 <0.005     30.59        0.01        0.02\n",
      "Lane Width                           -0.59       0.56      0.11 -5.56 <0.005     25.14       -0.79       -0.38\n",
      "Minimum Gap                           0.00       1.00      0.05  0.01   0.99      0.01       -0.10        0.10\n",
      "Mean Arrival Rate                    -0.00       1.00      0.00 -8.96 <0.005     61.36       -0.00       -0.00\n",
      "AV                                   -0.00       1.00      0.00 -0.88   0.38      1.40       -0.01        0.00\n",
      "Full Braking Before Impact_1          0.14       1.15      0.21  0.66   0.51      0.97       -0.27        0.55\n",
      "Full Braking Before Impact_2          0.07       1.07      0.21  0.32   0.75      0.41       -0.34        0.47\n",
      "Full Braking Before Impact_3          0.07       1.08      0.21  0.35   0.73      0.46       -0.34        0.48\n",
      "Snowy                                -0.03       0.97      0.04 -0.66   0.51      0.98       -0.12        0.06\n",
      "two way                               0.10       1.10      0.05  1.98   0.05      4.39        0.00        0.20\n",
      "Two way with median                   0.24       1.27      0.05  4.61 <0.005     17.90        0.14        0.34\n",
      "Night                                 0.00       1.00      0.05  0.11   0.91      0.13       -0.08        0.09\n",
      "numcars                               0.03       1.04      0.03  1.02   0.31      1.71       -0.03        0.10\n",
      "Age_15-18                            -0.33       0.72      0.20 -1.67   0.10      3.39       -0.72        0.06\n",
      "Age_12-15                            -0.03       0.97      0.21 -0.13   0.90      0.16       -0.44        0.38\n",
      "Age_25 - 29                           0.01       1.01      0.09  0.14   0.89      0.17       -0.17        0.20\n",
      "Age_30 - 39                           0.38       1.46      0.09  4.04 <0.005     14.20        0.20        0.57\n",
      "Age_40 - 49                           0.38       1.47      0.14  2.64   0.01      6.90        0.10        0.67\n",
      "Age_50 - 59                          -0.42       0.66      0.13 -3.14 <0.005      9.20       -0.67       -0.16\n",
      "Age_60+                               1.68       5.38      0.31  5.43 <0.005     24.05        1.07        2.29\n",
      "Gender_Female                        -0.06       0.94      0.05 -1.12   0.26      1.92       -0.16        0.04\n",
      "Occupation_Student                    0.14       1.15      0.08  1.70   0.09      3.49       -0.02        0.31\n",
      "Occupation_Unemployed                -0.18       0.84      0.22 -0.81   0.42      1.26       -0.60        0.25\n",
      "Education_College/University student -0.08       0.92      0.07 -1.18   0.24      2.06       -0.22        0.05\n",
      "Education_Doctorate degree            0.18       1.20      0.12  1.56   0.12      3.07       -0.05        0.41\n",
      "Education_High school diploma        -0.91       0.40      0.16 -5.56 <0.005     25.15       -1.24       -0.59\n",
      "Education_Masters degree             -0.21       0.81      0.07 -3.18 <0.005      9.43       -0.34       -0.08\n",
      "Education_Professional degree        -0.05       0.95      0.13 -0.40   0.69      0.53       -0.30        0.20\n",
      "driving license_Yes                  -0.30       0.74      0.10 -3.07 <0.005      8.86       -0.49       -0.11\n",
      "mode_Car                              0.09       1.09      0.11  0.80   0.43      1.23       -0.12        0.30\n",
      "mode_Public Transit                   0.17       1.19      0.11  1.65   0.10      3.33       -0.03        0.38\n",
      "mode_Walking                         -0.28       0.76      0.17 -1.69   0.09      3.46       -0.61        0.04\n",
      "workwalk_Sometimes                    0.06       1.06      0.09  0.74   0.46      1.11       -0.10        0.23\n",
      "workwalk_Yes                          0.30       1.34      0.11  2.67   0.01      7.03        0.08        0.51\n",
      "shopwalk_No                          -0.27       0.77      0.07 -3.70 <0.005     12.17       -0.41       -0.13\n",
      "shopwalk_Sometimes                   -0.05       0.95      0.07 -0.73   0.46      1.11       -0.19        0.09\n",
      "shopwalk_kid                         -0.23       0.79      0.15 -1.57   0.12      3.11       -0.52        0.06\n",
      "Vrexp_Yes                             0.18       1.20      0.06  3.21 <0.005      9.55        0.07        0.30\n",
      "Heart_Currently                      -0.05       0.95      0.22 -0.22   0.83      0.27       -0.47        0.38\n",
      "Heart_Over the years                 -0.42       0.66      0.47 -0.90   0.37      1.44       -1.34        0.50\n",
      "vision_Currently                     -0.11       0.89      0.10 -1.15   0.25      1.99       -0.31        0.08\n",
      "vision_Over the years                 0.26       1.29      0.11  2.32   0.02      5.61        0.04        0.47\n",
      "anxiety_Currently                     0.11       1.11      0.21  0.51   0.61      0.71       -0.31        0.53\n",
      "anxiety_Over the years               -0.52       0.60      0.28 -1.81   0.07      3.82       -1.07        0.04\n",
      "Headaches_Currently                   0.10       1.10      0.27  0.36   0.72      0.48       -0.43        0.63\n",
      "Headaches_Over the years              0.59       1.81      0.11  5.55 <0.005     25.05        0.38        0.80\n",
      "dizziness_Over the years             -0.12       0.88      0.23 -0.54   0.59      0.76       -0.57        0.32\n",
      "---\n",
      "Concordance = 0.62\n",
      "Log-likelihood ratio test = 430.26 on 47 df, -log2(p)=208.04\n"
     ]
    }
   ],
   "source": [
    "cph = CoxPHFitter()\n",
    "cph.fit(data, 'Wait Time (s)', event_col='E')\n",
    "cph.print_summary()"
   ]
  },
  {
   "cell_type": "code",
   "execution_count": 83,
   "metadata": {},
   "outputs": [],
   "source": [
    "data=data.drop(columns=['Age_15-18','Age_12-15','Age_60+','Minimum Gap'\n",
    "                       ],axis=1)"
   ]
  },
  {
   "cell_type": "code",
   "execution_count": 84,
   "metadata": {},
   "outputs": [
    {
     "name": "stdout",
     "output_type": "stream",
     "text": [
      "<lifelines.CoxPHFitter: fitted with 2463 observations, 0 censored>\n",
      "      duration col = 'Wait Time (s)'\n",
      "         event col = 'E'\n",
      "number of subjects = 2463\n",
      "  number of events = 2463\n",
      "    log-likelihood = -16574.07\n",
      "  time fit was run = 2019-03-25 17:38:01 UTC\n",
      "\n",
      "---\n",
      "                                      coef  exp(coef)  se(coef)     z      p  -log2(p)  lower 0.95  upper 0.95\n",
      "Speed Limit                           0.02       1.02      0.00  5.90 <0.005     28.03        0.01        0.02\n",
      "Lane Width                           -0.57       0.56      0.11 -5.43 <0.005     24.11       -0.78       -0.37\n",
      "Mean Arrival Rate                    -0.00       1.00      0.00 -9.01 <0.005     62.14       -0.00       -0.00\n",
      "AV                                   -0.00       1.00      0.00 -0.93   0.35      1.51       -0.01        0.00\n",
      "Full Braking Before Impact_1          0.15       1.17      0.21  0.74   0.46      1.12       -0.25        0.56\n",
      "Full Braking Before Impact_2          0.09       1.09      0.21  0.44   0.66      0.60       -0.32        0.50\n",
      "Full Braking Before Impact_3          0.10       1.10      0.21  0.47   0.64      0.65       -0.31        0.50\n",
      "Snowy                                -0.04       0.96      0.04 -0.95   0.34      1.54       -0.13        0.05\n",
      "two way                               0.10       1.11      0.05  2.00   0.05      4.45        0.00        0.20\n",
      "Two way with median                   0.25       1.28      0.05  4.76 <0.005     18.99        0.15        0.35\n",
      "Night                                 0.00       1.00      0.05  0.11   0.91      0.13       -0.08        0.09\n",
      "numcars                               0.02       1.02      0.03  0.56   0.57      0.80       -0.05        0.08\n",
      "Age_25 - 29                          -0.11       0.89      0.09 -1.24   0.21      2.22       -0.30        0.07\n",
      "Age_30 - 39                           0.22       1.24      0.09  2.43   0.02      6.06        0.04        0.39\n",
      "Age_40 - 49                           0.14       1.15      0.14  0.98   0.33      1.60       -0.14        0.41\n",
      "Age_50 - 59                          -0.61       0.54      0.13 -4.72 <0.005     18.72       -0.86       -0.36\n",
      "Gender_Female                        -0.10       0.90      0.05 -1.94   0.05      4.25       -0.20        0.00\n",
      "Occupation_Student                    0.04       1.04      0.08  0.48   0.63      0.67       -0.12        0.20\n",
      "Occupation_Unemployed                -0.35       0.71      0.22 -1.62   0.11      3.25       -0.77        0.07\n",
      "Education_College/University student -0.11       0.90      0.07 -1.55   0.12      3.06       -0.25        0.03\n",
      "Education_Doctorate degree            0.22       1.24      0.12  1.87   0.06      4.01       -0.01        0.45\n",
      "Education_High school diploma        -0.99       0.37      0.16 -6.03 <0.005     29.19       -1.31       -0.67\n",
      "Education_Masters degree             -0.21       0.81      0.07 -3.21 <0.005      9.56       -0.34       -0.08\n",
      "Education_Professional degree         0.18       1.19      0.12  1.51   0.13      2.94       -0.05        0.41\n",
      "driving license_Yes                  -0.27       0.77      0.10 -2.74   0.01      7.34       -0.46       -0.08\n",
      "mode_Car                              0.15       1.16      0.10  1.45   0.15      2.76       -0.05        0.36\n",
      "mode_Public Transit                   0.25       1.29      0.10  2.47   0.01      6.20        0.05        0.45\n",
      "mode_Walking                         -0.19       0.83      0.16 -1.13   0.26      1.96       -0.51        0.14\n",
      "workwalk_Sometimes                    0.03       1.03      0.08  0.39   0.70      0.52       -0.13        0.20\n",
      "workwalk_Yes                          0.30       1.36      0.11  2.73   0.01      7.32        0.09        0.52\n",
      "shopwalk_No                          -0.23       0.80      0.07 -3.18 <0.005      9.42       -0.37       -0.09\n",
      "shopwalk_Sometimes                   -0.03       0.97      0.07 -0.39   0.70      0.52       -0.17        0.11\n",
      "shopwalk_kid                         -0.45       0.64      0.13 -3.43 <0.005     10.71       -0.70       -0.19\n",
      "Vrexp_Yes                             0.13       1.14      0.06  2.37   0.02      5.82        0.02        0.24\n",
      "Heart_Currently                      -0.05       0.95      0.22 -0.23   0.82      0.29       -0.48        0.38\n",
      "Heart_Over the years                 -0.43       0.65      0.47 -0.92   0.36      1.49       -1.35        0.49\n",
      "vision_Currently                     -0.16       0.85      0.10 -1.60   0.11      3.20       -0.35        0.03\n",
      "vision_Over the years                 0.32       1.37      0.11  2.87 <0.005      7.92        0.10        0.53\n",
      "anxiety_Currently                     0.15       1.16      0.21  0.71   0.48      1.06       -0.27        0.57\n",
      "anxiety_Over the years               -0.49       0.62      0.29 -1.68   0.09      3.43       -1.05        0.08\n",
      "Headaches_Currently                   0.08       1.08      0.27  0.28   0.78      0.37       -0.45        0.60\n",
      "Headaches_Over the years              0.51       1.66      0.10  4.91 <0.005     20.06        0.31        0.71\n",
      "dizziness_Over the years             -0.11       0.90      0.23 -0.48   0.63      0.67       -0.55        0.33\n",
      "---\n",
      "Concordance = 0.61\n",
      "Log-likelihood ratio test = 403.30 on 43 df, -log2(p)=197.09\n"
     ]
    }
   ],
   "source": [
    "cph = CoxPHFitter()\n",
    "cph.fit(data, 'Wait Time (s)', event_col='E')\n",
    "cph.print_summary()"
   ]
  },
  {
   "cell_type": "code",
   "execution_count": 85,
   "metadata": {},
   "outputs": [],
   "source": [
    "data=data.drop(columns=['Full Braking Before Impact_1','numcars','Full Braking Before Impact_3','Full Braking Before Impact_2','Night',\n",
    "                        'Education_Professional degree','Occupation_Student',\n",
    "                        'shopwalk_kid','Heart_Currently','anxiety_Over the years'],axis=1)"
   ]
  },
  {
   "cell_type": "code",
   "execution_count": 86,
   "metadata": {},
   "outputs": [
    {
     "name": "stdout",
     "output_type": "stream",
     "text": [
      "<lifelines.CoxPHFitter: fitted with 2463 observations, 0 censored>\n",
      "      duration col = 'Wait Time (s)'\n",
      "         event col = 'E'\n",
      "number of subjects = 2463\n",
      "  number of events = 2463\n",
      "    log-likelihood = -16586.50\n",
      "  time fit was run = 2019-03-25 17:38:58 UTC\n",
      "\n",
      "---\n",
      "                                      coef  exp(coef)  se(coef)     z      p  -log2(p)  lower 0.95  upper 0.95\n",
      "Speed Limit                           0.02       1.02      0.00  5.92 <0.005     28.19        0.01        0.02\n",
      "Lane Width                           -0.58       0.56      0.10 -5.58 <0.005     25.28       -0.78       -0.38\n",
      "Mean Arrival Rate                    -0.00       1.00      0.00 -9.00 <0.005     61.94       -0.00       -0.00\n",
      "AV                                   -0.00       1.00      0.00 -0.92   0.36      1.48       -0.00        0.00\n",
      "Snowy                                -0.05       0.95      0.04 -1.05   0.29      1.77       -0.13        0.04\n",
      "two way                               0.09       1.10      0.05  1.85   0.06      3.97       -0.01        0.19\n",
      "Two way with median                   0.23       1.26      0.05  4.50 <0.005     17.19        0.13        0.33\n",
      "Age_25 - 29                           0.00       1.00      0.07  0.03   0.98      0.03       -0.14        0.14\n",
      "Age_30 - 39                           0.34       1.40      0.06  5.49 <0.005     24.55        0.22        0.46\n",
      "Age_40 - 49                           0.23       1.26      0.11  2.18   0.03      5.10        0.02        0.44\n",
      "Age_50 - 59                          -0.43       0.65      0.10 -4.41 <0.005     16.56       -0.62       -0.24\n",
      "Gender_Female                        -0.04       0.96      0.05 -0.82   0.41      1.28       -0.13        0.05\n",
      "Occupation_Unemployed                -0.19       0.83      0.20 -0.93   0.35      1.50       -0.58        0.21\n",
      "Education_College/University student -0.01       0.99      0.06 -0.17   0.86      0.21       -0.13        0.11\n",
      "Education_Doctorate degree            0.12       1.13      0.11  1.14   0.25      1.97       -0.09        0.33\n",
      "Education_High school diploma        -0.80       0.45      0.15 -5.30 <0.005     23.03       -1.09       -0.50\n",
      "Education_Masters degree             -0.13       0.88      0.06 -2.20   0.03      5.15       -0.24       -0.01\n",
      "driving license_Yes                  -0.18       0.83      0.09 -2.07   0.04      4.71       -0.35       -0.01\n",
      "mode_Car                              0.07       1.07      0.09  0.71   0.48      1.06       -0.12        0.25\n",
      "mode_Public Transit                   0.23       1.25      0.09  2.52   0.01      6.43        0.05        0.40\n",
      "mode_Walking                         -0.04       0.96      0.14 -0.32   0.75      0.41       -0.32        0.23\n",
      "workwalk_Sometimes                    0.11       1.11      0.08  1.41   0.16      2.65       -0.04        0.25\n",
      "workwalk_Yes                          0.22       1.24      0.10  2.17   0.03      5.06        0.02        0.41\n",
      "shopwalk_No                          -0.10       0.91      0.06 -1.74   0.08      3.60       -0.21        0.01\n",
      "shopwalk_Sometimes                    0.03       1.03      0.07  0.39   0.70      0.52       -0.11        0.16\n",
      "Vrexp_Yes                             0.17       1.18      0.05  3.06 <0.005      8.80        0.06        0.27\n",
      "Heart_Over the years                 -0.92       0.40      0.35 -2.66   0.01      6.98       -1.59       -0.24\n",
      "vision_Currently                     -0.08       0.92      0.09 -0.84   0.40      1.32       -0.26        0.11\n",
      "vision_Over the years                 0.24       1.28      0.11  2.32   0.02      5.61        0.04        0.45\n",
      "anxiety_Currently                     0.29       1.33      0.21  1.40   0.16      2.62       -0.12        0.69\n",
      "Headaches_Currently                  -0.04       0.96      0.26 -0.17   0.87      0.21       -0.56        0.47\n",
      "Headaches_Over the years              0.49       1.63      0.10  4.85 <0.005     19.64        0.29        0.68\n",
      "dizziness_Over the years             -0.14       0.87      0.22 -0.63   0.53      0.92       -0.58        0.30\n",
      "---\n",
      "Concordance = 0.61\n",
      "Log-likelihood ratio test = 378.46 on 33 df, -log2(p)=197.87\n"
     ]
    }
   ],
   "source": [
    "cph = CoxPHFitter()\n",
    "cph.fit(data, 'Wait Time (s)', event_col='E')\n",
    "cph.print_summary()"
   ]
  },
  {
   "cell_type": "code",
   "execution_count": 87,
   "metadata": {},
   "outputs": [],
   "source": [
    "data=data.drop(columns=['shopwalk_Sometimes','mode_Car','Education_College/University student','mode_Walking','shopwalk_Sometimes' ],axis=1)"
   ]
  },
  {
   "cell_type": "code",
   "execution_count": 88,
   "metadata": {},
   "outputs": [
    {
     "name": "stdout",
     "output_type": "stream",
     "text": [
      "<lifelines.CoxPHFitter: fitted with 2463 observations, 0 censored>\n",
      "      duration col = 'Wait Time (s)'\n",
      "         event col = 'E'\n",
      "number of subjects = 2463\n",
      "  number of events = 2463\n",
      "    log-likelihood = -16587.34\n",
      "  time fit was run = 2019-03-25 17:40:20 UTC\n",
      "\n",
      "---\n",
      "                               coef  exp(coef)  se(coef)     z      p  -log2(p)  lower 0.95  upper 0.95\n",
      "Speed Limit                    0.02       1.02      0.00  5.91 <0.005     28.13        0.01        0.02\n",
      "Lane Width                    -0.58       0.56      0.10 -5.57 <0.005     25.22       -0.78       -0.37\n",
      "Mean Arrival Rate             -0.00       1.00      0.00 -8.93 <0.005     61.05       -0.00       -0.00\n",
      "AV                            -0.00       1.00      0.00 -0.91   0.36      1.47       -0.00        0.00\n",
      "Snowy                         -0.05       0.95      0.04 -1.09   0.28      1.86       -0.13        0.04\n",
      "two way                        0.09       1.10      0.05  1.84   0.07      3.92       -0.01        0.19\n",
      "Two way with median            0.23       1.26      0.05  4.50 <0.005     17.18        0.13        0.33\n",
      "Age_25 - 29                    0.02       1.02      0.07  0.24   0.81      0.30       -0.12        0.16\n",
      "Age_30 - 39                    0.34       1.40      0.06  5.48 <0.005     24.48        0.22        0.46\n",
      "Age_40 - 49                    0.24       1.27      0.10  2.35   0.02      5.73        0.04        0.44\n",
      "Age_50 - 59                   -0.40       0.67      0.09 -4.31 <0.005     15.91       -0.58       -0.22\n",
      "Gender_Female                 -0.05       0.95      0.05 -0.99   0.32      1.64       -0.14        0.04\n",
      "Occupation_Unemployed         -0.17       0.85      0.20 -0.84   0.40      1.32       -0.56        0.22\n",
      "Education_Doctorate degree     0.13       1.14      0.10  1.31   0.19      2.39       -0.07        0.34\n",
      "Education_High school diploma -0.75       0.47      0.14 -5.23 <0.005     22.48       -1.03       -0.47\n",
      "Education_Masters degree      -0.11       0.90      0.05 -2.04   0.04      4.60       -0.21       -0.00\n",
      "driving license_Yes           -0.16       0.85      0.09 -1.85   0.06      3.97       -0.32        0.01\n",
      "mode_Public Transit            0.19       1.21      0.05  3.88 <0.005     13.23        0.09        0.28\n",
      "workwalk_Sometimes             0.09       1.10      0.06  1.44   0.15      2.73       -0.03        0.22\n",
      "workwalk_Yes                   0.16       1.17      0.08  1.99   0.05      4.41        0.00        0.31\n",
      "shopwalk_No                   -0.10       0.91      0.05 -1.80   0.07      3.79       -0.20        0.01\n",
      "Vrexp_Yes                      0.17       1.18      0.05  3.09 <0.005      8.97        0.06        0.27\n",
      "Heart_Over the years          -0.83       0.44      0.33 -2.51   0.01      6.36       -1.48       -0.18\n",
      "vision_Currently              -0.09       0.91      0.09 -1.01   0.31      1.68       -0.26        0.08\n",
      "vision_Over the years          0.24       1.27      0.10  2.34   0.02      5.68        0.04        0.44\n",
      "anxiety_Currently              0.30       1.36      0.20  1.52   0.13      2.97       -0.09        0.70\n",
      "Headaches_Currently           -0.05       0.95      0.26 -0.18   0.86      0.23       -0.56        0.47\n",
      "Headaches_Over the years       0.49       1.63      0.10  4.90 <0.005     20.03        0.29        0.68\n",
      "dizziness_Over the years      -0.20       0.82      0.21 -0.92   0.36      1.48       -0.62        0.22\n",
      "---\n",
      "Concordance = 0.60\n",
      "Log-likelihood ratio test = 376.76 on 29 df, -log2(p)=204.07\n"
     ]
    }
   ],
   "source": [
    "cph = CoxPHFitter()\n",
    "cph.fit(data, 'Wait Time (s)', event_col='E')\n",
    "cph.print_summary()"
   ]
  },
  {
   "cell_type": "code",
   "execution_count": 89,
   "metadata": {},
   "outputs": [],
   "source": [
    "data=data.drop(columns=['Age_25 - 29','Occupation_Unemployed','Headaches_Currently'],axis=1)"
   ]
  },
  {
   "cell_type": "code",
   "execution_count": 90,
   "metadata": {},
   "outputs": [
    {
     "name": "stdout",
     "output_type": "stream",
     "text": [
      "<lifelines.CoxPHFitter: fitted with 2463 observations, 0 censored>\n",
      "      duration col = 'Wait Time (s)'\n",
      "         event col = 'E'\n",
      "number of subjects = 2463\n",
      "  number of events = 2463\n",
      "    log-likelihood = -16587.79\n",
      "  time fit was run = 2019-03-25 17:41:20 UTC\n",
      "\n",
      "---\n",
      "                               coef  exp(coef)  se(coef)     z      p  -log2(p)  lower 0.95  upper 0.95\n",
      "Speed Limit                    0.02       1.02      0.00  5.92 <0.005     28.18        0.01        0.02\n",
      "Lane Width                    -0.58       0.56      0.10 -5.64 <0.005     25.81       -0.78       -0.38\n",
      "Mean Arrival Rate             -0.00       1.00      0.00 -8.91 <0.005     60.79       -0.00       -0.00\n",
      "AV                            -0.00       1.00      0.00 -0.92   0.36      1.49       -0.00        0.00\n",
      "Snowy                         -0.05       0.96      0.04 -1.05   0.30      1.76       -0.13        0.04\n",
      "two way                        0.09       1.09      0.05  1.80   0.07      3.80       -0.01        0.19\n",
      "Two way with median            0.23       1.25      0.05  4.42 <0.005     16.66        0.13        0.32\n",
      "Age_30 - 39                    0.33       1.40      0.05  6.27 <0.005     31.36        0.23        0.44\n",
      "Age_40 - 49                    0.24       1.27      0.10  2.48   0.01      6.25        0.05        0.42\n",
      "Age_50 - 59                   -0.40       0.67      0.09 -4.59 <0.005     17.78       -0.57       -0.23\n",
      "Gender_Female                 -0.04       0.96      0.05 -0.98   0.33      1.61       -0.13        0.05\n",
      "Education_Doctorate degree     0.14       1.14      0.10  1.31   0.19      2.40       -0.07        0.34\n",
      "Education_High school diploma -0.76       0.47      0.14 -5.54 <0.005     24.97       -1.02       -0.49\n",
      "Education_Masters degree      -0.11       0.90      0.05 -2.02   0.04      4.52       -0.21       -0.00\n",
      "driving license_Yes           -0.16       0.85      0.08 -1.90   0.06      4.11       -0.33        0.01\n",
      "mode_Public Transit            0.19       1.21      0.05  3.99 <0.005     13.87        0.10        0.28\n",
      "workwalk_Sometimes             0.09       1.09      0.06  1.42   0.16      2.67       -0.03        0.21\n",
      "workwalk_Yes                   0.16       1.17      0.08  2.01   0.04      4.48        0.00        0.31\n",
      "shopwalk_No                   -0.10       0.90      0.05 -2.01   0.04      4.50       -0.21       -0.00\n",
      "Vrexp_Yes                      0.16       1.18      0.05  3.11 <0.005      9.09        0.06        0.26\n",
      "Heart_Over the years          -0.82       0.44      0.33 -2.51   0.01      6.37       -1.47       -0.18\n",
      "vision_Currently              -0.09       0.92      0.09 -0.98   0.33      1.62       -0.26        0.09\n",
      "vision_Over the years          0.25       1.28      0.10  2.58   0.01      6.64        0.06        0.44\n",
      "anxiety_Currently              0.27       1.31      0.13  2.03   0.04      4.56        0.01        0.54\n",
      "Headaches_Over the years       0.49       1.63      0.10  4.96 <0.005     20.44        0.30        0.68\n",
      "dizziness_Over the years      -0.20       0.82      0.21 -0.93   0.35      1.50       -0.62        0.22\n",
      "---\n",
      "Concordance = 0.60\n",
      "Log-likelihood ratio test = 375.86 on 26 df, -log2(p)=209.22\n"
     ]
    }
   ],
   "source": [
    "cph = CoxPHFitter()\n",
    "cph.fit(data, 'Wait Time (s)', event_col='E')\n",
    "cph.print_summary()"
   ]
  },
  {
   "cell_type": "code",
   "execution_count": 91,
   "metadata": {},
   "outputs": [],
   "source": [
    "data=data.drop(columns=['Gender_Female','Education_Doctorate degree','dizziness_Over the years'],axis=1)"
   ]
  },
  {
   "cell_type": "code",
   "execution_count": 92,
   "metadata": {},
   "outputs": [
    {
     "name": "stdout",
     "output_type": "stream",
     "text": [
      "<lifelines.CoxPHFitter: fitted with 2463 observations, 0 censored>\n",
      "      duration col = 'Wait Time (s)'\n",
      "         event col = 'E'\n",
      "number of subjects = 2463\n",
      "  number of events = 2463\n",
      "    log-likelihood = -16589.65\n",
      "  time fit was run = 2019-03-25 17:41:59 UTC\n",
      "\n",
      "---\n",
      "                               coef  exp(coef)  se(coef)     z      p  -log2(p)  lower 0.95  upper 0.95\n",
      "Speed Limit                    0.02       1.02      0.00  6.05 <0.005     29.33        0.01        0.02\n",
      "Lane Width                    -0.58       0.56      0.10 -5.66 <0.005     25.94       -0.78       -0.38\n",
      "Mean Arrival Rate             -0.00       1.00      0.00 -8.91 <0.005     60.79       -0.00       -0.00\n",
      "AV                            -0.00       1.00      0.00 -0.91   0.36      1.46       -0.00        0.00\n",
      "Snowy                         -0.04       0.96      0.04 -1.02   0.31      1.71       -0.13        0.04\n",
      "two way                        0.09       1.09      0.05  1.72   0.09      3.55       -0.01        0.18\n",
      "Two way with median            0.22       1.25      0.05  4.37 <0.005     16.33        0.12        0.32\n",
      "Age_30 - 39                    0.34       1.41      0.05  6.68 <0.005     35.31        0.24        0.45\n",
      "Age_40 - 49                    0.20       1.22      0.09  2.23   0.03      5.30        0.02        0.38\n",
      "Age_50 - 59                   -0.40       0.67      0.09 -4.56 <0.005     17.56       -0.57       -0.23\n",
      "Education_High school diploma -0.82       0.44      0.13 -6.33 <0.005     31.97       -1.07       -0.56\n",
      "Education_Masters degree      -0.13       0.88      0.05 -2.47   0.01      6.23       -0.22       -0.03\n",
      "driving license_Yes           -0.18       0.83      0.08 -2.22   0.03      5.24       -0.35       -0.02\n",
      "mode_Public Transit            0.19       1.21      0.05  3.98 <0.005     13.80        0.10        0.28\n",
      "workwalk_Sometimes             0.08       1.09      0.06  1.35   0.18      2.50       -0.04        0.20\n",
      "workwalk_Yes                   0.17       1.19      0.07  2.38   0.02      5.84        0.03        0.31\n",
      "shopwalk_No                   -0.10       0.91      0.05 -1.85   0.06      3.95       -0.20        0.01\n",
      "Vrexp_Yes                      0.15       1.17      0.05  3.13 <0.005      9.16        0.06        0.25\n",
      "Heart_Over the years          -1.03       0.36      0.23 -4.52 <0.005     17.28       -1.48       -0.58\n",
      "vision_Currently              -0.07       0.93      0.09 -0.77   0.44      1.18       -0.24        0.10\n",
      "vision_Over the years          0.24       1.27      0.10  2.53   0.01      6.46        0.05        0.43\n",
      "anxiety_Currently              0.25       1.29      0.13  1.93   0.05      4.21       -0.00        0.51\n",
      "Headaches_Over the years       0.48       1.62      0.10  4.91 <0.005     20.10        0.29        0.67\n",
      "---\n",
      "Concordance = 0.60\n",
      "Log-likelihood ratio test = 372.15 on 23 df, -log2(p)=212.71\n"
     ]
    }
   ],
   "source": [
    "cph = CoxPHFitter()\n",
    "cph.fit(data, 'Wait Time (s)', event_col='E')\n",
    "cph.print_summary()"
   ]
  },
  {
   "cell_type": "code",
   "execution_count": 93,
   "metadata": {},
   "outputs": [],
   "source": [
    "data=data.drop(columns=['workwalk_Sometimes'],axis=1)"
   ]
  },
  {
   "cell_type": "code",
   "execution_count": 94,
   "metadata": {},
   "outputs": [
    {
     "name": "stdout",
     "output_type": "stream",
     "text": [
      "<lifelines.CoxPHFitter: fitted with 2463 observations, 0 censored>\n",
      "      duration col = 'Wait Time (s)'\n",
      "         event col = 'E'\n",
      "number of subjects = 2463\n",
      "  number of events = 2463\n",
      "    log-likelihood = -16590.55\n",
      "  time fit was run = 2019-03-25 17:53:33 UTC\n",
      "\n",
      "---\n",
      "                               coef  exp(coef)  se(coef)     z      p  -log2(p)  lower 0.95  upper 0.95\n",
      "Speed Limit                    0.02       1.02      0.00  5.97 <0.005     28.66        0.01        0.02\n",
      "Lane Width                    -0.59       0.56      0.10 -5.73 <0.005     26.58       -0.79       -0.39\n",
      "Mean Arrival Rate             -0.00       1.00      0.00 -8.97 <0.005     61.54       -0.00       -0.00\n",
      "AV                            -0.00       1.00      0.00 -0.90   0.37      1.44       -0.00        0.00\n",
      "Snowy                         -0.04       0.96      0.04 -1.00   0.32      1.65       -0.13        0.04\n",
      "two way                        0.09       1.09      0.05  1.74   0.08      3.61       -0.01        0.18\n",
      "Two way with median            0.22       1.25      0.05  4.38 <0.005     16.36        0.12        0.32\n",
      "Age_30 - 39                    0.33       1.40      0.05  6.55 <0.005     34.04        0.23        0.43\n",
      "Age_40 - 49                    0.19       1.21      0.09  2.11   0.03      4.86        0.01        0.37\n",
      "Age_50 - 59                   -0.40       0.67      0.09 -4.55 <0.005     17.51       -0.57       -0.23\n",
      "Education_High school diploma -0.80       0.45      0.13 -6.24 <0.005     31.06       -1.05       -0.55\n",
      "Education_Masters degree      -0.12       0.89      0.05 -2.36   0.02      5.76       -0.22       -0.02\n",
      "driving license_Yes           -0.19       0.83      0.08 -2.25   0.02      5.37       -0.35       -0.02\n",
      "mode_Public Transit            0.18       1.20      0.05  3.87 <0.005     13.15        0.09        0.27\n",
      "workwalk_Yes                   0.14       1.15      0.07  2.06   0.04      4.68        0.01        0.28\n",
      "shopwalk_No                   -0.11       0.89      0.05 -2.28   0.02      5.46       -0.21       -0.02\n",
      "Vrexp_Yes                      0.14       1.15      0.05  2.95 <0.005      8.30        0.05        0.24\n",
      "Heart_Over the years          -0.99       0.37      0.23 -4.37 <0.005     16.30       -1.43       -0.54\n",
      "vision_Currently              -0.03       0.97      0.08 -0.33   0.74      0.44       -0.19        0.13\n",
      "vision_Over the years          0.28       1.33      0.09  3.12 <0.005      9.13        0.11        0.46\n",
      "anxiety_Currently              0.23       1.26      0.13  1.78   0.08      3.72       -0.02        0.49\n",
      "Headaches_Over the years       0.47       1.60      0.10  4.78 <0.005     19.12        0.28        0.66\n",
      "---\n",
      "Concordance = 0.60\n",
      "Log-likelihood ratio test = 370.35 on 22 df, -log2(p)=213.53\n"
     ]
    }
   ],
   "source": [
    "cph = CoxPHFitter()\n",
    "cph.fit(data, 'Wait Time (s)', event_col='E')\n",
    "cph.print_summary()"
   ]
  },
  {
   "cell_type": "code",
   "execution_count": 95,
   "metadata": {},
   "outputs": [],
   "source": [
    "data=data.drop(columns=['vision_Currently'],axis=1)"
   ]
  },
  {
   "cell_type": "code",
   "execution_count": 96,
   "metadata": {},
   "outputs": [
    {
     "name": "stdout",
     "output_type": "stream",
     "text": [
      "<lifelines.CoxPHFitter: fitted with 2463 observations, 0 censored>\n",
      "      duration col = 'Wait Time (s)'\n",
      "         event col = 'E'\n",
      "number of subjects = 2463\n",
      "  number of events = 2463\n",
      "    log-likelihood = -16590.61\n",
      "  time fit was run = 2019-03-25 17:54:04 UTC\n",
      "\n",
      "---\n",
      "                               coef  exp(coef)  se(coef)     z      p  -log2(p)  lower 0.95  upper 0.95\n",
      "Speed Limit                    0.02       1.02      0.00  5.99 <0.005     28.79        0.01        0.02\n",
      "Lane Width                    -0.59       0.56      0.10 -5.73 <0.005     26.55       -0.79       -0.39\n",
      "Mean Arrival Rate             -0.00       1.00      0.00 -8.98 <0.005     61.69       -0.00       -0.00\n",
      "AV                            -0.00       1.00      0.00 -0.88   0.38      1.41       -0.00        0.00\n",
      "Snowy                         -0.04       0.96      0.04 -1.02   0.31      1.70       -0.13        0.04\n",
      "two way                        0.09       1.09      0.05  1.73   0.08      3.57       -0.01        0.18\n",
      "Two way with median            0.22       1.25      0.05  4.38 <0.005     16.37        0.12        0.32\n",
      "Age_30 - 39                    0.33       1.39      0.05  6.57 <0.005     34.19        0.23        0.43\n",
      "Age_40 - 49                    0.19       1.21      0.09  2.13   0.03      4.90        0.01        0.37\n",
      "Age_50 - 59                   -0.40       0.67      0.09 -4.54 <0.005     17.44       -0.57       -0.23\n",
      "Education_High school diploma -0.80       0.45      0.13 -6.23 <0.005     31.00       -1.05       -0.55\n",
      "Education_Masters degree      -0.12       0.89      0.05 -2.34   0.02      5.68       -0.22       -0.02\n",
      "driving license_Yes           -0.19       0.83      0.08 -2.27   0.02      5.43       -0.35       -0.03\n",
      "mode_Public Transit            0.18       1.20      0.05  3.90 <0.005     13.34        0.09        0.27\n",
      "workwalk_Yes                   0.14       1.15      0.07  2.05   0.04      4.65        0.01        0.28\n",
      "shopwalk_No                   -0.11       0.89      0.05 -2.26   0.02      5.38       -0.21       -0.01\n",
      "Vrexp_Yes                      0.14       1.15      0.05  2.94 <0.005      8.27        0.05        0.24\n",
      "Heart_Over the years          -0.99       0.37      0.23 -4.37 <0.005     16.31       -1.43       -0.54\n",
      "vision_Over the years          0.28       1.33      0.09  3.14 <0.005      9.19        0.11        0.46\n",
      "anxiety_Currently              0.23       1.26      0.13  1.79   0.07      3.78       -0.02        0.49\n",
      "Headaches_Over the years       0.47       1.60      0.10  4.79 <0.005     19.21        0.28        0.66\n",
      "---\n",
      "Concordance = 0.60\n",
      "Log-likelihood ratio test = 370.23 on 21 df, -log2(p)=215.55\n"
     ]
    }
   ],
   "source": [
    "cph = CoxPHFitter()\n",
    "cph.fit(data, 'Wait Time (s)', event_col='E')\n",
    "cph.print_summary()"
   ]
  },
  {
   "cell_type": "code",
   "execution_count": 101,
   "metadata": {},
   "outputs": [],
   "source": [
    "data=data.drop(columns=['AV','Snowy'],axis=1)"
   ]
  },
  {
   "cell_type": "code",
   "execution_count": 103,
   "metadata": {},
   "outputs": [
    {
     "name": "stdout",
     "output_type": "stream",
     "text": [
      "<lifelines.CoxPHFitter: fitted with 2463 observations, 0 censored>\n",
      "      duration col = 'Wait Time (s)'\n",
      "         event col = 'E'\n",
      "number of subjects = 2463\n",
      "  number of events = 2463\n",
      "    log-likelihood = -16591.50\n",
      "  time fit was run = 2019-03-25 17:55:36 UTC\n",
      "\n",
      "---\n",
      "                               coef  exp(coef)  se(coef)     z      p  -log2(p)  lower 0.95  upper 0.95\n",
      "Speed Limit                    0.02       1.02      0.00  6.08 <0.005     29.64        0.01        0.02\n",
      "Lane Width                    -0.56       0.57      0.10 -5.73 <0.005     26.57       -0.76       -0.37\n",
      "Mean Arrival Rate             -0.00       1.00      0.00 -9.11 <0.005     63.40       -0.00       -0.00\n",
      "two way                        0.08       1.09      0.05  1.66   0.10      3.37       -0.01        0.18\n",
      "Two way with median            0.22       1.24      0.05  4.30 <0.005     15.83        0.12        0.31\n",
      "Age_30 - 39                    0.33       1.39      0.05  6.57 <0.005     34.26        0.23        0.43\n",
      "Age_40 - 49                    0.19       1.20      0.09  2.08   0.04      4.72        0.01        0.36\n",
      "Age_50 - 59                   -0.40       0.67      0.09 -4.53 <0.005     17.38       -0.57       -0.22\n",
      "Education_High school diploma -0.80       0.45      0.13 -6.29 <0.005     31.51       -1.05       -0.55\n",
      "Education_Masters degree      -0.12       0.89      0.05 -2.35   0.02      5.75       -0.22       -0.02\n",
      "driving license_Yes           -0.19       0.83      0.08 -2.25   0.02      5.36       -0.35       -0.02\n",
      "mode_Public Transit            0.18       1.20      0.05  3.92 <0.005     13.45        0.09        0.27\n",
      "workwalk_Yes                   0.14       1.16      0.07  2.11   0.03      4.85        0.01        0.28\n",
      "shopwalk_No                   -0.11       0.90      0.05 -2.21   0.03      5.21       -0.21       -0.01\n",
      "Vrexp_Yes                      0.14       1.15      0.05  2.95 <0.005      8.30        0.05        0.24\n",
      "Heart_Over the years          -0.98       0.37      0.23 -4.36 <0.005     16.22       -1.42       -0.54\n",
      "vision_Over the years          0.28       1.33      0.09  3.12 <0.005      9.12        0.11        0.46\n",
      "anxiety_Currently              0.24       1.27      0.13  1.82   0.07      3.85       -0.02        0.49\n",
      "Headaches_Over the years       0.47       1.59      0.10  4.78 <0.005     19.11        0.28        0.66\n",
      "---\n",
      "Concordance = 0.60\n",
      "Log-likelihood ratio test = 368.45 on 19 df, -log2(p)=218.61\n"
     ]
    }
   ],
   "source": [
    "cph = CoxPHFitter()\n",
    "cph.fit(data, 'Wait Time (s)', event_col='E')\n",
    "cph.print_summary()"
   ]
  },
  {
   "cell_type": "code",
   "execution_count": 105,
   "metadata": {},
   "outputs": [
    {
     "ename": "TypeError",
     "evalue": "'CoxPHFitter' object is not callable",
     "output_type": "error",
     "traceback": [
      "\u001b[0;31m---------------------------------------------------------------------------\u001b[0m",
      "\u001b[0;31mTypeError\u001b[0m                                 Traceback (most recent call last)",
      "\u001b[0;32m<ipython-input-105-98dcc6ea587a>\u001b[0m in \u001b[0;36m<module>\u001b[0;34m\u001b[0m\n\u001b[0;32m----> 1\u001b[0;31m \u001b[0mcph\u001b[0m\u001b[0;34m(\u001b[0m\u001b[0;34m)\u001b[0m\u001b[0;34m\u001b[0m\u001b[0;34m\u001b[0m\u001b[0m\n\u001b[0m",
      "\u001b[0;31mTypeError\u001b[0m: 'CoxPHFitter' object is not callable"
     ]
    }
   ],
   "source": []
  },
  {
   "cell_type": "code",
   "execution_count": 112,
   "metadata": {},
   "outputs": [],
   "source": [
    "data2=data.drop(columns=['Age_40 - 49','Age_30 - 39','Education_High school diploma','Education_Masters degree','anxiety_Currently','two way'],axis=1)"
   ]
  },
  {
   "cell_type": "code",
   "execution_count": 125,
   "metadata": {},
   "outputs": [
    {
     "name": "stdout",
     "output_type": "stream",
     "text": [
      "<lifelines.CoxPHFitter: fitted with 2463 observations, 0 censored>\n",
      "      duration col = 'Wait Time (s)'\n",
      "         event col = 'E'\n",
      "number of subjects = 2463\n",
      "  number of events = 2463\n",
      "    log-likelihood = -16639.57\n",
      "  time fit was run = 2019-03-25 21:33:43 UTC\n",
      "\n",
      "---\n",
      "                          coef  exp(coef)  se(coef)     z      p  -log2(p)  lower 0.95  upper 0.95\n",
      "Speed Limit               0.01       1.01      0.00  5.54 <0.005     24.97        0.01        0.02\n",
      "Lane Width               -0.59       0.55      0.10 -6.02 <0.005     29.09       -0.78       -0.40\n",
      "Mean Arrival Rate        -0.00       1.00      0.00 -9.20 <0.005     64.55       -0.00       -0.00\n",
      "Two way with median       0.19       1.21      0.04  4.43 <0.005     16.71        0.11        0.28\n",
      "Age_50 - 59              -0.45       0.64      0.08 -5.36 <0.005     23.54       -0.61       -0.28\n",
      "driving license_Yes       0.10       1.11      0.08  1.37   0.17      2.54       -0.05        0.25\n",
      "mode_Public Transit       0.21       1.24      0.05  4.77 <0.005     19.07        0.13        0.30\n",
      "workwalk_Yes             -0.16       0.85      0.06 -2.89 <0.005      8.04       -0.27       -0.05\n",
      "shopwalk_No              -0.20       0.82      0.05 -4.15 <0.005     14.86       -0.29       -0.10\n",
      "Vrexp_Yes                 0.13       1.13      0.05  2.79   0.01      7.55        0.04        0.22\n",
      "Heart_Over the years     -1.06       0.35      0.22 -4.71 <0.005     18.59       -1.49       -0.62\n",
      "vision_Over the years     0.29       1.34      0.09  3.30 <0.005     10.04        0.12        0.47\n",
      "Headaches_Over the years  0.35       1.43      0.10  3.72 <0.005     12.29        0.17        0.54\n",
      "---\n",
      "Concordance = 0.59\n",
      "Log-likelihood ratio test = 272.31 on 13 df, -log2(p)=165.55\n"
     ]
    }
   ],
   "source": [
    "cph = CoxPHFitter()\n",
    "cph.fit(data2, 'Wait Time (s)', event_col='E')\n",
    "cph.print_summary()"
   ]
  },
  {
   "cell_type": "code",
   "execution_count": 126,
   "metadata": {},
   "outputs": [],
   "source": [
    "scores = k_fold_cross_validation(cph, data2, 'Wait Time (s)', event_col='E', k=10)"
   ]
  },
  {
   "cell_type": "code",
   "execution_count": 127,
   "metadata": {},
   "outputs": [
    {
     "data": {
      "text/plain": [
       "[0.5901149349362573,\n",
       " 0.5850833333333333,\n",
       " 0.5728764478764479,\n",
       " 0.5549645390070922,\n",
       " 0.5938746104614148,\n",
       " 0.6179718537472224,\n",
       " 0.572569526179507,\n",
       " 0.5586955794264298,\n",
       " 0.6271796943378442,\n",
       " 0.5953938584779707]"
      ]
     },
     "execution_count": 127,
     "metadata": {},
     "output_type": "execute_result"
    }
   ],
   "source": [
    "scores"
   ]
  },
  {
   "cell_type": "code",
   "execution_count": 128,
   "metadata": {},
   "outputs": [
    {
     "name": "stdout",
     "output_type": "stream",
     "text": [
      "0.5868724377783521\n"
     ]
    }
   ],
   "source": [
    "print(np.mean(scores))"
   ]
  },
  {
   "cell_type": "code",
   "execution_count": null,
   "metadata": {},
   "outputs": [],
   "source": []
  },
  {
   "cell_type": "code",
   "execution_count": null,
   "metadata": {},
   "outputs": [],
   "source": []
  },
  {
   "cell_type": "code",
   "execution_count": null,
   "metadata": {},
   "outputs": [],
   "source": []
  }
 ],
 "metadata": {
  "kernelspec": {
   "display_name": "Python 3",
   "language": "python",
   "name": "python3"
  },
  "language_info": {
   "codemirror_mode": {
    "name": "ipython",
    "version": 3
   },
   "file_extension": ".py",
   "mimetype": "text/x-python",
   "name": "python",
   "nbconvert_exporter": "python",
   "pygments_lexer": "ipython3",
   "version": "3.6.8"
  }
 },
 "nbformat": 4,
 "nbformat_minor": 2
}
